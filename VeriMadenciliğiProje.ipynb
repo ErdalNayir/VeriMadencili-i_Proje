{
  "nbformat": 4,
  "nbformat_minor": 0,
  "metadata": {
    "colab": {
      "provenance": [],
      "mount_file_id": "1bWCMlOYRvan-4ShTrOpINOWxiHrIqj3c",
      "authorship_tag": "ABX9TyMdWZHZLggocLF+wBX8cMen",
      "include_colab_link": true
    },
    "kernelspec": {
      "name": "python3",
      "display_name": "Python 3"
    },
    "language_info": {
      "name": "python"
    }
  },
  "cells": [
    {
      "cell_type": "markdown",
      "metadata": {
        "id": "view-in-github",
        "colab_type": "text"
      },
      "source": [
        "<a href=\"https://colab.research.google.com/github/ErdalNayir/VeriMadenciligi_Proje/blob/main/VeriMadencili%C4%9FiProje.ipynb\" target=\"_parent\"><img src=\"https://colab.research.google.com/assets/colab-badge.svg\" alt=\"Open In Colab\"/></a>"
      ]
    },
    {
      "cell_type": "markdown",
      "source": [
        "# **Veri Madenciliği Ders Projesi**\n",
        "\n",
        "###### Erdal Nayir - 19360859049\n",
        "\n",
        "\n"
      ],
      "metadata": {
        "id": "Jgrx1h8f0qm6"
      }
    },
    {
      "cell_type": "markdown",
      "source": [
        "# Veriyi Anlama\n",
        "\n",
        "Bu projede UCI verisetlerinden 2014 yılında oluşturulmuş olan **Student Performance** veri seti kullanılmıştır.\n",
        "\n",
        "### Veri Seti Özellikleri \n",
        "* 1.  **okul** - öğrencinin okulu (ikili: \"GP\" - Gabriel Pereira veya \"MS\" - Mousinho da Silveira)\n",
        "* 2. **cinsiyet** - öğrencinin cinsiyeti (ikili: \"F\" - kadın veya \"M\" - erkek)\n",
        "* 3. **yaş** - öğrencinin yaşı (sayısal: 15 ila 22 arasında)\n",
        "* 4. **adres** - öğrencinin ev adresi türü (ikili: \"U\" - kentsel veya \"R\" - kırsal)\n",
        "* 5. **famsize** - aile büyüklüğü (ikili: \"LE3\" - 3 veya daha az veya \"GT3\" - 3'ten fazla)\n",
        "* 6. **Pstatus** - ebeveynlerin birlikte yaşama durumu (ikili: \"T\" - birlikte yaşıyorlar veya \"A\" - ayrı yaşıyorlar)\n",
        "* 7. **Medu** - annenin eğitimi (sayısal: 0 - yok, 1 - ilkokul (4. sınıf), 2 - 5 ila 9. sınıf, 3 - ortaöğretim veya 4 - yüksek öğrenim)\n",
        "* 8. **Fedu** - babanın eğitimi (sayısal: 0 - yok, 1 - ilkokul (4. sınıf), 2 - 5 ila 9. sınıf, 3 - ortaöğretim veya 4 - yüksek öğrenim)\n",
        "* 9. **Mjob** - annenin mesleği (sıralı: \"öğretmen\", \"sağlık\"la ilgili bakım, sivil \"hizmetler\" (örneğin idari veya polis), \"evde\" veya \"diğer\")\n",
        "* 10. **Fjob** - babanın mesleği (sıralı: \"öğretmen\", \"sağlık\"la ilgili bakım, sivil \"hizmetler\" (örneğin idari veya polis), \"evde\" veya \"diğer\")\n",
        "* 11. **reason** - bu okulu seçme nedeni (sıralı: \"eve\" yakınlık, okul \"ünü\", \"ders\" tercihi veya \"diğer\")\n",
        "* 12. **guardian** - öğrencinin vasisi (sıralı: \"anne\", \"baba\" veya \"diğer\")\n",
        "* 13. **traveltime** - evden okula seyahat süresi (sayısal: 1 - <15 dk., 2 - * 15 ila 30 dk., 3 - 30 dk. ila 1 saat veya 4 - >1 saat)\n",
        "* 14. **studytime** - haftalık ders çalışma süresi (sayısal: 1 - <2 saat, 2 - 2 ila 5 saat, 3 - 5 ila 10 saat veya 4 - >10 saat)\n",
        "* 15. **failures** - önceki sınıf başarısızlıklarının sayısı (sayısal: n, 1 <= n <3 ise, aksi takdirde 4)\n",
        "* 16. **schoolsup** - ek eğitim desteği (ikili: evet veya hayır)\n",
        "* 17. **famsup** - aile eğitim desteği (ikili: evet veya hayır)\n",
        "* 18. **paid** - ders konusunda ek ücretli sınıflar (Matematik veya Portekizce) (ikili: evet veya hayır)\n",
        "* 19. **activities** - okul dışı etkinliklere katılım durumu (binary: evet veya hayır)\n",
        "* 20. **nursery** - çocukluk döneminde anaokuluna devam etmiş mi (binary: evet veya hayır)\n",
        "* 21. **higher** - yüksek öğrenim yapmak istiyor mu (binary: evet veya hayır)\n",
        "* 22. **internet** - evde internet erişimi var mı (binary: evet veya hayır)\n",
        "* 23. **romantic** - romantik ilişkisi var mı (binary: evet veya hayır)\n",
        "* 24. **famrel** - aile ilişkilerinin kalitesi (numeric: 1 - çok kötüden 5 - mükemmele)\n",
        "* 25. **freetime** - okul sonrası boş zaman miktarı (numeric: 1 - çok azdan 5 - çok fazlaya)\n",
        "* 26. **goout** - arkadaşlarıyla dışarı çıkma sıklığı (numeric: 1 - çok azdan 5 - çok fazlaya)\n",
        "* 27. **Dalc** - iş günü alkol tüketimi (numeric: 1 - çok azdan 5 - çok fazlaya)\n",
        "* 28. **Walc** - hafta sonu alkol tüketimi (numeric: 1 - çok azdan 5 - çok fazlaya)\n",
        "*29. **health** - mevcut sağlık durumu (numeric: 1 - çok kötüden 5 - çok iyiye)\n",
        "absences - okul devamsızlık sayısı (numeric: 0 ile 93 arasında)\n",
        "\n",
        "\n",
        "#### Bu notlar ders konusuyla ilgilidir, Matematik veya Portekizce:\n",
        "* **G1** - ilk dönem notu (numeric: 0 ile 20 arasında)\n",
        "* **G2** - ikinci dönem notu (numeric: 0 ile 20 arasında)\n",
        "* **G3** - final notu (numeric: 0 ile 20 arasında, çıktı hedefi)\n"
      ],
      "metadata": {
        "id": "qAWSeUI61Iqw"
      }
    },
    {
      "cell_type": "markdown",
      "source": [
        "Bu veriye göre üzerinden bazı yapay zeka modelleri oluşturacağım. Aynı zamanda veriyi görselleştirerek özellikler arasındaki ilişkileri tespit etmeye çalışacağım"
      ],
      "metadata": {
        "id": "AyQY1_QI5Rmu"
      }
    },
    {
      "cell_type": "code",
      "source": [
        "# Gerekli Paket Yüklemeleri\n",
        "import numpy as np # linear algebra\n",
        "import pandas as pd\n",
        "import seaborn as sns\n",
        "import matplotlib.pyplot as plt\n",
        "import plotly as py \n",
        "import seaborn as sns \n",
        "from plotly.offline import init_notebook_mode, iplot, plot\n",
        "init_notebook_mode(connected=True)\n",
        "import plotly.graph_objs as go\n",
        "%matplotlib inline\n",
        "import plotly.express as px\n",
        "import plotly.graph_objects as go\n",
        "\n",
        "# Metrikler\n",
        "from sklearn.metrics import roc_auc_score,roc_curve\n",
        "from sklearn.metrics import mean_squared_error\n",
        "from sklearn.metrics import confusion_matrix,accuracy_score,classification_report,log_loss"
      ],
      "metadata": {
        "colab": {
          "base_uri": "https://localhost:8080/",
          "height": 17
        },
        "id": "YnXNgDcr1Mme",
        "outputId": "1724f805-f809-4659-801f-abf9e3d54698"
      },
      "execution_count": 1,
      "outputs": [
        {
          "output_type": "display_data",
          "data": {
            "text/html": [
              "        <script type=\"text/javascript\">\n",
              "        window.PlotlyConfig = {MathJaxConfig: 'local'};\n",
              "        if (window.MathJax && window.MathJax.Hub && window.MathJax.Hub.Config) {window.MathJax.Hub.Config({SVG: {font: \"STIX-Web\"}});}\n",
              "        if (typeof require !== 'undefined') {\n",
              "        require.undef(\"plotly\");\n",
              "        requirejs.config({\n",
              "            paths: {\n",
              "                'plotly': ['https://cdn.plot.ly/plotly-2.18.2.min']\n",
              "            }\n",
              "        });\n",
              "        require(['plotly'], function(Plotly) {\n",
              "            window._Plotly = Plotly;\n",
              "        });\n",
              "        }\n",
              "        </script>\n",
              "        "
            ]
          },
          "metadata": {}
        }
      ]
    },
    {
      "cell_type": "code",
      "execution_count": null,
      "metadata": {
        "id": "A-Y6JW4E0JGk"
      },
      "outputs": [],
      "source": []
    }
  ]
}