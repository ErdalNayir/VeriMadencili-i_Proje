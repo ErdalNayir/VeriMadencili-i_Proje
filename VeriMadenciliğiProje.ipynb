{
  "nbformat": 4,
  "nbformat_minor": 0,
  "metadata": {
    "colab": {
      "provenance": [],
      "mount_file_id": "1bWCMlOYRvan-4ShTrOpINOWxiHrIqj3c",
      "authorship_tag": "ABX9TyNkktDjxhrnPR2GaOLVBSe4",
      "include_colab_link": true
    },
    "kernelspec": {
      "name": "python3",
      "display_name": "Python 3"
    },
    "language_info": {
      "name": "python"
    }
  },
  "cells": [
    {
      "cell_type": "markdown",
      "metadata": {
        "id": "view-in-github",
        "colab_type": "text"
      },
      "source": [
        "<a href=\"https://colab.research.google.com/github/ErdalNayir/VeriMadenciligi_Proje/blob/main/VeriMadencili%C4%9FiProje.ipynb\" target=\"_parent\"><img src=\"https://colab.research.google.com/assets/colab-badge.svg\" alt=\"Open In Colab\"/></a>"
      ]
    },
    {
      "cell_type": "markdown",
      "source": [
        "# **Veri Madenciliği Ders Projesi**\n",
        "\n",
        "###### Erdal Nayir - 19360859049\n",
        "\n",
        "\n"
      ],
      "metadata": {
        "id": "Jgrx1h8f0qm6"
      }
    },
    {
      "cell_type": "markdown",
      "source": [
        "# Veriyi Anlama\n",
        "\n",
        "Bu projede UCI verisetlerinden 2014 yılında oluşturulmuş olan **Student Performance** veri seti kullanılmıştır.\n",
        "\n",
        "### Veri Seti Özellikleri \n",
        "* 1.  **okul** - öğrencinin okulu (ikili: \"GP\" - Gabriel Pereira veya \"MS\" - Mousinho da Silveira)\n",
        "* 2. **cinsiyet** - öğrencinin cinsiyeti (ikili: \"F\" - kadın veya \"M\" - erkek)\n",
        "* 3. **yaş** - öğrencinin yaşı (sayısal: 15 ila 22 arasında)\n",
        "* 4. **adres** - öğrencinin ev adresi türü (ikili: \"U\" - kentsel veya \"R\" - kırsal)\n",
        "* 5. **famsize** - aile büyüklüğü (ikili: \"LE3\" - 3 veya daha az veya \"GT3\" - 3'ten fazla)\n",
        "* 6. **Pstatus** - ebeveynlerin birlikte yaşama durumu (ikili: \"T\" - birlikte yaşıyorlar veya \"A\" - ayrı yaşıyorlar)\n",
        "* 7. **Medu** - annenin eğitimi (sayısal: 0 - yok, 1 - ilkokul (4. sınıf), 2 - 5 ila 9. sınıf, 3 - ortaöğretim veya 4 - yüksek öğrenim)\n",
        "* 8. **Fedu** - babanın eğitimi (sayısal: 0 - yok, 1 - ilkokul (4. sınıf), 2 - 5 ila 9. sınıf, 3 - ortaöğretim veya 4 - yüksek öğrenim)\n",
        "* 9. **Mjob** - annenin mesleği (sıralı: \"öğretmen\", \"sağlık\"la ilgili bakım, sivil \"hizmetler\" (örneğin idari veya polis), \"evde\" veya \"diğer\")\n",
        "* 10. **Fjob** - babanın mesleği (sıralı: \"öğretmen\", \"sağlık\"la ilgili bakım, sivil \"hizmetler\" (örneğin idari veya polis), \"evde\" veya \"diğer\")\n",
        "* 11. **reason** - bu okulu seçme nedeni (sıralı: \"eve\" yakınlık, okul \"ünü\", \"ders\" tercihi veya \"diğer\")\n",
        "* 12. **guardian** - öğrencinin vasisi (sıralı: \"anne\", \"baba\" veya \"diğer\")\n",
        "* 13. **traveltime** - evden okula seyahat süresi (sayısal: 1 - <15 dk., 2 - * 15 ila 30 dk., 3 - 30 dk. ila 1 saat veya 4 - >1 saat)\n",
        "* 14. **studytime** - haftalık ders çalışma süresi (sayısal: 1 - <2 saat, 2 - 2 ila 5 saat, 3 - 5 ila 10 saat veya 4 - >10 saat)\n",
        "* 15. **failures** - önceki sınıf başarısızlıklarının sayısı (sayısal: n, 1 <= n <3 ise, aksi takdirde 4)\n",
        "* 16. **schoolsup** - ek eğitim desteği (ikili: evet veya hayır)\n",
        "* 17. **famsup** - aile eğitim desteği (ikili: evet veya hayır)\n",
        "* 18. **paid** - ders konusunda ek ücretli sınıflar (Matematik veya Portekizce) (ikili: evet veya hayır)\n",
        "* 19. **activities** - okul dışı etkinliklere katılım durumu (binary: evet veya hayır)\n",
        "* 20. **nursery** - çocukluk döneminde anaokuluna devam etmiş mi (binary: evet veya hayır)\n",
        "* 21. **higher** - yüksek öğrenim yapmak istiyor mu (binary: evet veya hayır)\n",
        "* 22. **internet** - evde internet erişimi var mı (binary: evet veya hayır)\n",
        "* 23. **romantic** - romantik ilişkisi var mı (binary: evet veya hayır)\n",
        "* 24. **famrel** - aile ilişkilerinin kalitesi (numeric: 1 - çok kötüden 5 - mükemmele)\n",
        "* 25. **freetime** - okul sonrası boş zaman miktarı (numeric: 1 - çok azdan 5 - çok fazlaya)\n",
        "* 26. **goout** - arkadaşlarıyla dışarı çıkma sıklığı (numeric: 1 - çok azdan 5 - çok fazlaya)\n",
        "* 27. **Dalc** - iş günü alkol tüketimi (numeric: 1 - çok azdan 5 - çok fazlaya)\n",
        "* 28. **Walc** - hafta sonu alkol tüketimi (numeric: 1 - çok azdan 5 - çok fazlaya)\n",
        "*29. **health** - mevcut sağlık durumu (numeric: 1 - çok kötüden 5 - çok iyiye)\n",
        "absences - okul devamsızlık sayısı (numeric: 0 ile 93 arasında)\n",
        "\n",
        "\n",
        "#### Bu notlar ders konusuyla ilgilidir, Matematik veya Portekizce:\n",
        "* **G1** - ilk dönem notu (numeric: 0 ile 20 arasında)\n",
        "* **G2** - ikinci dönem notu (numeric: 0 ile 20 arasında)\n",
        "* **G3** - final notu (numeric: 0 ile 20 arasında, çıktı hedefi)\n"
      ],
      "metadata": {
        "id": "qAWSeUI61Iqw"
      }
    },
    {
      "cell_type": "markdown",
      "source": [
        "Bu veriye göre üzerinden bazı yapay zeka modelleri oluşturacağım. Aynı zamanda veriyi görselleştirerek özellikler arasındaki ilişkileri tespit etmeye çalışacağım"
      ],
      "metadata": {
        "id": "AyQY1_QI5Rmu"
      }
    },
    {
      "cell_type": "code",
      "source": [
        "# Gerekli Paket Yüklemeleri\n",
        "import numpy as np # linear algebra\n",
        "import pandas as pd\n",
        "import seaborn as sns\n",
        "import matplotlib.pyplot as plt\n",
        "import plotly as py \n",
        "import seaborn as sns \n",
        "import plotly.express as px\n",
        "from plotly.offline import init_notebook_mode, iplot, plot\n",
        "init_notebook_mode(connected=True)\n",
        "import plotly.graph_objs as go\n",
        "%matplotlib inline\n",
        "import plotly.express as px\n",
        "import plotly.graph_objects as go\n",
        "from plotly.subplots import make_subplots\n",
        "\n",
        "import plotly.io as pio\n",
        "pio.renderers.default = 'colab'\n",
        "\n",
        "# Metrikler\n",
        "from sklearn.metrics import roc_auc_score,roc_curve\n",
        "from sklearn.metrics import mean_squared_error\n",
        "from sklearn.metrics import confusion_matrix,accuracy_score,classification_report,log_loss"
      ],
      "metadata": {
        "colab": {
          "base_uri": "https://localhost:8080/",
          "height": 17
        },
        "id": "YnXNgDcr1Mme",
        "outputId": "3ac69241-b9e8-41b8-8824-eb10cb28c555"
      },
      "execution_count": 1,
      "outputs": [
        {
          "output_type": "display_data",
          "data": {
            "text/html": [
              "        <script type=\"text/javascript\">\n",
              "        window.PlotlyConfig = {MathJaxConfig: 'local'};\n",
              "        if (window.MathJax && window.MathJax.Hub && window.MathJax.Hub.Config) {window.MathJax.Hub.Config({SVG: {font: \"STIX-Web\"}});}\n",
              "        if (typeof require !== 'undefined') {\n",
              "        require.undef(\"plotly\");\n",
              "        requirejs.config({\n",
              "            paths: {\n",
              "                'plotly': ['https://cdn.plot.ly/plotly-2.18.2.min']\n",
              "            }\n",
              "        });\n",
              "        require(['plotly'], function(Plotly) {\n",
              "            window._Plotly = Plotly;\n",
              "        });\n",
              "        }\n",
              "        </script>\n",
              "        "
            ]
          },
          "metadata": {}
        }
      ]
    },
    {
      "cell_type": "markdown",
      "source": [
        "# **Exploratory Data Analysis (EDA)**\n",
        "Now, Time to take a look at the data that we have "
      ],
      "metadata": {
        "id": "wEWPPk7q5Zpw"
      }
    },
    {
      "cell_type": "code",
      "execution_count": 2,
      "metadata": {
        "id": "A-Y6JW4E0JGk"
      },
      "outputs": [],
      "source": [
        "student_por = pd.read_csv(\"/content/drive/MyDrive/VeriMadenciliği/student-por.csv\",sep = \";\")\n",
        "student_math = pd.read_csv(\"/content/drive/MyDrive/VeriMadenciliği/student-mat.csv\",sep = \";\")"
      ]
    },
    {
      "cell_type": "code",
      "source": [
        "student_por.head(5)"
      ],
      "metadata": {
        "colab": {
          "base_uri": "https://localhost:8080/",
          "height": 235
        },
        "id": "2iO4u-eZ5X8T",
        "outputId": "636d4c56-3147-4548-80a2-269007d06062"
      },
      "execution_count": 3,
      "outputs": [
        {
          "output_type": "execute_result",
          "data": {
            "text/plain": [
              "  school sex  age address famsize Pstatus  Medu  Fedu     Mjob      Fjob  ...  \\\n",
              "0     GP   F   18       U     GT3       A     4     4  at_home   teacher  ...   \n",
              "1     GP   F   17       U     GT3       T     1     1  at_home     other  ...   \n",
              "2     GP   F   15       U     LE3       T     1     1  at_home     other  ...   \n",
              "3     GP   F   15       U     GT3       T     4     2   health  services  ...   \n",
              "4     GP   F   16       U     GT3       T     3     3    other     other  ...   \n",
              "\n",
              "  famrel freetime  goout  Dalc  Walc health absences  G1  G2  G3  \n",
              "0      4        3      4     1     1      3        4   0  11  11  \n",
              "1      5        3      3     1     1      3        2   9  11  11  \n",
              "2      4        3      2     2     3      3        6  12  13  12  \n",
              "3      3        2      2     1     1      5        0  14  14  14  \n",
              "4      4        3      2     1     2      5        0  11  13  13  \n",
              "\n",
              "[5 rows x 33 columns]"
            ],
            "text/html": [
              "\n",
              "  <div id=\"df-ad253611-0b88-497f-ac5b-4038ebec44e1\">\n",
              "    <div class=\"colab-df-container\">\n",
              "      <div>\n",
              "<style scoped>\n",
              "    .dataframe tbody tr th:only-of-type {\n",
              "        vertical-align: middle;\n",
              "    }\n",
              "\n",
              "    .dataframe tbody tr th {\n",
              "        vertical-align: top;\n",
              "    }\n",
              "\n",
              "    .dataframe thead th {\n",
              "        text-align: right;\n",
              "    }\n",
              "</style>\n",
              "<table border=\"1\" class=\"dataframe\">\n",
              "  <thead>\n",
              "    <tr style=\"text-align: right;\">\n",
              "      <th></th>\n",
              "      <th>school</th>\n",
              "      <th>sex</th>\n",
              "      <th>age</th>\n",
              "      <th>address</th>\n",
              "      <th>famsize</th>\n",
              "      <th>Pstatus</th>\n",
              "      <th>Medu</th>\n",
              "      <th>Fedu</th>\n",
              "      <th>Mjob</th>\n",
              "      <th>Fjob</th>\n",
              "      <th>...</th>\n",
              "      <th>famrel</th>\n",
              "      <th>freetime</th>\n",
              "      <th>goout</th>\n",
              "      <th>Dalc</th>\n",
              "      <th>Walc</th>\n",
              "      <th>health</th>\n",
              "      <th>absences</th>\n",
              "      <th>G1</th>\n",
              "      <th>G2</th>\n",
              "      <th>G3</th>\n",
              "    </tr>\n",
              "  </thead>\n",
              "  <tbody>\n",
              "    <tr>\n",
              "      <th>0</th>\n",
              "      <td>GP</td>\n",
              "      <td>F</td>\n",
              "      <td>18</td>\n",
              "      <td>U</td>\n",
              "      <td>GT3</td>\n",
              "      <td>A</td>\n",
              "      <td>4</td>\n",
              "      <td>4</td>\n",
              "      <td>at_home</td>\n",
              "      <td>teacher</td>\n",
              "      <td>...</td>\n",
              "      <td>4</td>\n",
              "      <td>3</td>\n",
              "      <td>4</td>\n",
              "      <td>1</td>\n",
              "      <td>1</td>\n",
              "      <td>3</td>\n",
              "      <td>4</td>\n",
              "      <td>0</td>\n",
              "      <td>11</td>\n",
              "      <td>11</td>\n",
              "    </tr>\n",
              "    <tr>\n",
              "      <th>1</th>\n",
              "      <td>GP</td>\n",
              "      <td>F</td>\n",
              "      <td>17</td>\n",
              "      <td>U</td>\n",
              "      <td>GT3</td>\n",
              "      <td>T</td>\n",
              "      <td>1</td>\n",
              "      <td>1</td>\n",
              "      <td>at_home</td>\n",
              "      <td>other</td>\n",
              "      <td>...</td>\n",
              "      <td>5</td>\n",
              "      <td>3</td>\n",
              "      <td>3</td>\n",
              "      <td>1</td>\n",
              "      <td>1</td>\n",
              "      <td>3</td>\n",
              "      <td>2</td>\n",
              "      <td>9</td>\n",
              "      <td>11</td>\n",
              "      <td>11</td>\n",
              "    </tr>\n",
              "    <tr>\n",
              "      <th>2</th>\n",
              "      <td>GP</td>\n",
              "      <td>F</td>\n",
              "      <td>15</td>\n",
              "      <td>U</td>\n",
              "      <td>LE3</td>\n",
              "      <td>T</td>\n",
              "      <td>1</td>\n",
              "      <td>1</td>\n",
              "      <td>at_home</td>\n",
              "      <td>other</td>\n",
              "      <td>...</td>\n",
              "      <td>4</td>\n",
              "      <td>3</td>\n",
              "      <td>2</td>\n",
              "      <td>2</td>\n",
              "      <td>3</td>\n",
              "      <td>3</td>\n",
              "      <td>6</td>\n",
              "      <td>12</td>\n",
              "      <td>13</td>\n",
              "      <td>12</td>\n",
              "    </tr>\n",
              "    <tr>\n",
              "      <th>3</th>\n",
              "      <td>GP</td>\n",
              "      <td>F</td>\n",
              "      <td>15</td>\n",
              "      <td>U</td>\n",
              "      <td>GT3</td>\n",
              "      <td>T</td>\n",
              "      <td>4</td>\n",
              "      <td>2</td>\n",
              "      <td>health</td>\n",
              "      <td>services</td>\n",
              "      <td>...</td>\n",
              "      <td>3</td>\n",
              "      <td>2</td>\n",
              "      <td>2</td>\n",
              "      <td>1</td>\n",
              "      <td>1</td>\n",
              "      <td>5</td>\n",
              "      <td>0</td>\n",
              "      <td>14</td>\n",
              "      <td>14</td>\n",
              "      <td>14</td>\n",
              "    </tr>\n",
              "    <tr>\n",
              "      <th>4</th>\n",
              "      <td>GP</td>\n",
              "      <td>F</td>\n",
              "      <td>16</td>\n",
              "      <td>U</td>\n",
              "      <td>GT3</td>\n",
              "      <td>T</td>\n",
              "      <td>3</td>\n",
              "      <td>3</td>\n",
              "      <td>other</td>\n",
              "      <td>other</td>\n",
              "      <td>...</td>\n",
              "      <td>4</td>\n",
              "      <td>3</td>\n",
              "      <td>2</td>\n",
              "      <td>1</td>\n",
              "      <td>2</td>\n",
              "      <td>5</td>\n",
              "      <td>0</td>\n",
              "      <td>11</td>\n",
              "      <td>13</td>\n",
              "      <td>13</td>\n",
              "    </tr>\n",
              "  </tbody>\n",
              "</table>\n",
              "<p>5 rows × 33 columns</p>\n",
              "</div>\n",
              "      <button class=\"colab-df-convert\" onclick=\"convertToInteractive('df-ad253611-0b88-497f-ac5b-4038ebec44e1')\"\n",
              "              title=\"Convert this dataframe to an interactive table.\"\n",
              "              style=\"display:none;\">\n",
              "        \n",
              "  <svg xmlns=\"http://www.w3.org/2000/svg\" height=\"24px\"viewBox=\"0 0 24 24\"\n",
              "       width=\"24px\">\n",
              "    <path d=\"M0 0h24v24H0V0z\" fill=\"none\"/>\n",
              "    <path d=\"M18.56 5.44l.94 2.06.94-2.06 2.06-.94-2.06-.94-.94-2.06-.94 2.06-2.06.94zm-11 1L8.5 8.5l.94-2.06 2.06-.94-2.06-.94L8.5 2.5l-.94 2.06-2.06.94zm10 10l.94 2.06.94-2.06 2.06-.94-2.06-.94-.94-2.06-.94 2.06-2.06.94z\"/><path d=\"M17.41 7.96l-1.37-1.37c-.4-.4-.92-.59-1.43-.59-.52 0-1.04.2-1.43.59L10.3 9.45l-7.72 7.72c-.78.78-.78 2.05 0 2.83L4 21.41c.39.39.9.59 1.41.59.51 0 1.02-.2 1.41-.59l7.78-7.78 2.81-2.81c.8-.78.8-2.07 0-2.86zM5.41 20L4 18.59l7.72-7.72 1.47 1.35L5.41 20z\"/>\n",
              "  </svg>\n",
              "      </button>\n",
              "      \n",
              "  <style>\n",
              "    .colab-df-container {\n",
              "      display:flex;\n",
              "      flex-wrap:wrap;\n",
              "      gap: 12px;\n",
              "    }\n",
              "\n",
              "    .colab-df-convert {\n",
              "      background-color: #E8F0FE;\n",
              "      border: none;\n",
              "      border-radius: 50%;\n",
              "      cursor: pointer;\n",
              "      display: none;\n",
              "      fill: #1967D2;\n",
              "      height: 32px;\n",
              "      padding: 0 0 0 0;\n",
              "      width: 32px;\n",
              "    }\n",
              "\n",
              "    .colab-df-convert:hover {\n",
              "      background-color: #E2EBFA;\n",
              "      box-shadow: 0px 1px 2px rgba(60, 64, 67, 0.3), 0px 1px 3px 1px rgba(60, 64, 67, 0.15);\n",
              "      fill: #174EA6;\n",
              "    }\n",
              "\n",
              "    [theme=dark] .colab-df-convert {\n",
              "      background-color: #3B4455;\n",
              "      fill: #D2E3FC;\n",
              "    }\n",
              "\n",
              "    [theme=dark] .colab-df-convert:hover {\n",
              "      background-color: #434B5C;\n",
              "      box-shadow: 0px 1px 3px 1px rgba(0, 0, 0, 0.15);\n",
              "      filter: drop-shadow(0px 1px 2px rgba(0, 0, 0, 0.3));\n",
              "      fill: #FFFFFF;\n",
              "    }\n",
              "  </style>\n",
              "\n",
              "      <script>\n",
              "        const buttonEl =\n",
              "          document.querySelector('#df-ad253611-0b88-497f-ac5b-4038ebec44e1 button.colab-df-convert');\n",
              "        buttonEl.style.display =\n",
              "          google.colab.kernel.accessAllowed ? 'block' : 'none';\n",
              "\n",
              "        async function convertToInteractive(key) {\n",
              "          const element = document.querySelector('#df-ad253611-0b88-497f-ac5b-4038ebec44e1');\n",
              "          const dataTable =\n",
              "            await google.colab.kernel.invokeFunction('convertToInteractive',\n",
              "                                                     [key], {});\n",
              "          if (!dataTable) return;\n",
              "\n",
              "          const docLinkHtml = 'Like what you see? Visit the ' +\n",
              "            '<a target=\"_blank\" href=https://colab.research.google.com/notebooks/data_table.ipynb>data table notebook</a>'\n",
              "            + ' to learn more about interactive tables.';\n",
              "          element.innerHTML = '';\n",
              "          dataTable['output_type'] = 'display_data';\n",
              "          await google.colab.output.renderOutput(dataTable, element);\n",
              "          const docLink = document.createElement('div');\n",
              "          docLink.innerHTML = docLinkHtml;\n",
              "          element.appendChild(docLink);\n",
              "        }\n",
              "      </script>\n",
              "    </div>\n",
              "  </div>\n",
              "  "
            ]
          },
          "metadata": {},
          "execution_count": 3
        }
      ]
    },
    {
      "cell_type": "markdown",
      "source": [
        "That table is for student evaluations in portugese language class "
      ],
      "metadata": {
        "id": "BM9VerZh616o"
      }
    },
    {
      "cell_type": "code",
      "source": [
        "student_por.info() # It is good that there are no null columns in data and we have 649 objects"
      ],
      "metadata": {
        "colab": {
          "base_uri": "https://localhost:8080/"
        },
        "id": "oPc8R2GY8oRG",
        "outputId": "a3714310-2a03-4ef8-a8b1-51f1f883471e"
      },
      "execution_count": 4,
      "outputs": [
        {
          "output_type": "stream",
          "name": "stdout",
          "text": [
            "<class 'pandas.core.frame.DataFrame'>\n",
            "RangeIndex: 649 entries, 0 to 648\n",
            "Data columns (total 33 columns):\n",
            " #   Column      Non-Null Count  Dtype \n",
            "---  ------      --------------  ----- \n",
            " 0   school      649 non-null    object\n",
            " 1   sex         649 non-null    object\n",
            " 2   age         649 non-null    int64 \n",
            " 3   address     649 non-null    object\n",
            " 4   famsize     649 non-null    object\n",
            " 5   Pstatus     649 non-null    object\n",
            " 6   Medu        649 non-null    int64 \n",
            " 7   Fedu        649 non-null    int64 \n",
            " 8   Mjob        649 non-null    object\n",
            " 9   Fjob        649 non-null    object\n",
            " 10  reason      649 non-null    object\n",
            " 11  guardian    649 non-null    object\n",
            " 12  traveltime  649 non-null    int64 \n",
            " 13  studytime   649 non-null    int64 \n",
            " 14  failures    649 non-null    int64 \n",
            " 15  schoolsup   649 non-null    object\n",
            " 16  famsup      649 non-null    object\n",
            " 17  paid        649 non-null    object\n",
            " 18  activities  649 non-null    object\n",
            " 19  nursery     649 non-null    object\n",
            " 20  higher      649 non-null    object\n",
            " 21  internet    649 non-null    object\n",
            " 22  romantic    649 non-null    object\n",
            " 23  famrel      649 non-null    int64 \n",
            " 24  freetime    649 non-null    int64 \n",
            " 25  goout       649 non-null    int64 \n",
            " 26  Dalc        649 non-null    int64 \n",
            " 27  Walc        649 non-null    int64 \n",
            " 28  health      649 non-null    int64 \n",
            " 29  absences    649 non-null    int64 \n",
            " 30  G1          649 non-null    int64 \n",
            " 31  G2          649 non-null    int64 \n",
            " 32  G3          649 non-null    int64 \n",
            "dtypes: int64(16), object(17)\n",
            "memory usage: 167.4+ KB\n"
          ]
        }
      ]
    },
    {
      "cell_type": "code",
      "source": [
        "student_math.head(5)"
      ],
      "metadata": {
        "colab": {
          "base_uri": "https://localhost:8080/",
          "height": 235
        },
        "id": "hY0PZfPf7LMx",
        "outputId": "4847e7c3-10e0-484d-dbee-6f426900d009"
      },
      "execution_count": 5,
      "outputs": [
        {
          "output_type": "execute_result",
          "data": {
            "text/plain": [
              "  school sex  age address famsize Pstatus  Medu  Fedu     Mjob      Fjob  ...  \\\n",
              "0     GP   F   18       U     GT3       A     4     4  at_home   teacher  ...   \n",
              "1     GP   F   17       U     GT3       T     1     1  at_home     other  ...   \n",
              "2     GP   F   15       U     LE3       T     1     1  at_home     other  ...   \n",
              "3     GP   F   15       U     GT3       T     4     2   health  services  ...   \n",
              "4     GP   F   16       U     GT3       T     3     3    other     other  ...   \n",
              "\n",
              "  famrel freetime  goout  Dalc  Walc health absences  G1  G2  G3  \n",
              "0      4        3      4     1     1      3        6   5   6   6  \n",
              "1      5        3      3     1     1      3        4   5   5   6  \n",
              "2      4        3      2     2     3      3       10   7   8  10  \n",
              "3      3        2      2     1     1      5        2  15  14  15  \n",
              "4      4        3      2     1     2      5        4   6  10  10  \n",
              "\n",
              "[5 rows x 33 columns]"
            ],
            "text/html": [
              "\n",
              "  <div id=\"df-29a2b491-9f65-43aa-a1a5-c8e6503c5630\">\n",
              "    <div class=\"colab-df-container\">\n",
              "      <div>\n",
              "<style scoped>\n",
              "    .dataframe tbody tr th:only-of-type {\n",
              "        vertical-align: middle;\n",
              "    }\n",
              "\n",
              "    .dataframe tbody tr th {\n",
              "        vertical-align: top;\n",
              "    }\n",
              "\n",
              "    .dataframe thead th {\n",
              "        text-align: right;\n",
              "    }\n",
              "</style>\n",
              "<table border=\"1\" class=\"dataframe\">\n",
              "  <thead>\n",
              "    <tr style=\"text-align: right;\">\n",
              "      <th></th>\n",
              "      <th>school</th>\n",
              "      <th>sex</th>\n",
              "      <th>age</th>\n",
              "      <th>address</th>\n",
              "      <th>famsize</th>\n",
              "      <th>Pstatus</th>\n",
              "      <th>Medu</th>\n",
              "      <th>Fedu</th>\n",
              "      <th>Mjob</th>\n",
              "      <th>Fjob</th>\n",
              "      <th>...</th>\n",
              "      <th>famrel</th>\n",
              "      <th>freetime</th>\n",
              "      <th>goout</th>\n",
              "      <th>Dalc</th>\n",
              "      <th>Walc</th>\n",
              "      <th>health</th>\n",
              "      <th>absences</th>\n",
              "      <th>G1</th>\n",
              "      <th>G2</th>\n",
              "      <th>G3</th>\n",
              "    </tr>\n",
              "  </thead>\n",
              "  <tbody>\n",
              "    <tr>\n",
              "      <th>0</th>\n",
              "      <td>GP</td>\n",
              "      <td>F</td>\n",
              "      <td>18</td>\n",
              "      <td>U</td>\n",
              "      <td>GT3</td>\n",
              "      <td>A</td>\n",
              "      <td>4</td>\n",
              "      <td>4</td>\n",
              "      <td>at_home</td>\n",
              "      <td>teacher</td>\n",
              "      <td>...</td>\n",
              "      <td>4</td>\n",
              "      <td>3</td>\n",
              "      <td>4</td>\n",
              "      <td>1</td>\n",
              "      <td>1</td>\n",
              "      <td>3</td>\n",
              "      <td>6</td>\n",
              "      <td>5</td>\n",
              "      <td>6</td>\n",
              "      <td>6</td>\n",
              "    </tr>\n",
              "    <tr>\n",
              "      <th>1</th>\n",
              "      <td>GP</td>\n",
              "      <td>F</td>\n",
              "      <td>17</td>\n",
              "      <td>U</td>\n",
              "      <td>GT3</td>\n",
              "      <td>T</td>\n",
              "      <td>1</td>\n",
              "      <td>1</td>\n",
              "      <td>at_home</td>\n",
              "      <td>other</td>\n",
              "      <td>...</td>\n",
              "      <td>5</td>\n",
              "      <td>3</td>\n",
              "      <td>3</td>\n",
              "      <td>1</td>\n",
              "      <td>1</td>\n",
              "      <td>3</td>\n",
              "      <td>4</td>\n",
              "      <td>5</td>\n",
              "      <td>5</td>\n",
              "      <td>6</td>\n",
              "    </tr>\n",
              "    <tr>\n",
              "      <th>2</th>\n",
              "      <td>GP</td>\n",
              "      <td>F</td>\n",
              "      <td>15</td>\n",
              "      <td>U</td>\n",
              "      <td>LE3</td>\n",
              "      <td>T</td>\n",
              "      <td>1</td>\n",
              "      <td>1</td>\n",
              "      <td>at_home</td>\n",
              "      <td>other</td>\n",
              "      <td>...</td>\n",
              "      <td>4</td>\n",
              "      <td>3</td>\n",
              "      <td>2</td>\n",
              "      <td>2</td>\n",
              "      <td>3</td>\n",
              "      <td>3</td>\n",
              "      <td>10</td>\n",
              "      <td>7</td>\n",
              "      <td>8</td>\n",
              "      <td>10</td>\n",
              "    </tr>\n",
              "    <tr>\n",
              "      <th>3</th>\n",
              "      <td>GP</td>\n",
              "      <td>F</td>\n",
              "      <td>15</td>\n",
              "      <td>U</td>\n",
              "      <td>GT3</td>\n",
              "      <td>T</td>\n",
              "      <td>4</td>\n",
              "      <td>2</td>\n",
              "      <td>health</td>\n",
              "      <td>services</td>\n",
              "      <td>...</td>\n",
              "      <td>3</td>\n",
              "      <td>2</td>\n",
              "      <td>2</td>\n",
              "      <td>1</td>\n",
              "      <td>1</td>\n",
              "      <td>5</td>\n",
              "      <td>2</td>\n",
              "      <td>15</td>\n",
              "      <td>14</td>\n",
              "      <td>15</td>\n",
              "    </tr>\n",
              "    <tr>\n",
              "      <th>4</th>\n",
              "      <td>GP</td>\n",
              "      <td>F</td>\n",
              "      <td>16</td>\n",
              "      <td>U</td>\n",
              "      <td>GT3</td>\n",
              "      <td>T</td>\n",
              "      <td>3</td>\n",
              "      <td>3</td>\n",
              "      <td>other</td>\n",
              "      <td>other</td>\n",
              "      <td>...</td>\n",
              "      <td>4</td>\n",
              "      <td>3</td>\n",
              "      <td>2</td>\n",
              "      <td>1</td>\n",
              "      <td>2</td>\n",
              "      <td>5</td>\n",
              "      <td>4</td>\n",
              "      <td>6</td>\n",
              "      <td>10</td>\n",
              "      <td>10</td>\n",
              "    </tr>\n",
              "  </tbody>\n",
              "</table>\n",
              "<p>5 rows × 33 columns</p>\n",
              "</div>\n",
              "      <button class=\"colab-df-convert\" onclick=\"convertToInteractive('df-29a2b491-9f65-43aa-a1a5-c8e6503c5630')\"\n",
              "              title=\"Convert this dataframe to an interactive table.\"\n",
              "              style=\"display:none;\">\n",
              "        \n",
              "  <svg xmlns=\"http://www.w3.org/2000/svg\" height=\"24px\"viewBox=\"0 0 24 24\"\n",
              "       width=\"24px\">\n",
              "    <path d=\"M0 0h24v24H0V0z\" fill=\"none\"/>\n",
              "    <path d=\"M18.56 5.44l.94 2.06.94-2.06 2.06-.94-2.06-.94-.94-2.06-.94 2.06-2.06.94zm-11 1L8.5 8.5l.94-2.06 2.06-.94-2.06-.94L8.5 2.5l-.94 2.06-2.06.94zm10 10l.94 2.06.94-2.06 2.06-.94-2.06-.94-.94-2.06-.94 2.06-2.06.94z\"/><path d=\"M17.41 7.96l-1.37-1.37c-.4-.4-.92-.59-1.43-.59-.52 0-1.04.2-1.43.59L10.3 9.45l-7.72 7.72c-.78.78-.78 2.05 0 2.83L4 21.41c.39.39.9.59 1.41.59.51 0 1.02-.2 1.41-.59l7.78-7.78 2.81-2.81c.8-.78.8-2.07 0-2.86zM5.41 20L4 18.59l7.72-7.72 1.47 1.35L5.41 20z\"/>\n",
              "  </svg>\n",
              "      </button>\n",
              "      \n",
              "  <style>\n",
              "    .colab-df-container {\n",
              "      display:flex;\n",
              "      flex-wrap:wrap;\n",
              "      gap: 12px;\n",
              "    }\n",
              "\n",
              "    .colab-df-convert {\n",
              "      background-color: #E8F0FE;\n",
              "      border: none;\n",
              "      border-radius: 50%;\n",
              "      cursor: pointer;\n",
              "      display: none;\n",
              "      fill: #1967D2;\n",
              "      height: 32px;\n",
              "      padding: 0 0 0 0;\n",
              "      width: 32px;\n",
              "    }\n",
              "\n",
              "    .colab-df-convert:hover {\n",
              "      background-color: #E2EBFA;\n",
              "      box-shadow: 0px 1px 2px rgba(60, 64, 67, 0.3), 0px 1px 3px 1px rgba(60, 64, 67, 0.15);\n",
              "      fill: #174EA6;\n",
              "    }\n",
              "\n",
              "    [theme=dark] .colab-df-convert {\n",
              "      background-color: #3B4455;\n",
              "      fill: #D2E3FC;\n",
              "    }\n",
              "\n",
              "    [theme=dark] .colab-df-convert:hover {\n",
              "      background-color: #434B5C;\n",
              "      box-shadow: 0px 1px 3px 1px rgba(0, 0, 0, 0.15);\n",
              "      filter: drop-shadow(0px 1px 2px rgba(0, 0, 0, 0.3));\n",
              "      fill: #FFFFFF;\n",
              "    }\n",
              "  </style>\n",
              "\n",
              "      <script>\n",
              "        const buttonEl =\n",
              "          document.querySelector('#df-29a2b491-9f65-43aa-a1a5-c8e6503c5630 button.colab-df-convert');\n",
              "        buttonEl.style.display =\n",
              "          google.colab.kernel.accessAllowed ? 'block' : 'none';\n",
              "\n",
              "        async function convertToInteractive(key) {\n",
              "          const element = document.querySelector('#df-29a2b491-9f65-43aa-a1a5-c8e6503c5630');\n",
              "          const dataTable =\n",
              "            await google.colab.kernel.invokeFunction('convertToInteractive',\n",
              "                                                     [key], {});\n",
              "          if (!dataTable) return;\n",
              "\n",
              "          const docLinkHtml = 'Like what you see? Visit the ' +\n",
              "            '<a target=\"_blank\" href=https://colab.research.google.com/notebooks/data_table.ipynb>data table notebook</a>'\n",
              "            + ' to learn more about interactive tables.';\n",
              "          element.innerHTML = '';\n",
              "          dataTable['output_type'] = 'display_data';\n",
              "          await google.colab.output.renderOutput(dataTable, element);\n",
              "          const docLink = document.createElement('div');\n",
              "          docLink.innerHTML = docLinkHtml;\n",
              "          element.appendChild(docLink);\n",
              "        }\n",
              "      </script>\n",
              "    </div>\n",
              "  </div>\n",
              "  "
            ]
          },
          "metadata": {},
          "execution_count": 5
        }
      ]
    },
    {
      "cell_type": "markdown",
      "source": [
        "And That table is for student evaluations in math class "
      ],
      "metadata": {
        "id": "leFAUMaa7U8h"
      }
    },
    {
      "cell_type": "code",
      "source": [
        "student_math.info() # It is also good that there are no null columns in data and we have 395 objects"
      ],
      "metadata": {
        "colab": {
          "base_uri": "https://localhost:8080/"
        },
        "id": "j_AtDAL287ZN",
        "outputId": "e6db929f-af05-4b22-8d4e-d037b7404f9f"
      },
      "execution_count": 6,
      "outputs": [
        {
          "output_type": "stream",
          "name": "stdout",
          "text": [
            "<class 'pandas.core.frame.DataFrame'>\n",
            "RangeIndex: 395 entries, 0 to 394\n",
            "Data columns (total 33 columns):\n",
            " #   Column      Non-Null Count  Dtype \n",
            "---  ------      --------------  ----- \n",
            " 0   school      395 non-null    object\n",
            " 1   sex         395 non-null    object\n",
            " 2   age         395 non-null    int64 \n",
            " 3   address     395 non-null    object\n",
            " 4   famsize     395 non-null    object\n",
            " 5   Pstatus     395 non-null    object\n",
            " 6   Medu        395 non-null    int64 \n",
            " 7   Fedu        395 non-null    int64 \n",
            " 8   Mjob        395 non-null    object\n",
            " 9   Fjob        395 non-null    object\n",
            " 10  reason      395 non-null    object\n",
            " 11  guardian    395 non-null    object\n",
            " 12  traveltime  395 non-null    int64 \n",
            " 13  studytime   395 non-null    int64 \n",
            " 14  failures    395 non-null    int64 \n",
            " 15  schoolsup   395 non-null    object\n",
            " 16  famsup      395 non-null    object\n",
            " 17  paid        395 non-null    object\n",
            " 18  activities  395 non-null    object\n",
            " 19  nursery     395 non-null    object\n",
            " 20  higher      395 non-null    object\n",
            " 21  internet    395 non-null    object\n",
            " 22  romantic    395 non-null    object\n",
            " 23  famrel      395 non-null    int64 \n",
            " 24  freetime    395 non-null    int64 \n",
            " 25  goout       395 non-null    int64 \n",
            " 26  Dalc        395 non-null    int64 \n",
            " 27  Walc        395 non-null    int64 \n",
            " 28  health      395 non-null    int64 \n",
            " 29  absences    395 non-null    int64 \n",
            " 30  G1          395 non-null    int64 \n",
            " 31  G2          395 non-null    int64 \n",
            " 32  G3          395 non-null    int64 \n",
            "dtypes: int64(16), object(17)\n",
            "memory usage: 102.0+ KB\n"
          ]
        }
      ]
    },
    {
      "cell_type": "markdown",
      "source": [
        "It is enough to look at the tables. Now it is time to explore data with graphs"
      ],
      "metadata": {
        "id": "MgHX8MDC-fHJ"
      }
    },
    {
      "cell_type": "markdown",
      "source": [
        "In some cases attribute distrubition might be affect performance of model. I want to chect if attributes are balanced or not"
      ],
      "metadata": {
        "id": "bqkL1iyQO__r"
      }
    },
    {
      "cell_type": "code",
      "source": [
        "labels_por = student_por.select_dtypes(include =[\"object\"]).columns[1::] # I only get attributes which is object type\n",
        "\n",
        "# I want 5 x 5 grid\n",
        "rows = 4\n",
        "cols = 4\n",
        "\n",
        "#define specs\n",
        "specs=[[{'type':'pie'}]*cols]*rows\n",
        "                                                                     \n",
        "\n",
        "fig = make_subplots(rows=rows, cols=cols,subplot_titles= labels_por, start_cell=\"bottom-left\",specs = specs )\n",
        "\n",
        "for inx, name in enumerate(labels_por):\n",
        "\n",
        "    # getting row and column index\n",
        "    row = (inx // cols) +1\n",
        "    col = (inx % (rows)) +1\n",
        "\n",
        "    count = student_por[name].value_counts()\n",
        "\n",
        "    label = count.index\n",
        "\n",
        "    fig.add_trace(\n",
        "        go.Pie(labels=label,\n",
        "               values=count,\n",
        "               showlegend=False,\n",
        "               textposition='inside',\n",
        "               textinfo='label+percent'),\n",
        "         row=row,\n",
        "         col=col)\n",
        "    \n",
        "\n",
        "\n",
        "fig.update_layout(title=\"Attributes Distrubitions for Portugese Class\", title_x=0.5)\n",
        "fig.show()"
      ],
      "metadata": {
        "colab": {
          "base_uri": "https://localhost:8080/",
          "height": 542
        },
        "id": "Sk_udJQb-qcA",
        "outputId": "40a10cac-95a2-42ec-eadd-028ec6da0a6a"
      },
      "execution_count": 13,
      "outputs": [
        {
          "output_type": "display_data",
          "data": {
            "text/html": [
              "<html>\n",
              "<head><meta charset=\"utf-8\" /></head>\n",
              "<body>\n",
              "    <div>            <script src=\"https://cdnjs.cloudflare.com/ajax/libs/mathjax/2.7.5/MathJax.js?config=TeX-AMS-MML_SVG\"></script><script type=\"text/javascript\">if (window.MathJax && window.MathJax.Hub && window.MathJax.Hub.Config) {window.MathJax.Hub.Config({SVG: {font: \"STIX-Web\"}});}</script>                <script type=\"text/javascript\">window.PlotlyConfig = {MathJaxConfig: 'local'};</script>\n",
              "        <script src=\"https://cdn.plot.ly/plotly-2.18.2.min.js\"></script>                <div id=\"dab22650-22a1-467a-b8f0-2155bf410ef9\" class=\"plotly-graph-div\" style=\"height:525px; width:100%;\"></div>            <script type=\"text/javascript\">                                    window.PLOTLYENV=window.PLOTLYENV || {};                                    if (document.getElementById(\"dab22650-22a1-467a-b8f0-2155bf410ef9\")) {                    Plotly.newPlot(                        \"dab22650-22a1-467a-b8f0-2155bf410ef9\",                        [{\"labels\":[\"F\",\"M\"],\"showlegend\":false,\"textinfo\":\"label+percent\",\"textposition\":\"inside\",\"values\":[383,266],\"type\":\"pie\",\"domain\":{\"x\":[0.0,0.2125],\"y\":[0.0,0.15625]}},{\"labels\":[\"U\",\"R\"],\"showlegend\":false,\"textinfo\":\"label+percent\",\"textposition\":\"inside\",\"values\":[452,197],\"type\":\"pie\",\"domain\":{\"x\":[0.2625,0.475],\"y\":[0.0,0.15625]}},{\"labels\":[\"GT3\",\"LE3\"],\"showlegend\":false,\"textinfo\":\"label+percent\",\"textposition\":\"inside\",\"values\":[457,192],\"type\":\"pie\",\"domain\":{\"x\":[0.525,0.7375],\"y\":[0.0,0.15625]}},{\"labels\":[\"T\",\"A\"],\"showlegend\":false,\"textinfo\":\"label+percent\",\"textposition\":\"inside\",\"values\":[569,80],\"type\":\"pie\",\"domain\":{\"x\":[0.7875,1.0],\"y\":[0.0,0.15625]}},{\"labels\":[\"other\",\"services\",\"at_home\",\"teacher\",\"health\"],\"showlegend\":false,\"textinfo\":\"label+percent\",\"textposition\":\"inside\",\"values\":[258,136,135,72,48],\"type\":\"pie\",\"domain\":{\"x\":[0.0,0.2125],\"y\":[0.28125,0.4375]}},{\"labels\":[\"other\",\"services\",\"at_home\",\"teacher\",\"health\"],\"showlegend\":false,\"textinfo\":\"label+percent\",\"textposition\":\"inside\",\"values\":[367,181,42,36,23],\"type\":\"pie\",\"domain\":{\"x\":[0.2625,0.475],\"y\":[0.28125,0.4375]}},{\"labels\":[\"course\",\"home\",\"reputation\",\"other\"],\"showlegend\":false,\"textinfo\":\"label+percent\",\"textposition\":\"inside\",\"values\":[285,149,143,72],\"type\":\"pie\",\"domain\":{\"x\":[0.525,0.7375],\"y\":[0.28125,0.4375]}},{\"labels\":[\"mother\",\"father\",\"other\"],\"showlegend\":false,\"textinfo\":\"label+percent\",\"textposition\":\"inside\",\"values\":[455,153,41],\"type\":\"pie\",\"domain\":{\"x\":[0.7875,1.0],\"y\":[0.28125,0.4375]}},{\"labels\":[\"no\",\"yes\"],\"showlegend\":false,\"textinfo\":\"label+percent\",\"textposition\":\"inside\",\"values\":[581,68],\"type\":\"pie\",\"domain\":{\"x\":[0.0,0.2125],\"y\":[0.5625,0.71875]}},{\"labels\":[\"yes\",\"no\"],\"showlegend\":false,\"textinfo\":\"label+percent\",\"textposition\":\"inside\",\"values\":[398,251],\"type\":\"pie\",\"domain\":{\"x\":[0.2625,0.475],\"y\":[0.5625,0.71875]}},{\"labels\":[\"no\",\"yes\"],\"showlegend\":false,\"textinfo\":\"label+percent\",\"textposition\":\"inside\",\"values\":[610,39],\"type\":\"pie\",\"domain\":{\"x\":[0.525,0.7375],\"y\":[0.5625,0.71875]}},{\"labels\":[\"no\",\"yes\"],\"showlegend\":false,\"textinfo\":\"label+percent\",\"textposition\":\"inside\",\"values\":[334,315],\"type\":\"pie\",\"domain\":{\"x\":[0.7875,1.0],\"y\":[0.5625,0.71875]}},{\"labels\":[\"yes\",\"no\"],\"showlegend\":false,\"textinfo\":\"label+percent\",\"textposition\":\"inside\",\"values\":[521,128],\"type\":\"pie\",\"domain\":{\"x\":[0.0,0.2125],\"y\":[0.84375,1.0]}},{\"labels\":[\"yes\",\"no\"],\"showlegend\":false,\"textinfo\":\"label+percent\",\"textposition\":\"inside\",\"values\":[580,69],\"type\":\"pie\",\"domain\":{\"x\":[0.2625,0.475],\"y\":[0.84375,1.0]}},{\"labels\":[\"yes\",\"no\"],\"showlegend\":false,\"textinfo\":\"label+percent\",\"textposition\":\"inside\",\"values\":[498,151],\"type\":\"pie\",\"domain\":{\"x\":[0.525,0.7375],\"y\":[0.84375,1.0]}},{\"labels\":[\"no\",\"yes\"],\"showlegend\":false,\"textinfo\":\"label+percent\",\"textposition\":\"inside\",\"values\":[410,239],\"type\":\"pie\",\"domain\":{\"x\":[0.7875,1.0],\"y\":[0.84375,1.0]}}],                        {\"template\":{\"data\":{\"histogram2dcontour\":[{\"type\":\"histogram2dcontour\",\"colorbar\":{\"outlinewidth\":0,\"ticks\":\"\"},\"colorscale\":[[0.0,\"#0d0887\"],[0.1111111111111111,\"#46039f\"],[0.2222222222222222,\"#7201a8\"],[0.3333333333333333,\"#9c179e\"],[0.4444444444444444,\"#bd3786\"],[0.5555555555555556,\"#d8576b\"],[0.6666666666666666,\"#ed7953\"],[0.7777777777777778,\"#fb9f3a\"],[0.8888888888888888,\"#fdca26\"],[1.0,\"#f0f921\"]]}],\"choropleth\":[{\"type\":\"choropleth\",\"colorbar\":{\"outlinewidth\":0,\"ticks\":\"\"}}],\"histogram2d\":[{\"type\":\"histogram2d\",\"colorbar\":{\"outlinewidth\":0,\"ticks\":\"\"},\"colorscale\":[[0.0,\"#0d0887\"],[0.1111111111111111,\"#46039f\"],[0.2222222222222222,\"#7201a8\"],[0.3333333333333333,\"#9c179e\"],[0.4444444444444444,\"#bd3786\"],[0.5555555555555556,\"#d8576b\"],[0.6666666666666666,\"#ed7953\"],[0.7777777777777778,\"#fb9f3a\"],[0.8888888888888888,\"#fdca26\"],[1.0,\"#f0f921\"]]}],\"heatmap\":[{\"type\":\"heatmap\",\"colorbar\":{\"outlinewidth\":0,\"ticks\":\"\"},\"colorscale\":[[0.0,\"#0d0887\"],[0.1111111111111111,\"#46039f\"],[0.2222222222222222,\"#7201a8\"],[0.3333333333333333,\"#9c179e\"],[0.4444444444444444,\"#bd3786\"],[0.5555555555555556,\"#d8576b\"],[0.6666666666666666,\"#ed7953\"],[0.7777777777777778,\"#fb9f3a\"],[0.8888888888888888,\"#fdca26\"],[1.0,\"#f0f921\"]]}],\"heatmapgl\":[{\"type\":\"heatmapgl\",\"colorbar\":{\"outlinewidth\":0,\"ticks\":\"\"},\"colorscale\":[[0.0,\"#0d0887\"],[0.1111111111111111,\"#46039f\"],[0.2222222222222222,\"#7201a8\"],[0.3333333333333333,\"#9c179e\"],[0.4444444444444444,\"#bd3786\"],[0.5555555555555556,\"#d8576b\"],[0.6666666666666666,\"#ed7953\"],[0.7777777777777778,\"#fb9f3a\"],[0.8888888888888888,\"#fdca26\"],[1.0,\"#f0f921\"]]}],\"contourcarpet\":[{\"type\":\"contourcarpet\",\"colorbar\":{\"outlinewidth\":0,\"ticks\":\"\"}}],\"contour\":[{\"type\":\"contour\",\"colorbar\":{\"outlinewidth\":0,\"ticks\":\"\"},\"colorscale\":[[0.0,\"#0d0887\"],[0.1111111111111111,\"#46039f\"],[0.2222222222222222,\"#7201a8\"],[0.3333333333333333,\"#9c179e\"],[0.4444444444444444,\"#bd3786\"],[0.5555555555555556,\"#d8576b\"],[0.6666666666666666,\"#ed7953\"],[0.7777777777777778,\"#fb9f3a\"],[0.8888888888888888,\"#fdca26\"],[1.0,\"#f0f921\"]]}],\"surface\":[{\"type\":\"surface\",\"colorbar\":{\"outlinewidth\":0,\"ticks\":\"\"},\"colorscale\":[[0.0,\"#0d0887\"],[0.1111111111111111,\"#46039f\"],[0.2222222222222222,\"#7201a8\"],[0.3333333333333333,\"#9c179e\"],[0.4444444444444444,\"#bd3786\"],[0.5555555555555556,\"#d8576b\"],[0.6666666666666666,\"#ed7953\"],[0.7777777777777778,\"#fb9f3a\"],[0.8888888888888888,\"#fdca26\"],[1.0,\"#f0f921\"]]}],\"mesh3d\":[{\"type\":\"mesh3d\",\"colorbar\":{\"outlinewidth\":0,\"ticks\":\"\"}}],\"scatter\":[{\"fillpattern\":{\"fillmode\":\"overlay\",\"size\":10,\"solidity\":0.2},\"type\":\"scatter\"}],\"parcoords\":[{\"type\":\"parcoords\",\"line\":{\"colorbar\":{\"outlinewidth\":0,\"ticks\":\"\"}}}],\"scatterpolargl\":[{\"type\":\"scatterpolargl\",\"marker\":{\"colorbar\":{\"outlinewidth\":0,\"ticks\":\"\"}}}],\"bar\":[{\"error_x\":{\"color\":\"#2a3f5f\"},\"error_y\":{\"color\":\"#2a3f5f\"},\"marker\":{\"line\":{\"color\":\"#E5ECF6\",\"width\":0.5},\"pattern\":{\"fillmode\":\"overlay\",\"size\":10,\"solidity\":0.2}},\"type\":\"bar\"}],\"scattergeo\":[{\"type\":\"scattergeo\",\"marker\":{\"colorbar\":{\"outlinewidth\":0,\"ticks\":\"\"}}}],\"scatterpolar\":[{\"type\":\"scatterpolar\",\"marker\":{\"colorbar\":{\"outlinewidth\":0,\"ticks\":\"\"}}}],\"histogram\":[{\"marker\":{\"pattern\":{\"fillmode\":\"overlay\",\"size\":10,\"solidity\":0.2}},\"type\":\"histogram\"}],\"scattergl\":[{\"type\":\"scattergl\",\"marker\":{\"colorbar\":{\"outlinewidth\":0,\"ticks\":\"\"}}}],\"scatter3d\":[{\"type\":\"scatter3d\",\"line\":{\"colorbar\":{\"outlinewidth\":0,\"ticks\":\"\"}},\"marker\":{\"colorbar\":{\"outlinewidth\":0,\"ticks\":\"\"}}}],\"scattermapbox\":[{\"type\":\"scattermapbox\",\"marker\":{\"colorbar\":{\"outlinewidth\":0,\"ticks\":\"\"}}}],\"scatterternary\":[{\"type\":\"scatterternary\",\"marker\":{\"colorbar\":{\"outlinewidth\":0,\"ticks\":\"\"}}}],\"scattercarpet\":[{\"type\":\"scattercarpet\",\"marker\":{\"colorbar\":{\"outlinewidth\":0,\"ticks\":\"\"}}}],\"carpet\":[{\"aaxis\":{\"endlinecolor\":\"#2a3f5f\",\"gridcolor\":\"white\",\"linecolor\":\"white\",\"minorgridcolor\":\"white\",\"startlinecolor\":\"#2a3f5f\"},\"baxis\":{\"endlinecolor\":\"#2a3f5f\",\"gridcolor\":\"white\",\"linecolor\":\"white\",\"minorgridcolor\":\"white\",\"startlinecolor\":\"#2a3f5f\"},\"type\":\"carpet\"}],\"table\":[{\"cells\":{\"fill\":{\"color\":\"#EBF0F8\"},\"line\":{\"color\":\"white\"}},\"header\":{\"fill\":{\"color\":\"#C8D4E3\"},\"line\":{\"color\":\"white\"}},\"type\":\"table\"}],\"barpolar\":[{\"marker\":{\"line\":{\"color\":\"#E5ECF6\",\"width\":0.5},\"pattern\":{\"fillmode\":\"overlay\",\"size\":10,\"solidity\":0.2}},\"type\":\"barpolar\"}],\"pie\":[{\"automargin\":true,\"type\":\"pie\"}]},\"layout\":{\"autotypenumbers\":\"strict\",\"colorway\":[\"#636efa\",\"#EF553B\",\"#00cc96\",\"#ab63fa\",\"#FFA15A\",\"#19d3f3\",\"#FF6692\",\"#B6E880\",\"#FF97FF\",\"#FECB52\"],\"font\":{\"color\":\"#2a3f5f\"},\"hovermode\":\"closest\",\"hoverlabel\":{\"align\":\"left\"},\"paper_bgcolor\":\"white\",\"plot_bgcolor\":\"#E5ECF6\",\"polar\":{\"bgcolor\":\"#E5ECF6\",\"angularaxis\":{\"gridcolor\":\"white\",\"linecolor\":\"white\",\"ticks\":\"\"},\"radialaxis\":{\"gridcolor\":\"white\",\"linecolor\":\"white\",\"ticks\":\"\"}},\"ternary\":{\"bgcolor\":\"#E5ECF6\",\"aaxis\":{\"gridcolor\":\"white\",\"linecolor\":\"white\",\"ticks\":\"\"},\"baxis\":{\"gridcolor\":\"white\",\"linecolor\":\"white\",\"ticks\":\"\"},\"caxis\":{\"gridcolor\":\"white\",\"linecolor\":\"white\",\"ticks\":\"\"}},\"coloraxis\":{\"colorbar\":{\"outlinewidth\":0,\"ticks\":\"\"}},\"colorscale\":{\"sequential\":[[0.0,\"#0d0887\"],[0.1111111111111111,\"#46039f\"],[0.2222222222222222,\"#7201a8\"],[0.3333333333333333,\"#9c179e\"],[0.4444444444444444,\"#bd3786\"],[0.5555555555555556,\"#d8576b\"],[0.6666666666666666,\"#ed7953\"],[0.7777777777777778,\"#fb9f3a\"],[0.8888888888888888,\"#fdca26\"],[1.0,\"#f0f921\"]],\"sequentialminus\":[[0.0,\"#0d0887\"],[0.1111111111111111,\"#46039f\"],[0.2222222222222222,\"#7201a8\"],[0.3333333333333333,\"#9c179e\"],[0.4444444444444444,\"#bd3786\"],[0.5555555555555556,\"#d8576b\"],[0.6666666666666666,\"#ed7953\"],[0.7777777777777778,\"#fb9f3a\"],[0.8888888888888888,\"#fdca26\"],[1.0,\"#f0f921\"]],\"diverging\":[[0,\"#8e0152\"],[0.1,\"#c51b7d\"],[0.2,\"#de77ae\"],[0.3,\"#f1b6da\"],[0.4,\"#fde0ef\"],[0.5,\"#f7f7f7\"],[0.6,\"#e6f5d0\"],[0.7,\"#b8e186\"],[0.8,\"#7fbc41\"],[0.9,\"#4d9221\"],[1,\"#276419\"]]},\"xaxis\":{\"gridcolor\":\"white\",\"linecolor\":\"white\",\"ticks\":\"\",\"title\":{\"standoff\":15},\"zerolinecolor\":\"white\",\"automargin\":true,\"zerolinewidth\":2},\"yaxis\":{\"gridcolor\":\"white\",\"linecolor\":\"white\",\"ticks\":\"\",\"title\":{\"standoff\":15},\"zerolinecolor\":\"white\",\"automargin\":true,\"zerolinewidth\":2},\"scene\":{\"xaxis\":{\"backgroundcolor\":\"#E5ECF6\",\"gridcolor\":\"white\",\"linecolor\":\"white\",\"showbackground\":true,\"ticks\":\"\",\"zerolinecolor\":\"white\",\"gridwidth\":2},\"yaxis\":{\"backgroundcolor\":\"#E5ECF6\",\"gridcolor\":\"white\",\"linecolor\":\"white\",\"showbackground\":true,\"ticks\":\"\",\"zerolinecolor\":\"white\",\"gridwidth\":2},\"zaxis\":{\"backgroundcolor\":\"#E5ECF6\",\"gridcolor\":\"white\",\"linecolor\":\"white\",\"showbackground\":true,\"ticks\":\"\",\"zerolinecolor\":\"white\",\"gridwidth\":2}},\"shapedefaults\":{\"line\":{\"color\":\"#2a3f5f\"}},\"annotationdefaults\":{\"arrowcolor\":\"#2a3f5f\",\"arrowhead\":0,\"arrowwidth\":1},\"geo\":{\"bgcolor\":\"white\",\"landcolor\":\"#E5ECF6\",\"subunitcolor\":\"white\",\"showland\":true,\"showlakes\":true,\"lakecolor\":\"white\"},\"title\":{\"x\":0.05},\"mapbox\":{\"style\":\"light\"}}},\"annotations\":[{\"font\":{\"size\":16},\"showarrow\":false,\"text\":\"sex\",\"x\":0.10625,\"xanchor\":\"center\",\"xref\":\"paper\",\"y\":0.15625,\"yanchor\":\"bottom\",\"yref\":\"paper\"},{\"font\":{\"size\":16},\"showarrow\":false,\"text\":\"address\",\"x\":0.36875,\"xanchor\":\"center\",\"xref\":\"paper\",\"y\":0.15625,\"yanchor\":\"bottom\",\"yref\":\"paper\"},{\"font\":{\"size\":16},\"showarrow\":false,\"text\":\"famsize\",\"x\":0.6312500000000001,\"xanchor\":\"center\",\"xref\":\"paper\",\"y\":0.15625,\"yanchor\":\"bottom\",\"yref\":\"paper\"},{\"font\":{\"size\":16},\"showarrow\":false,\"text\":\"Pstatus\",\"x\":0.89375,\"xanchor\":\"center\",\"xref\":\"paper\",\"y\":0.15625,\"yanchor\":\"bottom\",\"yref\":\"paper\"},{\"font\":{\"size\":16},\"showarrow\":false,\"text\":\"Mjob\",\"x\":0.10625,\"xanchor\":\"center\",\"xref\":\"paper\",\"y\":0.4375,\"yanchor\":\"bottom\",\"yref\":\"paper\"},{\"font\":{\"size\":16},\"showarrow\":false,\"text\":\"Fjob\",\"x\":0.36875,\"xanchor\":\"center\",\"xref\":\"paper\",\"y\":0.4375,\"yanchor\":\"bottom\",\"yref\":\"paper\"},{\"font\":{\"size\":16},\"showarrow\":false,\"text\":\"reason\",\"x\":0.6312500000000001,\"xanchor\":\"center\",\"xref\":\"paper\",\"y\":0.4375,\"yanchor\":\"bottom\",\"yref\":\"paper\"},{\"font\":{\"size\":16},\"showarrow\":false,\"text\":\"guardian\",\"x\":0.89375,\"xanchor\":\"center\",\"xref\":\"paper\",\"y\":0.4375,\"yanchor\":\"bottom\",\"yref\":\"paper\"},{\"font\":{\"size\":16},\"showarrow\":false,\"text\":\"schoolsup\",\"x\":0.10625,\"xanchor\":\"center\",\"xref\":\"paper\",\"y\":0.71875,\"yanchor\":\"bottom\",\"yref\":\"paper\"},{\"font\":{\"size\":16},\"showarrow\":false,\"text\":\"famsup\",\"x\":0.36875,\"xanchor\":\"center\",\"xref\":\"paper\",\"y\":0.71875,\"yanchor\":\"bottom\",\"yref\":\"paper\"},{\"font\":{\"size\":16},\"showarrow\":false,\"text\":\"paid\",\"x\":0.6312500000000001,\"xanchor\":\"center\",\"xref\":\"paper\",\"y\":0.71875,\"yanchor\":\"bottom\",\"yref\":\"paper\"},{\"font\":{\"size\":16},\"showarrow\":false,\"text\":\"activities\",\"x\":0.89375,\"xanchor\":\"center\",\"xref\":\"paper\",\"y\":0.71875,\"yanchor\":\"bottom\",\"yref\":\"paper\"},{\"font\":{\"size\":16},\"showarrow\":false,\"text\":\"nursery\",\"x\":0.10625,\"xanchor\":\"center\",\"xref\":\"paper\",\"y\":1.0,\"yanchor\":\"bottom\",\"yref\":\"paper\"},{\"font\":{\"size\":16},\"showarrow\":false,\"text\":\"higher\",\"x\":0.36875,\"xanchor\":\"center\",\"xref\":\"paper\",\"y\":1.0,\"yanchor\":\"bottom\",\"yref\":\"paper\"},{\"font\":{\"size\":16},\"showarrow\":false,\"text\":\"internet\",\"x\":0.6312500000000001,\"xanchor\":\"center\",\"xref\":\"paper\",\"y\":1.0,\"yanchor\":\"bottom\",\"yref\":\"paper\"},{\"font\":{\"size\":16},\"showarrow\":false,\"text\":\"romantic\",\"x\":0.89375,\"xanchor\":\"center\",\"xref\":\"paper\",\"y\":1.0,\"yanchor\":\"bottom\",\"yref\":\"paper\"}],\"title\":{\"text\":\"Attributes Distrubitions for Portugese Class\",\"x\":0.5}},                        {\"responsive\": true}                    ).then(function(){\n",
              "                            \n",
              "var gd = document.getElementById('dab22650-22a1-467a-b8f0-2155bf410ef9');\n",
              "var x = new MutationObserver(function (mutations, observer) {{\n",
              "        var display = window.getComputedStyle(gd).display;\n",
              "        if (!display || display === 'none') {{\n",
              "            console.log([gd, 'removed!']);\n",
              "            Plotly.purge(gd);\n",
              "            observer.disconnect();\n",
              "        }}\n",
              "}});\n",
              "\n",
              "// Listen for the removal of the full notebook cells\n",
              "var notebookContainer = gd.closest('#notebook-container');\n",
              "if (notebookContainer) {{\n",
              "    x.observe(notebookContainer, {childList: true});\n",
              "}}\n",
              "\n",
              "// Listen for the clearing of the current output cell\n",
              "var outputEl = gd.closest('.output');\n",
              "if (outputEl) {{\n",
              "    x.observe(outputEl, {childList: true});\n",
              "}}\n",
              "\n",
              "                        })                };                            </script>        </div>\n",
              "</body>\n",
              "</html>"
            ]
          },
          "metadata": {}
        }
      ]
    },
    {
      "cell_type": "markdown",
      "source": [
        "As you seen above, data is quite imbalanced. Appearently, Only activites is balanced \n",
        "\n",
        "**How is the distrubition for math class ?**"
      ],
      "metadata": {
        "id": "yiZqGxosVFY-"
      }
    },
    {
      "cell_type": "code",
      "source": [
        "labels_math = student_math.select_dtypes(include =[\"object\"]).columns[1::] # I only get attributes which is object type\n",
        "\n",
        "# I want 5 x 5 grid\n",
        "rows = 4\n",
        "cols = 4\n",
        "\n",
        "#define specs\n",
        "specs=[[{'type':'pie'}]*cols]*rows\n",
        "                                                                     \n",
        "\n",
        "fig = make_subplots(rows=rows, cols=cols,subplot_titles= labels_por, start_cell=\"bottom-left\",specs = specs )\n",
        "\n",
        "for inx, name in enumerate(labels_math):\n",
        "\n",
        "    # getting row and column index\n",
        "    row = (inx // cols) +1\n",
        "    col = (inx % (rows)) +1\n",
        "\n",
        "\n",
        "    count = student_math[name].value_counts()\n",
        "\n",
        "    label = count.index\n",
        "\n",
        "    fig.add_trace(\n",
        "        go.Pie(labels=label,\n",
        "               values=count,\n",
        "               showlegend=False,\n",
        "               textposition='inside',\n",
        "               textinfo='label+percent'),\n",
        "         row=row,\n",
        "         col=col)\n",
        "    \n",
        "\n",
        "\n",
        "fig.update_layout(title=\"Attributes Distrubitions for Math Class\", title_x=0.5)\n",
        "fig.show()"
      ],
      "metadata": {
        "colab": {
          "base_uri": "https://localhost:8080/",
          "height": 542
        },
        "id": "TQvR9iO9Few8",
        "outputId": "f736aae8-97f6-4393-fe29-9d52795df56d"
      },
      "execution_count": 14,
      "outputs": [
        {
          "output_type": "display_data",
          "data": {
            "text/html": [
              "<html>\n",
              "<head><meta charset=\"utf-8\" /></head>\n",
              "<body>\n",
              "    <div>            <script src=\"https://cdnjs.cloudflare.com/ajax/libs/mathjax/2.7.5/MathJax.js?config=TeX-AMS-MML_SVG\"></script><script type=\"text/javascript\">if (window.MathJax && window.MathJax.Hub && window.MathJax.Hub.Config) {window.MathJax.Hub.Config({SVG: {font: \"STIX-Web\"}});}</script>                <script type=\"text/javascript\">window.PlotlyConfig = {MathJaxConfig: 'local'};</script>\n",
              "        <script src=\"https://cdn.plot.ly/plotly-2.18.2.min.js\"></script>                <div id=\"7d4684dc-94fd-4518-ab7c-a942ea9b7070\" class=\"plotly-graph-div\" style=\"height:525px; width:100%;\"></div>            <script type=\"text/javascript\">                                    window.PLOTLYENV=window.PLOTLYENV || {};                                    if (document.getElementById(\"7d4684dc-94fd-4518-ab7c-a942ea9b7070\")) {                    Plotly.newPlot(                        \"7d4684dc-94fd-4518-ab7c-a942ea9b7070\",                        [{\"labels\":[\"F\",\"M\"],\"showlegend\":false,\"textinfo\":\"label+percent\",\"textposition\":\"inside\",\"values\":[208,187],\"type\":\"pie\",\"domain\":{\"x\":[0.0,0.2125],\"y\":[0.0,0.15625]}},{\"labels\":[\"U\",\"R\"],\"showlegend\":false,\"textinfo\":\"label+percent\",\"textposition\":\"inside\",\"values\":[307,88],\"type\":\"pie\",\"domain\":{\"x\":[0.2625,0.475],\"y\":[0.0,0.15625]}},{\"labels\":[\"GT3\",\"LE3\"],\"showlegend\":false,\"textinfo\":\"label+percent\",\"textposition\":\"inside\",\"values\":[281,114],\"type\":\"pie\",\"domain\":{\"x\":[0.525,0.7375],\"y\":[0.0,0.15625]}},{\"labels\":[\"T\",\"A\"],\"showlegend\":false,\"textinfo\":\"label+percent\",\"textposition\":\"inside\",\"values\":[354,41],\"type\":\"pie\",\"domain\":{\"x\":[0.7875,1.0],\"y\":[0.0,0.15625]}},{\"labels\":[\"other\",\"services\",\"at_home\",\"teacher\",\"health\"],\"showlegend\":false,\"textinfo\":\"label+percent\",\"textposition\":\"inside\",\"values\":[141,103,59,58,34],\"type\":\"pie\",\"domain\":{\"x\":[0.0,0.2125],\"y\":[0.28125,0.4375]}},{\"labels\":[\"other\",\"services\",\"teacher\",\"at_home\",\"health\"],\"showlegend\":false,\"textinfo\":\"label+percent\",\"textposition\":\"inside\",\"values\":[217,111,29,20,18],\"type\":\"pie\",\"domain\":{\"x\":[0.2625,0.475],\"y\":[0.28125,0.4375]}},{\"labels\":[\"course\",\"home\",\"reputation\",\"other\"],\"showlegend\":false,\"textinfo\":\"label+percent\",\"textposition\":\"inside\",\"values\":[145,109,105,36],\"type\":\"pie\",\"domain\":{\"x\":[0.525,0.7375],\"y\":[0.28125,0.4375]}},{\"labels\":[\"mother\",\"father\",\"other\"],\"showlegend\":false,\"textinfo\":\"label+percent\",\"textposition\":\"inside\",\"values\":[273,90,32],\"type\":\"pie\",\"domain\":{\"x\":[0.7875,1.0],\"y\":[0.28125,0.4375]}},{\"labels\":[\"no\",\"yes\"],\"showlegend\":false,\"textinfo\":\"label+percent\",\"textposition\":\"inside\",\"values\":[344,51],\"type\":\"pie\",\"domain\":{\"x\":[0.0,0.2125],\"y\":[0.5625,0.71875]}},{\"labels\":[\"yes\",\"no\"],\"showlegend\":false,\"textinfo\":\"label+percent\",\"textposition\":\"inside\",\"values\":[242,153],\"type\":\"pie\",\"domain\":{\"x\":[0.2625,0.475],\"y\":[0.5625,0.71875]}},{\"labels\":[\"no\",\"yes\"],\"showlegend\":false,\"textinfo\":\"label+percent\",\"textposition\":\"inside\",\"values\":[214,181],\"type\":\"pie\",\"domain\":{\"x\":[0.525,0.7375],\"y\":[0.5625,0.71875]}},{\"labels\":[\"yes\",\"no\"],\"showlegend\":false,\"textinfo\":\"label+percent\",\"textposition\":\"inside\",\"values\":[201,194],\"type\":\"pie\",\"domain\":{\"x\":[0.7875,1.0],\"y\":[0.5625,0.71875]}},{\"labels\":[\"yes\",\"no\"],\"showlegend\":false,\"textinfo\":\"label+percent\",\"textposition\":\"inside\",\"values\":[314,81],\"type\":\"pie\",\"domain\":{\"x\":[0.0,0.2125],\"y\":[0.84375,1.0]}},{\"labels\":[\"yes\",\"no\"],\"showlegend\":false,\"textinfo\":\"label+percent\",\"textposition\":\"inside\",\"values\":[375,20],\"type\":\"pie\",\"domain\":{\"x\":[0.2625,0.475],\"y\":[0.84375,1.0]}},{\"labels\":[\"yes\",\"no\"],\"showlegend\":false,\"textinfo\":\"label+percent\",\"textposition\":\"inside\",\"values\":[329,66],\"type\":\"pie\",\"domain\":{\"x\":[0.525,0.7375],\"y\":[0.84375,1.0]}},{\"labels\":[\"no\",\"yes\"],\"showlegend\":false,\"textinfo\":\"label+percent\",\"textposition\":\"inside\",\"values\":[263,132],\"type\":\"pie\",\"domain\":{\"x\":[0.7875,1.0],\"y\":[0.84375,1.0]}}],                        {\"template\":{\"data\":{\"histogram2dcontour\":[{\"type\":\"histogram2dcontour\",\"colorbar\":{\"outlinewidth\":0,\"ticks\":\"\"},\"colorscale\":[[0.0,\"#0d0887\"],[0.1111111111111111,\"#46039f\"],[0.2222222222222222,\"#7201a8\"],[0.3333333333333333,\"#9c179e\"],[0.4444444444444444,\"#bd3786\"],[0.5555555555555556,\"#d8576b\"],[0.6666666666666666,\"#ed7953\"],[0.7777777777777778,\"#fb9f3a\"],[0.8888888888888888,\"#fdca26\"],[1.0,\"#f0f921\"]]}],\"choropleth\":[{\"type\":\"choropleth\",\"colorbar\":{\"outlinewidth\":0,\"ticks\":\"\"}}],\"histogram2d\":[{\"type\":\"histogram2d\",\"colorbar\":{\"outlinewidth\":0,\"ticks\":\"\"},\"colorscale\":[[0.0,\"#0d0887\"],[0.1111111111111111,\"#46039f\"],[0.2222222222222222,\"#7201a8\"],[0.3333333333333333,\"#9c179e\"],[0.4444444444444444,\"#bd3786\"],[0.5555555555555556,\"#d8576b\"],[0.6666666666666666,\"#ed7953\"],[0.7777777777777778,\"#fb9f3a\"],[0.8888888888888888,\"#fdca26\"],[1.0,\"#f0f921\"]]}],\"heatmap\":[{\"type\":\"heatmap\",\"colorbar\":{\"outlinewidth\":0,\"ticks\":\"\"},\"colorscale\":[[0.0,\"#0d0887\"],[0.1111111111111111,\"#46039f\"],[0.2222222222222222,\"#7201a8\"],[0.3333333333333333,\"#9c179e\"],[0.4444444444444444,\"#bd3786\"],[0.5555555555555556,\"#d8576b\"],[0.6666666666666666,\"#ed7953\"],[0.7777777777777778,\"#fb9f3a\"],[0.8888888888888888,\"#fdca26\"],[1.0,\"#f0f921\"]]}],\"heatmapgl\":[{\"type\":\"heatmapgl\",\"colorbar\":{\"outlinewidth\":0,\"ticks\":\"\"},\"colorscale\":[[0.0,\"#0d0887\"],[0.1111111111111111,\"#46039f\"],[0.2222222222222222,\"#7201a8\"],[0.3333333333333333,\"#9c179e\"],[0.4444444444444444,\"#bd3786\"],[0.5555555555555556,\"#d8576b\"],[0.6666666666666666,\"#ed7953\"],[0.7777777777777778,\"#fb9f3a\"],[0.8888888888888888,\"#fdca26\"],[1.0,\"#f0f921\"]]}],\"contourcarpet\":[{\"type\":\"contourcarpet\",\"colorbar\":{\"outlinewidth\":0,\"ticks\":\"\"}}],\"contour\":[{\"type\":\"contour\",\"colorbar\":{\"outlinewidth\":0,\"ticks\":\"\"},\"colorscale\":[[0.0,\"#0d0887\"],[0.1111111111111111,\"#46039f\"],[0.2222222222222222,\"#7201a8\"],[0.3333333333333333,\"#9c179e\"],[0.4444444444444444,\"#bd3786\"],[0.5555555555555556,\"#d8576b\"],[0.6666666666666666,\"#ed7953\"],[0.7777777777777778,\"#fb9f3a\"],[0.8888888888888888,\"#fdca26\"],[1.0,\"#f0f921\"]]}],\"surface\":[{\"type\":\"surface\",\"colorbar\":{\"outlinewidth\":0,\"ticks\":\"\"},\"colorscale\":[[0.0,\"#0d0887\"],[0.1111111111111111,\"#46039f\"],[0.2222222222222222,\"#7201a8\"],[0.3333333333333333,\"#9c179e\"],[0.4444444444444444,\"#bd3786\"],[0.5555555555555556,\"#d8576b\"],[0.6666666666666666,\"#ed7953\"],[0.7777777777777778,\"#fb9f3a\"],[0.8888888888888888,\"#fdca26\"],[1.0,\"#f0f921\"]]}],\"mesh3d\":[{\"type\":\"mesh3d\",\"colorbar\":{\"outlinewidth\":0,\"ticks\":\"\"}}],\"scatter\":[{\"fillpattern\":{\"fillmode\":\"overlay\",\"size\":10,\"solidity\":0.2},\"type\":\"scatter\"}],\"parcoords\":[{\"type\":\"parcoords\",\"line\":{\"colorbar\":{\"outlinewidth\":0,\"ticks\":\"\"}}}],\"scatterpolargl\":[{\"type\":\"scatterpolargl\",\"marker\":{\"colorbar\":{\"outlinewidth\":0,\"ticks\":\"\"}}}],\"bar\":[{\"error_x\":{\"color\":\"#2a3f5f\"},\"error_y\":{\"color\":\"#2a3f5f\"},\"marker\":{\"line\":{\"color\":\"#E5ECF6\",\"width\":0.5},\"pattern\":{\"fillmode\":\"overlay\",\"size\":10,\"solidity\":0.2}},\"type\":\"bar\"}],\"scattergeo\":[{\"type\":\"scattergeo\",\"marker\":{\"colorbar\":{\"outlinewidth\":0,\"ticks\":\"\"}}}],\"scatterpolar\":[{\"type\":\"scatterpolar\",\"marker\":{\"colorbar\":{\"outlinewidth\":0,\"ticks\":\"\"}}}],\"histogram\":[{\"marker\":{\"pattern\":{\"fillmode\":\"overlay\",\"size\":10,\"solidity\":0.2}},\"type\":\"histogram\"}],\"scattergl\":[{\"type\":\"scattergl\",\"marker\":{\"colorbar\":{\"outlinewidth\":0,\"ticks\":\"\"}}}],\"scatter3d\":[{\"type\":\"scatter3d\",\"line\":{\"colorbar\":{\"outlinewidth\":0,\"ticks\":\"\"}},\"marker\":{\"colorbar\":{\"outlinewidth\":0,\"ticks\":\"\"}}}],\"scattermapbox\":[{\"type\":\"scattermapbox\",\"marker\":{\"colorbar\":{\"outlinewidth\":0,\"ticks\":\"\"}}}],\"scatterternary\":[{\"type\":\"scatterternary\",\"marker\":{\"colorbar\":{\"outlinewidth\":0,\"ticks\":\"\"}}}],\"scattercarpet\":[{\"type\":\"scattercarpet\",\"marker\":{\"colorbar\":{\"outlinewidth\":0,\"ticks\":\"\"}}}],\"carpet\":[{\"aaxis\":{\"endlinecolor\":\"#2a3f5f\",\"gridcolor\":\"white\",\"linecolor\":\"white\",\"minorgridcolor\":\"white\",\"startlinecolor\":\"#2a3f5f\"},\"baxis\":{\"endlinecolor\":\"#2a3f5f\",\"gridcolor\":\"white\",\"linecolor\":\"white\",\"minorgridcolor\":\"white\",\"startlinecolor\":\"#2a3f5f\"},\"type\":\"carpet\"}],\"table\":[{\"cells\":{\"fill\":{\"color\":\"#EBF0F8\"},\"line\":{\"color\":\"white\"}},\"header\":{\"fill\":{\"color\":\"#C8D4E3\"},\"line\":{\"color\":\"white\"}},\"type\":\"table\"}],\"barpolar\":[{\"marker\":{\"line\":{\"color\":\"#E5ECF6\",\"width\":0.5},\"pattern\":{\"fillmode\":\"overlay\",\"size\":10,\"solidity\":0.2}},\"type\":\"barpolar\"}],\"pie\":[{\"automargin\":true,\"type\":\"pie\"}]},\"layout\":{\"autotypenumbers\":\"strict\",\"colorway\":[\"#636efa\",\"#EF553B\",\"#00cc96\",\"#ab63fa\",\"#FFA15A\",\"#19d3f3\",\"#FF6692\",\"#B6E880\",\"#FF97FF\",\"#FECB52\"],\"font\":{\"color\":\"#2a3f5f\"},\"hovermode\":\"closest\",\"hoverlabel\":{\"align\":\"left\"},\"paper_bgcolor\":\"white\",\"plot_bgcolor\":\"#E5ECF6\",\"polar\":{\"bgcolor\":\"#E5ECF6\",\"angularaxis\":{\"gridcolor\":\"white\",\"linecolor\":\"white\",\"ticks\":\"\"},\"radialaxis\":{\"gridcolor\":\"white\",\"linecolor\":\"white\",\"ticks\":\"\"}},\"ternary\":{\"bgcolor\":\"#E5ECF6\",\"aaxis\":{\"gridcolor\":\"white\",\"linecolor\":\"white\",\"ticks\":\"\"},\"baxis\":{\"gridcolor\":\"white\",\"linecolor\":\"white\",\"ticks\":\"\"},\"caxis\":{\"gridcolor\":\"white\",\"linecolor\":\"white\",\"ticks\":\"\"}},\"coloraxis\":{\"colorbar\":{\"outlinewidth\":0,\"ticks\":\"\"}},\"colorscale\":{\"sequential\":[[0.0,\"#0d0887\"],[0.1111111111111111,\"#46039f\"],[0.2222222222222222,\"#7201a8\"],[0.3333333333333333,\"#9c179e\"],[0.4444444444444444,\"#bd3786\"],[0.5555555555555556,\"#d8576b\"],[0.6666666666666666,\"#ed7953\"],[0.7777777777777778,\"#fb9f3a\"],[0.8888888888888888,\"#fdca26\"],[1.0,\"#f0f921\"]],\"sequentialminus\":[[0.0,\"#0d0887\"],[0.1111111111111111,\"#46039f\"],[0.2222222222222222,\"#7201a8\"],[0.3333333333333333,\"#9c179e\"],[0.4444444444444444,\"#bd3786\"],[0.5555555555555556,\"#d8576b\"],[0.6666666666666666,\"#ed7953\"],[0.7777777777777778,\"#fb9f3a\"],[0.8888888888888888,\"#fdca26\"],[1.0,\"#f0f921\"]],\"diverging\":[[0,\"#8e0152\"],[0.1,\"#c51b7d\"],[0.2,\"#de77ae\"],[0.3,\"#f1b6da\"],[0.4,\"#fde0ef\"],[0.5,\"#f7f7f7\"],[0.6,\"#e6f5d0\"],[0.7,\"#b8e186\"],[0.8,\"#7fbc41\"],[0.9,\"#4d9221\"],[1,\"#276419\"]]},\"xaxis\":{\"gridcolor\":\"white\",\"linecolor\":\"white\",\"ticks\":\"\",\"title\":{\"standoff\":15},\"zerolinecolor\":\"white\",\"automargin\":true,\"zerolinewidth\":2},\"yaxis\":{\"gridcolor\":\"white\",\"linecolor\":\"white\",\"ticks\":\"\",\"title\":{\"standoff\":15},\"zerolinecolor\":\"white\",\"automargin\":true,\"zerolinewidth\":2},\"scene\":{\"xaxis\":{\"backgroundcolor\":\"#E5ECF6\",\"gridcolor\":\"white\",\"linecolor\":\"white\",\"showbackground\":true,\"ticks\":\"\",\"zerolinecolor\":\"white\",\"gridwidth\":2},\"yaxis\":{\"backgroundcolor\":\"#E5ECF6\",\"gridcolor\":\"white\",\"linecolor\":\"white\",\"showbackground\":true,\"ticks\":\"\",\"zerolinecolor\":\"white\",\"gridwidth\":2},\"zaxis\":{\"backgroundcolor\":\"#E5ECF6\",\"gridcolor\":\"white\",\"linecolor\":\"white\",\"showbackground\":true,\"ticks\":\"\",\"zerolinecolor\":\"white\",\"gridwidth\":2}},\"shapedefaults\":{\"line\":{\"color\":\"#2a3f5f\"}},\"annotationdefaults\":{\"arrowcolor\":\"#2a3f5f\",\"arrowhead\":0,\"arrowwidth\":1},\"geo\":{\"bgcolor\":\"white\",\"landcolor\":\"#E5ECF6\",\"subunitcolor\":\"white\",\"showland\":true,\"showlakes\":true,\"lakecolor\":\"white\"},\"title\":{\"x\":0.05},\"mapbox\":{\"style\":\"light\"}}},\"annotations\":[{\"font\":{\"size\":16},\"showarrow\":false,\"text\":\"sex\",\"x\":0.10625,\"xanchor\":\"center\",\"xref\":\"paper\",\"y\":0.15625,\"yanchor\":\"bottom\",\"yref\":\"paper\"},{\"font\":{\"size\":16},\"showarrow\":false,\"text\":\"address\",\"x\":0.36875,\"xanchor\":\"center\",\"xref\":\"paper\",\"y\":0.15625,\"yanchor\":\"bottom\",\"yref\":\"paper\"},{\"font\":{\"size\":16},\"showarrow\":false,\"text\":\"famsize\",\"x\":0.6312500000000001,\"xanchor\":\"center\",\"xref\":\"paper\",\"y\":0.15625,\"yanchor\":\"bottom\",\"yref\":\"paper\"},{\"font\":{\"size\":16},\"showarrow\":false,\"text\":\"Pstatus\",\"x\":0.89375,\"xanchor\":\"center\",\"xref\":\"paper\",\"y\":0.15625,\"yanchor\":\"bottom\",\"yref\":\"paper\"},{\"font\":{\"size\":16},\"showarrow\":false,\"text\":\"Mjob\",\"x\":0.10625,\"xanchor\":\"center\",\"xref\":\"paper\",\"y\":0.4375,\"yanchor\":\"bottom\",\"yref\":\"paper\"},{\"font\":{\"size\":16},\"showarrow\":false,\"text\":\"Fjob\",\"x\":0.36875,\"xanchor\":\"center\",\"xref\":\"paper\",\"y\":0.4375,\"yanchor\":\"bottom\",\"yref\":\"paper\"},{\"font\":{\"size\":16},\"showarrow\":false,\"text\":\"reason\",\"x\":0.6312500000000001,\"xanchor\":\"center\",\"xref\":\"paper\",\"y\":0.4375,\"yanchor\":\"bottom\",\"yref\":\"paper\"},{\"font\":{\"size\":16},\"showarrow\":false,\"text\":\"guardian\",\"x\":0.89375,\"xanchor\":\"center\",\"xref\":\"paper\",\"y\":0.4375,\"yanchor\":\"bottom\",\"yref\":\"paper\"},{\"font\":{\"size\":16},\"showarrow\":false,\"text\":\"schoolsup\",\"x\":0.10625,\"xanchor\":\"center\",\"xref\":\"paper\",\"y\":0.71875,\"yanchor\":\"bottom\",\"yref\":\"paper\"},{\"font\":{\"size\":16},\"showarrow\":false,\"text\":\"famsup\",\"x\":0.36875,\"xanchor\":\"center\",\"xref\":\"paper\",\"y\":0.71875,\"yanchor\":\"bottom\",\"yref\":\"paper\"},{\"font\":{\"size\":16},\"showarrow\":false,\"text\":\"paid\",\"x\":0.6312500000000001,\"xanchor\":\"center\",\"xref\":\"paper\",\"y\":0.71875,\"yanchor\":\"bottom\",\"yref\":\"paper\"},{\"font\":{\"size\":16},\"showarrow\":false,\"text\":\"activities\",\"x\":0.89375,\"xanchor\":\"center\",\"xref\":\"paper\",\"y\":0.71875,\"yanchor\":\"bottom\",\"yref\":\"paper\"},{\"font\":{\"size\":16},\"showarrow\":false,\"text\":\"nursery\",\"x\":0.10625,\"xanchor\":\"center\",\"xref\":\"paper\",\"y\":1.0,\"yanchor\":\"bottom\",\"yref\":\"paper\"},{\"font\":{\"size\":16},\"showarrow\":false,\"text\":\"higher\",\"x\":0.36875,\"xanchor\":\"center\",\"xref\":\"paper\",\"y\":1.0,\"yanchor\":\"bottom\",\"yref\":\"paper\"},{\"font\":{\"size\":16},\"showarrow\":false,\"text\":\"internet\",\"x\":0.6312500000000001,\"xanchor\":\"center\",\"xref\":\"paper\",\"y\":1.0,\"yanchor\":\"bottom\",\"yref\":\"paper\"},{\"font\":{\"size\":16},\"showarrow\":false,\"text\":\"romantic\",\"x\":0.89375,\"xanchor\":\"center\",\"xref\":\"paper\",\"y\":1.0,\"yanchor\":\"bottom\",\"yref\":\"paper\"}],\"title\":{\"text\":\"Attributes Distrubitions for Math Class\",\"x\":0.5}},                        {\"responsive\": true}                    ).then(function(){\n",
              "                            \n",
              "var gd = document.getElementById('7d4684dc-94fd-4518-ab7c-a942ea9b7070');\n",
              "var x = new MutationObserver(function (mutations, observer) {{\n",
              "        var display = window.getComputedStyle(gd).display;\n",
              "        if (!display || display === 'none') {{\n",
              "            console.log([gd, 'removed!']);\n",
              "            Plotly.purge(gd);\n",
              "            observer.disconnect();\n",
              "        }}\n",
              "}});\n",
              "\n",
              "// Listen for the removal of the full notebook cells\n",
              "var notebookContainer = gd.closest('#notebook-container');\n",
              "if (notebookContainer) {{\n",
              "    x.observe(notebookContainer, {childList: true});\n",
              "}}\n",
              "\n",
              "// Listen for the clearing of the current output cell\n",
              "var outputEl = gd.closest('.output');\n",
              "if (outputEl) {{\n",
              "    x.observe(outputEl, {childList: true});\n",
              "}}\n",
              "\n",
              "                        })                };                            </script>        </div>\n",
              "</body>\n",
              "</html>"
            ]
          },
          "metadata": {}
        }
      ]
    },
    {
      "cell_type": "markdown",
      "source": [
        "It looks quite the same with portugese. \n",
        "\n",
        "**Take a look at the box plots**"
      ],
      "metadata": {
        "id": "8ifcN78QWEUq"
      }
    },
    {
      "cell_type": "code",
      "source": [
        "labels_por = student_por.select_dtypes(include =[\"int64\"]).columns # I only get attributes which is object type\n",
        "\n",
        "# I want 5 x 5 grid\n",
        "rows = 4\n",
        "cols = 4\n",
        "\n",
        "#define specs\n",
        "specs=[[{'type':'box'}]*cols]*rows\n",
        "                                                                     \n",
        "\n",
        "fig = make_subplots(rows=rows, cols=cols,start_cell=\"bottom-left\",specs = specs )\n",
        "\n",
        "for inx, name in enumerate(labels_por):\n",
        "\n",
        "    # getting row and column index\n",
        "    row = (inx // cols) +1\n",
        "    col = (inx % (rows)) +1\n",
        "\n",
        "\n",
        "    fig.add_trace(\n",
        "         go.Box(y=student_por[name].values, name=student_por[name].name,width=500),\n",
        "         row=row,\n",
        "         col=col)\n",
        "    \n",
        "\n",
        "\n",
        "fig.update_layout(title=\"Box plots for Portugese Class\", title_x=0.5)\n",
        "fig.show()\n"
      ],
      "metadata": {
        "colab": {
          "base_uri": "https://localhost:8080/",
          "height": 542
        },
        "id": "nceqHtUUV-xr",
        "outputId": "e783ec34-c551-4a7a-a0d7-d111d0d9755e"
      },
      "execution_count": 15,
      "outputs": [
        {
          "output_type": "display_data",
          "data": {
            "text/html": [
              "<html>\n",
              "<head><meta charset=\"utf-8\" /></head>\n",
              "<body>\n",
              "    <div>            <script src=\"https://cdnjs.cloudflare.com/ajax/libs/mathjax/2.7.5/MathJax.js?config=TeX-AMS-MML_SVG\"></script><script type=\"text/javascript\">if (window.MathJax && window.MathJax.Hub && window.MathJax.Hub.Config) {window.MathJax.Hub.Config({SVG: {font: \"STIX-Web\"}});}</script>                <script type=\"text/javascript\">window.PlotlyConfig = {MathJaxConfig: 'local'};</script>\n",
              "        <script src=\"https://cdn.plot.ly/plotly-2.18.2.min.js\"></script>                <div id=\"62ddcada-f9b8-4ecd-bb58-6f20714fe244\" class=\"plotly-graph-div\" style=\"height:525px; width:100%;\"></div>            <script type=\"text/javascript\">                                    window.PLOTLYENV=window.PLOTLYENV || {};                                    if (document.getElementById(\"62ddcada-f9b8-4ecd-bb58-6f20714fe244\")) {                    Plotly.newPlot(                        \"62ddcada-f9b8-4ecd-bb58-6f20714fe244\",                        [{\"name\":\"age\",\"width\":500,\"y\":[18,17,15,15,16,16,16,17,15,15,15,15,15,15,15,16,16,16,17,16,15,15,16,16,15,16,15,15,16,16,15,15,15,15,16,15,15,16,15,15,16,15,15,15,16,15,16,16,15,15,16,15,15,15,15,16,15,15,15,16,16,16,16,16,15,16,15,16,15,15,16,15,15,16,16,15,15,16,17,16,15,15,15,15,15,15,16,15,16,16,16,15,16,16,15,15,16,16,16,16,16,16,15,15,15,15,15,16,15,16,15,16,16,15,15,16,15,16,17,15,15,15,16,16,16,15,15,19,16,16,15,18,17,15,17,16,16,16,15,15,17,16,18,18,16,16,16,15,15,15,15,16,16,15,16,17,15,15,15,15,15,16,15,18,16,15,19,17,15,17,18,16,16,16,17,17,15,16,17,17,16,16,16,16,16,16,17,16,16,17,16,17,16,17,16,16,17,17,16,17,16,16,17,17,16,17,17,16,16,17,17,16,17,16,16,16,17,17,16,17,16,16,16,17,19,17,16,18,17,17,17,18,17,17,17,17,16,18,16,18,17,17,18,17,17,17,17,16,16,16,17,16,16,18,18,18,18,17,17,17,16,17,17,18,17,17,17,17,17,16,16,17,17,17,17,18,16,17,17,22,18,16,18,16,18,16,17,17,18,17,19,18,17,18,18,19,18,17,17,20,18,18,18,17,18,17,18,17,18,18,18,19,18,18,17,18,17,17,18,18,18,17,19,18,18,17,17,18,18,17,18,17,18,17,18,18,18,17,17,18,17,19,18,18,18,18,17,17,17,17,19,20,19,18,18,17,17,18,18,17,18,19,18,18,17,17,17,17,18,19,19,18,17,17,17,17,18,18,17,17,17,17,17,18,19,18,17,18,18,18,18,17,17,18,17,18,18,17,18,18,18,18,17,17,17,19,17,21,18,18,17,17,18,21,20,19,17,18,18,19,18,20,18,16,16,15,15,16,15,16,16,17,17,15,16,15,15,16,17,15,16,17,15,15,16,15,15,17,16,15,16,16,16,16,16,15,16,17,16,16,15,16,15,15,16,18,15,16,15,16,15,16,16,16,15,15,16,15,16,17,19,17,15,16,16,17,16,18,19,18,18,19,16,17,16,16,16,17,16,16,17,16,17,16,19,17,20,17,17,16,17,17,18,16,16,18,16,16,18,16,16,16,16,18,16,17,17,16,17,16,17,17,16,16,16,15,15,15,16,16,17,17,16,17,17,17,17,16,17,17,16,17,19,17,17,16,16,17,17,18,17,18,16,17,16,16,18,18,19,18,16,19,16,17,20,18,18,19,17,18,19,18,19,18,17,17,17,18,17,17,18,18,17,18,18,18,17,18,18,18,17,18,18,18,18,19,17,17,18,18,19,18,17,18,17,17,18,18,18,18,17,17,18,18,17,18,18,18,17,17,18,18,19,18,18,17,18,18,17,19,18,18,17,18,19,18,18,17,18],\"type\":\"box\",\"xaxis\":\"x\",\"yaxis\":\"y\"},{\"name\":\"Medu\",\"width\":500,\"y\":[4,1,1,4,3,4,2,4,3,3,4,2,4,4,2,4,4,3,3,4,4,4,4,2,2,2,2,4,3,4,4,4,4,3,3,2,4,4,3,2,2,4,4,2,2,4,3,4,4,4,2,4,4,4,3,2,4,4,1,4,4,1,1,4,4,4,4,3,2,3,3,4,1,3,3,4,4,2,2,3,2,2,3,2,1,4,2,4,2,4,3,4,3,4,2,1,4,2,4,4,4,4,4,3,3,3,2,3,4,4,4,3,2,4,2,4,4,3,1,3,1,2,2,4,2,3,3,0,4,2,3,2,2,1,2,3,2,2,3,4,3,1,3,3,1,3,1,4,1,4,3,4,2,4,1,2,1,2,3,1,1,4,2,1,2,3,3,4,2,1,1,2,3,1,2,3,1,1,1,3,2,4,2,4,3,1,4,1,3,4,2,3,4,4,4,3,2,3,3,3,1,2,3,1,2,1,1,3,2,2,4,3,4,4,4,2,1,2,2,3,3,4,1,4,3,4,2,2,4,3,4,3,2,2,2,1,2,2,4,3,3,2,2,2,4,2,4,4,1,3,2,2,4,2,2,3,2,4,3,1,1,2,1,2,2,1,4,4,4,4,4,4,1,3,1,2,2,1,2,3,3,0,3,3,2,2,2,1,2,4,2,2,4,1,2,4,2,2,2,2,4,4,3,3,2,2,3,3,4,4,2,3,2,1,1,2,2,2,3,4,4,2,3,4,1,4,3,1,1,2,2,1,2,1,2,4,4,4,3,3,3,4,4,4,4,4,4,4,4,3,2,3,3,1,2,2,4,4,4,3,3,4,4,3,4,4,3,2,4,1,1,2,2,2,3,0,1,4,3,2,4,4,3,2,3,2,2,2,3,2,2,3,3,3,3,4,3,2,2,3,4,4,4,2,2,2,3,4,2,3,2,4,4,1,1,4,3,3,2,2,2,1,3,1,2,1,3,2,2,4,1,3,1,4,2,1,1,0,2,3,1,1,4,4,3,1,3,2,4,1,2,1,2,1,1,2,1,1,1,1,1,1,1,2,1,1,3,2,2,4,3,2,2,2,1,2,2,3,1,2,2,2,1,2,2,2,2,3,1,1,1,1,2,0,1,3,1,3,2,2,1,4,2,1,2,1,3,1,2,1,2,1,1,3,3,1,4,1,2,2,1,2,4,4,3,4,4,2,2,4,3,1,2,2,4,1,2,2,2,4,3,2,4,4,1,3,4,4,1,4,2,3,1,1,1,1,1,3,2,1,1,1,2,2,3,1,1,3,3,3,2,2,3,1,1,4,3,1,3,1,1,1,1,2,0,3,4,2,4,1,1,2,3,1,4,4,4,2,1,4,1,2,2,4,1,1,4,2,1,1,1,2,4,3,4,3,1,1,1,3,4,1,1,4,1,2,4,1,2,1,4,1,1,4,3,3,4,2,2,1,4,2,4,4,2,3,1,3,3],\"type\":\"box\",\"xaxis\":\"x2\",\"yaxis\":\"y2\"},{\"name\":\"Fedu\",\"width\":500,\"y\":[4,1,1,2,3,3,2,4,2,4,4,1,4,3,2,4,4,3,2,3,3,4,2,2,4,2,2,2,4,4,4,4,3,3,2,3,3,4,4,2,2,4,4,2,2,3,3,3,2,4,2,2,2,4,3,1,3,4,2,2,4,1,2,3,3,3,4,1,2,1,1,2,1,1,3,3,0,2,1,4,3,3,2,2,1,4,2,2,2,4,3,3,1,2,2,1,3,1,4,3,4,4,4,2,4,3,2,3,4,4,4,3,2,2,1,4,4,3,3,4,2,2,4,4,2,4,4,1,4,3,4,1,1,1,2,4,1,2,4,4,4,1,1,2,1,3,1,4,1,3,3,4,2,4,1,1,1,1,2,2,2,4,1,1,1,3,2,4,3,2,1,2,3,2,1,2,2,3,1,2,2,2,2,4,4,0,4,3,3,3,2,3,2,3,3,3,4,3,2,3,2,1,3,2,3,1,2,3,3,4,4,3,4,4,3,3,1,2,2,4,1,3,1,3,3,4,2,2,4,2,3,3,3,2,1,1,3,2,4,1,2,3,1,1,3,2,4,4,1,2,2,1,1,4,2,3,2,4,2,1,2,1,4,2,2,1,2,3,4,3,4,4,1,3,1,1,1,1,3,1,3,2,2,3,1,1,1,1,1,2,2,1,2,1,2,3,1,2,2,1,3,3,2,3,2,2,4,1,4,2,1,3,3,1,2,1,4,2,2,4,4,2,2,3,2,1,2,1,1,2,1,1,2,1,1,4,2,3,1,2,3,4,3,3,4,4,4,4,2,2,1,2,3,4,1,3,4,3,3,4,3,2,4,4,4,3,3,1,4,1,1,2,2,2,1,2,1,4,3,2,4,4,3,2,2,2,4,2,3,2,2,4,2,3,2,4,4,2,3,2,3,3,3,1,1,3,1,4,2,4,2,4,2,1,1,4,2,2,3,1,2,0,2,3,2,1,3,3,1,4,2,2,1,4,2,1,1,2,3,3,1,1,1,1,4,1,3,1,4,2,3,2,2,2,2,1,1,2,1,1,1,1,1,2,1,2,1,2,2,4,3,2,2,1,3,2,1,3,1,2,3,1,1,2,2,2,2,2,1,1,1,1,2,1,2,3,1,3,1,2,2,3,2,1,2,1,3,1,2,1,2,0,1,1,2,1,4,2,4,1,1,3,4,4,4,4,1,2,2,4,3,1,1,1,4,2,2,1,2,1,2,2,4,4,3,4,4,1,1,2,2,2,1,0,1,2,2,1,2,0,1,1,2,2,2,1,1,2,2,3,2,1,2,1,1,3,2,1,3,3,1,2,1,2,0,1,2,2,1,2,1,2,3,2,4,4,2,2,2,4,1,2,2,2,1,1,2,1,1,2,1,2,3,3,4,2,1,1,2,3,4,2,3,4,1,3,4,2,2,2,4,1,1,4,3,1,4,1,3,1,2,2,3,4,3,1,1,1,2],\"type\":\"box\",\"xaxis\":\"x3\",\"yaxis\":\"y3\"},{\"name\":\"traveltime\",\"width\":500,\"y\":[2,1,1,1,1,1,1,2,1,1,1,3,1,2,1,1,1,3,1,1,1,1,1,2,1,1,1,1,1,1,1,2,1,1,1,2,1,2,1,1,2,1,1,1,2,1,1,1,1,1,3,1,2,1,1,1,1,1,1,1,1,4,1,1,1,3,1,1,2,2,2,1,1,1,1,1,2,1,2,1,1,1,1,2,1,2,1,1,2,1,1,1,1,2,1,2,2,1,1,1,1,1,1,2,1,1,1,1,4,1,1,1,1,1,1,1,2,2,3,1,1,1,2,1,1,1,1,1,1,2,2,1,3,3,1,1,4,1,4,1,3,4,2,1,2,2,1,2,3,2,1,1,2,1,1,1,1,2,1,1,1,1,4,1,1,2,1,1,1,1,3,3,1,2,2,2,2,1,4,2,1,1,1,1,3,2,1,1,2,2,2,1,1,1,1,1,1,1,1,1,1,1,1,1,1,1,2,1,2,1,1,3,2,1,1,1,1,1,2,1,1,1,2,2,1,1,1,1,1,2,1,1,2,1,2,1,1,2,1,1,1,1,4,2,1,2,1,1,2,2,1,1,1,2,1,2,1,1,1,1,1,3,4,1,1,2,1,2,2,1,1,1,2,2,1,2,3,1,2,1,1,1,2,3,1,2,1,2,1,1,1,3,1,1,1,1,1,2,1,2,1,1,1,1,1,2,2,1,2,1,2,1,1,2,1,1,2,2,2,2,1,3,1,2,2,2,1,2,2,1,2,1,1,1,1,1,1,1,2,2,1,2,2,1,1,1,2,2,2,1,2,1,1,1,2,2,1,1,2,1,1,2,1,1,1,1,1,1,1,3,3,1,1,1,1,2,2,1,1,4,1,2,1,1,1,4,1,1,1,1,2,1,1,1,1,1,1,1,1,1,1,1,1,2,1,2,1,1,1,1,1,1,1,2,2,1,1,1,1,1,2,2,1,2,2,1,2,2,2,1,1,1,1,2,2,2,2,2,2,2,2,1,1,1,3,4,1,3,2,2,3,2,3,1,1,1,1,1,4,4,2,2,3,1,2,1,2,3,3,1,1,2,3,2,3,2,1,2,2,1,1,3,2,3,1,2,1,2,1,2,2,2,1,2,1,1,1,2,1,1,1,1,3,1,1,2,2,1,3,3,2,2,1,1,1,2,1,2,1,2,3,2,1,1,3,1,1,4,1,2,1,3,2,1,1,3,3,1,1,2,2,2,2,3,2,1,1,1,1,2,2,2,1,1,2,1,1,2,2,3,2,2,1,1,2,2,2,1,2,1,2,2,2,1,2,1,2,3,2,1,3,2,1,2,2,2,1,1,1,1,3,2,2,2,2,1,2,3,2,3,3,2,2,1,3,2,2,2,1,2,2,2,2,1,2,2,2,2,3,2,1,2,2,2,3,2,3,3,1,1,2,4,2,1,1,1,1,2,2,2,2,2,2,3,1,1,2,2,3],\"type\":\"box\",\"xaxis\":\"x4\",\"yaxis\":\"y4\"},{\"name\":\"studytime\",\"width\":500,\"y\":[2,2,2,3,2,2,2,2,2,2,2,3,1,2,3,1,3,2,1,1,2,1,2,2,3,1,1,1,2,2,2,2,2,2,1,1,3,3,3,1,2,1,2,1,2,2,2,4,2,2,2,2,1,1,1,2,2,2,2,2,2,1,2,3,2,2,4,4,2,4,4,4,2,1,2,2,4,4,1,2,1,3,2,2,2,2,2,3,2,2,3,1,2,2,4,4,1,2,1,3,1,3,1,2,2,4,4,3,4,3,1,3,2,1,2,2,2,1,2,1,2,4,2,1,2,1,2,2,1,3,3,2,1,1,1,1,1,1,2,3,2,2,1,3,1,1,2,1,1,4,2,3,1,3,1,1,2,1,2,2,2,1,1,1,1,3,1,1,2,1,1,1,2,1,1,2,1,1,2,1,2,2,2,2,1,2,2,2,2,2,2,2,1,2,2,2,2,2,2,2,1,2,2,2,2,2,2,1,1,2,1,1,1,2,2,2,2,1,4,3,2,2,1,3,4,2,2,2,1,2,2,2,1,3,2,3,2,2,3,2,2,2,2,3,2,2,2,2,2,3,2,1,2,2,2,1,1,1,2,3,1,2,1,2,1,3,2,2,2,1,1,2,3,3,2,3,1,2,1,1,2,1,1,2,1,1,1,1,2,4,2,2,3,3,2,2,2,1,4,2,2,2,3,3,3,1,2,2,2,2,2,2,4,2,2,2,2,2,2,1,2,3,2,1,1,1,1,4,2,2,2,2,3,3,3,2,2,3,4,3,1,2,2,4,1,2,1,3,3,4,3,1,2,2,2,2,1,3,1,3,2,2,2,1,1,2,2,2,1,3,2,1,2,3,3,3,3,3,1,1,3,3,1,4,1,2,3,1,2,2,4,3,2,4,2,2,2,2,3,3,3,3,3,2,2,1,1,3,2,2,2,3,2,2,3,1,2,3,1,1,2,1,2,1,2,1,1,2,1,2,3,2,1,1,4,2,1,1,1,1,2,2,2,2,2,2,2,1,3,1,2,2,2,3,3,2,2,1,4,3,2,1,2,3,1,2,1,2,1,2,2,2,1,1,1,3,1,1,2,1,1,1,1,2,1,2,1,3,3,1,1,2,2,1,2,1,1,4,2,1,1,1,4,4,3,1,2,3,1,2,2,2,2,1,1,2,2,1,2,2,2,2,2,4,2,3,1,3,1,1,1,2,2,2,1,2,4,1,3,2,1,2,3,1,1,2,2,1,2,2,2,2,2,1,1,3,1,2,1,1,1,2,2,1,1,1,1,1,1,2,1,1,2,1,1,1,1,2,2,1,1,2,1,1,1,3,2,2,1,1,2,2,1,2,2,1,2,2,1,1,1,2,3,2,2,1,4,2,2,2,2,3,2,2,2,2,1,3,2,2,2,2,2,3,1,1,2,1,3,1,3,3,2,2,2,2,2,1,2,1,1,3,2,1,3,2,2,1,1],\"type\":\"box\",\"xaxis\":\"x5\",\"yaxis\":\"y5\"},{\"name\":\"failures\",\"width\":500,\"y\":[0,0,0,0,0,0,0,0,0,0,0,0,0,0,0,0,0,0,3,0,0,0,0,0,0,0,0,0,0,0,0,0,0,0,0,0,0,0,0,0,0,0,0,0,1,0,0,0,0,0,0,0,0,0,0,0,0,0,0,0,0,0,0,0,0,0,0,0,0,0,0,0,0,0,0,0,0,0,3,0,0,0,0,0,0,0,0,0,0,0,0,0,0,0,0,0,0,0,0,0,0,0,0,0,0,0,0,0,0,0,0,0,1,0,0,0,0,0,1,0,0,0,0,0,0,0,0,2,0,0,0,3,0,0,0,0,0,1,0,0,0,0,0,0,0,0,2,0,1,0,0,0,0,0,0,0,0,0,1,0,0,0,0,2,1,0,0,0,0,3,3,0,1,2,1,2,0,1,0,3,0,0,0,0,1,0,0,0,0,0,0,0,0,0,0,0,0,0,0,0,0,0,0,0,0,0,0,0,0,0,0,0,1,0,0,0,0,0,0,1,0,0,0,0,0,0,0,0,0,0,0,0,0,0,0,0,0,3,0,0,0,0,0,0,0,0,0,0,0,0,0,0,0,1,1,1,1,0,0,0,0,0,1,0,1,0,0,0,0,0,0,0,0,0,0,0,0,0,0,3,0,0,0,1,2,0,0,1,0,0,0,1,0,0,0,0,0,0,0,0,0,0,0,0,0,0,0,0,0,0,0,0,0,0,0,0,0,0,0,0,1,0,1,0,0,0,0,0,0,0,0,0,0,0,0,0,0,0,0,0,0,0,0,0,0,0,0,0,0,0,1,2,0,0,0,0,0,0,0,0,0,0,0,0,0,0,0,0,0,0,2,0,0,0,0,0,0,0,0,0,0,0,0,0,0,0,0,0,0,0,0,0,0,0,0,0,0,0,0,0,0,0,0,0,0,1,1,2,0,0,0,0,0,2,0,1,0,0,0,0,0,1,0,0,0,1,0,0,0,0,0,1,1,0,0,0,1,0,0,0,0,0,0,0,0,0,0,0,0,0,0,0,0,1,1,0,0,0,0,0,0,0,0,0,0,1,0,0,0,0,0,1,0,0,0,0,0,0,3,0,1,0,0,0,0,0,1,2,1,1,1,1,0,0,0,0,0,1,0,0,1,0,1,0,0,0,1,0,1,0,0,0,1,0,0,0,0,0,1,0,0,0,0,0,0,0,0,0,0,0,0,0,0,0,0,0,0,0,0,0,0,0,0,3,0,1,0,0,0,0,0,0,2,0,0,0,0,3,0,1,0,0,0,1,0,0,1,1,3,2,0,3,2,0,1,0,0,1,1,0,1,2,0,1,0,0,0,1,0,0,2,0,0,0,0,0,0,1,0,0,0,0,0,0,1,1,0,0,0,0,3,0,1,0,0,0,0,0,0,0,0,0,0,0,1,0,0,0,0,0,0,0,1,0,0,0,0,0,0,1,1,0,0,0,1,0,0,0,0],\"type\":\"box\",\"xaxis\":\"x6\",\"yaxis\":\"y6\"},{\"name\":\"famrel\",\"width\":500,\"y\":[4,5,4,3,4,5,4,4,4,5,3,5,4,5,4,4,3,5,5,3,4,5,4,5,4,1,4,2,5,4,5,4,4,5,5,3,5,2,4,4,3,5,4,5,4,5,2,4,4,4,4,4,5,3,5,5,4,3,4,4,2,5,4,3,4,5,1,4,4,4,4,3,3,5,4,4,3,5,4,2,3,5,4,5,4,4,4,5,4,4,4,4,3,5,4,3,3,4,5,5,4,4,5,4,5,4,5,5,1,5,5,4,3,3,5,5,4,5,5,3,3,5,4,3,5,5,5,3,3,3,4,5,3,4,3,3,3,5,5,4,5,5,3,4,3,4,4,4,5,2,1,5,2,4,3,5,4,4,3,4,2,3,4,2,4,4,4,4,4,2,5,4,4,4,3,4,4,5,5,4,4,4,5,4,3,4,4,4,4,4,3,4,4,5,3,4,5,5,1,4,3,4,3,3,4,5,4,4,5,4,5,3,4,4,4,4,4,5,5,4,2,1,4,4,4,5,3,4,5,4,3,3,3,4,4,4,2,3,5,5,5,5,4,3,3,4,4,4,3,5,4,4,5,4,5,4,4,4,5,4,5,2,5,5,3,4,4,2,3,5,5,5,4,4,4,4,4,4,5,5,4,4,4,5,3,3,4,4,4,4,4,4,4,4,3,4,5,5,3,1,3,4,5,3,4,4,4,5,4,5,4,4,4,4,3,4,4,4,4,3,2,4,3,4,3,4,4,5,5,5,4,4,4,4,4,5,4,4,3,5,4,2,4,4,1,4,4,5,4,5,4,5,4,3,5,4,4,4,3,4,4,5,4,5,5,5,5,4,4,1,5,4,4,3,3,3,4,4,4,4,5,4,4,4,5,4,4,5,5,4,4,4,4,5,4,4,4,3,4,5,5,5,4,4,4,2,4,3,4,4,4,4,4,5,3,3,4,4,3,5,4,5,3,4,4,4,5,4,1,5,4,4,5,1,1,5,4,3,5,4,5,4,5,5,3,5,5,5,4,5,4,4,4,1,1,4,5,5,4,4,4,4,4,4,3,3,3,5,4,4,4,4,4,2,4,5,5,4,3,4,4,5,5,3,4,4,4,3,5,4,3,1,3,2,4,4,4,5,5,4,5,4,1,2,5,4,3,4,4,5,5,4,4,3,3,2,4,5,2,5,4,3,4,5,4,4,4,5,5,5,4,5,4,3,4,5,5,4,4,1,4,5,5,3,5,5,5,4,4,4,4,4,4,4,3,4,4,5,5,4,4,4,5,1,4,4,5,2,3,4,5,4,2,4,4,5,2,5,4,4,4,4,1,5,4,4,5,2,3,5,3,4,4,4,4,5,4,4,4,2,4,1,5,5,4,5,4,5,5,4,3,4,4,5,4,1,3,5,4,4,2,3,3,4,5,5,3,4,3,3,5,4,4,5,4,4,3,4,4,4,5,5,5,4,5,4,1,2,4],\"type\":\"box\",\"xaxis\":\"x7\",\"yaxis\":\"y7\"},{\"name\":\"freetime\",\"width\":500,\"y\":[3,3,3,2,3,4,4,1,2,5,3,2,3,4,5,4,2,3,5,1,4,4,5,4,3,2,2,2,3,4,4,3,5,3,4,5,4,4,3,3,3,4,3,4,3,2,3,2,3,4,3,3,5,3,3,3,3,2,3,2,4,5,4,4,4,4,3,3,1,4,3,3,3,3,3,3,4,2,5,4,2,3,4,3,3,4,3,3,4,1,3,5,3,3,3,1,3,3,3,3,5,4,3,3,4,3,1,3,3,4,5,1,1,5,4,4,4,4,2,4,2,5,2,4,4,5,3,4,5,2,2,4,2,3,4,2,2,3,3,3,4,1,3,3,3,3,4,3,5,2,3,3,3,2,4,4,4,4,3,3,3,3,5,3,4,2,5,2,4,2,2,2,5,4,3,4,4,3,3,5,3,2,1,4,4,3,4,3,4,4,4,3,3,2,4,2,4,3,2,3,3,2,3,1,3,3,4,3,3,3,2,3,2,5,3,4,4,3,3,4,3,3,3,4,3,3,3,4,2,4,4,2,3,3,2,3,3,3,3,3,3,3,3,2,2,5,5,2,4,3,4,5,3,3,3,1,4,2,4,3,3,1,5,5,1,3,3,5,3,4,3,3,3,2,3,4,3,3,2,4,3,3,4,3,2,3,4,4,3,2,3,4,3,4,2,3,2,2,4,2,1,3,3,2,3,4,2,4,3,4,3,3,5,4,5,2,3,4,1,2,4,2,3,2,4,5,4,2,4,4,3,3,3,3,2,4,3,2,1,4,4,3,4,3,4,2,1,3,3,2,3,5,5,4,3,2,4,3,2,3,1,4,4,4,3,2,3,2,2,5,3,3,2,3,4,3,5,3,3,4,4,3,2,5,3,2,4,4,3,3,4,4,3,3,3,3,3,3,3,4,3,4,4,3,3,2,1,3,4,3,3,4,2,3,2,2,4,3,1,3,1,3,1,3,4,1,4,5,3,3,4,5,4,5,2,4,4,2,5,1,4,4,3,3,4,4,3,5,2,1,5,3,4,3,3,4,4,5,3,4,3,2,2,4,4,4,2,3,3,3,5,4,3,4,2,3,4,3,4,5,4,5,2,4,3,3,4,3,3,4,2,1,3,4,4,5,4,4,3,2,3,2,3,2,4,4,3,3,4,3,3,4,3,1,1,3,3,4,3,2,3,3,3,5,2,4,2,1,1,1,1,1,2,2,1,5,4,3,3,2,3,1,3,3,1,4,2,1,5,3,1,1,4,1,5,3,4,4,5,3,5,3,4,2,5,5,3,3,2,4,4,4,5,3,4,4,5,4,5,3,4,3,4,5,4,2,5,3,2,5,4,3,4,4,3,4,3,3,1,5,2,3,4,3,4,5,2,3,2,1,5,2,5,3,3,2,3,3,3,3,3,2,3,2,2,2,2,3,4,5,4,3,3,4,1,5,2,4,4,3,4,3,5,4,4,3,1,4,4],\"type\":\"box\",\"xaxis\":\"x8\",\"yaxis\":\"y8\"},{\"name\":\"goout\",\"width\":500,\"y\":[4,3,2,2,2,2,4,4,2,1,3,2,3,3,2,4,3,2,5,3,1,2,1,4,2,2,2,4,3,5,2,1,2,2,3,1,3,3,2,1,3,3,3,1,3,2,5,2,3,4,3,3,5,4,4,4,2,2,2,3,4,5,3,4,4,3,3,3,3,2,2,3,4,2,3,3,3,3,1,3,2,2,4,3,2,4,4,3,2,3,3,5,3,3,4,2,3,5,4,5,5,3,3,5,4,3,2,3,5,5,3,2,2,2,2,4,3,2,4,3,3,4,2,4,4,5,2,2,5,3,2,5,2,3,4,1,1,4,3,3,5,3,4,3,3,2,4,2,5,2,2,3,3,2,4,5,2,2,2,2,4,2,5,5,4,1,4,1,4,2,5,2,5,5,2,4,4,3,5,2,5,3,5,2,5,2,4,5,5,4,4,4,3,3,3,3,2,3,2,4,3,3,3,3,3,3,4,2,3,2,3,4,4,2,5,3,4,2,5,3,3,2,2,2,3,5,4,4,1,4,5,4,3,3,5,4,1,3,2,3,4,3,2,3,3,2,5,4,2,3,2,2,3,3,1,1,3,1,2,2,5,1,4,4,2,3,2,5,3,5,2,1,3,2,2,4,3,4,2,5,3,2,5,3,5,2,2,4,4,3,3,5,4,3,3,1,4,2,1,3,2,2,2,3,3,4,5,4,4,5,5,5,5,3,2,5,3,4,1,4,4,3,3,3,4,4,4,2,4,5,1,3,3,3,4,3,2,2,2,2,3,4,5,3,2,4,1,4,3,2,1,3,3,4,3,1,4,4,4,4,4,4,4,4,4,2,3,3,5,5,4,5,2,2,3,3,5,3,5,5,4,3,5,5,4,5,3,2,4,3,4,5,2,3,3,3,3,1,3,3,2,5,3,4,5,3,2,2,4,5,4,2,2,3,2,5,4,4,3,4,4,1,2,3,4,3,4,2,4,2,3,4,4,1,1,3,3,3,5,3,5,3,4,4,5,5,3,5,2,2,4,3,5,2,2,2,3,5,2,3,3,2,1,3,4,4,3,4,3,1,4,4,2,3,4,2,3,3,3,3,4,3,1,5,4,5,3,2,1,3,3,4,2,4,5,4,4,5,3,5,5,5,5,1,5,5,4,3,5,2,2,5,2,3,3,5,3,5,2,1,2,3,4,5,1,3,3,3,3,3,4,3,2,2,2,5,5,3,3,4,3,3,5,3,2,4,5,2,5,3,2,2,3,2,5,4,4,4,5,2,5,3,3,1,5,5,3,1,1,5,3,3,5,2,3,4,5,4,4,3,4,3,4,5,3,3,5,3,2,1,4,5,3,3,5,5,3,3,4,5,3,1,5,1,2,5,3,3,3,1,4,1,5,4,3,3,2,2,4,2,4,2,4,2,1,3,2,3,3,5,4,2,3,3,3,4,4,3,3,2,3,3,4,3,2,4,1,5,1],\"type\":\"box\",\"xaxis\":\"x9\",\"yaxis\":\"y9\"},{\"name\":\"Dalc\",\"width\":500,\"y\":[1,1,2,1,1,1,1,1,1,1,1,1,1,1,1,1,1,1,2,1,1,1,1,2,1,1,1,2,1,5,3,1,1,1,1,1,1,1,1,1,1,2,1,1,2,1,1,1,2,1,2,1,3,2,4,1,1,1,1,1,2,5,1,2,2,1,5,1,1,2,1,1,2,2,2,2,1,1,1,1,1,1,1,1,2,2,1,1,1,3,1,1,2,1,1,1,1,1,1,1,5,1,1,1,1,1,1,1,3,1,1,1,1,1,1,1,1,1,1,1,1,1,1,1,1,3,1,1,2,2,2,1,1,1,1,1,1,1,1,1,2,1,4,5,1,1,1,1,1,1,2,1,2,1,3,1,1,1,1,1,2,2,2,2,3,2,1,1,1,3,1,1,4,3,2,1,2,1,1,1,2,1,1,1,2,1,1,1,1,4,1,1,3,1,2,1,2,2,1,2,1,1,1,1,1,1,4,3,1,1,1,3,2,1,1,1,1,1,1,3,2,1,1,1,1,4,1,2,1,1,2,2,1,1,1,1,1,5,1,1,1,1,4,1,1,1,1,2,1,1,5,1,1,1,1,1,2,1,1,1,1,1,1,3,1,1,1,1,2,1,1,1,1,2,1,1,1,1,1,5,1,2,2,1,2,1,2,1,1,1,1,4,1,2,1,1,1,1,1,1,1,1,1,1,1,2,3,3,2,1,1,3,1,1,2,1,1,2,1,1,1,1,4,1,2,2,3,1,1,1,1,1,1,1,1,1,1,1,1,1,1,2,1,1,2,1,2,1,1,1,1,1,1,1,1,1,1,1,1,2,1,1,3,1,1,1,1,2,3,4,1,2,1,2,2,2,1,2,3,5,1,1,2,2,2,1,1,1,1,1,1,1,2,1,2,2,1,1,1,2,1,2,1,2,2,3,1,1,1,1,1,1,1,5,1,4,1,1,4,1,1,1,1,1,1,1,2,1,1,1,1,1,2,3,1,1,1,1,1,1,4,2,1,1,1,2,1,5,1,1,1,1,1,1,1,3,2,5,1,1,1,4,1,2,3,2,1,1,1,1,1,2,1,2,3,1,1,2,1,1,1,1,1,1,1,1,1,1,1,3,1,4,1,3,1,1,2,3,1,1,5,1,3,1,1,1,2,1,1,1,1,1,1,1,1,1,2,1,1,1,1,1,1,5,1,1,1,2,1,1,5,3,1,1,2,1,2,1,2,2,2,1,1,1,3,3,1,2,1,2,2,2,3,1,2,1,2,1,3,1,1,1,1,2,2,2,2,2,1,1,2,1,1,1,2,3,5,3,2,2,3,1,1,1,1,2,1,1,1,1,2,1,1,1,1,1,1,1,5,1,3,1,1,1,1,2,3,1,1,1,1,1,1,1,1,1,1,1,1,1,1,1,2,2,1,1,4,2,1,1,1,1,1,3,1,2,1,1,1,1,4,1,1,2,1,1,1,3,3],\"type\":\"box\",\"xaxis\":\"x10\",\"yaxis\":\"y10\"},{\"name\":\"Walc\",\"width\":500,\"y\":[1,1,3,1,2,2,1,1,1,1,2,1,3,2,1,2,2,1,4,3,1,1,3,4,1,3,2,4,1,5,4,1,1,1,1,1,1,1,1,1,2,4,1,1,2,1,4,1,2,1,3,1,4,3,4,1,1,1,1,1,3,5,1,4,4,2,5,2,3,3,1,1,4,2,4,3,1,3,1,2,3,2,1,3,3,3,2,3,1,5,3,3,3,1,1,1,1,1,2,1,5,1,1,1,1,1,1,1,5,1,1,1,1,1,1,2,1,1,4,2,2,2,2,4,1,2,1,1,5,2,2,3,2,2,3,4,1,1,1,1,4,1,5,1,2,1,3,1,1,1,3,3,2,1,3,2,2,1,1,1,4,1,5,5,5,3,1,1,1,3,5,2,4,5,2,4,4,4,5,1,4,1,1,1,4,1,3,1,1,4,4,4,4,1,3,2,3,3,2,3,2,2,3,5,1,1,5,4,1,1,2,5,3,2,5,3,3,2,1,4,2,1,4,1,2,5,1,4,2,3,4,4,4,1,2,1,1,5,1,1,3,3,5,2,2,1,3,4,1,3,5,1,2,1,1,1,2,2,1,2,2,1,1,5,1,3,1,4,3,1,2,4,1,3,1,1,1,2,1,5,3,4,4,3,5,3,4,2,3,1,1,4,3,3,1,1,2,1,1,2,3,1,1,1,1,3,4,4,2,3,2,3,3,1,2,2,1,3,1,4,1,1,3,2,4,4,4,1,1,2,1,2,2,1,3,1,4,2,1,1,3,3,2,1,2,1,2,1,1,2,1,1,2,2,2,1,1,1,4,5,1,1,3,1,2,2,1,2,4,3,1,4,1,2,3,3,2,2,5,5,3,2,5,4,2,1,1,2,1,1,1,3,3,1,3,2,3,2,2,3,2,3,3,2,4,4,1,1,3,4,3,2,1,2,3,4,2,2,5,4,3,1,2,3,1,1,3,2,1,3,1,2,2,5,1,2,2,2,3,1,5,4,2,2,2,4,1,5,1,1,2,1,1,2,2,3,1,5,1,1,1,3,2,2,4,3,3,1,2,1,1,3,1,3,5,1,1,4,1,1,1,1,3,2,2,2,4,1,1,4,1,1,1,5,3,1,2,4,1,2,5,5,5,1,1,2,4,1,2,1,1,1,1,3,4,4,3,4,3,1,3,1,2,5,1,2,2,2,2,2,5,3,4,1,5,3,3,2,2,2,2,1,4,3,3,4,1,1,2,3,2,2,4,1,2,1,4,1,5,1,3,4,1,3,3,4,3,2,1,3,4,3,1,2,4,4,5,3,3,3,3,1,1,1,1,2,3,2,1,1,2,1,1,2,2,1,2,1,5,1,4,1,4,1,2,3,1,2,2,1,4,1,3,1,2,2,2,1,4,3,1,2,4,2,2,2,2,3,1,3,1,2,1,4,2,3,4,3,1,3,3,3,1,2,2,1,1,4,4],\"type\":\"box\",\"xaxis\":\"x11\",\"yaxis\":\"y11\"},{\"name\":\"health\",\"width\":500,\"y\":[3,3,3,5,5,5,3,1,1,5,2,4,5,3,3,2,2,4,5,5,1,5,5,5,5,5,5,1,5,5,5,5,5,2,5,5,4,5,5,2,3,5,5,1,5,5,3,2,5,3,4,5,5,5,1,2,1,5,5,5,4,5,1,4,2,1,3,5,4,3,5,3,5,5,5,5,1,3,3,3,3,5,5,4,4,5,2,1,3,5,4,1,2,1,4,1,4,5,1,3,4,4,5,2,1,4,3,5,1,4,4,2,5,3,5,5,2,5,5,4,1,5,5,5,5,5,1,5,4,1,5,5,5,4,5,5,2,5,5,5,5,3,4,5,1,5,5,5,1,3,1,5,2,5,1,5,5,5,3,5,1,5,5,4,5,3,4,4,1,5,4,3,5,5,5,3,5,2,5,2,4,3,4,3,2,3,5,3,4,4,5,4,3,2,3,3,5,1,1,4,3,5,3,3,2,3,5,5,3,5,5,3,2,3,2,4,1,3,5,5,4,1,5,4,3,3,4,5,3,1,1,4,3,4,5,5,3,4,5,4,3,3,3,3,3,1,2,1,5,2,4,5,5,3,5,3,1,5,3,4,5,3,5,2,1,5,4,5,4,3,5,5,1,5,4,3,4,5,2,1,5,5,5,2,5,3,5,5,5,4,5,5,5,3,5,1,4,4,2,2,2,3,3,4,3,4,1,5,4,5,3,5,2,3,1,1,1,5,5,3,4,1,3,1,4,5,3,3,4,5,5,4,2,3,2,2,5,3,3,4,5,2,2,3,1,4,5,5,3,5,5,5,5,5,1,3,5,5,1,5,3,1,5,1,5,5,5,2,5,5,4,5,3,3,5,2,2,3,5,4,4,4,5,5,5,2,5,5,4,2,4,5,2,1,2,2,5,4,3,1,4,5,4,1,4,5,3,5,3,2,4,4,3,4,3,5,5,2,4,4,4,5,1,5,5,2,5,5,1,2,5,5,5,5,1,4,2,2,3,4,3,5,2,2,5,4,5,3,4,1,1,5,4,4,4,2,2,3,1,5,2,2,2,5,5,5,4,2,4,3,1,5,4,4,3,4,5,3,1,5,2,3,4,1,1,4,3,2,3,4,2,1,3,5,3,4,4,5,1,5,1,5,3,5,1,5,3,3,5,1,1,4,5,1,3,3,2,2,1,2,5,2,3,5,2,5,5,3,5,5,3,1,5,3,5,5,5,5,5,1,1,5,5,5,5,5,5,2,3,5,5,1,4,5,4,3,5,5,5,4,2,5,1,5,5,5,5,5,3,3,4,5,1,5,4,2,5,2,3,3,5,5,5,3,5,3,5,4,5,3,5,1,4,4,1,5,4,4,1,1,4,2,3,5,2,2,5,2,3,4,1,4,2,5,5,5,3,4,5,3,1,3,3,5,1,4,5,3,3,1,1,4,3,2,1,1,2,5,3,5,3,4,1,5,5,1,5,2,5],\"type\":\"box\",\"xaxis\":\"x12\",\"yaxis\":\"y12\"},{\"name\":\"absences\",\"width\":500,\"y\":[4,2,6,0,0,6,0,2,0,0,2,0,0,0,0,6,10,2,2,6,0,0,0,2,2,6,8,0,2,4,0,2,0,0,4,4,0,4,2,8,16,8,0,0,14,4,6,2,4,2,0,0,4,0,0,2,0,8,0,2,0,0,0,0,0,2,0,0,0,6,2,0,2,0,4,0,0,1,0,14,0,2,4,2,2,4,6,4,6,6,2,6,0,2,2,4,6,0,4,2,12,0,2,16,0,10,4,4,8,2,4,4,12,10,4,6,4,6,14,2,0,6,2,4,0,2,0,0,8,4,0,10,8,6,2,12,4,12,2,4,2,0,2,10,8,4,0,6,2,6,24,0,4,2,4,22,0,0,2,6,6,16,0,0,6,2,6,0,0,14,6,4,0,0,8,4,2,2,0,10,0,0,0,0,4,0,0,0,0,0,0,4,8,4,4,0,0,32,8,6,0,0,10,6,6,0,16,0,0,8,4,16,30,0,2,4,0,21,6,14,2,4,2,0,4,15,0,10,6,2,16,10,4,0,0,12,0,9,4,4,2,0,2,0,0,0,0,0,2,0,0,4,0,18,16,14,26,6,4,10,4,2,14,16,8,4,4,8,0,7,4,2,2,10,10,10,7,4,2,12,8,0,8,4,4,2,0,0,2,2,0,4,2,4,4,4,2,0,2,8,2,2,2,2,0,8,6,0,8,4,12,16,10,2,2,8,6,6,15,6,2,8,0,0,10,22,18,2,0,12,10,0,0,0,0,0,2,0,0,0,0,2,0,0,0,0,0,0,0,0,0,0,0,2,2,2,2,2,8,2,8,9,0,4,2,14,0,2,2,12,2,2,4,0,0,0,0,0,0,2,0,4,2,0,0,2,0,6,8,0,6,8,0,4,0,0,6,18,0,4,4,0,0,10,4,16,6,0,11,9,0,2,0,21,8,5,10,5,13,10,10,5,4,11,0,6,4,0,0,5,0,0,0,0,4,0,4,0,2,0,0,4,0,7,4,8,0,8,6,3,2,0,4,0,3,0,0,4,0,2,1,0,0,2,6,9,0,1,1,0,4,2,0,4,2,0,2,11,0,4,0,2,0,1,6,0,1,6,6,0,4,12,2,5,0,0,2,0,0,0,12,8,2,0,0,0,8,0,0,0,0,1,9,0,2,8,0,0,8,0,6,0,4,2,2,0,1,0,5,1,8,0,2,0,0,11,8,11,2,8,5,0,1,2,2,8,0,0,2,0,0,0,2,4,3,5,4,2,0,0,0,6,0,0,2,0,2,0,4,9,6,4,8,9,12,8,8,8,4,0,4,2,0,0,0,5,0,3,0,0,3,2,0,0,0,3,0,0,8,5,4,4,0,0,2,0,0,5,2,0,0,5,4,0,2,0,2,0,0,6,4,0,0,0,0,0,0,3,8,4,0,4,4,1,1,10,4,0,4,0,0,0,0,4,4,4,6,6,4],\"type\":\"box\",\"xaxis\":\"x13\",\"yaxis\":\"y13\"},{\"name\":\"G1\",\"width\":500,\"y\":[0,9,12,14,11,12,13,10,15,12,14,10,12,12,14,17,13,13,8,12,12,11,12,10,10,10,11,11,12,12,10,15,13,13,12,11,14,13,11,14,11,10,14,9,10,10,13,17,11,13,14,16,10,13,13,12,15,15,14,16,17,10,13,14,13,16,11,10,11,15,13,11,13,13,11,11,12,13,9,12,11,10,12,13,13,12,13,15,12,9,9,14,12,13,11,13,9,13,12,12,9,16,12,11,16,10,10,13,12,15,13,11,8,18,10,16,16,14,12,14,14,14,14,12,12,9,10,9,14,13,10,10,11,11,13,15,9,13,12,13,10,14,11,12,12,9,10,13,8,9,9,15,12,13,10,9,12,11,11,13,11,9,12,11,9,13,11,13,7,9,11,12,10,9,8,7,8,9,8,8,9,17,12,16,9,16,11,14,14,10,13,11,10,11,11,11,17,14,14,11,10,13,12,9,12,12,10,11,13,14,13,10,14,11,14,11,14,13,13,8,11,14,12,11,12,13,13,12,12,14,11,10,12,12,11,12,13,10,15,8,17,10,9,15,14,12,13,13,9,12,16,9,14,10,9,8,7,10,14,11,12,13,9,8,11,15,15,15,12,14,14,11,13,11,10,12,15,11,9,7,10,11,7,9,7,14,12,9,12,14,10,11,11,11,11,11,16,9,10,10,15,10,10,15,11,8,15,11,10,10,8,11,16,13,16,14,15,12,12,11,14,13,9,10,10,11,13,17,12,12,12,12,18,13,14,17,15,17,18,14,14,14,13,16,18,14,12,7,16,18,9,14,10,10,12,11,15,14,12,15,11,11,12,11,14,15,12,11,8,10,8,10,14,11,17,14,14,13,17,11,13,15,11,11,11,10,15,15,10,10,14,11,12,14,14,12,16,10,11,14,15,14,11,12,12,10,10,9,9,13,13,12,14,9,11,9,16,14,13,7,14,8,10,10,12,10,10,16,6,10,10,10,6,13,10,10,6,12,10,14,7,8,12,7,9,7,11,8,16,11,15,10,9,10,9,9,13,10,13,10,11,13,13,14,11,9,10,14,13,13,13,12,14,10,10,12,10,12,7,9,9,9,9,9,7,11,9,7,7,8,9,7,8,9,8,14,14,10,14,17,6,14,10,14,12,11,11,11,10,16,15,11,7,8,7,9,14,14,8,8,6,8,8,5,7,15,13,10,9,11,7,10,9,14,11,9,13,12,11,9,9,11,10,9,12,8,13,10,11,17,12,13,9,11,10,13,9,7,8,12,10,10,11,7,11,10,9,4,6,4,7,8,5,7,8,10,9,10,8,9,8,6,6,8,10,8,8,7,8,7,7,12,11,12,18,17,17,9,10,12,12,8,11,5,9,5,18,11,8,11,8,14,10,10,12,15,14,19,16,13,15,13,8,15,8,10,7,9,10,7,15,10,7,13,16,8,17,7,14,5,7,14,6,7,10,15,11,10,10],\"type\":\"box\",\"xaxis\":\"x14\",\"yaxis\":\"y14\"},{\"name\":\"G2\",\"width\":500,\"y\":[11,11,13,14,13,12,12,13,16,12,14,12,13,12,14,17,13,14,8,12,13,12,13,10,11,11,12,11,12,11,11,15,14,12,12,11,14,13,12,13,11,11,15,10,11,11,12,17,12,12,13,14,9,12,12,13,14,15,13,15,16,10,13,13,12,15,12,9,10,15,11,9,11,13,11,11,11,13,9,11,11,9,11,12,12,11,11,15,10,9,11,13,13,14,12,13,11,12,13,13,9,16,13,10,16,10,10,14,10,15,14,11,10,17,9,14,15,14,11,13,14,13,12,13,11,9,11,10,14,12,11,9,10,12,12,13,9,11,11,14,9,13,11,11,11,9,10,14,9,11,8,13,11,13,11,7,12,10,11,12,11,9,11,9,10,13,9,13,8,8,10,10,10,8,8,6,9,8,8,7,10,17,12,16,9,17,9,13,14,11,12,9,9,11,10,12,18,13,15,13,9,14,13,9,12,11,11,10,12,15,13,11,15,10,14,12,15,13,13,9,11,15,13,12,12,12,13,11,11,16,9,10,13,12,10,12,13,9,16,8,18,11,10,15,12,13,13,13,9,12,16,10,13,10,8,7,8,8,14,10,11,13,9,7,9,14,14,15,12,14,15,11,14,11,9,10,16,10,12,8,9,12,8,11,8,13,12,10,12,15,10,10,12,12,11,13,16,10,11,12,15,10,11,12,12,8,16,11,11,12,9,12,16,13,17,14,16,12,9,12,12,15,8,10,10,11,13,17,13,12,13,12,18,13,15,17,16,18,19,15,15,13,14,17,18,15,13,7,16,18,10,15,10,10,12,12,16,15,12,15,12,10,11,12,15,14,12,12,9,10,8,10,13,11,18,14,14,14,18,10,12,14,12,11,10,9,15,14,11,9,13,13,13,14,14,12,16,12,12,16,14,13,12,15,16,11,13,12,11,14,17,15,17,10,15,10,18,17,14,11,17,10,13,11,12,10,10,17,8,11,11,10,6,14,9,10,7,11,11,16,0,9,13,9,10,9,11,10,16,13,15,11,10,8,8,10,14,11,10,9,10,12,14,11,11,8,9,13,12,12,12,11,14,8,11,13,8,10,7,9,9,10,10,10,7,10,10,9,9,9,11,8,10,9,9,13,14,11,13,16,7,12,8,14,13,11,9,11,9,17,17,9,7,6,6,8,16,14,5,7,8,10,8,6,9,14,14,9,9,11,10,10,7,15,12,11,14,13,11,10,11,9,11,9,11,9,15,11,10,18,13,14,9,11,11,14,10,9,13,12,9,9,13,0,9,10,7,0,11,8,8,9,5,9,11,11,10,9,9,10,9,8,8,6,11,7,8,6,10,10,8,13,12,13,18,17,18,0,11,13,13,8,12,0,10,0,18,11,10,11,0,14,11,10,12,14,13,17,15,12,14,13,10,16,8,10,5,10,11,8,17,11,8,14,16,9,18,7,15,8,7,17,9,9,11,15,12,10,11],\"type\":\"box\",\"xaxis\":\"x15\",\"yaxis\":\"y15\"},{\"name\":\"G3\",\"width\":500,\"y\":[11,11,12,14,13,13,13,13,17,13,14,13,12,13,15,17,14,14,7,12,14,12,14,10,10,12,12,11,13,12,11,15,15,12,12,11,14,13,12,12,10,11,15,10,11,11,13,17,13,12,13,16,9,12,13,12,15,16,14,16,16,16,10,13,12,16,12,10,11,15,11,10,11,14,11,11,11,13,10,11,12,9,11,13,12,12,11,15,11,10,11,13,12,14,12,13,11,12,13,13,8,16,12,10,16,10,10,14,11,14,14,11,10,18,10,14,16,15,11,14,14,13,13,13,11,9,11,11,15,13,12,8,11,13,12,14,11,11,11,15,10,13,12,11,11,10,10,14,9,11,9,13,11,13,11,6,12,10,11,13,11,8,11,0,10,13,11,13,8,10,11,11,1,10,9,8,10,8,8,8,11,18,13,17,10,18,10,13,15,11,14,10,11,13,11,13,17,14,16,14,11,16,14,10,13,12,12,10,12,16,14,12,16,11,15,12,15,13,13,8,12,15,13,12,12,12,13,11,11,15,10,10,13,13,11,12,14,10,16,8,17,11,11,16,12,13,13,14,9,12,16,10,13,10,10,7,8,9,15,10,11,13,8,8,10,15,14,15,12,15,15,12,15,11,10,11,16,11,13,5,10,11,7,10,6,12,13,10,13,17,11,11,14,14,13,14,16,10,12,12,15,11,12,13,13,9,16,14,12,14,10,12,16,13,18,15,16,12,10,12,13,15,10,10,11,10,13,18,13,14,14,12,18,14,15,17,16,18,19,15,15,13,14,17,17,15,13,8,16,18,11,15,11,11,15,14,17,17,15,17,14,10,13,14,17,17,13,14,11,11,9,10,13,10,17,15,14,13,17,10,13,15,11,12,10,10,15,15,12,12,14,14,15,15,16,13,17,14,14,17,17,14,13,15,16,11,13,12,12,15,17,15,17,10,15,11,18,17,14,11,17,10,13,11,12,10,11,17,9,11,11,10,7,14,11,10,8,12,12,16,0,9,14,8,11,9,11,9,17,13,15,11,11,8,8,9,15,11,13,10,11,14,14,12,11,8,11,14,13,13,12,12,16,10,11,14,8,11,8,10,10,11,9,11,8,11,10,10,9,10,10,9,10,10,9,13,14,10,14,16,7,13,9,14,13,11,10,10,9,18,17,10,7,8,7,10,16,15,8,0,8,10,8,6,8,16,14,10,9,11,9,10,8,16,12,10,14,12,11,10,11,11,12,8,12,8,16,11,11,18,13,13,10,12,10,13,11,10,10,13,10,10,12,0,10,9,9,0,9,8,8,9,7,10,10,10,11,11,10,9,10,8,7,0,11,8,0,8,9,10,7,14,13,14,18,17,18,0,11,14,14,10,13,0,10,0,18,12,11,12,0,15,11,10,12,15,14,18,15,13,15,13,9,16,9,10,0,10,12,9,17,12,9,14,16,9,19,0,16,0,0,15,11,10,10,16,9,10,11],\"type\":\"box\",\"xaxis\":\"x16\",\"yaxis\":\"y16\"}],                        {\"template\":{\"data\":{\"histogram2dcontour\":[{\"type\":\"histogram2dcontour\",\"colorbar\":{\"outlinewidth\":0,\"ticks\":\"\"},\"colorscale\":[[0.0,\"#0d0887\"],[0.1111111111111111,\"#46039f\"],[0.2222222222222222,\"#7201a8\"],[0.3333333333333333,\"#9c179e\"],[0.4444444444444444,\"#bd3786\"],[0.5555555555555556,\"#d8576b\"],[0.6666666666666666,\"#ed7953\"],[0.7777777777777778,\"#fb9f3a\"],[0.8888888888888888,\"#fdca26\"],[1.0,\"#f0f921\"]]}],\"choropleth\":[{\"type\":\"choropleth\",\"colorbar\":{\"outlinewidth\":0,\"ticks\":\"\"}}],\"histogram2d\":[{\"type\":\"histogram2d\",\"colorbar\":{\"outlinewidth\":0,\"ticks\":\"\"},\"colorscale\":[[0.0,\"#0d0887\"],[0.1111111111111111,\"#46039f\"],[0.2222222222222222,\"#7201a8\"],[0.3333333333333333,\"#9c179e\"],[0.4444444444444444,\"#bd3786\"],[0.5555555555555556,\"#d8576b\"],[0.6666666666666666,\"#ed7953\"],[0.7777777777777778,\"#fb9f3a\"],[0.8888888888888888,\"#fdca26\"],[1.0,\"#f0f921\"]]}],\"heatmap\":[{\"type\":\"heatmap\",\"colorbar\":{\"outlinewidth\":0,\"ticks\":\"\"},\"colorscale\":[[0.0,\"#0d0887\"],[0.1111111111111111,\"#46039f\"],[0.2222222222222222,\"#7201a8\"],[0.3333333333333333,\"#9c179e\"],[0.4444444444444444,\"#bd3786\"],[0.5555555555555556,\"#d8576b\"],[0.6666666666666666,\"#ed7953\"],[0.7777777777777778,\"#fb9f3a\"],[0.8888888888888888,\"#fdca26\"],[1.0,\"#f0f921\"]]}],\"heatmapgl\":[{\"type\":\"heatmapgl\",\"colorbar\":{\"outlinewidth\":0,\"ticks\":\"\"},\"colorscale\":[[0.0,\"#0d0887\"],[0.1111111111111111,\"#46039f\"],[0.2222222222222222,\"#7201a8\"],[0.3333333333333333,\"#9c179e\"],[0.4444444444444444,\"#bd3786\"],[0.5555555555555556,\"#d8576b\"],[0.6666666666666666,\"#ed7953\"],[0.7777777777777778,\"#fb9f3a\"],[0.8888888888888888,\"#fdca26\"],[1.0,\"#f0f921\"]]}],\"contourcarpet\":[{\"type\":\"contourcarpet\",\"colorbar\":{\"outlinewidth\":0,\"ticks\":\"\"}}],\"contour\":[{\"type\":\"contour\",\"colorbar\":{\"outlinewidth\":0,\"ticks\":\"\"},\"colorscale\":[[0.0,\"#0d0887\"],[0.1111111111111111,\"#46039f\"],[0.2222222222222222,\"#7201a8\"],[0.3333333333333333,\"#9c179e\"],[0.4444444444444444,\"#bd3786\"],[0.5555555555555556,\"#d8576b\"],[0.6666666666666666,\"#ed7953\"],[0.7777777777777778,\"#fb9f3a\"],[0.8888888888888888,\"#fdca26\"],[1.0,\"#f0f921\"]]}],\"surface\":[{\"type\":\"surface\",\"colorbar\":{\"outlinewidth\":0,\"ticks\":\"\"},\"colorscale\":[[0.0,\"#0d0887\"],[0.1111111111111111,\"#46039f\"],[0.2222222222222222,\"#7201a8\"],[0.3333333333333333,\"#9c179e\"],[0.4444444444444444,\"#bd3786\"],[0.5555555555555556,\"#d8576b\"],[0.6666666666666666,\"#ed7953\"],[0.7777777777777778,\"#fb9f3a\"],[0.8888888888888888,\"#fdca26\"],[1.0,\"#f0f921\"]]}],\"mesh3d\":[{\"type\":\"mesh3d\",\"colorbar\":{\"outlinewidth\":0,\"ticks\":\"\"}}],\"scatter\":[{\"fillpattern\":{\"fillmode\":\"overlay\",\"size\":10,\"solidity\":0.2},\"type\":\"scatter\"}],\"parcoords\":[{\"type\":\"parcoords\",\"line\":{\"colorbar\":{\"outlinewidth\":0,\"ticks\":\"\"}}}],\"scatterpolargl\":[{\"type\":\"scatterpolargl\",\"marker\":{\"colorbar\":{\"outlinewidth\":0,\"ticks\":\"\"}}}],\"bar\":[{\"error_x\":{\"color\":\"#2a3f5f\"},\"error_y\":{\"color\":\"#2a3f5f\"},\"marker\":{\"line\":{\"color\":\"#E5ECF6\",\"width\":0.5},\"pattern\":{\"fillmode\":\"overlay\",\"size\":10,\"solidity\":0.2}},\"type\":\"bar\"}],\"scattergeo\":[{\"type\":\"scattergeo\",\"marker\":{\"colorbar\":{\"outlinewidth\":0,\"ticks\":\"\"}}}],\"scatterpolar\":[{\"type\":\"scatterpolar\",\"marker\":{\"colorbar\":{\"outlinewidth\":0,\"ticks\":\"\"}}}],\"histogram\":[{\"marker\":{\"pattern\":{\"fillmode\":\"overlay\",\"size\":10,\"solidity\":0.2}},\"type\":\"histogram\"}],\"scattergl\":[{\"type\":\"scattergl\",\"marker\":{\"colorbar\":{\"outlinewidth\":0,\"ticks\":\"\"}}}],\"scatter3d\":[{\"type\":\"scatter3d\",\"line\":{\"colorbar\":{\"outlinewidth\":0,\"ticks\":\"\"}},\"marker\":{\"colorbar\":{\"outlinewidth\":0,\"ticks\":\"\"}}}],\"scattermapbox\":[{\"type\":\"scattermapbox\",\"marker\":{\"colorbar\":{\"outlinewidth\":0,\"ticks\":\"\"}}}],\"scatterternary\":[{\"type\":\"scatterternary\",\"marker\":{\"colorbar\":{\"outlinewidth\":0,\"ticks\":\"\"}}}],\"scattercarpet\":[{\"type\":\"scattercarpet\",\"marker\":{\"colorbar\":{\"outlinewidth\":0,\"ticks\":\"\"}}}],\"carpet\":[{\"aaxis\":{\"endlinecolor\":\"#2a3f5f\",\"gridcolor\":\"white\",\"linecolor\":\"white\",\"minorgridcolor\":\"white\",\"startlinecolor\":\"#2a3f5f\"},\"baxis\":{\"endlinecolor\":\"#2a3f5f\",\"gridcolor\":\"white\",\"linecolor\":\"white\",\"minorgridcolor\":\"white\",\"startlinecolor\":\"#2a3f5f\"},\"type\":\"carpet\"}],\"table\":[{\"cells\":{\"fill\":{\"color\":\"#EBF0F8\"},\"line\":{\"color\":\"white\"}},\"header\":{\"fill\":{\"color\":\"#C8D4E3\"},\"line\":{\"color\":\"white\"}},\"type\":\"table\"}],\"barpolar\":[{\"marker\":{\"line\":{\"color\":\"#E5ECF6\",\"width\":0.5},\"pattern\":{\"fillmode\":\"overlay\",\"size\":10,\"solidity\":0.2}},\"type\":\"barpolar\"}],\"pie\":[{\"automargin\":true,\"type\":\"pie\"}]},\"layout\":{\"autotypenumbers\":\"strict\",\"colorway\":[\"#636efa\",\"#EF553B\",\"#00cc96\",\"#ab63fa\",\"#FFA15A\",\"#19d3f3\",\"#FF6692\",\"#B6E880\",\"#FF97FF\",\"#FECB52\"],\"font\":{\"color\":\"#2a3f5f\"},\"hovermode\":\"closest\",\"hoverlabel\":{\"align\":\"left\"},\"paper_bgcolor\":\"white\",\"plot_bgcolor\":\"#E5ECF6\",\"polar\":{\"bgcolor\":\"#E5ECF6\",\"angularaxis\":{\"gridcolor\":\"white\",\"linecolor\":\"white\",\"ticks\":\"\"},\"radialaxis\":{\"gridcolor\":\"white\",\"linecolor\":\"white\",\"ticks\":\"\"}},\"ternary\":{\"bgcolor\":\"#E5ECF6\",\"aaxis\":{\"gridcolor\":\"white\",\"linecolor\":\"white\",\"ticks\":\"\"},\"baxis\":{\"gridcolor\":\"white\",\"linecolor\":\"white\",\"ticks\":\"\"},\"caxis\":{\"gridcolor\":\"white\",\"linecolor\":\"white\",\"ticks\":\"\"}},\"coloraxis\":{\"colorbar\":{\"outlinewidth\":0,\"ticks\":\"\"}},\"colorscale\":{\"sequential\":[[0.0,\"#0d0887\"],[0.1111111111111111,\"#46039f\"],[0.2222222222222222,\"#7201a8\"],[0.3333333333333333,\"#9c179e\"],[0.4444444444444444,\"#bd3786\"],[0.5555555555555556,\"#d8576b\"],[0.6666666666666666,\"#ed7953\"],[0.7777777777777778,\"#fb9f3a\"],[0.8888888888888888,\"#fdca26\"],[1.0,\"#f0f921\"]],\"sequentialminus\":[[0.0,\"#0d0887\"],[0.1111111111111111,\"#46039f\"],[0.2222222222222222,\"#7201a8\"],[0.3333333333333333,\"#9c179e\"],[0.4444444444444444,\"#bd3786\"],[0.5555555555555556,\"#d8576b\"],[0.6666666666666666,\"#ed7953\"],[0.7777777777777778,\"#fb9f3a\"],[0.8888888888888888,\"#fdca26\"],[1.0,\"#f0f921\"]],\"diverging\":[[0,\"#8e0152\"],[0.1,\"#c51b7d\"],[0.2,\"#de77ae\"],[0.3,\"#f1b6da\"],[0.4,\"#fde0ef\"],[0.5,\"#f7f7f7\"],[0.6,\"#e6f5d0\"],[0.7,\"#b8e186\"],[0.8,\"#7fbc41\"],[0.9,\"#4d9221\"],[1,\"#276419\"]]},\"xaxis\":{\"gridcolor\":\"white\",\"linecolor\":\"white\",\"ticks\":\"\",\"title\":{\"standoff\":15},\"zerolinecolor\":\"white\",\"automargin\":true,\"zerolinewidth\":2},\"yaxis\":{\"gridcolor\":\"white\",\"linecolor\":\"white\",\"ticks\":\"\",\"title\":{\"standoff\":15},\"zerolinecolor\":\"white\",\"automargin\":true,\"zerolinewidth\":2},\"scene\":{\"xaxis\":{\"backgroundcolor\":\"#E5ECF6\",\"gridcolor\":\"white\",\"linecolor\":\"white\",\"showbackground\":true,\"ticks\":\"\",\"zerolinecolor\":\"white\",\"gridwidth\":2},\"yaxis\":{\"backgroundcolor\":\"#E5ECF6\",\"gridcolor\":\"white\",\"linecolor\":\"white\",\"showbackground\":true,\"ticks\":\"\",\"zerolinecolor\":\"white\",\"gridwidth\":2},\"zaxis\":{\"backgroundcolor\":\"#E5ECF6\",\"gridcolor\":\"white\",\"linecolor\":\"white\",\"showbackground\":true,\"ticks\":\"\",\"zerolinecolor\":\"white\",\"gridwidth\":2}},\"shapedefaults\":{\"line\":{\"color\":\"#2a3f5f\"}},\"annotationdefaults\":{\"arrowcolor\":\"#2a3f5f\",\"arrowhead\":0,\"arrowwidth\":1},\"geo\":{\"bgcolor\":\"white\",\"landcolor\":\"#E5ECF6\",\"subunitcolor\":\"white\",\"showland\":true,\"showlakes\":true,\"lakecolor\":\"white\"},\"title\":{\"x\":0.05},\"mapbox\":{\"style\":\"light\"}}},\"xaxis\":{\"anchor\":\"y\",\"domain\":[0.0,0.2125]},\"yaxis\":{\"anchor\":\"x\",\"domain\":[0.0,0.19375]},\"xaxis2\":{\"anchor\":\"y2\",\"domain\":[0.2625,0.475]},\"yaxis2\":{\"anchor\":\"x2\",\"domain\":[0.0,0.19375]},\"xaxis3\":{\"anchor\":\"y3\",\"domain\":[0.525,0.7375]},\"yaxis3\":{\"anchor\":\"x3\",\"domain\":[0.0,0.19375]},\"xaxis4\":{\"anchor\":\"y4\",\"domain\":[0.7875,1.0]},\"yaxis4\":{\"anchor\":\"x4\",\"domain\":[0.0,0.19375]},\"xaxis5\":{\"anchor\":\"y5\",\"domain\":[0.0,0.2125]},\"yaxis5\":{\"anchor\":\"x5\",\"domain\":[0.26875,0.4625]},\"xaxis6\":{\"anchor\":\"y6\",\"domain\":[0.2625,0.475]},\"yaxis6\":{\"anchor\":\"x6\",\"domain\":[0.26875,0.4625]},\"xaxis7\":{\"anchor\":\"y7\",\"domain\":[0.525,0.7375]},\"yaxis7\":{\"anchor\":\"x7\",\"domain\":[0.26875,0.4625]},\"xaxis8\":{\"anchor\":\"y8\",\"domain\":[0.7875,1.0]},\"yaxis8\":{\"anchor\":\"x8\",\"domain\":[0.26875,0.4625]},\"xaxis9\":{\"anchor\":\"y9\",\"domain\":[0.0,0.2125]},\"yaxis9\":{\"anchor\":\"x9\",\"domain\":[0.5375,0.73125]},\"xaxis10\":{\"anchor\":\"y10\",\"domain\":[0.2625,0.475]},\"yaxis10\":{\"anchor\":\"x10\",\"domain\":[0.5375,0.73125]},\"xaxis11\":{\"anchor\":\"y11\",\"domain\":[0.525,0.7375]},\"yaxis11\":{\"anchor\":\"x11\",\"domain\":[0.5375,0.73125]},\"xaxis12\":{\"anchor\":\"y12\",\"domain\":[0.7875,1.0]},\"yaxis12\":{\"anchor\":\"x12\",\"domain\":[0.5375,0.73125]},\"xaxis13\":{\"anchor\":\"y13\",\"domain\":[0.0,0.2125]},\"yaxis13\":{\"anchor\":\"x13\",\"domain\":[0.80625,1.0]},\"xaxis14\":{\"anchor\":\"y14\",\"domain\":[0.2625,0.475]},\"yaxis14\":{\"anchor\":\"x14\",\"domain\":[0.80625,1.0]},\"xaxis15\":{\"anchor\":\"y15\",\"domain\":[0.525,0.7375]},\"yaxis15\":{\"anchor\":\"x15\",\"domain\":[0.80625,1.0]},\"xaxis16\":{\"anchor\":\"y16\",\"domain\":[0.7875,1.0]},\"yaxis16\":{\"anchor\":\"x16\",\"domain\":[0.80625,1.0]},\"title\":{\"text\":\"Box plots for Portugese Class\",\"x\":0.5}},                        {\"responsive\": true}                    ).then(function(){\n",
              "                            \n",
              "var gd = document.getElementById('62ddcada-f9b8-4ecd-bb58-6f20714fe244');\n",
              "var x = new MutationObserver(function (mutations, observer) {{\n",
              "        var display = window.getComputedStyle(gd).display;\n",
              "        if (!display || display === 'none') {{\n",
              "            console.log([gd, 'removed!']);\n",
              "            Plotly.purge(gd);\n",
              "            observer.disconnect();\n",
              "        }}\n",
              "}});\n",
              "\n",
              "// Listen for the removal of the full notebook cells\n",
              "var notebookContainer = gd.closest('#notebook-container');\n",
              "if (notebookContainer) {{\n",
              "    x.observe(notebookContainer, {childList: true});\n",
              "}}\n",
              "\n",
              "// Listen for the clearing of the current output cell\n",
              "var outputEl = gd.closest('.output');\n",
              "if (outputEl) {{\n",
              "    x.observe(outputEl, {childList: true});\n",
              "}}\n",
              "\n",
              "                        })                };                            </script>        </div>\n",
              "</body>\n",
              "</html>"
            ]
          },
          "metadata": {}
        }
      ]
    },
    {
      "cell_type": "markdown",
      "source": [
        "It looks like absences has lots of outliers\n",
        "\n",
        "**How is the box plots of Math Class ?**"
      ],
      "metadata": {
        "id": "PW2DzumGrvAR"
      }
    },
    {
      "cell_type": "code",
      "source": [
        "labels_por = student_math.select_dtypes(include =[\"int64\"]).columns # I only get attributes which is object type\n",
        "\n",
        "# I want 5 x 5 grid\n",
        "rows = 4\n",
        "cols = 4\n",
        "\n",
        "#define specs\n",
        "specs=[[{'type':'box'}]*cols]*rows\n",
        "                                                                     \n",
        "\n",
        "fig = make_subplots(rows=rows, cols=cols,start_cell=\"bottom-left\",specs = specs )\n",
        "\n",
        "for inx, name in enumerate(labels_por):\n",
        "\n",
        "    # getting row and column index\n",
        "    row = (inx // cols) +1\n",
        "    col = (inx % (rows)) +1\n",
        "\n",
        "\n",
        "    fig.add_trace(\n",
        "         go.Box(y=student_math[name].values, name=student_math[name].name,width=500),\n",
        "         row=row,\n",
        "         col=col)\n",
        "    \n",
        "\n",
        "\n",
        "fig.update_layout(title=\"Box plots for Math Class\", title_x=0.5)\n",
        "fig.show()\n"
      ],
      "metadata": {
        "colab": {
          "base_uri": "https://localhost:8080/",
          "height": 542
        },
        "id": "d1YJURH6r0uA",
        "outputId": "930c150e-4754-4053-e2ba-45e4754bbf15"
      },
      "execution_count": 16,
      "outputs": [
        {
          "output_type": "display_data",
          "data": {
            "text/html": [
              "<html>\n",
              "<head><meta charset=\"utf-8\" /></head>\n",
              "<body>\n",
              "    <div>            <script src=\"https://cdnjs.cloudflare.com/ajax/libs/mathjax/2.7.5/MathJax.js?config=TeX-AMS-MML_SVG\"></script><script type=\"text/javascript\">if (window.MathJax && window.MathJax.Hub && window.MathJax.Hub.Config) {window.MathJax.Hub.Config({SVG: {font: \"STIX-Web\"}});}</script>                <script type=\"text/javascript\">window.PlotlyConfig = {MathJaxConfig: 'local'};</script>\n",
              "        <script src=\"https://cdn.plot.ly/plotly-2.18.2.min.js\"></script>                <div id=\"9de0a904-1ec6-4347-8f08-ef5019b456bc\" class=\"plotly-graph-div\" style=\"height:525px; width:100%;\"></div>            <script type=\"text/javascript\">                                    window.PLOTLYENV=window.PLOTLYENV || {};                                    if (document.getElementById(\"9de0a904-1ec6-4347-8f08-ef5019b456bc\")) {                    Plotly.newPlot(                        \"9de0a904-1ec6-4347-8f08-ef5019b456bc\",                        [{\"name\":\"age\",\"width\":500,\"y\":[18,17,15,15,16,16,16,17,15,15,15,15,15,15,15,16,16,16,17,16,15,15,16,16,15,16,15,15,16,16,15,15,15,15,16,15,15,16,15,15,16,15,15,15,16,15,16,16,15,15,16,15,15,15,15,16,15,15,15,16,16,16,16,16,15,16,15,16,15,15,16,15,15,16,16,15,15,16,17,16,15,15,15,15,15,15,16,15,16,16,16,15,16,16,15,15,16,16,16,16,16,16,15,15,15,15,15,16,15,16,15,16,16,15,15,16,15,16,17,15,15,15,16,16,16,15,15,19,18,16,15,15,17,16,15,15,17,16,16,15,15,16,15,16,17,15,15,15,16,15,18,16,15,19,17,15,17,18,16,16,17,15,16,17,17,16,16,16,16,16,16,16,17,16,16,17,16,17,16,17,16,16,17,17,16,17,16,16,17,17,16,17,17,16,16,17,17,16,17,16,16,16,17,17,16,17,16,16,16,17,19,17,16,18,17,17,17,18,17,17,17,17,16,18,16,18,17,17,18,17,17,17,17,16,16,16,17,16,17,18,17,17,16,16,18,16,17,22,18,16,18,16,18,16,17,17,17,19,18,17,18,18,18,17,18,18,17,18,18,18,19,18,18,17,17,17,18,18,18,18,17,17,18,18,17,17,18,17,18,18,18,17,18,17,18,17,19,18,18,18,18,17,17,17,19,18,20,19,19,19,19,19,19,19,19,19,18,18,17,18,17,17,17,17,17,18,17,17,17,17,18,17,18,18,18,17,19,17,18,17,19,18,18,17,18,18,18,18,17,18,19,17,18,19,17,18,17,17,18,18,18,18,18,17,17,18,18,17,18,18,19,18,17,17,18,18,20,18,18,17,18,18,17,19,18,18,18,19,18,18,20,17,21,18,19],\"type\":\"box\",\"xaxis\":\"x\",\"yaxis\":\"y\"},{\"name\":\"Medu\",\"width\":500,\"y\":[4,1,1,4,3,4,2,4,3,3,4,2,4,4,2,4,4,3,3,4,4,4,4,2,2,2,2,4,3,4,4,4,4,3,3,2,4,4,3,2,2,4,4,2,2,4,3,4,4,4,2,4,4,4,3,2,4,4,1,4,4,1,1,4,4,4,4,3,2,3,3,4,1,3,3,4,4,2,2,3,2,2,3,2,1,4,2,4,2,4,3,4,3,4,2,1,4,2,4,4,4,4,4,3,3,3,2,3,4,4,4,3,2,4,2,4,4,3,1,3,1,2,2,4,2,3,3,0,2,4,3,1,2,3,3,4,3,3,1,4,4,2,4,1,2,1,3,1,4,2,1,2,3,3,4,2,1,1,2,3,2,3,1,1,1,3,2,4,2,4,3,1,4,1,3,4,2,3,4,4,4,3,2,3,3,3,1,2,3,1,2,1,1,3,2,2,4,3,4,4,4,2,1,2,2,3,3,4,1,4,3,4,2,2,4,3,4,3,2,2,2,1,2,2,4,3,3,2,2,2,4,2,4,4,1,3,2,2,2,2,4,4,4,4,2,2,2,3,3,0,3,3,2,2,2,1,4,4,2,2,4,4,3,3,2,3,3,4,4,2,3,2,1,1,2,2,3,4,4,4,4,3,1,1,2,1,2,1,2,4,4,4,2,3,3,3,4,4,4,4,4,4,4,3,3,2,3,4,3,1,1,2,1,3,1,2,2,4,3,4,4,2,2,3,0,4,3,2,4,4,2,2,3,2,2,3,3,3,3,3,2,4,3,2,2,3,4,4,4,3,1,3,1,1,4,3,4,3,1,1,1,1,3,4,1,1,4,1,2,4,3,1,2,1,4,1,4,4,3,3,4,2,2,1,4,2,4,2,3,1,2,3,1,3,1],\"type\":\"box\",\"xaxis\":\"x2\",\"yaxis\":\"y2\"},{\"name\":\"Fedu\",\"width\":500,\"y\":[4,1,1,2,3,3,2,4,2,4,4,1,4,3,2,4,4,3,2,3,3,4,2,2,4,2,2,2,4,4,4,4,3,3,2,3,3,4,4,2,2,4,4,2,2,3,3,3,2,4,2,2,2,4,3,1,3,4,2,2,4,1,2,3,3,3,4,1,2,1,1,2,1,1,3,3,0,2,1,4,3,3,2,2,1,4,2,2,2,4,3,3,1,2,2,1,3,1,4,3,4,4,4,2,4,3,2,3,4,4,4,3,2,2,1,4,4,3,3,4,2,2,4,4,2,4,4,1,2,4,4,1,2,4,4,4,4,3,1,4,3,2,4,1,1,1,2,2,4,1,1,1,3,2,4,3,2,1,2,3,1,2,2,3,1,2,2,2,2,4,4,0,4,3,3,3,2,3,2,3,3,3,4,3,2,3,2,1,3,2,3,1,2,3,3,4,4,3,4,4,3,3,1,2,2,4,1,3,1,3,3,4,2,2,4,2,3,3,3,2,1,1,3,2,4,1,2,3,1,1,3,2,4,4,1,2,2,1,1,2,3,4,3,4,1,1,3,1,3,2,2,3,1,1,1,1,2,3,1,2,3,3,2,3,2,4,1,4,2,1,3,3,1,2,4,2,2,4,4,3,1,2,1,1,2,1,2,1,1,4,2,3,1,1,2,3,4,3,3,4,4,4,2,2,3,4,2,4,3,1,2,1,2,2,1,3,1,3,4,4,3,2,2,1,2,4,3,2,4,4,2,4,3,2,2,4,1,2,3,2,1,4,4,2,3,2,3,3,3,2,1,3,3,1,3,3,4,2,1,1,4,1,3,4,2,3,4,1,3,4,2,2,2,2,4,1,2,4,3,1,4,1,3,1,2,2,4,3,1,1,2,1,1,2,1],\"type\":\"box\",\"xaxis\":\"x3\",\"yaxis\":\"y3\"},{\"name\":\"traveltime\",\"width\":500,\"y\":[2,1,1,1,1,1,1,2,1,1,1,3,1,2,1,1,1,3,1,1,1,1,1,2,1,1,1,1,1,1,1,2,1,1,1,2,1,2,1,1,2,1,1,1,2,1,1,1,1,1,3,1,2,1,1,1,1,1,1,1,1,4,1,1,1,3,1,1,2,2,2,1,1,1,1,1,2,1,2,1,1,1,1,2,1,2,1,1,2,1,1,1,1,2,1,2,2,1,1,1,1,1,1,2,1,1,1,1,4,1,1,1,1,1,1,1,2,2,3,1,1,1,2,1,1,1,1,1,1,1,2,3,1,1,4,1,3,2,1,2,2,2,1,1,1,1,1,1,1,4,1,1,2,1,1,1,1,3,3,1,2,2,2,1,4,2,1,1,1,1,3,2,1,1,2,2,2,1,1,1,1,1,1,1,1,1,1,1,1,1,1,1,2,1,2,1,1,3,2,1,1,1,1,1,2,1,1,1,2,2,1,1,1,1,1,2,1,1,2,1,2,1,1,2,1,1,1,1,4,2,1,2,1,1,2,2,1,1,3,1,2,2,1,1,2,3,2,1,1,1,2,3,1,2,1,2,1,1,1,1,1,1,1,1,1,2,1,2,1,2,1,1,2,1,2,2,2,2,1,2,2,1,2,2,1,1,1,1,1,1,1,1,1,2,2,1,2,2,1,1,1,2,2,1,1,1,1,2,1,1,1,3,1,2,1,1,2,1,1,1,1,1,1,1,2,1,1,4,1,2,1,1,1,1,2,1,1,1,1,1,1,1,1,1,1,1,1,1,1,2,3,2,1,3,2,1,2,2,2,2,3,2,2,1,2,2,2,3,2,3,2,3,1,1,2,4,2,1,1,1,1,2,2,2,2,2,3,1,1,2,1,2,1,3,1],\"type\":\"box\",\"xaxis\":\"x4\",\"yaxis\":\"y4\"},{\"name\":\"studytime\",\"width\":500,\"y\":[2,2,2,3,2,2,2,2,2,2,2,3,1,2,3,1,3,2,1,1,2,1,2,2,3,1,1,1,2,2,2,2,2,2,1,1,3,3,3,1,2,1,2,1,2,2,2,4,2,2,2,2,1,1,1,2,2,2,2,2,2,1,2,3,2,2,4,4,2,4,4,4,2,1,2,2,4,4,1,2,1,3,2,2,2,2,2,3,2,2,3,1,2,2,4,4,1,2,1,3,1,3,1,2,2,4,4,3,4,3,1,3,2,1,2,2,2,1,2,1,2,4,2,1,2,1,2,2,1,1,3,1,1,1,2,3,2,1,2,1,4,1,3,1,1,2,2,2,1,1,1,1,3,1,1,2,1,1,1,2,1,2,1,1,2,1,2,2,2,2,1,2,2,2,2,2,2,2,1,2,2,2,2,2,2,2,1,2,2,2,2,2,2,1,1,2,1,1,1,2,2,2,2,1,4,3,2,2,1,3,4,2,2,2,1,2,2,2,1,3,2,3,2,2,3,2,2,2,2,3,2,2,2,2,2,3,2,1,2,2,2,2,1,1,3,1,1,1,2,1,1,2,1,1,1,1,4,2,2,4,2,2,3,3,3,2,2,2,2,2,2,4,2,2,2,2,2,1,2,1,1,1,4,2,2,2,3,3,3,2,2,3,2,4,3,1,2,2,4,1,2,1,3,4,2,2,1,1,2,2,2,2,2,2,3,3,2,3,3,2,2,2,3,3,3,3,1,1,3,3,4,3,2,2,4,3,3,2,4,2,3,2,2,2,3,3,3,3,3,1,2,2,1,1,2,2,2,2,1,3,2,2,2,2,2,2,3,1,1,2,2,1,3,1,3,3,3,2,2,2,2,1,2,1,1,3,1,3,2,2,2,1,1,1,1],\"type\":\"box\",\"xaxis\":\"x5\",\"yaxis\":\"y5\"},{\"name\":\"failures\",\"width\":500,\"y\":[0,0,3,0,0,0,0,0,0,0,0,0,0,0,0,0,0,0,3,0,0,0,0,0,0,2,0,0,0,0,0,0,0,0,0,0,0,0,0,0,1,0,0,0,1,0,0,0,0,1,0,0,1,0,0,0,0,0,0,0,0,0,0,0,0,0,0,0,0,0,0,0,2,0,0,0,0,0,3,0,0,0,0,0,0,2,0,0,1,0,0,0,0,0,0,1,0,0,0,0,0,0,0,0,0,0,0,0,0,0,0,1,1,0,0,0,0,0,1,0,0,0,0,0,0,0,0,3,2,0,2,0,0,0,0,0,0,2,1,0,0,2,0,0,3,0,3,0,0,3,3,1,2,3,0,0,0,3,0,1,2,2,1,0,3,1,0,0,0,0,2,0,0,3,0,0,0,0,0,0,0,0,0,0,0,0,0,0,0,0,0,0,0,0,0,0,0,0,1,0,0,0,0,0,0,1,3,0,0,0,0,0,0,1,0,0,2,1,0,0,0,1,0,0,0,1,0,0,0,0,0,0,0,0,0,0,0,0,0,1,0,0,0,0,0,0,0,3,1,0,1,0,1,0,0,1,0,0,0,0,0,0,0,0,0,0,0,0,0,0,2,0,0,0,0,0,0,0,1,0,0,1,0,0,0,0,0,0,0,0,0,0,1,0,0,0,0,0,0,0,0,0,0,0,1,1,0,1,1,1,1,0,1,1,2,1,0,0,0,0,0,0,0,0,0,0,0,0,0,0,0,0,0,0,0,0,1,0,0,0,1,1,0,1,0,0,0,0,0,1,3,0,1,1,0,0,0,0,0,0,0,1,0,0,0,0,0,1,0,0,2,0,0,0,0,0,2,0,0,0,0,0,0,1,1,0,0,1,0,1,2,0,3,0,0],\"type\":\"box\",\"xaxis\":\"x6\",\"yaxis\":\"y6\"},{\"name\":\"famrel\",\"width\":500,\"y\":[4,5,4,3,4,5,4,4,4,5,3,5,4,5,4,4,3,5,5,3,4,5,4,5,4,1,4,2,5,4,5,4,4,5,5,3,5,2,4,4,3,5,4,5,4,5,2,4,4,4,4,4,5,3,5,5,4,3,4,4,2,5,4,3,4,5,1,4,4,4,4,3,3,5,4,4,3,5,4,2,3,5,4,5,4,4,4,5,4,4,4,4,3,5,4,3,3,4,5,5,4,4,5,4,5,4,5,5,1,5,5,4,3,3,5,5,4,5,5,3,3,5,4,3,5,5,5,3,3,3,4,4,3,3,5,4,5,4,4,4,2,2,4,3,5,4,3,4,3,4,2,4,4,4,4,4,2,5,4,4,3,4,4,5,5,4,4,4,5,4,3,4,4,4,4,4,3,4,4,5,3,4,5,5,1,4,3,4,3,3,4,5,4,4,5,4,5,3,4,4,4,4,4,5,5,4,2,1,4,4,4,5,3,4,5,4,3,3,3,4,4,4,2,3,5,5,5,5,4,3,3,4,4,4,3,5,4,4,2,5,2,3,5,5,4,4,5,5,4,4,4,5,3,3,4,4,4,4,5,3,3,4,5,3,4,4,5,4,5,4,4,4,4,3,4,4,4,3,2,4,4,4,5,5,5,4,4,4,4,5,4,4,5,3,5,4,2,4,4,1,4,4,4,5,4,4,5,4,4,4,4,3,4,4,4,4,5,4,4,4,5,4,3,3,3,4,4,4,5,4,4,4,5,4,4,4,5,4,5,4,4,4,4,3,4,5,5,5,4,2,5,4,4,4,4,5,4,1,3,5,4,4,4,2,3,3,4,5,5,3,3,4,3,3,5,4,5,5,4,4,3,4,4,4,5,5,4,5,4,1,5,2,5,4,3],\"type\":\"box\",\"xaxis\":\"x7\",\"yaxis\":\"y7\"},{\"name\":\"freetime\",\"width\":500,\"y\":[3,3,3,2,3,4,4,1,2,5,3,2,3,4,5,4,2,3,5,1,4,4,5,4,3,2,2,2,3,4,4,3,5,3,4,5,4,4,3,3,3,4,3,4,3,2,3,2,3,4,3,3,5,3,3,3,3,2,3,2,4,5,4,4,4,4,3,3,1,4,3,3,3,3,3,3,4,2,5,4,2,3,4,3,3,4,3,3,4,1,3,5,3,3,3,1,3,3,3,3,5,4,3,3,4,3,1,3,3,4,5,1,1,5,4,4,4,4,2,4,2,5,2,4,4,5,3,4,3,5,2,3,4,2,3,3,4,3,4,3,2,3,2,4,4,4,3,3,3,5,3,4,2,5,2,4,2,2,2,5,3,4,4,3,3,5,3,2,1,4,4,3,4,3,4,4,4,3,3,2,4,2,4,3,2,3,3,2,3,1,3,3,4,3,3,3,2,3,2,5,3,4,4,3,3,4,3,3,3,4,3,3,3,4,2,4,4,2,3,3,2,3,3,3,3,3,3,3,3,2,2,5,5,2,4,3,4,5,1,5,5,3,4,3,4,3,2,4,3,3,4,3,2,3,4,4,2,3,2,4,1,3,3,2,3,2,4,3,4,3,3,5,4,5,3,4,1,2,4,2,5,4,2,4,4,3,3,3,2,4,3,2,4,1,4,4,3,4,3,4,2,1,3,2,4,4,5,3,5,4,2,4,5,2,1,1,3,3,3,4,2,2,3,4,3,3,3,4,4,3,5,4,3,3,4,4,4,3,3,3,3,3,3,3,3,4,3,4,4,5,4,5,3,4,5,3,3,2,3,3,3,4,3,3,2,3,2,2,2,2,2,3,4,5,4,3,4,4,1,5,2,4,4,3,4,3,4,4,3,1,5,4,5,4,2],\"type\":\"box\",\"xaxis\":\"x8\",\"yaxis\":\"y8\"},{\"name\":\"goout\",\"width\":500,\"y\":[4,3,2,2,2,2,4,4,2,1,3,2,3,3,2,4,3,2,5,3,1,2,1,4,2,2,2,4,3,5,2,1,2,2,3,1,3,3,2,1,3,3,3,1,3,2,5,2,3,4,3,3,5,4,4,4,2,2,2,3,4,5,3,4,4,3,3,3,3,2,2,3,4,2,3,3,3,3,1,3,2,2,4,3,2,4,4,3,2,3,3,5,3,3,4,2,3,5,4,5,5,3,3,5,4,3,2,3,5,5,3,2,2,2,2,4,3,2,4,3,3,4,2,4,4,5,2,2,3,5,2,3,4,1,3,3,5,2,4,2,2,3,2,4,5,2,2,2,2,5,5,4,1,4,1,4,2,5,2,5,2,4,4,3,5,2,5,3,5,2,5,2,4,5,5,4,4,4,3,3,3,3,2,3,2,4,3,3,3,3,3,3,4,2,3,2,3,4,4,2,5,3,4,2,5,3,3,2,2,2,3,5,4,4,1,4,5,4,3,3,5,4,1,3,2,3,4,3,2,3,3,2,5,4,2,3,2,2,1,4,5,3,5,2,4,3,2,5,3,2,5,3,5,2,2,4,3,1,4,1,2,2,2,3,3,5,4,4,5,5,5,5,3,2,3,4,1,4,4,3,4,4,2,4,5,3,3,3,4,3,2,2,3,2,2,3,4,5,3,2,4,1,3,2,4,3,3,4,3,3,4,1,2,2,2,2,3,4,4,4,2,2,2,3,3,3,5,5,4,3,5,3,4,3,4,5,3,2,3,3,4,3,3,1,3,3,2,5,3,5,4,4,3,4,5,4,3,3,2,2,4,3,2,4,2,4,2,1,3,2,2,3,3,5,4,2,3,3,3,4,4,3,3,2,3,3,3,2,4,1,4,5,3,1,3],\"type\":\"box\",\"xaxis\":\"x9\",\"yaxis\":\"y9\"},{\"name\":\"Dalc\",\"width\":500,\"y\":[1,1,2,1,1,1,1,1,1,1,1,1,1,1,1,1,1,1,2,1,1,1,1,2,1,1,1,2,1,5,3,1,1,1,1,1,1,1,1,1,1,2,1,1,2,1,1,1,2,1,2,1,3,2,4,1,1,1,1,1,2,5,1,2,2,1,5,1,1,2,1,1,2,2,2,2,1,1,1,1,1,1,1,1,2,2,1,1,1,3,1,1,2,1,1,1,1,1,1,1,5,1,1,1,1,1,1,1,3,1,1,1,1,1,1,1,1,1,1,1,1,1,1,1,1,3,1,1,1,2,2,1,1,1,1,1,2,1,1,1,1,2,1,3,1,1,1,1,2,2,2,3,2,1,1,1,3,1,1,4,2,1,2,1,1,1,2,1,1,1,2,1,1,1,1,4,1,1,3,1,2,1,2,2,1,2,1,1,1,1,1,1,4,3,1,1,1,3,2,1,1,1,1,1,1,3,2,1,1,1,1,4,1,2,1,1,2,2,1,1,1,1,1,5,1,1,1,1,4,1,1,1,1,2,1,1,5,1,1,3,1,2,1,1,1,1,1,5,1,2,2,1,2,1,2,1,1,1,1,1,1,1,1,1,1,3,3,2,1,1,3,1,1,2,1,2,1,1,1,1,2,3,1,1,1,1,1,1,1,1,1,1,1,1,1,1,2,1,1,2,1,2,1,1,1,1,1,1,1,1,2,1,2,1,1,1,1,1,2,3,1,1,2,2,2,2,3,5,1,1,2,1,1,1,1,1,1,2,1,2,1,2,1,1,1,2,1,2,1,5,3,2,2,3,1,1,1,1,1,1,1,2,1,1,1,2,2,1,1,4,1,2,1,1,1,1,1,3,1,2,1,1,1,1,4,1,2,1,1,1,4,3,3,3,3],\"type\":\"box\",\"xaxis\":\"x10\",\"yaxis\":\"y10\"},{\"name\":\"Walc\",\"width\":500,\"y\":[1,1,3,1,2,2,1,1,1,1,2,1,3,2,1,2,2,1,4,3,1,1,3,4,1,3,2,4,1,5,4,1,1,1,1,1,1,1,1,1,2,4,1,1,2,1,4,1,2,1,3,1,4,3,4,1,1,1,1,1,3,5,1,4,4,2,5,2,3,3,1,1,4,2,4,3,1,3,1,2,3,2,1,3,3,3,2,3,1,5,3,3,3,1,1,1,1,1,2,1,5,1,1,1,1,1,1,1,5,1,1,1,1,1,1,2,1,1,4,2,2,2,2,4,1,2,1,1,2,5,2,2,3,4,1,1,4,1,3,1,1,2,1,3,2,2,1,1,1,5,5,5,3,1,1,1,3,5,2,4,2,4,4,4,5,1,4,1,1,1,4,1,3,1,1,4,4,4,4,1,3,2,3,3,2,3,2,2,3,5,1,1,5,4,1,1,2,5,3,2,5,3,3,2,1,4,2,1,4,1,2,5,1,4,2,3,4,4,4,1,2,1,1,5,1,1,3,3,5,2,2,1,3,4,1,3,5,1,1,5,4,3,1,2,1,1,1,5,3,4,4,3,5,3,4,2,1,1,2,1,3,1,1,1,1,4,4,2,3,2,3,3,1,2,1,3,1,4,1,2,4,4,1,1,2,2,2,1,3,1,4,2,1,1,1,3,3,2,1,2,1,2,1,2,1,1,1,1,2,3,2,1,2,2,1,1,2,1,5,3,2,1,2,3,3,2,5,5,3,2,4,1,1,1,1,3,2,3,1,3,3,2,3,2,2,3,2,3,3,5,3,3,3,3,3,1,2,2,2,1,4,3,3,1,2,4,2,2,2,2,1,3,1,3,1,2,1,4,2,3,4,3,1,3,3,3,2,2,1,1,5,4,3,4,3],\"type\":\"box\",\"xaxis\":\"x11\",\"yaxis\":\"y11\"},{\"name\":\"health\",\"width\":500,\"y\":[3,3,3,5,5,5,3,1,1,5,2,4,5,3,3,2,2,4,5,5,1,5,5,5,5,5,5,1,5,5,5,5,5,2,5,5,4,5,5,2,3,5,5,1,5,5,3,2,5,3,4,5,5,5,1,2,1,5,5,5,4,5,1,4,2,1,3,5,4,3,5,3,5,5,5,5,1,3,3,3,3,5,5,4,4,5,2,1,3,5,4,1,2,1,4,1,4,5,1,3,4,4,5,2,1,4,3,5,1,4,4,2,5,3,5,5,2,5,5,4,1,5,5,5,5,5,1,5,4,4,5,4,5,5,5,5,5,5,5,5,3,2,5,1,5,5,3,5,5,5,4,5,3,4,4,1,5,4,3,5,5,3,5,2,5,2,4,3,4,3,2,3,5,3,4,4,5,4,3,2,3,3,5,1,1,4,3,5,3,3,2,3,5,5,3,5,5,3,2,3,2,4,1,3,5,5,4,1,5,4,3,3,4,5,3,1,1,4,3,4,5,5,3,4,5,4,3,3,3,3,3,1,2,1,5,2,4,5,3,2,5,4,3,5,3,4,2,1,5,5,5,2,5,3,5,5,4,1,4,2,2,3,3,4,3,1,5,4,5,3,5,2,3,1,1,5,5,3,4,1,5,3,3,4,5,4,2,3,2,2,5,3,5,3,4,5,2,2,3,1,4,5,3,5,3,3,5,4,5,3,3,2,4,1,3,3,1,5,5,5,5,3,3,5,2,3,5,4,4,4,5,5,4,2,4,5,5,2,1,2,3,2,5,4,3,1,4,5,4,5,2,3,3,5,2,5,5,5,3,4,5,5,3,1,3,3,5,1,4,5,3,3,3,1,1,4,3,2,1,1,2,5,3,5,3,4,5,5,1,5,4,2,3,5,5],\"type\":\"box\",\"xaxis\":\"x12\",\"yaxis\":\"y12\"},{\"name\":\"absences\",\"width\":500,\"y\":[6,4,10,2,4,10,0,6,0,0,0,4,2,2,0,4,6,4,16,4,0,0,2,0,2,14,2,4,4,16,0,0,0,0,0,0,2,7,2,8,25,8,2,0,14,8,12,4,2,2,2,2,6,0,6,8,0,4,2,2,6,6,4,2,0,2,4,4,2,12,0,0,2,2,54,6,8,0,2,12,2,4,10,4,2,6,4,4,12,18,0,4,4,0,6,2,2,2,6,0,14,0,4,26,0,10,8,2,6,4,6,0,6,10,8,2,2,0,20,6,2,6,2,18,0,0,0,2,0,8,0,0,12,16,0,0,0,0,0,0,0,8,2,2,0,0,0,2,0,0,0,6,8,0,0,2,8,6,2,4,0,6,0,2,0,16,4,0,0,0,0,2,0,0,4,4,2,4,10,4,10,2,0,56,14,12,2,0,6,4,10,0,12,8,0,0,4,8,24,0,2,6,4,18,6,28,5,10,6,6,10,13,0,15,12,2,22,13,3,4,2,0,2,0,0,16,10,2,14,10,14,4,14,2,18,10,4,20,2,0,14,2,0,0,0,6,4,16,8,0,0,6,4,0,0,2,6,12,8,0,21,2,1,4,0,13,2,8,10,0,15,4,2,2,2,6,75,22,15,8,30,19,1,4,4,2,5,6,6,9,11,0,12,6,8,4,0,10,0,5,14,0,0,0,20,8,0,38,0,18,0,20,3,22,14,40,0,9,0,2,23,12,3,1,0,3,3,8,7,4,2,7,0,0,0,16,12,0,7,4,4,0,11,0,4,7,9,0,0,10,8,2,7,4,4,0,4,2,4,0,0,2,0,0,0,4,0,0,0,10,4,3,8,14,0,2,4,4,0,17,4,5,2,0,14,2,7,0,0,0,11,3,3,0,5],\"type\":\"box\",\"xaxis\":\"x13\",\"yaxis\":\"y13\"},{\"name\":\"G1\",\"width\":500,\"y\":[5,5,7,15,6,15,12,6,16,14,10,10,14,10,14,14,13,8,6,8,13,12,15,13,10,6,12,15,11,10,9,17,17,8,12,8,15,15,12,14,7,12,19,8,10,8,11,19,15,7,12,11,11,8,10,8,14,14,9,15,10,10,8,10,10,16,13,7,8,16,13,10,8,12,11,9,11,11,8,5,10,11,7,15,9,7,8,13,11,8,7,16,7,11,11,7,11,8,11,7,7,16,10,7,16,10,7,16,10,14,18,7,10,18,9,15,11,13,9,14,16,16,13,14,8,13,7,7,7,18,12,8,10,12,9,11,10,4,14,16,7,9,9,14,5,8,6,10,7,8,6,12,10,5,11,11,16,9,17,10,7,5,7,10,5,12,10,14,6,14,6,13,13,8,10,10,13,6,10,10,9,12,16,9,12,12,11,15,8,8,11,8,7,8,13,14,17,9,18,9,16,8,9,7,10,10,7,11,9,7,8,12,12,6,8,14,6,6,7,9,6,6,16,12,13,9,16,12,10,12,13,11,11,14,9,11,14,13,13,7,12,10,6,13,7,18,12,6,3,13,6,7,6,8,8,7,14,11,15,10,17,8,13,10,9,17,9,12,10,6,9,15,11,15,10,12,10,9,9,10,8,11,12,8,10,12,18,13,15,15,12,15,12,18,14,14,10,10,14,16,12,11,15,17,15,14,17,8,15,12,9,14,13,13,15,13,8,9,11,11,13,11,11,12,16,9,14,11,10,14,9,12,7,8,10,16,14,7,16,9,11,10,16,9,11,13,16,10,13,11,8,13,8,8,13,10,12,12,10,18,13,13,11,16,12,10,13,7,11,14,7,14,13,6,19,8,15,8,15,10,15,7,11,6,6,10,6,7,7,6,9,14,10,11,8],\"type\":\"box\",\"xaxis\":\"x14\",\"yaxis\":\"y14\"},{\"name\":\"G2\",\"width\":500,\"y\":[6,5,8,14,10,15,12,5,18,15,8,12,14,10,16,14,14,10,5,10,14,15,15,13,9,9,12,16,11,12,11,16,16,10,14,7,16,16,12,13,10,12,18,8,10,8,12,19,15,7,13,13,11,10,13,9,15,15,10,16,11,8,10,9,10,15,13,7,9,16,15,10,6,12,12,9,11,11,8,5,12,10,6,15,10,9,7,14,10,6,7,17,6,10,13,10,15,9,14,9,7,17,13,6,18,11,8,18,13,15,19,10,13,19,9,15,13,14,7,13,15,14,13,11,7,13,10,8,4,18,0,0,13,11,0,0,0,0,12,16,9,9,11,14,0,11,7,11,6,9,5,13,10,0,11,8,12,8,15,12,6,9,0,10,8,11,10,15,7,14,5,15,11,7,11,9,13,5,8,10,8,13,17,9,13,12,12,15,7,9,12,8,8,9,14,15,15,9,18,9,16,10,9,6,10,9,7,12,9,7,8,12,13,7,10,15,6,6,7,10,6,5,16,13,13,8,15,11,8,10,13,11,9,13,7,9,13,12,11,7,12,11,0,12,0,18,12,8,5,15,8,10,9,9,12,9,12,11,14,9,18,8,12,9,10,17,9,10,9,0,9,14,11,14,10,12,9,9,8,11,8,9,12,9,9,10,18,12,14,13,11,15,12,18,13,12,9,8,13,15,10,11,12,17,14,12,18,9,12,10,9,12,11,10,13,11,8,10,11,11,13,9,11,14,15,12,15,10,9,14,8,14,0,8,9,15,13,8,15,10,12,10,15,8,10,13,15,10,15,13,7,13,7,8,11,9,13,12,10,16,13,12,11,15,11,10,13,6,10,12,7,12,11,5,18,8,14,9,15,10,14,6,11,5,5,9,5,5,9,5,9,16,8,12,9],\"type\":\"box\",\"xaxis\":\"x15\",\"yaxis\":\"y15\"},{\"name\":\"G3\",\"width\":500,\"y\":[6,6,10,15,10,15,11,6,19,15,9,12,14,11,16,14,14,10,5,10,15,15,16,12,8,8,11,15,11,11,12,17,16,12,15,6,18,15,11,13,11,12,18,11,9,6,11,20,14,7,13,13,10,11,13,10,15,15,9,16,11,11,9,9,10,15,12,6,8,16,15,10,5,14,11,10,10,11,10,5,12,11,6,15,10,8,6,14,10,7,8,18,6,10,14,10,15,10,14,8,5,17,14,6,18,11,8,18,13,16,19,10,13,19,9,16,14,13,8,13,15,15,13,13,8,12,11,9,0,18,0,0,12,11,0,0,0,0,12,15,0,9,11,13,0,11,0,11,0,10,0,14,10,0,12,8,13,10,15,12,0,7,0,10,7,12,10,16,0,14,0,16,10,0,9,9,11,6,9,11,8,12,17,8,12,11,11,15,9,10,13,9,8,10,14,15,16,10,18,10,16,10,10,6,11,9,7,13,10,7,8,13,14,8,10,15,4,8,8,10,6,0,17,13,14,7,15,12,9,12,14,11,9,13,6,10,13,12,11,0,12,12,0,12,0,18,13,8,5,15,8,10,8,8,12,8,13,11,14,0,18,8,12,9,0,17,10,11,10,0,9,14,11,14,10,12,9,9,8,10,8,10,12,10,11,11,19,12,14,15,11,15,13,18,14,11,0,8,14,16,11,10,14,18,13,12,18,8,12,10,0,13,11,11,13,11,0,9,10,11,13,9,11,15,15,11,16,10,9,14,8,14,0,0,0,15,13,0,17,10,11,0,15,0,10,14,16,9,15,13,8,13,8,8,11,9,13,11,10,16,13,12,10,15,12,10,13,0,10,11,9,12,11,5,19,10,15,10,15,10,14,7,10,0,5,10,6,0,8,0,9,16,7,10,9],\"type\":\"box\",\"xaxis\":\"x16\",\"yaxis\":\"y16\"}],                        {\"template\":{\"data\":{\"histogram2dcontour\":[{\"type\":\"histogram2dcontour\",\"colorbar\":{\"outlinewidth\":0,\"ticks\":\"\"},\"colorscale\":[[0.0,\"#0d0887\"],[0.1111111111111111,\"#46039f\"],[0.2222222222222222,\"#7201a8\"],[0.3333333333333333,\"#9c179e\"],[0.4444444444444444,\"#bd3786\"],[0.5555555555555556,\"#d8576b\"],[0.6666666666666666,\"#ed7953\"],[0.7777777777777778,\"#fb9f3a\"],[0.8888888888888888,\"#fdca26\"],[1.0,\"#f0f921\"]]}],\"choropleth\":[{\"type\":\"choropleth\",\"colorbar\":{\"outlinewidth\":0,\"ticks\":\"\"}}],\"histogram2d\":[{\"type\":\"histogram2d\",\"colorbar\":{\"outlinewidth\":0,\"ticks\":\"\"},\"colorscale\":[[0.0,\"#0d0887\"],[0.1111111111111111,\"#46039f\"],[0.2222222222222222,\"#7201a8\"],[0.3333333333333333,\"#9c179e\"],[0.4444444444444444,\"#bd3786\"],[0.5555555555555556,\"#d8576b\"],[0.6666666666666666,\"#ed7953\"],[0.7777777777777778,\"#fb9f3a\"],[0.8888888888888888,\"#fdca26\"],[1.0,\"#f0f921\"]]}],\"heatmap\":[{\"type\":\"heatmap\",\"colorbar\":{\"outlinewidth\":0,\"ticks\":\"\"},\"colorscale\":[[0.0,\"#0d0887\"],[0.1111111111111111,\"#46039f\"],[0.2222222222222222,\"#7201a8\"],[0.3333333333333333,\"#9c179e\"],[0.4444444444444444,\"#bd3786\"],[0.5555555555555556,\"#d8576b\"],[0.6666666666666666,\"#ed7953\"],[0.7777777777777778,\"#fb9f3a\"],[0.8888888888888888,\"#fdca26\"],[1.0,\"#f0f921\"]]}],\"heatmapgl\":[{\"type\":\"heatmapgl\",\"colorbar\":{\"outlinewidth\":0,\"ticks\":\"\"},\"colorscale\":[[0.0,\"#0d0887\"],[0.1111111111111111,\"#46039f\"],[0.2222222222222222,\"#7201a8\"],[0.3333333333333333,\"#9c179e\"],[0.4444444444444444,\"#bd3786\"],[0.5555555555555556,\"#d8576b\"],[0.6666666666666666,\"#ed7953\"],[0.7777777777777778,\"#fb9f3a\"],[0.8888888888888888,\"#fdca26\"],[1.0,\"#f0f921\"]]}],\"contourcarpet\":[{\"type\":\"contourcarpet\",\"colorbar\":{\"outlinewidth\":0,\"ticks\":\"\"}}],\"contour\":[{\"type\":\"contour\",\"colorbar\":{\"outlinewidth\":0,\"ticks\":\"\"},\"colorscale\":[[0.0,\"#0d0887\"],[0.1111111111111111,\"#46039f\"],[0.2222222222222222,\"#7201a8\"],[0.3333333333333333,\"#9c179e\"],[0.4444444444444444,\"#bd3786\"],[0.5555555555555556,\"#d8576b\"],[0.6666666666666666,\"#ed7953\"],[0.7777777777777778,\"#fb9f3a\"],[0.8888888888888888,\"#fdca26\"],[1.0,\"#f0f921\"]]}],\"surface\":[{\"type\":\"surface\",\"colorbar\":{\"outlinewidth\":0,\"ticks\":\"\"},\"colorscale\":[[0.0,\"#0d0887\"],[0.1111111111111111,\"#46039f\"],[0.2222222222222222,\"#7201a8\"],[0.3333333333333333,\"#9c179e\"],[0.4444444444444444,\"#bd3786\"],[0.5555555555555556,\"#d8576b\"],[0.6666666666666666,\"#ed7953\"],[0.7777777777777778,\"#fb9f3a\"],[0.8888888888888888,\"#fdca26\"],[1.0,\"#f0f921\"]]}],\"mesh3d\":[{\"type\":\"mesh3d\",\"colorbar\":{\"outlinewidth\":0,\"ticks\":\"\"}}],\"scatter\":[{\"fillpattern\":{\"fillmode\":\"overlay\",\"size\":10,\"solidity\":0.2},\"type\":\"scatter\"}],\"parcoords\":[{\"type\":\"parcoords\",\"line\":{\"colorbar\":{\"outlinewidth\":0,\"ticks\":\"\"}}}],\"scatterpolargl\":[{\"type\":\"scatterpolargl\",\"marker\":{\"colorbar\":{\"outlinewidth\":0,\"ticks\":\"\"}}}],\"bar\":[{\"error_x\":{\"color\":\"#2a3f5f\"},\"error_y\":{\"color\":\"#2a3f5f\"},\"marker\":{\"line\":{\"color\":\"#E5ECF6\",\"width\":0.5},\"pattern\":{\"fillmode\":\"overlay\",\"size\":10,\"solidity\":0.2}},\"type\":\"bar\"}],\"scattergeo\":[{\"type\":\"scattergeo\",\"marker\":{\"colorbar\":{\"outlinewidth\":0,\"ticks\":\"\"}}}],\"scatterpolar\":[{\"type\":\"scatterpolar\",\"marker\":{\"colorbar\":{\"outlinewidth\":0,\"ticks\":\"\"}}}],\"histogram\":[{\"marker\":{\"pattern\":{\"fillmode\":\"overlay\",\"size\":10,\"solidity\":0.2}},\"type\":\"histogram\"}],\"scattergl\":[{\"type\":\"scattergl\",\"marker\":{\"colorbar\":{\"outlinewidth\":0,\"ticks\":\"\"}}}],\"scatter3d\":[{\"type\":\"scatter3d\",\"line\":{\"colorbar\":{\"outlinewidth\":0,\"ticks\":\"\"}},\"marker\":{\"colorbar\":{\"outlinewidth\":0,\"ticks\":\"\"}}}],\"scattermapbox\":[{\"type\":\"scattermapbox\",\"marker\":{\"colorbar\":{\"outlinewidth\":0,\"ticks\":\"\"}}}],\"scatterternary\":[{\"type\":\"scatterternary\",\"marker\":{\"colorbar\":{\"outlinewidth\":0,\"ticks\":\"\"}}}],\"scattercarpet\":[{\"type\":\"scattercarpet\",\"marker\":{\"colorbar\":{\"outlinewidth\":0,\"ticks\":\"\"}}}],\"carpet\":[{\"aaxis\":{\"endlinecolor\":\"#2a3f5f\",\"gridcolor\":\"white\",\"linecolor\":\"white\",\"minorgridcolor\":\"white\",\"startlinecolor\":\"#2a3f5f\"},\"baxis\":{\"endlinecolor\":\"#2a3f5f\",\"gridcolor\":\"white\",\"linecolor\":\"white\",\"minorgridcolor\":\"white\",\"startlinecolor\":\"#2a3f5f\"},\"type\":\"carpet\"}],\"table\":[{\"cells\":{\"fill\":{\"color\":\"#EBF0F8\"},\"line\":{\"color\":\"white\"}},\"header\":{\"fill\":{\"color\":\"#C8D4E3\"},\"line\":{\"color\":\"white\"}},\"type\":\"table\"}],\"barpolar\":[{\"marker\":{\"line\":{\"color\":\"#E5ECF6\",\"width\":0.5},\"pattern\":{\"fillmode\":\"overlay\",\"size\":10,\"solidity\":0.2}},\"type\":\"barpolar\"}],\"pie\":[{\"automargin\":true,\"type\":\"pie\"}]},\"layout\":{\"autotypenumbers\":\"strict\",\"colorway\":[\"#636efa\",\"#EF553B\",\"#00cc96\",\"#ab63fa\",\"#FFA15A\",\"#19d3f3\",\"#FF6692\",\"#B6E880\",\"#FF97FF\",\"#FECB52\"],\"font\":{\"color\":\"#2a3f5f\"},\"hovermode\":\"closest\",\"hoverlabel\":{\"align\":\"left\"},\"paper_bgcolor\":\"white\",\"plot_bgcolor\":\"#E5ECF6\",\"polar\":{\"bgcolor\":\"#E5ECF6\",\"angularaxis\":{\"gridcolor\":\"white\",\"linecolor\":\"white\",\"ticks\":\"\"},\"radialaxis\":{\"gridcolor\":\"white\",\"linecolor\":\"white\",\"ticks\":\"\"}},\"ternary\":{\"bgcolor\":\"#E5ECF6\",\"aaxis\":{\"gridcolor\":\"white\",\"linecolor\":\"white\",\"ticks\":\"\"},\"baxis\":{\"gridcolor\":\"white\",\"linecolor\":\"white\",\"ticks\":\"\"},\"caxis\":{\"gridcolor\":\"white\",\"linecolor\":\"white\",\"ticks\":\"\"}},\"coloraxis\":{\"colorbar\":{\"outlinewidth\":0,\"ticks\":\"\"}},\"colorscale\":{\"sequential\":[[0.0,\"#0d0887\"],[0.1111111111111111,\"#46039f\"],[0.2222222222222222,\"#7201a8\"],[0.3333333333333333,\"#9c179e\"],[0.4444444444444444,\"#bd3786\"],[0.5555555555555556,\"#d8576b\"],[0.6666666666666666,\"#ed7953\"],[0.7777777777777778,\"#fb9f3a\"],[0.8888888888888888,\"#fdca26\"],[1.0,\"#f0f921\"]],\"sequentialminus\":[[0.0,\"#0d0887\"],[0.1111111111111111,\"#46039f\"],[0.2222222222222222,\"#7201a8\"],[0.3333333333333333,\"#9c179e\"],[0.4444444444444444,\"#bd3786\"],[0.5555555555555556,\"#d8576b\"],[0.6666666666666666,\"#ed7953\"],[0.7777777777777778,\"#fb9f3a\"],[0.8888888888888888,\"#fdca26\"],[1.0,\"#f0f921\"]],\"diverging\":[[0,\"#8e0152\"],[0.1,\"#c51b7d\"],[0.2,\"#de77ae\"],[0.3,\"#f1b6da\"],[0.4,\"#fde0ef\"],[0.5,\"#f7f7f7\"],[0.6,\"#e6f5d0\"],[0.7,\"#b8e186\"],[0.8,\"#7fbc41\"],[0.9,\"#4d9221\"],[1,\"#276419\"]]},\"xaxis\":{\"gridcolor\":\"white\",\"linecolor\":\"white\",\"ticks\":\"\",\"title\":{\"standoff\":15},\"zerolinecolor\":\"white\",\"automargin\":true,\"zerolinewidth\":2},\"yaxis\":{\"gridcolor\":\"white\",\"linecolor\":\"white\",\"ticks\":\"\",\"title\":{\"standoff\":15},\"zerolinecolor\":\"white\",\"automargin\":true,\"zerolinewidth\":2},\"scene\":{\"xaxis\":{\"backgroundcolor\":\"#E5ECF6\",\"gridcolor\":\"white\",\"linecolor\":\"white\",\"showbackground\":true,\"ticks\":\"\",\"zerolinecolor\":\"white\",\"gridwidth\":2},\"yaxis\":{\"backgroundcolor\":\"#E5ECF6\",\"gridcolor\":\"white\",\"linecolor\":\"white\",\"showbackground\":true,\"ticks\":\"\",\"zerolinecolor\":\"white\",\"gridwidth\":2},\"zaxis\":{\"backgroundcolor\":\"#E5ECF6\",\"gridcolor\":\"white\",\"linecolor\":\"white\",\"showbackground\":true,\"ticks\":\"\",\"zerolinecolor\":\"white\",\"gridwidth\":2}},\"shapedefaults\":{\"line\":{\"color\":\"#2a3f5f\"}},\"annotationdefaults\":{\"arrowcolor\":\"#2a3f5f\",\"arrowhead\":0,\"arrowwidth\":1},\"geo\":{\"bgcolor\":\"white\",\"landcolor\":\"#E5ECF6\",\"subunitcolor\":\"white\",\"showland\":true,\"showlakes\":true,\"lakecolor\":\"white\"},\"title\":{\"x\":0.05},\"mapbox\":{\"style\":\"light\"}}},\"xaxis\":{\"anchor\":\"y\",\"domain\":[0.0,0.2125]},\"yaxis\":{\"anchor\":\"x\",\"domain\":[0.0,0.19375]},\"xaxis2\":{\"anchor\":\"y2\",\"domain\":[0.2625,0.475]},\"yaxis2\":{\"anchor\":\"x2\",\"domain\":[0.0,0.19375]},\"xaxis3\":{\"anchor\":\"y3\",\"domain\":[0.525,0.7375]},\"yaxis3\":{\"anchor\":\"x3\",\"domain\":[0.0,0.19375]},\"xaxis4\":{\"anchor\":\"y4\",\"domain\":[0.7875,1.0]},\"yaxis4\":{\"anchor\":\"x4\",\"domain\":[0.0,0.19375]},\"xaxis5\":{\"anchor\":\"y5\",\"domain\":[0.0,0.2125]},\"yaxis5\":{\"anchor\":\"x5\",\"domain\":[0.26875,0.4625]},\"xaxis6\":{\"anchor\":\"y6\",\"domain\":[0.2625,0.475]},\"yaxis6\":{\"anchor\":\"x6\",\"domain\":[0.26875,0.4625]},\"xaxis7\":{\"anchor\":\"y7\",\"domain\":[0.525,0.7375]},\"yaxis7\":{\"anchor\":\"x7\",\"domain\":[0.26875,0.4625]},\"xaxis8\":{\"anchor\":\"y8\",\"domain\":[0.7875,1.0]},\"yaxis8\":{\"anchor\":\"x8\",\"domain\":[0.26875,0.4625]},\"xaxis9\":{\"anchor\":\"y9\",\"domain\":[0.0,0.2125]},\"yaxis9\":{\"anchor\":\"x9\",\"domain\":[0.5375,0.73125]},\"xaxis10\":{\"anchor\":\"y10\",\"domain\":[0.2625,0.475]},\"yaxis10\":{\"anchor\":\"x10\",\"domain\":[0.5375,0.73125]},\"xaxis11\":{\"anchor\":\"y11\",\"domain\":[0.525,0.7375]},\"yaxis11\":{\"anchor\":\"x11\",\"domain\":[0.5375,0.73125]},\"xaxis12\":{\"anchor\":\"y12\",\"domain\":[0.7875,1.0]},\"yaxis12\":{\"anchor\":\"x12\",\"domain\":[0.5375,0.73125]},\"xaxis13\":{\"anchor\":\"y13\",\"domain\":[0.0,0.2125]},\"yaxis13\":{\"anchor\":\"x13\",\"domain\":[0.80625,1.0]},\"xaxis14\":{\"anchor\":\"y14\",\"domain\":[0.2625,0.475]},\"yaxis14\":{\"anchor\":\"x14\",\"domain\":[0.80625,1.0]},\"xaxis15\":{\"anchor\":\"y15\",\"domain\":[0.525,0.7375]},\"yaxis15\":{\"anchor\":\"x15\",\"domain\":[0.80625,1.0]},\"xaxis16\":{\"anchor\":\"y16\",\"domain\":[0.7875,1.0]},\"yaxis16\":{\"anchor\":\"x16\",\"domain\":[0.80625,1.0]},\"title\":{\"text\":\"Box plots for Math Class\",\"x\":0.5}},                        {\"responsive\": true}                    ).then(function(){\n",
              "                            \n",
              "var gd = document.getElementById('9de0a904-1ec6-4347-8f08-ef5019b456bc');\n",
              "var x = new MutationObserver(function (mutations, observer) {{\n",
              "        var display = window.getComputedStyle(gd).display;\n",
              "        if (!display || display === 'none') {{\n",
              "            console.log([gd, 'removed!']);\n",
              "            Plotly.purge(gd);\n",
              "            observer.disconnect();\n",
              "        }}\n",
              "}});\n",
              "\n",
              "// Listen for the removal of the full notebook cells\n",
              "var notebookContainer = gd.closest('#notebook-container');\n",
              "if (notebookContainer) {{\n",
              "    x.observe(notebookContainer, {childList: true});\n",
              "}}\n",
              "\n",
              "// Listen for the clearing of the current output cell\n",
              "var outputEl = gd.closest('.output');\n",
              "if (outputEl) {{\n",
              "    x.observe(outputEl, {childList: true});\n",
              "}}\n",
              "\n",
              "                        })                };                            </script>        </div>\n",
              "</body>\n",
              "</html>"
            ]
          },
          "metadata": {}
        }
      ]
    },
    {
      "cell_type": "markdown",
      "source": [
        "It seems quite similar to portugese class\n",
        "\n",
        "**What about correlation between numeric values ?**"
      ],
      "metadata": {
        "id": "JvejlZofsdTa"
      }
    },
    {
      "cell_type": "code",
      "source": [
        "# Correlation\n",
        "df_corr = student_por.corr().round(1)  \n",
        "fig = px.imshow(df_corr, text_auto=True)\n",
        "fig.show()"
      ],
      "metadata": {
        "colab": {
          "base_uri": "https://localhost:8080/",
          "height": 635
        },
        "id": "mKx153EsodKs",
        "outputId": "9e2dea98-2f0a-4936-a351-63f04783c59e"
      },
      "execution_count": 19,
      "outputs": [
        {
          "output_type": "stream",
          "name": "stderr",
          "text": [
            "<ipython-input-19-028a0a2f46d2>:2: FutureWarning:\n",
            "\n",
            "The default value of numeric_only in DataFrame.corr is deprecated. In a future version, it will default to False. Select only valid columns or specify the value of numeric_only to silence this warning.\n",
            "\n"
          ]
        },
        {
          "output_type": "display_data",
          "data": {
            "text/html": [
              "<html>\n",
              "<head><meta charset=\"utf-8\" /></head>\n",
              "<body>\n",
              "    <div>            <script src=\"https://cdnjs.cloudflare.com/ajax/libs/mathjax/2.7.5/MathJax.js?config=TeX-AMS-MML_SVG\"></script><script type=\"text/javascript\">if (window.MathJax && window.MathJax.Hub && window.MathJax.Hub.Config) {window.MathJax.Hub.Config({SVG: {font: \"STIX-Web\"}});}</script>                <script type=\"text/javascript\">window.PlotlyConfig = {MathJaxConfig: 'local'};</script>\n",
              "        <script src=\"https://cdn.plot.ly/plotly-2.18.2.min.js\"></script>                <div id=\"c92df051-2366-468c-85b5-d561b7603129\" class=\"plotly-graph-div\" style=\"height:525px; width:100%;\"></div>            <script type=\"text/javascript\">                                    window.PLOTLYENV=window.PLOTLYENV || {};                                    if (document.getElementById(\"c92df051-2366-468c-85b5-d561b7603129\")) {                    Plotly.newPlot(                        \"c92df051-2366-468c-85b5-d561b7603129\",                        [{\"coloraxis\":\"coloraxis\",\"name\":\"0\",\"texttemplate\":\"%{z}\",\"x\":[\"age\",\"Medu\",\"Fedu\",\"traveltime\",\"studytime\",\"failures\",\"famrel\",\"freetime\",\"goout\",\"Dalc\",\"Walc\",\"health\",\"absences\",\"G1\",\"G2\",\"G3\"],\"y\":[\"age\",\"Medu\",\"Fedu\",\"traveltime\",\"studytime\",\"failures\",\"famrel\",\"freetime\",\"goout\",\"Dalc\",\"Walc\",\"health\",\"absences\",\"G1\",\"G2\",\"G3\"],\"z\":[[1.0,-0.1,-0.1,0.0,-0.0,0.3,-0.0,-0.0,0.1,0.1,0.1,-0.0,0.1,-0.2,-0.1,-0.1],[-0.1,1.0,0.6,-0.3,0.1,-0.2,0.0,-0.0,0.0,-0.0,-0.0,0.0,-0.0,0.3,0.3,0.2],[-0.1,0.6,1.0,-0.2,0.1,-0.2,0.0,0.0,0.0,0.0,0.0,0.0,0.0,0.2,0.2,0.2],[0.0,-0.3,-0.2,1.0,-0.1,0.1,-0.0,0.0,0.1,0.1,0.1,-0.0,-0.0,-0.2,-0.2,-0.1],[-0.0,0.1,0.1,-0.1,1.0,-0.1,-0.0,-0.1,-0.1,-0.1,-0.2,-0.1,-0.1,0.3,0.2,0.2],[0.3,-0.2,-0.2,0.1,-0.1,1.0,-0.1,0.1,0.0,0.1,0.1,0.0,0.1,-0.4,-0.4,-0.4],[-0.0,0.0,0.0,-0.0,-0.0,-0.1,1.0,0.1,0.1,-0.1,-0.1,0.1,-0.1,0.0,0.1,0.1],[-0.0,-0.0,0.0,0.0,-0.1,0.1,0.1,1.0,0.3,0.1,0.1,0.1,-0.0,-0.1,-0.1,-0.1],[0.1,0.0,0.0,0.1,-0.1,0.0,0.1,0.3,1.0,0.2,0.4,-0.0,0.1,-0.1,-0.1,-0.1],[0.1,-0.0,0.0,0.1,-0.1,0.1,-0.1,0.1,0.2,1.0,0.6,0.1,0.2,-0.2,-0.2,-0.2],[0.1,-0.0,0.0,0.1,-0.2,0.1,-0.1,0.1,0.4,0.6,1.0,0.1,0.2,-0.2,-0.2,-0.2],[-0.0,0.0,0.0,-0.0,-0.1,0.0,0.1,0.1,-0.0,0.1,0.1,1.0,-0.0,-0.1,-0.1,-0.1],[0.1,-0.0,0.0,-0.0,-0.1,0.1,-0.1,-0.0,0.1,0.2,0.2,-0.0,1.0,-0.1,-0.1,-0.1],[-0.2,0.3,0.2,-0.2,0.3,-0.4,0.0,-0.1,-0.1,-0.2,-0.2,-0.1,-0.1,1.0,0.9,0.8],[-0.1,0.3,0.2,-0.2,0.2,-0.4,0.1,-0.1,-0.1,-0.2,-0.2,-0.1,-0.1,0.9,1.0,0.9],[-0.1,0.2,0.2,-0.1,0.2,-0.4,0.1,-0.1,-0.1,-0.2,-0.2,-0.1,-0.1,0.8,0.9,1.0]],\"type\":\"heatmap\",\"xaxis\":\"x\",\"yaxis\":\"y\",\"hovertemplate\":\"x: %{x}<br>y: %{y}<br>color: %{z}<extra></extra>\"}],                        {\"template\":{\"data\":{\"histogram2dcontour\":[{\"type\":\"histogram2dcontour\",\"colorbar\":{\"outlinewidth\":0,\"ticks\":\"\"},\"colorscale\":[[0.0,\"#0d0887\"],[0.1111111111111111,\"#46039f\"],[0.2222222222222222,\"#7201a8\"],[0.3333333333333333,\"#9c179e\"],[0.4444444444444444,\"#bd3786\"],[0.5555555555555556,\"#d8576b\"],[0.6666666666666666,\"#ed7953\"],[0.7777777777777778,\"#fb9f3a\"],[0.8888888888888888,\"#fdca26\"],[1.0,\"#f0f921\"]]}],\"choropleth\":[{\"type\":\"choropleth\",\"colorbar\":{\"outlinewidth\":0,\"ticks\":\"\"}}],\"histogram2d\":[{\"type\":\"histogram2d\",\"colorbar\":{\"outlinewidth\":0,\"ticks\":\"\"},\"colorscale\":[[0.0,\"#0d0887\"],[0.1111111111111111,\"#46039f\"],[0.2222222222222222,\"#7201a8\"],[0.3333333333333333,\"#9c179e\"],[0.4444444444444444,\"#bd3786\"],[0.5555555555555556,\"#d8576b\"],[0.6666666666666666,\"#ed7953\"],[0.7777777777777778,\"#fb9f3a\"],[0.8888888888888888,\"#fdca26\"],[1.0,\"#f0f921\"]]}],\"heatmap\":[{\"type\":\"heatmap\",\"colorbar\":{\"outlinewidth\":0,\"ticks\":\"\"},\"colorscale\":[[0.0,\"#0d0887\"],[0.1111111111111111,\"#46039f\"],[0.2222222222222222,\"#7201a8\"],[0.3333333333333333,\"#9c179e\"],[0.4444444444444444,\"#bd3786\"],[0.5555555555555556,\"#d8576b\"],[0.6666666666666666,\"#ed7953\"],[0.7777777777777778,\"#fb9f3a\"],[0.8888888888888888,\"#fdca26\"],[1.0,\"#f0f921\"]]}],\"heatmapgl\":[{\"type\":\"heatmapgl\",\"colorbar\":{\"outlinewidth\":0,\"ticks\":\"\"},\"colorscale\":[[0.0,\"#0d0887\"],[0.1111111111111111,\"#46039f\"],[0.2222222222222222,\"#7201a8\"],[0.3333333333333333,\"#9c179e\"],[0.4444444444444444,\"#bd3786\"],[0.5555555555555556,\"#d8576b\"],[0.6666666666666666,\"#ed7953\"],[0.7777777777777778,\"#fb9f3a\"],[0.8888888888888888,\"#fdca26\"],[1.0,\"#f0f921\"]]}],\"contourcarpet\":[{\"type\":\"contourcarpet\",\"colorbar\":{\"outlinewidth\":0,\"ticks\":\"\"}}],\"contour\":[{\"type\":\"contour\",\"colorbar\":{\"outlinewidth\":0,\"ticks\":\"\"},\"colorscale\":[[0.0,\"#0d0887\"],[0.1111111111111111,\"#46039f\"],[0.2222222222222222,\"#7201a8\"],[0.3333333333333333,\"#9c179e\"],[0.4444444444444444,\"#bd3786\"],[0.5555555555555556,\"#d8576b\"],[0.6666666666666666,\"#ed7953\"],[0.7777777777777778,\"#fb9f3a\"],[0.8888888888888888,\"#fdca26\"],[1.0,\"#f0f921\"]]}],\"surface\":[{\"type\":\"surface\",\"colorbar\":{\"outlinewidth\":0,\"ticks\":\"\"},\"colorscale\":[[0.0,\"#0d0887\"],[0.1111111111111111,\"#46039f\"],[0.2222222222222222,\"#7201a8\"],[0.3333333333333333,\"#9c179e\"],[0.4444444444444444,\"#bd3786\"],[0.5555555555555556,\"#d8576b\"],[0.6666666666666666,\"#ed7953\"],[0.7777777777777778,\"#fb9f3a\"],[0.8888888888888888,\"#fdca26\"],[1.0,\"#f0f921\"]]}],\"mesh3d\":[{\"type\":\"mesh3d\",\"colorbar\":{\"outlinewidth\":0,\"ticks\":\"\"}}],\"scatter\":[{\"fillpattern\":{\"fillmode\":\"overlay\",\"size\":10,\"solidity\":0.2},\"type\":\"scatter\"}],\"parcoords\":[{\"type\":\"parcoords\",\"line\":{\"colorbar\":{\"outlinewidth\":0,\"ticks\":\"\"}}}],\"scatterpolargl\":[{\"type\":\"scatterpolargl\",\"marker\":{\"colorbar\":{\"outlinewidth\":0,\"ticks\":\"\"}}}],\"bar\":[{\"error_x\":{\"color\":\"#2a3f5f\"},\"error_y\":{\"color\":\"#2a3f5f\"},\"marker\":{\"line\":{\"color\":\"#E5ECF6\",\"width\":0.5},\"pattern\":{\"fillmode\":\"overlay\",\"size\":10,\"solidity\":0.2}},\"type\":\"bar\"}],\"scattergeo\":[{\"type\":\"scattergeo\",\"marker\":{\"colorbar\":{\"outlinewidth\":0,\"ticks\":\"\"}}}],\"scatterpolar\":[{\"type\":\"scatterpolar\",\"marker\":{\"colorbar\":{\"outlinewidth\":0,\"ticks\":\"\"}}}],\"histogram\":[{\"marker\":{\"pattern\":{\"fillmode\":\"overlay\",\"size\":10,\"solidity\":0.2}},\"type\":\"histogram\"}],\"scattergl\":[{\"type\":\"scattergl\",\"marker\":{\"colorbar\":{\"outlinewidth\":0,\"ticks\":\"\"}}}],\"scatter3d\":[{\"type\":\"scatter3d\",\"line\":{\"colorbar\":{\"outlinewidth\":0,\"ticks\":\"\"}},\"marker\":{\"colorbar\":{\"outlinewidth\":0,\"ticks\":\"\"}}}],\"scattermapbox\":[{\"type\":\"scattermapbox\",\"marker\":{\"colorbar\":{\"outlinewidth\":0,\"ticks\":\"\"}}}],\"scatterternary\":[{\"type\":\"scatterternary\",\"marker\":{\"colorbar\":{\"outlinewidth\":0,\"ticks\":\"\"}}}],\"scattercarpet\":[{\"type\":\"scattercarpet\",\"marker\":{\"colorbar\":{\"outlinewidth\":0,\"ticks\":\"\"}}}],\"carpet\":[{\"aaxis\":{\"endlinecolor\":\"#2a3f5f\",\"gridcolor\":\"white\",\"linecolor\":\"white\",\"minorgridcolor\":\"white\",\"startlinecolor\":\"#2a3f5f\"},\"baxis\":{\"endlinecolor\":\"#2a3f5f\",\"gridcolor\":\"white\",\"linecolor\":\"white\",\"minorgridcolor\":\"white\",\"startlinecolor\":\"#2a3f5f\"},\"type\":\"carpet\"}],\"table\":[{\"cells\":{\"fill\":{\"color\":\"#EBF0F8\"},\"line\":{\"color\":\"white\"}},\"header\":{\"fill\":{\"color\":\"#C8D4E3\"},\"line\":{\"color\":\"white\"}},\"type\":\"table\"}],\"barpolar\":[{\"marker\":{\"line\":{\"color\":\"#E5ECF6\",\"width\":0.5},\"pattern\":{\"fillmode\":\"overlay\",\"size\":10,\"solidity\":0.2}},\"type\":\"barpolar\"}],\"pie\":[{\"automargin\":true,\"type\":\"pie\"}]},\"layout\":{\"autotypenumbers\":\"strict\",\"colorway\":[\"#636efa\",\"#EF553B\",\"#00cc96\",\"#ab63fa\",\"#FFA15A\",\"#19d3f3\",\"#FF6692\",\"#B6E880\",\"#FF97FF\",\"#FECB52\"],\"font\":{\"color\":\"#2a3f5f\"},\"hovermode\":\"closest\",\"hoverlabel\":{\"align\":\"left\"},\"paper_bgcolor\":\"white\",\"plot_bgcolor\":\"#E5ECF6\",\"polar\":{\"bgcolor\":\"#E5ECF6\",\"angularaxis\":{\"gridcolor\":\"white\",\"linecolor\":\"white\",\"ticks\":\"\"},\"radialaxis\":{\"gridcolor\":\"white\",\"linecolor\":\"white\",\"ticks\":\"\"}},\"ternary\":{\"bgcolor\":\"#E5ECF6\",\"aaxis\":{\"gridcolor\":\"white\",\"linecolor\":\"white\",\"ticks\":\"\"},\"baxis\":{\"gridcolor\":\"white\",\"linecolor\":\"white\",\"ticks\":\"\"},\"caxis\":{\"gridcolor\":\"white\",\"linecolor\":\"white\",\"ticks\":\"\"}},\"coloraxis\":{\"colorbar\":{\"outlinewidth\":0,\"ticks\":\"\"}},\"colorscale\":{\"sequential\":[[0.0,\"#0d0887\"],[0.1111111111111111,\"#46039f\"],[0.2222222222222222,\"#7201a8\"],[0.3333333333333333,\"#9c179e\"],[0.4444444444444444,\"#bd3786\"],[0.5555555555555556,\"#d8576b\"],[0.6666666666666666,\"#ed7953\"],[0.7777777777777778,\"#fb9f3a\"],[0.8888888888888888,\"#fdca26\"],[1.0,\"#f0f921\"]],\"sequentialminus\":[[0.0,\"#0d0887\"],[0.1111111111111111,\"#46039f\"],[0.2222222222222222,\"#7201a8\"],[0.3333333333333333,\"#9c179e\"],[0.4444444444444444,\"#bd3786\"],[0.5555555555555556,\"#d8576b\"],[0.6666666666666666,\"#ed7953\"],[0.7777777777777778,\"#fb9f3a\"],[0.8888888888888888,\"#fdca26\"],[1.0,\"#f0f921\"]],\"diverging\":[[0,\"#8e0152\"],[0.1,\"#c51b7d\"],[0.2,\"#de77ae\"],[0.3,\"#f1b6da\"],[0.4,\"#fde0ef\"],[0.5,\"#f7f7f7\"],[0.6,\"#e6f5d0\"],[0.7,\"#b8e186\"],[0.8,\"#7fbc41\"],[0.9,\"#4d9221\"],[1,\"#276419\"]]},\"xaxis\":{\"gridcolor\":\"white\",\"linecolor\":\"white\",\"ticks\":\"\",\"title\":{\"standoff\":15},\"zerolinecolor\":\"white\",\"automargin\":true,\"zerolinewidth\":2},\"yaxis\":{\"gridcolor\":\"white\",\"linecolor\":\"white\",\"ticks\":\"\",\"title\":{\"standoff\":15},\"zerolinecolor\":\"white\",\"automargin\":true,\"zerolinewidth\":2},\"scene\":{\"xaxis\":{\"backgroundcolor\":\"#E5ECF6\",\"gridcolor\":\"white\",\"linecolor\":\"white\",\"showbackground\":true,\"ticks\":\"\",\"zerolinecolor\":\"white\",\"gridwidth\":2},\"yaxis\":{\"backgroundcolor\":\"#E5ECF6\",\"gridcolor\":\"white\",\"linecolor\":\"white\",\"showbackground\":true,\"ticks\":\"\",\"zerolinecolor\":\"white\",\"gridwidth\":2},\"zaxis\":{\"backgroundcolor\":\"#E5ECF6\",\"gridcolor\":\"white\",\"linecolor\":\"white\",\"showbackground\":true,\"ticks\":\"\",\"zerolinecolor\":\"white\",\"gridwidth\":2}},\"shapedefaults\":{\"line\":{\"color\":\"#2a3f5f\"}},\"annotationdefaults\":{\"arrowcolor\":\"#2a3f5f\",\"arrowhead\":0,\"arrowwidth\":1},\"geo\":{\"bgcolor\":\"white\",\"landcolor\":\"#E5ECF6\",\"subunitcolor\":\"white\",\"showland\":true,\"showlakes\":true,\"lakecolor\":\"white\"},\"title\":{\"x\":0.05},\"mapbox\":{\"style\":\"light\"}}},\"xaxis\":{\"anchor\":\"y\",\"domain\":[0.0,1.0],\"scaleanchor\":\"y\",\"constrain\":\"domain\"},\"yaxis\":{\"anchor\":\"x\",\"domain\":[0.0,1.0],\"autorange\":\"reversed\",\"constrain\":\"domain\"},\"coloraxis\":{\"colorscale\":[[0.0,\"#0d0887\"],[0.1111111111111111,\"#46039f\"],[0.2222222222222222,\"#7201a8\"],[0.3333333333333333,\"#9c179e\"],[0.4444444444444444,\"#bd3786\"],[0.5555555555555556,\"#d8576b\"],[0.6666666666666666,\"#ed7953\"],[0.7777777777777778,\"#fb9f3a\"],[0.8888888888888888,\"#fdca26\"],[1.0,\"#f0f921\"]]},\"margin\":{\"t\":60}},                        {\"responsive\": true}                    ).then(function(){\n",
              "                            \n",
              "var gd = document.getElementById('c92df051-2366-468c-85b5-d561b7603129');\n",
              "var x = new MutationObserver(function (mutations, observer) {{\n",
              "        var display = window.getComputedStyle(gd).display;\n",
              "        if (!display || display === 'none') {{\n",
              "            console.log([gd, 'removed!']);\n",
              "            Plotly.purge(gd);\n",
              "            observer.disconnect();\n",
              "        }}\n",
              "}});\n",
              "\n",
              "// Listen for the removal of the full notebook cells\n",
              "var notebookContainer = gd.closest('#notebook-container');\n",
              "if (notebookContainer) {{\n",
              "    x.observe(notebookContainer, {childList: true});\n",
              "}}\n",
              "\n",
              "// Listen for the clearing of the current output cell\n",
              "var outputEl = gd.closest('.output');\n",
              "if (outputEl) {{\n",
              "    x.observe(outputEl, {childList: true});\n",
              "}}\n",
              "\n",
              "                        })                };                            </script>        </div>\n",
              "</body>\n",
              "</html>"
            ]
          },
          "metadata": {}
        }
      ]
    },
    {
      "cell_type": "markdown",
      "source": [
        "Appearently, G1, G2 and G3 has high correlation between each other. Correlation between Fedu and Medu is noticable as well in portugese class\n",
        "\n",
        "**What about correlation in math class ?**"
      ],
      "metadata": {
        "id": "7-tx9UvUprCh"
      }
    },
    {
      "cell_type": "code",
      "source": [
        "# Correlation\n",
        "df_corr = student_math.corr().round(1)  \n",
        "fig = px.imshow(df_corr, text_auto=True)\n",
        "fig.show()"
      ],
      "metadata": {
        "colab": {
          "base_uri": "https://localhost:8080/",
          "height": 635
        },
        "id": "IJTAXUagqdlm",
        "outputId": "12b156d3-3479-4a8d-b265-951fc350eda2"
      },
      "execution_count": 20,
      "outputs": [
        {
          "output_type": "stream",
          "name": "stderr",
          "text": [
            "<ipython-input-20-729feba68771>:2: FutureWarning:\n",
            "\n",
            "The default value of numeric_only in DataFrame.corr is deprecated. In a future version, it will default to False. Select only valid columns or specify the value of numeric_only to silence this warning.\n",
            "\n"
          ]
        },
        {
          "output_type": "display_data",
          "data": {
            "text/html": [
              "<html>\n",
              "<head><meta charset=\"utf-8\" /></head>\n",
              "<body>\n",
              "    <div>            <script src=\"https://cdnjs.cloudflare.com/ajax/libs/mathjax/2.7.5/MathJax.js?config=TeX-AMS-MML_SVG\"></script><script type=\"text/javascript\">if (window.MathJax && window.MathJax.Hub && window.MathJax.Hub.Config) {window.MathJax.Hub.Config({SVG: {font: \"STIX-Web\"}});}</script>                <script type=\"text/javascript\">window.PlotlyConfig = {MathJaxConfig: 'local'};</script>\n",
              "        <script src=\"https://cdn.plot.ly/plotly-2.18.2.min.js\"></script>                <div id=\"df423c37-0919-4b53-b601-000c8451166a\" class=\"plotly-graph-div\" style=\"height:525px; width:100%;\"></div>            <script type=\"text/javascript\">                                    window.PLOTLYENV=window.PLOTLYENV || {};                                    if (document.getElementById(\"df423c37-0919-4b53-b601-000c8451166a\")) {                    Plotly.newPlot(                        \"df423c37-0919-4b53-b601-000c8451166a\",                        [{\"coloraxis\":\"coloraxis\",\"name\":\"0\",\"texttemplate\":\"%{z}\",\"x\":[\"age\",\"Medu\",\"Fedu\",\"traveltime\",\"studytime\",\"failures\",\"famrel\",\"freetime\",\"goout\",\"Dalc\",\"Walc\",\"health\",\"absences\",\"G1\",\"G2\",\"G3\"],\"y\":[\"age\",\"Medu\",\"Fedu\",\"traveltime\",\"studytime\",\"failures\",\"famrel\",\"freetime\",\"goout\",\"Dalc\",\"Walc\",\"health\",\"absences\",\"G1\",\"G2\",\"G3\"],\"z\":[[1.0,-0.2,-0.2,0.1,-0.0,0.2,0.1,0.0,0.1,0.1,0.1,-0.1,0.2,-0.1,-0.1,-0.2],[-0.2,1.0,0.6,-0.2,0.1,-0.2,-0.0,0.0,0.1,0.0,-0.0,-0.0,0.1,0.2,0.2,0.2],[-0.2,0.6,1.0,-0.2,-0.0,-0.3,-0.0,-0.0,0.0,0.0,-0.0,0.0,0.0,0.2,0.2,0.2],[0.1,-0.2,-0.2,1.0,-0.1,0.1,-0.0,-0.0,0.0,0.1,0.1,0.0,-0.0,-0.1,-0.2,-0.1],[-0.0,0.1,-0.0,-0.1,1.0,-0.2,0.0,-0.1,-0.1,-0.2,-0.3,-0.1,-0.1,0.2,0.1,0.1],[0.2,-0.2,-0.3,0.1,-0.2,1.0,-0.0,0.1,0.1,0.1,0.1,0.1,0.1,-0.4,-0.4,-0.4],[0.1,-0.0,-0.0,-0.0,0.0,-0.0,1.0,0.2,0.1,-0.1,-0.1,0.1,-0.0,0.0,-0.0,0.1],[0.0,0.0,-0.0,-0.0,-0.1,0.1,0.2,1.0,0.3,0.2,0.1,0.1,-0.1,0.0,-0.0,0.0],[0.1,0.1,0.0,0.0,-0.1,0.1,0.1,0.3,1.0,0.3,0.4,-0.0,0.0,-0.1,-0.2,-0.1],[0.1,0.0,0.0,0.1,-0.2,0.1,-0.1,0.2,0.3,1.0,0.6,0.1,0.1,-0.1,-0.1,-0.1],[0.1,-0.0,-0.0,0.1,-0.3,0.1,-0.1,0.1,0.4,0.6,1.0,0.1,0.1,-0.1,-0.1,-0.1],[-0.1,-0.0,0.0,0.0,-0.1,0.1,0.1,0.1,-0.0,0.1,0.1,1.0,-0.0,-0.1,-0.1,-0.1],[0.2,0.1,0.0,-0.0,-0.1,0.1,-0.0,-0.1,0.0,0.1,0.1,-0.0,1.0,-0.0,-0.0,0.0],[-0.1,0.2,0.2,-0.1,0.2,-0.4,0.0,0.0,-0.1,-0.1,-0.1,-0.1,-0.0,1.0,0.9,0.8],[-0.1,0.2,0.2,-0.2,0.1,-0.4,-0.0,-0.0,-0.2,-0.1,-0.1,-0.1,-0.0,0.9,1.0,0.9],[-0.2,0.2,0.2,-0.1,0.1,-0.4,0.1,0.0,-0.1,-0.1,-0.1,-0.1,0.0,0.8,0.9,1.0]],\"type\":\"heatmap\",\"xaxis\":\"x\",\"yaxis\":\"y\",\"hovertemplate\":\"x: %{x}<br>y: %{y}<br>color: %{z}<extra></extra>\"}],                        {\"template\":{\"data\":{\"histogram2dcontour\":[{\"type\":\"histogram2dcontour\",\"colorbar\":{\"outlinewidth\":0,\"ticks\":\"\"},\"colorscale\":[[0.0,\"#0d0887\"],[0.1111111111111111,\"#46039f\"],[0.2222222222222222,\"#7201a8\"],[0.3333333333333333,\"#9c179e\"],[0.4444444444444444,\"#bd3786\"],[0.5555555555555556,\"#d8576b\"],[0.6666666666666666,\"#ed7953\"],[0.7777777777777778,\"#fb9f3a\"],[0.8888888888888888,\"#fdca26\"],[1.0,\"#f0f921\"]]}],\"choropleth\":[{\"type\":\"choropleth\",\"colorbar\":{\"outlinewidth\":0,\"ticks\":\"\"}}],\"histogram2d\":[{\"type\":\"histogram2d\",\"colorbar\":{\"outlinewidth\":0,\"ticks\":\"\"},\"colorscale\":[[0.0,\"#0d0887\"],[0.1111111111111111,\"#46039f\"],[0.2222222222222222,\"#7201a8\"],[0.3333333333333333,\"#9c179e\"],[0.4444444444444444,\"#bd3786\"],[0.5555555555555556,\"#d8576b\"],[0.6666666666666666,\"#ed7953\"],[0.7777777777777778,\"#fb9f3a\"],[0.8888888888888888,\"#fdca26\"],[1.0,\"#f0f921\"]]}],\"heatmap\":[{\"type\":\"heatmap\",\"colorbar\":{\"outlinewidth\":0,\"ticks\":\"\"},\"colorscale\":[[0.0,\"#0d0887\"],[0.1111111111111111,\"#46039f\"],[0.2222222222222222,\"#7201a8\"],[0.3333333333333333,\"#9c179e\"],[0.4444444444444444,\"#bd3786\"],[0.5555555555555556,\"#d8576b\"],[0.6666666666666666,\"#ed7953\"],[0.7777777777777778,\"#fb9f3a\"],[0.8888888888888888,\"#fdca26\"],[1.0,\"#f0f921\"]]}],\"heatmapgl\":[{\"type\":\"heatmapgl\",\"colorbar\":{\"outlinewidth\":0,\"ticks\":\"\"},\"colorscale\":[[0.0,\"#0d0887\"],[0.1111111111111111,\"#46039f\"],[0.2222222222222222,\"#7201a8\"],[0.3333333333333333,\"#9c179e\"],[0.4444444444444444,\"#bd3786\"],[0.5555555555555556,\"#d8576b\"],[0.6666666666666666,\"#ed7953\"],[0.7777777777777778,\"#fb9f3a\"],[0.8888888888888888,\"#fdca26\"],[1.0,\"#f0f921\"]]}],\"contourcarpet\":[{\"type\":\"contourcarpet\",\"colorbar\":{\"outlinewidth\":0,\"ticks\":\"\"}}],\"contour\":[{\"type\":\"contour\",\"colorbar\":{\"outlinewidth\":0,\"ticks\":\"\"},\"colorscale\":[[0.0,\"#0d0887\"],[0.1111111111111111,\"#46039f\"],[0.2222222222222222,\"#7201a8\"],[0.3333333333333333,\"#9c179e\"],[0.4444444444444444,\"#bd3786\"],[0.5555555555555556,\"#d8576b\"],[0.6666666666666666,\"#ed7953\"],[0.7777777777777778,\"#fb9f3a\"],[0.8888888888888888,\"#fdca26\"],[1.0,\"#f0f921\"]]}],\"surface\":[{\"type\":\"surface\",\"colorbar\":{\"outlinewidth\":0,\"ticks\":\"\"},\"colorscale\":[[0.0,\"#0d0887\"],[0.1111111111111111,\"#46039f\"],[0.2222222222222222,\"#7201a8\"],[0.3333333333333333,\"#9c179e\"],[0.4444444444444444,\"#bd3786\"],[0.5555555555555556,\"#d8576b\"],[0.6666666666666666,\"#ed7953\"],[0.7777777777777778,\"#fb9f3a\"],[0.8888888888888888,\"#fdca26\"],[1.0,\"#f0f921\"]]}],\"mesh3d\":[{\"type\":\"mesh3d\",\"colorbar\":{\"outlinewidth\":0,\"ticks\":\"\"}}],\"scatter\":[{\"fillpattern\":{\"fillmode\":\"overlay\",\"size\":10,\"solidity\":0.2},\"type\":\"scatter\"}],\"parcoords\":[{\"type\":\"parcoords\",\"line\":{\"colorbar\":{\"outlinewidth\":0,\"ticks\":\"\"}}}],\"scatterpolargl\":[{\"type\":\"scatterpolargl\",\"marker\":{\"colorbar\":{\"outlinewidth\":0,\"ticks\":\"\"}}}],\"bar\":[{\"error_x\":{\"color\":\"#2a3f5f\"},\"error_y\":{\"color\":\"#2a3f5f\"},\"marker\":{\"line\":{\"color\":\"#E5ECF6\",\"width\":0.5},\"pattern\":{\"fillmode\":\"overlay\",\"size\":10,\"solidity\":0.2}},\"type\":\"bar\"}],\"scattergeo\":[{\"type\":\"scattergeo\",\"marker\":{\"colorbar\":{\"outlinewidth\":0,\"ticks\":\"\"}}}],\"scatterpolar\":[{\"type\":\"scatterpolar\",\"marker\":{\"colorbar\":{\"outlinewidth\":0,\"ticks\":\"\"}}}],\"histogram\":[{\"marker\":{\"pattern\":{\"fillmode\":\"overlay\",\"size\":10,\"solidity\":0.2}},\"type\":\"histogram\"}],\"scattergl\":[{\"type\":\"scattergl\",\"marker\":{\"colorbar\":{\"outlinewidth\":0,\"ticks\":\"\"}}}],\"scatter3d\":[{\"type\":\"scatter3d\",\"line\":{\"colorbar\":{\"outlinewidth\":0,\"ticks\":\"\"}},\"marker\":{\"colorbar\":{\"outlinewidth\":0,\"ticks\":\"\"}}}],\"scattermapbox\":[{\"type\":\"scattermapbox\",\"marker\":{\"colorbar\":{\"outlinewidth\":0,\"ticks\":\"\"}}}],\"scatterternary\":[{\"type\":\"scatterternary\",\"marker\":{\"colorbar\":{\"outlinewidth\":0,\"ticks\":\"\"}}}],\"scattercarpet\":[{\"type\":\"scattercarpet\",\"marker\":{\"colorbar\":{\"outlinewidth\":0,\"ticks\":\"\"}}}],\"carpet\":[{\"aaxis\":{\"endlinecolor\":\"#2a3f5f\",\"gridcolor\":\"white\",\"linecolor\":\"white\",\"minorgridcolor\":\"white\",\"startlinecolor\":\"#2a3f5f\"},\"baxis\":{\"endlinecolor\":\"#2a3f5f\",\"gridcolor\":\"white\",\"linecolor\":\"white\",\"minorgridcolor\":\"white\",\"startlinecolor\":\"#2a3f5f\"},\"type\":\"carpet\"}],\"table\":[{\"cells\":{\"fill\":{\"color\":\"#EBF0F8\"},\"line\":{\"color\":\"white\"}},\"header\":{\"fill\":{\"color\":\"#C8D4E3\"},\"line\":{\"color\":\"white\"}},\"type\":\"table\"}],\"barpolar\":[{\"marker\":{\"line\":{\"color\":\"#E5ECF6\",\"width\":0.5},\"pattern\":{\"fillmode\":\"overlay\",\"size\":10,\"solidity\":0.2}},\"type\":\"barpolar\"}],\"pie\":[{\"automargin\":true,\"type\":\"pie\"}]},\"layout\":{\"autotypenumbers\":\"strict\",\"colorway\":[\"#636efa\",\"#EF553B\",\"#00cc96\",\"#ab63fa\",\"#FFA15A\",\"#19d3f3\",\"#FF6692\",\"#B6E880\",\"#FF97FF\",\"#FECB52\"],\"font\":{\"color\":\"#2a3f5f\"},\"hovermode\":\"closest\",\"hoverlabel\":{\"align\":\"left\"},\"paper_bgcolor\":\"white\",\"plot_bgcolor\":\"#E5ECF6\",\"polar\":{\"bgcolor\":\"#E5ECF6\",\"angularaxis\":{\"gridcolor\":\"white\",\"linecolor\":\"white\",\"ticks\":\"\"},\"radialaxis\":{\"gridcolor\":\"white\",\"linecolor\":\"white\",\"ticks\":\"\"}},\"ternary\":{\"bgcolor\":\"#E5ECF6\",\"aaxis\":{\"gridcolor\":\"white\",\"linecolor\":\"white\",\"ticks\":\"\"},\"baxis\":{\"gridcolor\":\"white\",\"linecolor\":\"white\",\"ticks\":\"\"},\"caxis\":{\"gridcolor\":\"white\",\"linecolor\":\"white\",\"ticks\":\"\"}},\"coloraxis\":{\"colorbar\":{\"outlinewidth\":0,\"ticks\":\"\"}},\"colorscale\":{\"sequential\":[[0.0,\"#0d0887\"],[0.1111111111111111,\"#46039f\"],[0.2222222222222222,\"#7201a8\"],[0.3333333333333333,\"#9c179e\"],[0.4444444444444444,\"#bd3786\"],[0.5555555555555556,\"#d8576b\"],[0.6666666666666666,\"#ed7953\"],[0.7777777777777778,\"#fb9f3a\"],[0.8888888888888888,\"#fdca26\"],[1.0,\"#f0f921\"]],\"sequentialminus\":[[0.0,\"#0d0887\"],[0.1111111111111111,\"#46039f\"],[0.2222222222222222,\"#7201a8\"],[0.3333333333333333,\"#9c179e\"],[0.4444444444444444,\"#bd3786\"],[0.5555555555555556,\"#d8576b\"],[0.6666666666666666,\"#ed7953\"],[0.7777777777777778,\"#fb9f3a\"],[0.8888888888888888,\"#fdca26\"],[1.0,\"#f0f921\"]],\"diverging\":[[0,\"#8e0152\"],[0.1,\"#c51b7d\"],[0.2,\"#de77ae\"],[0.3,\"#f1b6da\"],[0.4,\"#fde0ef\"],[0.5,\"#f7f7f7\"],[0.6,\"#e6f5d0\"],[0.7,\"#b8e186\"],[0.8,\"#7fbc41\"],[0.9,\"#4d9221\"],[1,\"#276419\"]]},\"xaxis\":{\"gridcolor\":\"white\",\"linecolor\":\"white\",\"ticks\":\"\",\"title\":{\"standoff\":15},\"zerolinecolor\":\"white\",\"automargin\":true,\"zerolinewidth\":2},\"yaxis\":{\"gridcolor\":\"white\",\"linecolor\":\"white\",\"ticks\":\"\",\"title\":{\"standoff\":15},\"zerolinecolor\":\"white\",\"automargin\":true,\"zerolinewidth\":2},\"scene\":{\"xaxis\":{\"backgroundcolor\":\"#E5ECF6\",\"gridcolor\":\"white\",\"linecolor\":\"white\",\"showbackground\":true,\"ticks\":\"\",\"zerolinecolor\":\"white\",\"gridwidth\":2},\"yaxis\":{\"backgroundcolor\":\"#E5ECF6\",\"gridcolor\":\"white\",\"linecolor\":\"white\",\"showbackground\":true,\"ticks\":\"\",\"zerolinecolor\":\"white\",\"gridwidth\":2},\"zaxis\":{\"backgroundcolor\":\"#E5ECF6\",\"gridcolor\":\"white\",\"linecolor\":\"white\",\"showbackground\":true,\"ticks\":\"\",\"zerolinecolor\":\"white\",\"gridwidth\":2}},\"shapedefaults\":{\"line\":{\"color\":\"#2a3f5f\"}},\"annotationdefaults\":{\"arrowcolor\":\"#2a3f5f\",\"arrowhead\":0,\"arrowwidth\":1},\"geo\":{\"bgcolor\":\"white\",\"landcolor\":\"#E5ECF6\",\"subunitcolor\":\"white\",\"showland\":true,\"showlakes\":true,\"lakecolor\":\"white\"},\"title\":{\"x\":0.05},\"mapbox\":{\"style\":\"light\"}}},\"xaxis\":{\"anchor\":\"y\",\"domain\":[0.0,1.0],\"scaleanchor\":\"y\",\"constrain\":\"domain\"},\"yaxis\":{\"anchor\":\"x\",\"domain\":[0.0,1.0],\"autorange\":\"reversed\",\"constrain\":\"domain\"},\"coloraxis\":{\"colorscale\":[[0.0,\"#0d0887\"],[0.1111111111111111,\"#46039f\"],[0.2222222222222222,\"#7201a8\"],[0.3333333333333333,\"#9c179e\"],[0.4444444444444444,\"#bd3786\"],[0.5555555555555556,\"#d8576b\"],[0.6666666666666666,\"#ed7953\"],[0.7777777777777778,\"#fb9f3a\"],[0.8888888888888888,\"#fdca26\"],[1.0,\"#f0f921\"]]},\"margin\":{\"t\":60}},                        {\"responsive\": true}                    ).then(function(){\n",
              "                            \n",
              "var gd = document.getElementById('df423c37-0919-4b53-b601-000c8451166a');\n",
              "var x = new MutationObserver(function (mutations, observer) {{\n",
              "        var display = window.getComputedStyle(gd).display;\n",
              "        if (!display || display === 'none') {{\n",
              "            console.log([gd, 'removed!']);\n",
              "            Plotly.purge(gd);\n",
              "            observer.disconnect();\n",
              "        }}\n",
              "}});\n",
              "\n",
              "// Listen for the removal of the full notebook cells\n",
              "var notebookContainer = gd.closest('#notebook-container');\n",
              "if (notebookContainer) {{\n",
              "    x.observe(notebookContainer, {childList: true});\n",
              "}}\n",
              "\n",
              "// Listen for the clearing of the current output cell\n",
              "var outputEl = gd.closest('.output');\n",
              "if (outputEl) {{\n",
              "    x.observe(outputEl, {childList: true});\n",
              "}}\n",
              "\n",
              "                        })                };                            </script>        </div>\n",
              "</body>\n",
              "</html>"
            ]
          },
          "metadata": {}
        }
      ]
    },
    {
      "cell_type": "markdown",
      "source": [
        "it is similar to portugese class"
      ],
      "metadata": {
        "id": "3ih6YC36rV7J"
      }
    },
    {
      "cell_type": "code",
      "source": [
        "fig = px.parallel_coordinates(student_por, color=\"studytime\",\n",
        "                              dimensions=['absences','G1', 'G2', 'G3'\n",
        "                                          ],\n",
        "                              color_continuous_scale = [[0,'purple'],[0.5,'lightseagreen'],[1,'gold']],\n",
        "                              color_continuous_midpoint=2)\n",
        "fig.show()"
      ],
      "metadata": {
        "colab": {
          "base_uri": "https://localhost:8080/",
          "height": 542
        },
        "id": "MuFe-zAxrabU",
        "outputId": "93169bb4-b32d-40f8-d328-181597451d5c"
      },
      "execution_count": 28,
      "outputs": [
        {
          "output_type": "display_data",
          "data": {
            "text/html": [
              "<html>\n",
              "<head><meta charset=\"utf-8\" /></head>\n",
              "<body>\n",
              "    <div>            <script src=\"https://cdnjs.cloudflare.com/ajax/libs/mathjax/2.7.5/MathJax.js?config=TeX-AMS-MML_SVG\"></script><script type=\"text/javascript\">if (window.MathJax && window.MathJax.Hub && window.MathJax.Hub.Config) {window.MathJax.Hub.Config({SVG: {font: \"STIX-Web\"}});}</script>                <script type=\"text/javascript\">window.PlotlyConfig = {MathJaxConfig: 'local'};</script>\n",
              "        <script src=\"https://cdn.plot.ly/plotly-2.18.2.min.js\"></script>                <div id=\"79c17dd5-6938-4c60-88b0-f8575aac55ab\" class=\"plotly-graph-div\" style=\"height:525px; width:100%;\"></div>            <script type=\"text/javascript\">                                    window.PLOTLYENV=window.PLOTLYENV || {};                                    if (document.getElementById(\"79c17dd5-6938-4c60-88b0-f8575aac55ab\")) {                    Plotly.newPlot(                        \"79c17dd5-6938-4c60-88b0-f8575aac55ab\",                        [{\"dimensions\":[{\"label\":\"absences\",\"values\":[4,2,6,0,0,6,0,2,0,0,2,0,0,0,0,6,10,2,2,6,0,0,0,2,2,6,8,0,2,4,0,2,0,0,4,4,0,4,2,8,16,8,0,0,14,4,6,2,4,2,0,0,4,0,0,2,0,8,0,2,0,0,0,0,0,2,0,0,0,6,2,0,2,0,4,0,0,1,0,14,0,2,4,2,2,4,6,4,6,6,2,6,0,2,2,4,6,0,4,2,12,0,2,16,0,10,4,4,8,2,4,4,12,10,4,6,4,6,14,2,0,6,2,4,0,2,0,0,8,4,0,10,8,6,2,12,4,12,2,4,2,0,2,10,8,4,0,6,2,6,24,0,4,2,4,22,0,0,2,6,6,16,0,0,6,2,6,0,0,14,6,4,0,0,8,4,2,2,0,10,0,0,0,0,4,0,0,0,0,0,0,4,8,4,4,0,0,32,8,6,0,0,10,6,6,0,16,0,0,8,4,16,30,0,2,4,0,21,6,14,2,4,2,0,4,15,0,10,6,2,16,10,4,0,0,12,0,9,4,4,2,0,2,0,0,0,0,0,2,0,0,4,0,18,16,14,26,6,4,10,4,2,14,16,8,4,4,8,0,7,4,2,2,10,10,10,7,4,2,12,8,0,8,4,4,2,0,0,2,2,0,4,2,4,4,4,2,0,2,8,2,2,2,2,0,8,6,0,8,4,12,16,10,2,2,8,6,6,15,6,2,8,0,0,10,22,18,2,0,12,10,0,0,0,0,0,2,0,0,0,0,2,0,0,0,0,0,0,0,0,0,0,0,2,2,2,2,2,8,2,8,9,0,4,2,14,0,2,2,12,2,2,4,0,0,0,0,0,0,2,0,4,2,0,0,2,0,6,8,0,6,8,0,4,0,0,6,18,0,4,4,0,0,10,4,16,6,0,11,9,0,2,0,21,8,5,10,5,13,10,10,5,4,11,0,6,4,0,0,5,0,0,0,0,4,0,4,0,2,0,0,4,0,7,4,8,0,8,6,3,2,0,4,0,3,0,0,4,0,2,1,0,0,2,6,9,0,1,1,0,4,2,0,4,2,0,2,11,0,4,0,2,0,1,6,0,1,6,6,0,4,12,2,5,0,0,2,0,0,0,12,8,2,0,0,0,8,0,0,0,0,1,9,0,2,8,0,0,8,0,6,0,4,2,2,0,1,0,5,1,8,0,2,0,0,11,8,11,2,8,5,0,1,2,2,8,0,0,2,0,0,0,2,4,3,5,4,2,0,0,0,6,0,0,2,0,2,0,4,9,6,4,8,9,12,8,8,8,4,0,4,2,0,0,0,5,0,3,0,0,3,2,0,0,0,3,0,0,8,5,4,4,0,0,2,0,0,5,2,0,0,5,4,0,2,0,2,0,0,6,4,0,0,0,0,0,0,3,8,4,0,4,4,1,1,10,4,0,4,0,0,0,0,4,4,4,6,6,4]},{\"label\":\"G1\",\"values\":[0,9,12,14,11,12,13,10,15,12,14,10,12,12,14,17,13,13,8,12,12,11,12,10,10,10,11,11,12,12,10,15,13,13,12,11,14,13,11,14,11,10,14,9,10,10,13,17,11,13,14,16,10,13,13,12,15,15,14,16,17,10,13,14,13,16,11,10,11,15,13,11,13,13,11,11,12,13,9,12,11,10,12,13,13,12,13,15,12,9,9,14,12,13,11,13,9,13,12,12,9,16,12,11,16,10,10,13,12,15,13,11,8,18,10,16,16,14,12,14,14,14,14,12,12,9,10,9,14,13,10,10,11,11,13,15,9,13,12,13,10,14,11,12,12,9,10,13,8,9,9,15,12,13,10,9,12,11,11,13,11,9,12,11,9,13,11,13,7,9,11,12,10,9,8,7,8,9,8,8,9,17,12,16,9,16,11,14,14,10,13,11,10,11,11,11,17,14,14,11,10,13,12,9,12,12,10,11,13,14,13,10,14,11,14,11,14,13,13,8,11,14,12,11,12,13,13,12,12,14,11,10,12,12,11,12,13,10,15,8,17,10,9,15,14,12,13,13,9,12,16,9,14,10,9,8,7,10,14,11,12,13,9,8,11,15,15,15,12,14,14,11,13,11,10,12,15,11,9,7,10,11,7,9,7,14,12,9,12,14,10,11,11,11,11,11,16,9,10,10,15,10,10,15,11,8,15,11,10,10,8,11,16,13,16,14,15,12,12,11,14,13,9,10,10,11,13,17,12,12,12,12,18,13,14,17,15,17,18,14,14,14,13,16,18,14,12,7,16,18,9,14,10,10,12,11,15,14,12,15,11,11,12,11,14,15,12,11,8,10,8,10,14,11,17,14,14,13,17,11,13,15,11,11,11,10,15,15,10,10,14,11,12,14,14,12,16,10,11,14,15,14,11,12,12,10,10,9,9,13,13,12,14,9,11,9,16,14,13,7,14,8,10,10,12,10,10,16,6,10,10,10,6,13,10,10,6,12,10,14,7,8,12,7,9,7,11,8,16,11,15,10,9,10,9,9,13,10,13,10,11,13,13,14,11,9,10,14,13,13,13,12,14,10,10,12,10,12,7,9,9,9,9,9,7,11,9,7,7,8,9,7,8,9,8,14,14,10,14,17,6,14,10,14,12,11,11,11,10,16,15,11,7,8,7,9,14,14,8,8,6,8,8,5,7,15,13,10,9,11,7,10,9,14,11,9,13,12,11,9,9,11,10,9,12,8,13,10,11,17,12,13,9,11,10,13,9,7,8,12,10,10,11,7,11,10,9,4,6,4,7,8,5,7,8,10,9,10,8,9,8,6,6,8,10,8,8,7,8,7,7,12,11,12,18,17,17,9,10,12,12,8,11,5,9,5,18,11,8,11,8,14,10,10,12,15,14,19,16,13,15,13,8,15,8,10,7,9,10,7,15,10,7,13,16,8,17,7,14,5,7,14,6,7,10,15,11,10,10]},{\"label\":\"G2\",\"values\":[11,11,13,14,13,12,12,13,16,12,14,12,13,12,14,17,13,14,8,12,13,12,13,10,11,11,12,11,12,11,11,15,14,12,12,11,14,13,12,13,11,11,15,10,11,11,12,17,12,12,13,14,9,12,12,13,14,15,13,15,16,10,13,13,12,15,12,9,10,15,11,9,11,13,11,11,11,13,9,11,11,9,11,12,12,11,11,15,10,9,11,13,13,14,12,13,11,12,13,13,9,16,13,10,16,10,10,14,10,15,14,11,10,17,9,14,15,14,11,13,14,13,12,13,11,9,11,10,14,12,11,9,10,12,12,13,9,11,11,14,9,13,11,11,11,9,10,14,9,11,8,13,11,13,11,7,12,10,11,12,11,9,11,9,10,13,9,13,8,8,10,10,10,8,8,6,9,8,8,7,10,17,12,16,9,17,9,13,14,11,12,9,9,11,10,12,18,13,15,13,9,14,13,9,12,11,11,10,12,15,13,11,15,10,14,12,15,13,13,9,11,15,13,12,12,12,13,11,11,16,9,10,13,12,10,12,13,9,16,8,18,11,10,15,12,13,13,13,9,12,16,10,13,10,8,7,8,8,14,10,11,13,9,7,9,14,14,15,12,14,15,11,14,11,9,10,16,10,12,8,9,12,8,11,8,13,12,10,12,15,10,10,12,12,11,13,16,10,11,12,15,10,11,12,12,8,16,11,11,12,9,12,16,13,17,14,16,12,9,12,12,15,8,10,10,11,13,17,13,12,13,12,18,13,15,17,16,18,19,15,15,13,14,17,18,15,13,7,16,18,10,15,10,10,12,12,16,15,12,15,12,10,11,12,15,14,12,12,9,10,8,10,13,11,18,14,14,14,18,10,12,14,12,11,10,9,15,14,11,9,13,13,13,14,14,12,16,12,12,16,14,13,12,15,16,11,13,12,11,14,17,15,17,10,15,10,18,17,14,11,17,10,13,11,12,10,10,17,8,11,11,10,6,14,9,10,7,11,11,16,0,9,13,9,10,9,11,10,16,13,15,11,10,8,8,10,14,11,10,9,10,12,14,11,11,8,9,13,12,12,12,11,14,8,11,13,8,10,7,9,9,10,10,10,7,10,10,9,9,9,11,8,10,9,9,13,14,11,13,16,7,12,8,14,13,11,9,11,9,17,17,9,7,6,6,8,16,14,5,7,8,10,8,6,9,14,14,9,9,11,10,10,7,15,12,11,14,13,11,10,11,9,11,9,11,9,15,11,10,18,13,14,9,11,11,14,10,9,13,12,9,9,13,0,9,10,7,0,11,8,8,9,5,9,11,11,10,9,9,10,9,8,8,6,11,7,8,6,10,10,8,13,12,13,18,17,18,0,11,13,13,8,12,0,10,0,18,11,10,11,0,14,11,10,12,14,13,17,15,12,14,13,10,16,8,10,5,10,11,8,17,11,8,14,16,9,18,7,15,8,7,17,9,9,11,15,12,10,11]},{\"label\":\"G3\",\"values\":[11,11,12,14,13,13,13,13,17,13,14,13,12,13,15,17,14,14,7,12,14,12,14,10,10,12,12,11,13,12,11,15,15,12,12,11,14,13,12,12,10,11,15,10,11,11,13,17,13,12,13,16,9,12,13,12,15,16,14,16,16,16,10,13,12,16,12,10,11,15,11,10,11,14,11,11,11,13,10,11,12,9,11,13,12,12,11,15,11,10,11,13,12,14,12,13,11,12,13,13,8,16,12,10,16,10,10,14,11,14,14,11,10,18,10,14,16,15,11,14,14,13,13,13,11,9,11,11,15,13,12,8,11,13,12,14,11,11,11,15,10,13,12,11,11,10,10,14,9,11,9,13,11,13,11,6,12,10,11,13,11,8,11,0,10,13,11,13,8,10,11,11,1,10,9,8,10,8,8,8,11,18,13,17,10,18,10,13,15,11,14,10,11,13,11,13,17,14,16,14,11,16,14,10,13,12,12,10,12,16,14,12,16,11,15,12,15,13,13,8,12,15,13,12,12,12,13,11,11,15,10,10,13,13,11,12,14,10,16,8,17,11,11,16,12,13,13,14,9,12,16,10,13,10,10,7,8,9,15,10,11,13,8,8,10,15,14,15,12,15,15,12,15,11,10,11,16,11,13,5,10,11,7,10,6,12,13,10,13,17,11,11,14,14,13,14,16,10,12,12,15,11,12,13,13,9,16,14,12,14,10,12,16,13,18,15,16,12,10,12,13,15,10,10,11,10,13,18,13,14,14,12,18,14,15,17,16,18,19,15,15,13,14,17,17,15,13,8,16,18,11,15,11,11,15,14,17,17,15,17,14,10,13,14,17,17,13,14,11,11,9,10,13,10,17,15,14,13,17,10,13,15,11,12,10,10,15,15,12,12,14,14,15,15,16,13,17,14,14,17,17,14,13,15,16,11,13,12,12,15,17,15,17,10,15,11,18,17,14,11,17,10,13,11,12,10,11,17,9,11,11,10,7,14,11,10,8,12,12,16,0,9,14,8,11,9,11,9,17,13,15,11,11,8,8,9,15,11,13,10,11,14,14,12,11,8,11,14,13,13,12,12,16,10,11,14,8,11,8,10,10,11,9,11,8,11,10,10,9,10,10,9,10,10,9,13,14,10,14,16,7,13,9,14,13,11,10,10,9,18,17,10,7,8,7,10,16,15,8,0,8,10,8,6,8,16,14,10,9,11,9,10,8,16,12,10,14,12,11,10,11,11,12,8,12,8,16,11,11,18,13,13,10,12,10,13,11,10,10,13,10,10,12,0,10,9,9,0,9,8,8,9,7,10,10,10,11,11,10,9,10,8,7,0,11,8,0,8,9,10,7,14,13,14,18,17,18,0,11,14,14,10,13,0,10,0,18,12,11,12,0,15,11,10,12,15,14,18,15,13,15,13,9,16,9,10,0,10,12,9,17,12,9,14,16,9,19,0,16,0,0,15,11,10,10,16,9,10,11]}],\"domain\":{\"x\":[0.0,1.0],\"y\":[0.0,1.0]},\"line\":{\"color\":[2,2,2,3,2,2,2,2,2,2,2,3,1,2,3,1,3,2,1,1,2,1,2,2,3,1,1,1,2,2,2,2,2,2,1,1,3,3,3,1,2,1,2,1,2,2,2,4,2,2,2,2,1,1,1,2,2,2,2,2,2,1,2,3,2,2,4,4,2,4,4,4,2,1,2,2,4,4,1,2,1,3,2,2,2,2,2,3,2,2,3,1,2,2,4,4,1,2,1,3,1,3,1,2,2,4,4,3,4,3,1,3,2,1,2,2,2,1,2,1,2,4,2,1,2,1,2,2,1,3,3,2,1,1,1,1,1,1,2,3,2,2,1,3,1,1,2,1,1,4,2,3,1,3,1,1,2,1,2,2,2,1,1,1,1,3,1,1,2,1,1,1,2,1,1,2,1,1,2,1,2,2,2,2,1,2,2,2,2,2,2,2,1,2,2,2,2,2,2,2,1,2,2,2,2,2,2,1,1,2,1,1,1,2,2,2,2,1,4,3,2,2,1,3,4,2,2,2,1,2,2,2,1,3,2,3,2,2,3,2,2,2,2,3,2,2,2,2,2,3,2,1,2,2,2,1,1,1,2,3,1,2,1,2,1,3,2,2,2,1,1,2,3,3,2,3,1,2,1,1,2,1,1,2,1,1,1,1,2,4,2,2,3,3,2,2,2,1,4,2,2,2,3,3,3,1,2,2,2,2,2,2,4,2,2,2,2,2,2,1,2,3,2,1,1,1,1,4,2,2,2,2,3,3,3,2,2,3,4,3,1,2,2,4,1,2,1,3,3,4,3,1,2,2,2,2,1,3,1,3,2,2,2,1,1,2,2,2,1,3,2,1,2,3,3,3,3,3,1,1,3,3,1,4,1,2,3,1,2,2,4,3,2,4,2,2,2,2,3,3,3,3,3,2,2,1,1,3,2,2,2,3,2,2,3,1,2,3,1,1,2,1,2,1,2,1,1,2,1,2,3,2,1,1,4,2,1,1,1,1,2,2,2,2,2,2,2,1,3,1,2,2,2,3,3,2,2,1,4,3,2,1,2,3,1,2,1,2,1,2,2,2,1,1,1,3,1,1,2,1,1,1,1,2,1,2,1,3,3,1,1,2,2,1,2,1,1,4,2,1,1,1,4,4,3,1,2,3,1,2,2,2,2,1,1,2,2,1,2,2,2,2,2,4,2,3,1,3,1,1,1,2,2,2,1,2,4,1,3,2,1,2,3,1,1,2,2,1,2,2,2,2,2,1,1,3,1,2,1,1,1,2,2,1,1,1,1,1,1,2,1,1,2,1,1,1,1,2,2,1,1,2,1,1,1,3,2,2,1,1,2,2,1,2,2,1,2,2,1,1,1,2,3,2,2,1,4,2,2,2,2,3,2,2,2,2,1,3,2,2,2,2,2,3,1,1,2,1,3,1,3,3,2,2,2,2,2,1,2,1,1,3,2,1,3,2,2,1,1],\"coloraxis\":\"coloraxis\"},\"name\":\"\",\"type\":\"parcoords\"}],                        {\"template\":{\"data\":{\"histogram2dcontour\":[{\"type\":\"histogram2dcontour\",\"colorbar\":{\"outlinewidth\":0,\"ticks\":\"\"},\"colorscale\":[[0.0,\"#0d0887\"],[0.1111111111111111,\"#46039f\"],[0.2222222222222222,\"#7201a8\"],[0.3333333333333333,\"#9c179e\"],[0.4444444444444444,\"#bd3786\"],[0.5555555555555556,\"#d8576b\"],[0.6666666666666666,\"#ed7953\"],[0.7777777777777778,\"#fb9f3a\"],[0.8888888888888888,\"#fdca26\"],[1.0,\"#f0f921\"]]}],\"choropleth\":[{\"type\":\"choropleth\",\"colorbar\":{\"outlinewidth\":0,\"ticks\":\"\"}}],\"histogram2d\":[{\"type\":\"histogram2d\",\"colorbar\":{\"outlinewidth\":0,\"ticks\":\"\"},\"colorscale\":[[0.0,\"#0d0887\"],[0.1111111111111111,\"#46039f\"],[0.2222222222222222,\"#7201a8\"],[0.3333333333333333,\"#9c179e\"],[0.4444444444444444,\"#bd3786\"],[0.5555555555555556,\"#d8576b\"],[0.6666666666666666,\"#ed7953\"],[0.7777777777777778,\"#fb9f3a\"],[0.8888888888888888,\"#fdca26\"],[1.0,\"#f0f921\"]]}],\"heatmap\":[{\"type\":\"heatmap\",\"colorbar\":{\"outlinewidth\":0,\"ticks\":\"\"},\"colorscale\":[[0.0,\"#0d0887\"],[0.1111111111111111,\"#46039f\"],[0.2222222222222222,\"#7201a8\"],[0.3333333333333333,\"#9c179e\"],[0.4444444444444444,\"#bd3786\"],[0.5555555555555556,\"#d8576b\"],[0.6666666666666666,\"#ed7953\"],[0.7777777777777778,\"#fb9f3a\"],[0.8888888888888888,\"#fdca26\"],[1.0,\"#f0f921\"]]}],\"heatmapgl\":[{\"type\":\"heatmapgl\",\"colorbar\":{\"outlinewidth\":0,\"ticks\":\"\"},\"colorscale\":[[0.0,\"#0d0887\"],[0.1111111111111111,\"#46039f\"],[0.2222222222222222,\"#7201a8\"],[0.3333333333333333,\"#9c179e\"],[0.4444444444444444,\"#bd3786\"],[0.5555555555555556,\"#d8576b\"],[0.6666666666666666,\"#ed7953\"],[0.7777777777777778,\"#fb9f3a\"],[0.8888888888888888,\"#fdca26\"],[1.0,\"#f0f921\"]]}],\"contourcarpet\":[{\"type\":\"contourcarpet\",\"colorbar\":{\"outlinewidth\":0,\"ticks\":\"\"}}],\"contour\":[{\"type\":\"contour\",\"colorbar\":{\"outlinewidth\":0,\"ticks\":\"\"},\"colorscale\":[[0.0,\"#0d0887\"],[0.1111111111111111,\"#46039f\"],[0.2222222222222222,\"#7201a8\"],[0.3333333333333333,\"#9c179e\"],[0.4444444444444444,\"#bd3786\"],[0.5555555555555556,\"#d8576b\"],[0.6666666666666666,\"#ed7953\"],[0.7777777777777778,\"#fb9f3a\"],[0.8888888888888888,\"#fdca26\"],[1.0,\"#f0f921\"]]}],\"surface\":[{\"type\":\"surface\",\"colorbar\":{\"outlinewidth\":0,\"ticks\":\"\"},\"colorscale\":[[0.0,\"#0d0887\"],[0.1111111111111111,\"#46039f\"],[0.2222222222222222,\"#7201a8\"],[0.3333333333333333,\"#9c179e\"],[0.4444444444444444,\"#bd3786\"],[0.5555555555555556,\"#d8576b\"],[0.6666666666666666,\"#ed7953\"],[0.7777777777777778,\"#fb9f3a\"],[0.8888888888888888,\"#fdca26\"],[1.0,\"#f0f921\"]]}],\"mesh3d\":[{\"type\":\"mesh3d\",\"colorbar\":{\"outlinewidth\":0,\"ticks\":\"\"}}],\"scatter\":[{\"fillpattern\":{\"fillmode\":\"overlay\",\"size\":10,\"solidity\":0.2},\"type\":\"scatter\"}],\"parcoords\":[{\"type\":\"parcoords\",\"line\":{\"colorbar\":{\"outlinewidth\":0,\"ticks\":\"\"}}}],\"scatterpolargl\":[{\"type\":\"scatterpolargl\",\"marker\":{\"colorbar\":{\"outlinewidth\":0,\"ticks\":\"\"}}}],\"bar\":[{\"error_x\":{\"color\":\"#2a3f5f\"},\"error_y\":{\"color\":\"#2a3f5f\"},\"marker\":{\"line\":{\"color\":\"#E5ECF6\",\"width\":0.5},\"pattern\":{\"fillmode\":\"overlay\",\"size\":10,\"solidity\":0.2}},\"type\":\"bar\"}],\"scattergeo\":[{\"type\":\"scattergeo\",\"marker\":{\"colorbar\":{\"outlinewidth\":0,\"ticks\":\"\"}}}],\"scatterpolar\":[{\"type\":\"scatterpolar\",\"marker\":{\"colorbar\":{\"outlinewidth\":0,\"ticks\":\"\"}}}],\"histogram\":[{\"marker\":{\"pattern\":{\"fillmode\":\"overlay\",\"size\":10,\"solidity\":0.2}},\"type\":\"histogram\"}],\"scattergl\":[{\"type\":\"scattergl\",\"marker\":{\"colorbar\":{\"outlinewidth\":0,\"ticks\":\"\"}}}],\"scatter3d\":[{\"type\":\"scatter3d\",\"line\":{\"colorbar\":{\"outlinewidth\":0,\"ticks\":\"\"}},\"marker\":{\"colorbar\":{\"outlinewidth\":0,\"ticks\":\"\"}}}],\"scattermapbox\":[{\"type\":\"scattermapbox\",\"marker\":{\"colorbar\":{\"outlinewidth\":0,\"ticks\":\"\"}}}],\"scatterternary\":[{\"type\":\"scatterternary\",\"marker\":{\"colorbar\":{\"outlinewidth\":0,\"ticks\":\"\"}}}],\"scattercarpet\":[{\"type\":\"scattercarpet\",\"marker\":{\"colorbar\":{\"outlinewidth\":0,\"ticks\":\"\"}}}],\"carpet\":[{\"aaxis\":{\"endlinecolor\":\"#2a3f5f\",\"gridcolor\":\"white\",\"linecolor\":\"white\",\"minorgridcolor\":\"white\",\"startlinecolor\":\"#2a3f5f\"},\"baxis\":{\"endlinecolor\":\"#2a3f5f\",\"gridcolor\":\"white\",\"linecolor\":\"white\",\"minorgridcolor\":\"white\",\"startlinecolor\":\"#2a3f5f\"},\"type\":\"carpet\"}],\"table\":[{\"cells\":{\"fill\":{\"color\":\"#EBF0F8\"},\"line\":{\"color\":\"white\"}},\"header\":{\"fill\":{\"color\":\"#C8D4E3\"},\"line\":{\"color\":\"white\"}},\"type\":\"table\"}],\"barpolar\":[{\"marker\":{\"line\":{\"color\":\"#E5ECF6\",\"width\":0.5},\"pattern\":{\"fillmode\":\"overlay\",\"size\":10,\"solidity\":0.2}},\"type\":\"barpolar\"}],\"pie\":[{\"automargin\":true,\"type\":\"pie\"}]},\"layout\":{\"autotypenumbers\":\"strict\",\"colorway\":[\"#636efa\",\"#EF553B\",\"#00cc96\",\"#ab63fa\",\"#FFA15A\",\"#19d3f3\",\"#FF6692\",\"#B6E880\",\"#FF97FF\",\"#FECB52\"],\"font\":{\"color\":\"#2a3f5f\"},\"hovermode\":\"closest\",\"hoverlabel\":{\"align\":\"left\"},\"paper_bgcolor\":\"white\",\"plot_bgcolor\":\"#E5ECF6\",\"polar\":{\"bgcolor\":\"#E5ECF6\",\"angularaxis\":{\"gridcolor\":\"white\",\"linecolor\":\"white\",\"ticks\":\"\"},\"radialaxis\":{\"gridcolor\":\"white\",\"linecolor\":\"white\",\"ticks\":\"\"}},\"ternary\":{\"bgcolor\":\"#E5ECF6\",\"aaxis\":{\"gridcolor\":\"white\",\"linecolor\":\"white\",\"ticks\":\"\"},\"baxis\":{\"gridcolor\":\"white\",\"linecolor\":\"white\",\"ticks\":\"\"},\"caxis\":{\"gridcolor\":\"white\",\"linecolor\":\"white\",\"ticks\":\"\"}},\"coloraxis\":{\"colorbar\":{\"outlinewidth\":0,\"ticks\":\"\"}},\"colorscale\":{\"sequential\":[[0.0,\"#0d0887\"],[0.1111111111111111,\"#46039f\"],[0.2222222222222222,\"#7201a8\"],[0.3333333333333333,\"#9c179e\"],[0.4444444444444444,\"#bd3786\"],[0.5555555555555556,\"#d8576b\"],[0.6666666666666666,\"#ed7953\"],[0.7777777777777778,\"#fb9f3a\"],[0.8888888888888888,\"#fdca26\"],[1.0,\"#f0f921\"]],\"sequentialminus\":[[0.0,\"#0d0887\"],[0.1111111111111111,\"#46039f\"],[0.2222222222222222,\"#7201a8\"],[0.3333333333333333,\"#9c179e\"],[0.4444444444444444,\"#bd3786\"],[0.5555555555555556,\"#d8576b\"],[0.6666666666666666,\"#ed7953\"],[0.7777777777777778,\"#fb9f3a\"],[0.8888888888888888,\"#fdca26\"],[1.0,\"#f0f921\"]],\"diverging\":[[0,\"#8e0152\"],[0.1,\"#c51b7d\"],[0.2,\"#de77ae\"],[0.3,\"#f1b6da\"],[0.4,\"#fde0ef\"],[0.5,\"#f7f7f7\"],[0.6,\"#e6f5d0\"],[0.7,\"#b8e186\"],[0.8,\"#7fbc41\"],[0.9,\"#4d9221\"],[1,\"#276419\"]]},\"xaxis\":{\"gridcolor\":\"white\",\"linecolor\":\"white\",\"ticks\":\"\",\"title\":{\"standoff\":15},\"zerolinecolor\":\"white\",\"automargin\":true,\"zerolinewidth\":2},\"yaxis\":{\"gridcolor\":\"white\",\"linecolor\":\"white\",\"ticks\":\"\",\"title\":{\"standoff\":15},\"zerolinecolor\":\"white\",\"automargin\":true,\"zerolinewidth\":2},\"scene\":{\"xaxis\":{\"backgroundcolor\":\"#E5ECF6\",\"gridcolor\":\"white\",\"linecolor\":\"white\",\"showbackground\":true,\"ticks\":\"\",\"zerolinecolor\":\"white\",\"gridwidth\":2},\"yaxis\":{\"backgroundcolor\":\"#E5ECF6\",\"gridcolor\":\"white\",\"linecolor\":\"white\",\"showbackground\":true,\"ticks\":\"\",\"zerolinecolor\":\"white\",\"gridwidth\":2},\"zaxis\":{\"backgroundcolor\":\"#E5ECF6\",\"gridcolor\":\"white\",\"linecolor\":\"white\",\"showbackground\":true,\"ticks\":\"\",\"zerolinecolor\":\"white\",\"gridwidth\":2}},\"shapedefaults\":{\"line\":{\"color\":\"#2a3f5f\"}},\"annotationdefaults\":{\"arrowcolor\":\"#2a3f5f\",\"arrowhead\":0,\"arrowwidth\":1},\"geo\":{\"bgcolor\":\"white\",\"landcolor\":\"#E5ECF6\",\"subunitcolor\":\"white\",\"showland\":true,\"showlakes\":true,\"lakecolor\":\"white\"},\"title\":{\"x\":0.05},\"mapbox\":{\"style\":\"light\"}}},\"coloraxis\":{\"colorbar\":{\"title\":{\"text\":\"studytime\"}},\"colorscale\":[[0,\"purple\"],[0.5,\"lightseagreen\"],[1,\"gold\"]],\"cmid\":2},\"legend\":{\"tracegroupgap\":0},\"margin\":{\"t\":60}},                        {\"responsive\": true}                    ).then(function(){\n",
              "                            \n",
              "var gd = document.getElementById('79c17dd5-6938-4c60-88b0-f8575aac55ab');\n",
              "var x = new MutationObserver(function (mutations, observer) {{\n",
              "        var display = window.getComputedStyle(gd).display;\n",
              "        if (!display || display === 'none') {{\n",
              "            console.log([gd, 'removed!']);\n",
              "            Plotly.purge(gd);\n",
              "            observer.disconnect();\n",
              "        }}\n",
              "}});\n",
              "\n",
              "// Listen for the removal of the full notebook cells\n",
              "var notebookContainer = gd.closest('#notebook-container');\n",
              "if (notebookContainer) {{\n",
              "    x.observe(notebookContainer, {childList: true});\n",
              "}}\n",
              "\n",
              "// Listen for the clearing of the current output cell\n",
              "var outputEl = gd.closest('.output');\n",
              "if (outputEl) {{\n",
              "    x.observe(outputEl, {childList: true});\n",
              "}}\n",
              "\n",
              "                        })                };                            </script>        </div>\n",
              "</body>\n",
              "</html>"
            ]
          },
          "metadata": {}
        }
      ]
    },
    {
      "cell_type": "markdown",
      "source": [
        "It seems that having lower absences and higher study time leads student to be more successful, However as you see it is not always true in portugese class.\n",
        "\n",
        "**Now take a closer loot to math class.**"
      ],
      "metadata": {
        "id": "9_MtQx3OwKVx"
      }
    },
    {
      "cell_type": "code",
      "source": [
        "fig = px.parallel_coordinates(student_math, color=\"studytime\",\n",
        "                              dimensions=['absences','G1', 'G2', 'G3'\n",
        "                                          ],\n",
        "                              color_continuous_scale = [[0,'purple'],[0.5,'lightseagreen'],[1,'gold']],\n",
        "                              color_continuous_midpoint=2)\n",
        "fig.show()"
      ],
      "metadata": {
        "colab": {
          "base_uri": "https://localhost:8080/",
          "height": 542
        },
        "id": "0aHL7xL2w2VV",
        "outputId": "1269e9e4-8029-468a-b59c-7350f812e429"
      },
      "execution_count": 30,
      "outputs": [
        {
          "output_type": "display_data",
          "data": {
            "text/html": [
              "<html>\n",
              "<head><meta charset=\"utf-8\" /></head>\n",
              "<body>\n",
              "    <div>            <script src=\"https://cdnjs.cloudflare.com/ajax/libs/mathjax/2.7.5/MathJax.js?config=TeX-AMS-MML_SVG\"></script><script type=\"text/javascript\">if (window.MathJax && window.MathJax.Hub && window.MathJax.Hub.Config) {window.MathJax.Hub.Config({SVG: {font: \"STIX-Web\"}});}</script>                <script type=\"text/javascript\">window.PlotlyConfig = {MathJaxConfig: 'local'};</script>\n",
              "        <script src=\"https://cdn.plot.ly/plotly-2.18.2.min.js\"></script>                <div id=\"5ef15a6d-f809-455f-8537-6a06bd8ee1f1\" class=\"plotly-graph-div\" style=\"height:525px; width:100%;\"></div>            <script type=\"text/javascript\">                                    window.PLOTLYENV=window.PLOTLYENV || {};                                    if (document.getElementById(\"5ef15a6d-f809-455f-8537-6a06bd8ee1f1\")) {                    Plotly.newPlot(                        \"5ef15a6d-f809-455f-8537-6a06bd8ee1f1\",                        [{\"dimensions\":[{\"label\":\"absences\",\"values\":[6,4,10,2,4,10,0,6,0,0,0,4,2,2,0,4,6,4,16,4,0,0,2,0,2,14,2,4,4,16,0,0,0,0,0,0,2,7,2,8,25,8,2,0,14,8,12,4,2,2,2,2,6,0,6,8,0,4,2,2,6,6,4,2,0,2,4,4,2,12,0,0,2,2,54,6,8,0,2,12,2,4,10,4,2,6,4,4,12,18,0,4,4,0,6,2,2,2,6,0,14,0,4,26,0,10,8,2,6,4,6,0,6,10,8,2,2,0,20,6,2,6,2,18,0,0,0,2,0,8,0,0,12,16,0,0,0,0,0,0,0,8,2,2,0,0,0,2,0,0,0,6,8,0,0,2,8,6,2,4,0,6,0,2,0,16,4,0,0,0,0,2,0,0,4,4,2,4,10,4,10,2,0,56,14,12,2,0,6,4,10,0,12,8,0,0,4,8,24,0,2,6,4,18,6,28,5,10,6,6,10,13,0,15,12,2,22,13,3,4,2,0,2,0,0,16,10,2,14,10,14,4,14,2,18,10,4,20,2,0,14,2,0,0,0,6,4,16,8,0,0,6,4,0,0,2,6,12,8,0,21,2,1,4,0,13,2,8,10,0,15,4,2,2,2,6,75,22,15,8,30,19,1,4,4,2,5,6,6,9,11,0,12,6,8,4,0,10,0,5,14,0,0,0,20,8,0,38,0,18,0,20,3,22,14,40,0,9,0,2,23,12,3,1,0,3,3,8,7,4,2,7,0,0,0,16,12,0,7,4,4,0,11,0,4,7,9,0,0,10,8,2,7,4,4,0,4,2,4,0,0,2,0,0,0,4,0,0,0,10,4,3,8,14,0,2,4,4,0,17,4,5,2,0,14,2,7,0,0,0,11,3,3,0,5]},{\"label\":\"G1\",\"values\":[5,5,7,15,6,15,12,6,16,14,10,10,14,10,14,14,13,8,6,8,13,12,15,13,10,6,12,15,11,10,9,17,17,8,12,8,15,15,12,14,7,12,19,8,10,8,11,19,15,7,12,11,11,8,10,8,14,14,9,15,10,10,8,10,10,16,13,7,8,16,13,10,8,12,11,9,11,11,8,5,10,11,7,15,9,7,8,13,11,8,7,16,7,11,11,7,11,8,11,7,7,16,10,7,16,10,7,16,10,14,18,7,10,18,9,15,11,13,9,14,16,16,13,14,8,13,7,7,7,18,12,8,10,12,9,11,10,4,14,16,7,9,9,14,5,8,6,10,7,8,6,12,10,5,11,11,16,9,17,10,7,5,7,10,5,12,10,14,6,14,6,13,13,8,10,10,13,6,10,10,9,12,16,9,12,12,11,15,8,8,11,8,7,8,13,14,17,9,18,9,16,8,9,7,10,10,7,11,9,7,8,12,12,6,8,14,6,6,7,9,6,6,16,12,13,9,16,12,10,12,13,11,11,14,9,11,14,13,13,7,12,10,6,13,7,18,12,6,3,13,6,7,6,8,8,7,14,11,15,10,17,8,13,10,9,17,9,12,10,6,9,15,11,15,10,12,10,9,9,10,8,11,12,8,10,12,18,13,15,15,12,15,12,18,14,14,10,10,14,16,12,11,15,17,15,14,17,8,15,12,9,14,13,13,15,13,8,9,11,11,13,11,11,12,16,9,14,11,10,14,9,12,7,8,10,16,14,7,16,9,11,10,16,9,11,13,16,10,13,11,8,13,8,8,13,10,12,12,10,18,13,13,11,16,12,10,13,7,11,14,7,14,13,6,19,8,15,8,15,10,15,7,11,6,6,10,6,7,7,6,9,14,10,11,8]},{\"label\":\"G2\",\"values\":[6,5,8,14,10,15,12,5,18,15,8,12,14,10,16,14,14,10,5,10,14,15,15,13,9,9,12,16,11,12,11,16,16,10,14,7,16,16,12,13,10,12,18,8,10,8,12,19,15,7,13,13,11,10,13,9,15,15,10,16,11,8,10,9,10,15,13,7,9,16,15,10,6,12,12,9,11,11,8,5,12,10,6,15,10,9,7,14,10,6,7,17,6,10,13,10,15,9,14,9,7,17,13,6,18,11,8,18,13,15,19,10,13,19,9,15,13,14,7,13,15,14,13,11,7,13,10,8,4,18,0,0,13,11,0,0,0,0,12,16,9,9,11,14,0,11,7,11,6,9,5,13,10,0,11,8,12,8,15,12,6,9,0,10,8,11,10,15,7,14,5,15,11,7,11,9,13,5,8,10,8,13,17,9,13,12,12,15,7,9,12,8,8,9,14,15,15,9,18,9,16,10,9,6,10,9,7,12,9,7,8,12,13,7,10,15,6,6,7,10,6,5,16,13,13,8,15,11,8,10,13,11,9,13,7,9,13,12,11,7,12,11,0,12,0,18,12,8,5,15,8,10,9,9,12,9,12,11,14,9,18,8,12,9,10,17,9,10,9,0,9,14,11,14,10,12,9,9,8,11,8,9,12,9,9,10,18,12,14,13,11,15,12,18,13,12,9,8,13,15,10,11,12,17,14,12,18,9,12,10,9,12,11,10,13,11,8,10,11,11,13,9,11,14,15,12,15,10,9,14,8,14,0,8,9,15,13,8,15,10,12,10,15,8,10,13,15,10,15,13,7,13,7,8,11,9,13,12,10,16,13,12,11,15,11,10,13,6,10,12,7,12,11,5,18,8,14,9,15,10,14,6,11,5,5,9,5,5,9,5,9,16,8,12,9]},{\"label\":\"G3\",\"values\":[6,6,10,15,10,15,11,6,19,15,9,12,14,11,16,14,14,10,5,10,15,15,16,12,8,8,11,15,11,11,12,17,16,12,15,6,18,15,11,13,11,12,18,11,9,6,11,20,14,7,13,13,10,11,13,10,15,15,9,16,11,11,9,9,10,15,12,6,8,16,15,10,5,14,11,10,10,11,10,5,12,11,6,15,10,8,6,14,10,7,8,18,6,10,14,10,15,10,14,8,5,17,14,6,18,11,8,18,13,16,19,10,13,19,9,16,14,13,8,13,15,15,13,13,8,12,11,9,0,18,0,0,12,11,0,0,0,0,12,15,0,9,11,13,0,11,0,11,0,10,0,14,10,0,12,8,13,10,15,12,0,7,0,10,7,12,10,16,0,14,0,16,10,0,9,9,11,6,9,11,8,12,17,8,12,11,11,15,9,10,13,9,8,10,14,15,16,10,18,10,16,10,10,6,11,9,7,13,10,7,8,13,14,8,10,15,4,8,8,10,6,0,17,13,14,7,15,12,9,12,14,11,9,13,6,10,13,12,11,0,12,12,0,12,0,18,13,8,5,15,8,10,8,8,12,8,13,11,14,0,18,8,12,9,0,17,10,11,10,0,9,14,11,14,10,12,9,9,8,10,8,10,12,10,11,11,19,12,14,15,11,15,13,18,14,11,0,8,14,16,11,10,14,18,13,12,18,8,12,10,0,13,11,11,13,11,0,9,10,11,13,9,11,15,15,11,16,10,9,14,8,14,0,0,0,15,13,0,17,10,11,0,15,0,10,14,16,9,15,13,8,13,8,8,11,9,13,11,10,16,13,12,10,15,12,10,13,0,10,11,9,12,11,5,19,10,15,10,15,10,14,7,10,0,5,10,6,0,8,0,9,16,7,10,9]}],\"domain\":{\"x\":[0.0,1.0],\"y\":[0.0,1.0]},\"line\":{\"color\":[2,2,2,3,2,2,2,2,2,2,2,3,1,2,3,1,3,2,1,1,2,1,2,2,3,1,1,1,2,2,2,2,2,2,1,1,3,3,3,1,2,1,2,1,2,2,2,4,2,2,2,2,1,1,1,2,2,2,2,2,2,1,2,3,2,2,4,4,2,4,4,4,2,1,2,2,4,4,1,2,1,3,2,2,2,2,2,3,2,2,3,1,2,2,4,4,1,2,1,3,1,3,1,2,2,4,4,3,4,3,1,3,2,1,2,2,2,1,2,1,2,4,2,1,2,1,2,2,1,1,3,1,1,1,2,3,2,1,2,1,4,1,3,1,1,2,2,2,1,1,1,1,3,1,1,2,1,1,1,2,1,2,1,1,2,1,2,2,2,2,1,2,2,2,2,2,2,2,1,2,2,2,2,2,2,2,1,2,2,2,2,2,2,1,1,2,1,1,1,2,2,2,2,1,4,3,2,2,1,3,4,2,2,2,1,2,2,2,1,3,2,3,2,2,3,2,2,2,2,3,2,2,2,2,2,3,2,1,2,2,2,2,1,1,3,1,1,1,2,1,1,2,1,1,1,1,4,2,2,4,2,2,3,3,3,2,2,2,2,2,2,4,2,2,2,2,2,1,2,1,1,1,4,2,2,2,3,3,3,2,2,3,2,4,3,1,2,2,4,1,2,1,3,4,2,2,1,1,2,2,2,2,2,2,3,3,2,3,3,2,2,2,3,3,3,3,1,1,3,3,4,3,2,2,4,3,3,2,4,2,3,2,2,2,3,3,3,3,3,1,2,2,1,1,2,2,2,2,1,3,2,2,2,2,2,2,3,1,1,2,2,1,3,1,3,3,3,2,2,2,2,1,2,1,1,3,1,3,2,2,2,1,1,1,1],\"coloraxis\":\"coloraxis\"},\"name\":\"\",\"type\":\"parcoords\"}],                        {\"template\":{\"data\":{\"histogram2dcontour\":[{\"type\":\"histogram2dcontour\",\"colorbar\":{\"outlinewidth\":0,\"ticks\":\"\"},\"colorscale\":[[0.0,\"#0d0887\"],[0.1111111111111111,\"#46039f\"],[0.2222222222222222,\"#7201a8\"],[0.3333333333333333,\"#9c179e\"],[0.4444444444444444,\"#bd3786\"],[0.5555555555555556,\"#d8576b\"],[0.6666666666666666,\"#ed7953\"],[0.7777777777777778,\"#fb9f3a\"],[0.8888888888888888,\"#fdca26\"],[1.0,\"#f0f921\"]]}],\"choropleth\":[{\"type\":\"choropleth\",\"colorbar\":{\"outlinewidth\":0,\"ticks\":\"\"}}],\"histogram2d\":[{\"type\":\"histogram2d\",\"colorbar\":{\"outlinewidth\":0,\"ticks\":\"\"},\"colorscale\":[[0.0,\"#0d0887\"],[0.1111111111111111,\"#46039f\"],[0.2222222222222222,\"#7201a8\"],[0.3333333333333333,\"#9c179e\"],[0.4444444444444444,\"#bd3786\"],[0.5555555555555556,\"#d8576b\"],[0.6666666666666666,\"#ed7953\"],[0.7777777777777778,\"#fb9f3a\"],[0.8888888888888888,\"#fdca26\"],[1.0,\"#f0f921\"]]}],\"heatmap\":[{\"type\":\"heatmap\",\"colorbar\":{\"outlinewidth\":0,\"ticks\":\"\"},\"colorscale\":[[0.0,\"#0d0887\"],[0.1111111111111111,\"#46039f\"],[0.2222222222222222,\"#7201a8\"],[0.3333333333333333,\"#9c179e\"],[0.4444444444444444,\"#bd3786\"],[0.5555555555555556,\"#d8576b\"],[0.6666666666666666,\"#ed7953\"],[0.7777777777777778,\"#fb9f3a\"],[0.8888888888888888,\"#fdca26\"],[1.0,\"#f0f921\"]]}],\"heatmapgl\":[{\"type\":\"heatmapgl\",\"colorbar\":{\"outlinewidth\":0,\"ticks\":\"\"},\"colorscale\":[[0.0,\"#0d0887\"],[0.1111111111111111,\"#46039f\"],[0.2222222222222222,\"#7201a8\"],[0.3333333333333333,\"#9c179e\"],[0.4444444444444444,\"#bd3786\"],[0.5555555555555556,\"#d8576b\"],[0.6666666666666666,\"#ed7953\"],[0.7777777777777778,\"#fb9f3a\"],[0.8888888888888888,\"#fdca26\"],[1.0,\"#f0f921\"]]}],\"contourcarpet\":[{\"type\":\"contourcarpet\",\"colorbar\":{\"outlinewidth\":0,\"ticks\":\"\"}}],\"contour\":[{\"type\":\"contour\",\"colorbar\":{\"outlinewidth\":0,\"ticks\":\"\"},\"colorscale\":[[0.0,\"#0d0887\"],[0.1111111111111111,\"#46039f\"],[0.2222222222222222,\"#7201a8\"],[0.3333333333333333,\"#9c179e\"],[0.4444444444444444,\"#bd3786\"],[0.5555555555555556,\"#d8576b\"],[0.6666666666666666,\"#ed7953\"],[0.7777777777777778,\"#fb9f3a\"],[0.8888888888888888,\"#fdca26\"],[1.0,\"#f0f921\"]]}],\"surface\":[{\"type\":\"surface\",\"colorbar\":{\"outlinewidth\":0,\"ticks\":\"\"},\"colorscale\":[[0.0,\"#0d0887\"],[0.1111111111111111,\"#46039f\"],[0.2222222222222222,\"#7201a8\"],[0.3333333333333333,\"#9c179e\"],[0.4444444444444444,\"#bd3786\"],[0.5555555555555556,\"#d8576b\"],[0.6666666666666666,\"#ed7953\"],[0.7777777777777778,\"#fb9f3a\"],[0.8888888888888888,\"#fdca26\"],[1.0,\"#f0f921\"]]}],\"mesh3d\":[{\"type\":\"mesh3d\",\"colorbar\":{\"outlinewidth\":0,\"ticks\":\"\"}}],\"scatter\":[{\"fillpattern\":{\"fillmode\":\"overlay\",\"size\":10,\"solidity\":0.2},\"type\":\"scatter\"}],\"parcoords\":[{\"type\":\"parcoords\",\"line\":{\"colorbar\":{\"outlinewidth\":0,\"ticks\":\"\"}}}],\"scatterpolargl\":[{\"type\":\"scatterpolargl\",\"marker\":{\"colorbar\":{\"outlinewidth\":0,\"ticks\":\"\"}}}],\"bar\":[{\"error_x\":{\"color\":\"#2a3f5f\"},\"error_y\":{\"color\":\"#2a3f5f\"},\"marker\":{\"line\":{\"color\":\"#E5ECF6\",\"width\":0.5},\"pattern\":{\"fillmode\":\"overlay\",\"size\":10,\"solidity\":0.2}},\"type\":\"bar\"}],\"scattergeo\":[{\"type\":\"scattergeo\",\"marker\":{\"colorbar\":{\"outlinewidth\":0,\"ticks\":\"\"}}}],\"scatterpolar\":[{\"type\":\"scatterpolar\",\"marker\":{\"colorbar\":{\"outlinewidth\":0,\"ticks\":\"\"}}}],\"histogram\":[{\"marker\":{\"pattern\":{\"fillmode\":\"overlay\",\"size\":10,\"solidity\":0.2}},\"type\":\"histogram\"}],\"scattergl\":[{\"type\":\"scattergl\",\"marker\":{\"colorbar\":{\"outlinewidth\":0,\"ticks\":\"\"}}}],\"scatter3d\":[{\"type\":\"scatter3d\",\"line\":{\"colorbar\":{\"outlinewidth\":0,\"ticks\":\"\"}},\"marker\":{\"colorbar\":{\"outlinewidth\":0,\"ticks\":\"\"}}}],\"scattermapbox\":[{\"type\":\"scattermapbox\",\"marker\":{\"colorbar\":{\"outlinewidth\":0,\"ticks\":\"\"}}}],\"scatterternary\":[{\"type\":\"scatterternary\",\"marker\":{\"colorbar\":{\"outlinewidth\":0,\"ticks\":\"\"}}}],\"scattercarpet\":[{\"type\":\"scattercarpet\",\"marker\":{\"colorbar\":{\"outlinewidth\":0,\"ticks\":\"\"}}}],\"carpet\":[{\"aaxis\":{\"endlinecolor\":\"#2a3f5f\",\"gridcolor\":\"white\",\"linecolor\":\"white\",\"minorgridcolor\":\"white\",\"startlinecolor\":\"#2a3f5f\"},\"baxis\":{\"endlinecolor\":\"#2a3f5f\",\"gridcolor\":\"white\",\"linecolor\":\"white\",\"minorgridcolor\":\"white\",\"startlinecolor\":\"#2a3f5f\"},\"type\":\"carpet\"}],\"table\":[{\"cells\":{\"fill\":{\"color\":\"#EBF0F8\"},\"line\":{\"color\":\"white\"}},\"header\":{\"fill\":{\"color\":\"#C8D4E3\"},\"line\":{\"color\":\"white\"}},\"type\":\"table\"}],\"barpolar\":[{\"marker\":{\"line\":{\"color\":\"#E5ECF6\",\"width\":0.5},\"pattern\":{\"fillmode\":\"overlay\",\"size\":10,\"solidity\":0.2}},\"type\":\"barpolar\"}],\"pie\":[{\"automargin\":true,\"type\":\"pie\"}]},\"layout\":{\"autotypenumbers\":\"strict\",\"colorway\":[\"#636efa\",\"#EF553B\",\"#00cc96\",\"#ab63fa\",\"#FFA15A\",\"#19d3f3\",\"#FF6692\",\"#B6E880\",\"#FF97FF\",\"#FECB52\"],\"font\":{\"color\":\"#2a3f5f\"},\"hovermode\":\"closest\",\"hoverlabel\":{\"align\":\"left\"},\"paper_bgcolor\":\"white\",\"plot_bgcolor\":\"#E5ECF6\",\"polar\":{\"bgcolor\":\"#E5ECF6\",\"angularaxis\":{\"gridcolor\":\"white\",\"linecolor\":\"white\",\"ticks\":\"\"},\"radialaxis\":{\"gridcolor\":\"white\",\"linecolor\":\"white\",\"ticks\":\"\"}},\"ternary\":{\"bgcolor\":\"#E5ECF6\",\"aaxis\":{\"gridcolor\":\"white\",\"linecolor\":\"white\",\"ticks\":\"\"},\"baxis\":{\"gridcolor\":\"white\",\"linecolor\":\"white\",\"ticks\":\"\"},\"caxis\":{\"gridcolor\":\"white\",\"linecolor\":\"white\",\"ticks\":\"\"}},\"coloraxis\":{\"colorbar\":{\"outlinewidth\":0,\"ticks\":\"\"}},\"colorscale\":{\"sequential\":[[0.0,\"#0d0887\"],[0.1111111111111111,\"#46039f\"],[0.2222222222222222,\"#7201a8\"],[0.3333333333333333,\"#9c179e\"],[0.4444444444444444,\"#bd3786\"],[0.5555555555555556,\"#d8576b\"],[0.6666666666666666,\"#ed7953\"],[0.7777777777777778,\"#fb9f3a\"],[0.8888888888888888,\"#fdca26\"],[1.0,\"#f0f921\"]],\"sequentialminus\":[[0.0,\"#0d0887\"],[0.1111111111111111,\"#46039f\"],[0.2222222222222222,\"#7201a8\"],[0.3333333333333333,\"#9c179e\"],[0.4444444444444444,\"#bd3786\"],[0.5555555555555556,\"#d8576b\"],[0.6666666666666666,\"#ed7953\"],[0.7777777777777778,\"#fb9f3a\"],[0.8888888888888888,\"#fdca26\"],[1.0,\"#f0f921\"]],\"diverging\":[[0,\"#8e0152\"],[0.1,\"#c51b7d\"],[0.2,\"#de77ae\"],[0.3,\"#f1b6da\"],[0.4,\"#fde0ef\"],[0.5,\"#f7f7f7\"],[0.6,\"#e6f5d0\"],[0.7,\"#b8e186\"],[0.8,\"#7fbc41\"],[0.9,\"#4d9221\"],[1,\"#276419\"]]},\"xaxis\":{\"gridcolor\":\"white\",\"linecolor\":\"white\",\"ticks\":\"\",\"title\":{\"standoff\":15},\"zerolinecolor\":\"white\",\"automargin\":true,\"zerolinewidth\":2},\"yaxis\":{\"gridcolor\":\"white\",\"linecolor\":\"white\",\"ticks\":\"\",\"title\":{\"standoff\":15},\"zerolinecolor\":\"white\",\"automargin\":true,\"zerolinewidth\":2},\"scene\":{\"xaxis\":{\"backgroundcolor\":\"#E5ECF6\",\"gridcolor\":\"white\",\"linecolor\":\"white\",\"showbackground\":true,\"ticks\":\"\",\"zerolinecolor\":\"white\",\"gridwidth\":2},\"yaxis\":{\"backgroundcolor\":\"#E5ECF6\",\"gridcolor\":\"white\",\"linecolor\":\"white\",\"showbackground\":true,\"ticks\":\"\",\"zerolinecolor\":\"white\",\"gridwidth\":2},\"zaxis\":{\"backgroundcolor\":\"#E5ECF6\",\"gridcolor\":\"white\",\"linecolor\":\"white\",\"showbackground\":true,\"ticks\":\"\",\"zerolinecolor\":\"white\",\"gridwidth\":2}},\"shapedefaults\":{\"line\":{\"color\":\"#2a3f5f\"}},\"annotationdefaults\":{\"arrowcolor\":\"#2a3f5f\",\"arrowhead\":0,\"arrowwidth\":1},\"geo\":{\"bgcolor\":\"white\",\"landcolor\":\"#E5ECF6\",\"subunitcolor\":\"white\",\"showland\":true,\"showlakes\":true,\"lakecolor\":\"white\"},\"title\":{\"x\":0.05},\"mapbox\":{\"style\":\"light\"}}},\"coloraxis\":{\"colorbar\":{\"title\":{\"text\":\"studytime\"}},\"colorscale\":[[0,\"purple\"],[0.5,\"lightseagreen\"],[1,\"gold\"]],\"cmid\":2},\"legend\":{\"tracegroupgap\":0},\"margin\":{\"t\":60}},                        {\"responsive\": true}                    ).then(function(){\n",
              "                            \n",
              "var gd = document.getElementById('5ef15a6d-f809-455f-8537-6a06bd8ee1f1');\n",
              "var x = new MutationObserver(function (mutations, observer) {{\n",
              "        var display = window.getComputedStyle(gd).display;\n",
              "        if (!display || display === 'none') {{\n",
              "            console.log([gd, 'removed!']);\n",
              "            Plotly.purge(gd);\n",
              "            observer.disconnect();\n",
              "        }}\n",
              "}});\n",
              "\n",
              "// Listen for the removal of the full notebook cells\n",
              "var notebookContainer = gd.closest('#notebook-container');\n",
              "if (notebookContainer) {{\n",
              "    x.observe(notebookContainer, {childList: true});\n",
              "}}\n",
              "\n",
              "// Listen for the clearing of the current output cell\n",
              "var outputEl = gd.closest('.output');\n",
              "if (outputEl) {{\n",
              "    x.observe(outputEl, {childList: true});\n",
              "}}\n",
              "\n",
              "                        })                };                            </script>        </div>\n",
              "</body>\n",
              "</html>"
            ]
          },
          "metadata": {}
        }
      ]
    },
    {
      "cell_type": "markdown",
      "source": [
        "Absences is higher for math class but other than that. Classes are similar\n",
        "\n",
        "**Last plot is scatter plot.**"
      ],
      "metadata": {
        "id": "UKkk52Knxs8Y"
      }
    },
    {
      "cell_type": "code",
      "source": [
        "fig = px.scatter(student_por, x=\"G1\", y=\"absences\", color=\"studytime\",\n",
        "                 size='freetime', hover_data=['Medu',\"Fedu\"])\n",
        "\n",
        "\n",
        "fig.update_layout(title=\"Scatter plots for G1 in accordance with medu, fedu, study time and free time in Portugese Class\", title_x=0.5)\n",
        "fig.show()"
      ],
      "metadata": {
        "colab": {
          "base_uri": "https://localhost:8080/",
          "height": 542
        },
        "id": "PNR6bmRb5aDR",
        "outputId": "0c84d830-e512-4509-8424-5f1e3077e2c6"
      },
      "execution_count": 44,
      "outputs": [
        {
          "output_type": "display_data",
          "data": {
            "text/html": [
              "<html>\n",
              "<head><meta charset=\"utf-8\" /></head>\n",
              "<body>\n",
              "    <div>            <script src=\"https://cdnjs.cloudflare.com/ajax/libs/mathjax/2.7.5/MathJax.js?config=TeX-AMS-MML_SVG\"></script><script type=\"text/javascript\">if (window.MathJax && window.MathJax.Hub && window.MathJax.Hub.Config) {window.MathJax.Hub.Config({SVG: {font: \"STIX-Web\"}});}</script>                <script type=\"text/javascript\">window.PlotlyConfig = {MathJaxConfig: 'local'};</script>\n",
              "        <script src=\"https://cdn.plot.ly/plotly-2.18.2.min.js\"></script>                <div id=\"ee0343bb-90e2-4f57-bc87-99534f16cf9c\" class=\"plotly-graph-div\" style=\"height:525px; width:100%;\"></div>            <script type=\"text/javascript\">                                    window.PLOTLYENV=window.PLOTLYENV || {};                                    if (document.getElementById(\"ee0343bb-90e2-4f57-bc87-99534f16cf9c\")) {                    Plotly.newPlot(                        \"ee0343bb-90e2-4f57-bc87-99534f16cf9c\",                        [{\"customdata\":[[4,4],[1,1],[1,1],[4,2],[3,3],[4,3],[2,2],[4,4],[3,2],[3,4],[4,4],[2,1],[4,4],[4,3],[2,2],[4,4],[4,4],[3,3],[3,2],[4,3],[4,3],[4,4],[4,2],[2,2],[2,4],[2,2],[2,2],[4,2],[3,4],[4,4],[4,4],[4,4],[4,3],[3,3],[3,2],[2,3],[4,3],[4,4],[3,4],[2,2],[2,2],[4,4],[4,4],[2,2],[2,2],[4,3],[3,3],[4,3],[4,2],[4,4],[2,2],[4,2],[4,2],[4,4],[3,3],[2,1],[4,3],[4,4],[1,2],[4,2],[4,4],[1,1],[1,2],[4,3],[4,3],[4,3],[4,4],[3,1],[2,2],[3,1],[3,1],[4,2],[1,1],[3,1],[3,3],[4,3],[4,0],[2,2],[2,1],[3,4],[2,3],[2,3],[3,2],[2,2],[1,1],[4,4],[2,2],[4,2],[2,2],[4,4],[3,3],[4,3],[3,1],[4,2],[2,2],[1,1],[4,3],[2,1],[4,4],[4,3],[4,4],[4,4],[4,4],[3,2],[3,4],[3,3],[2,2],[3,3],[4,4],[4,4],[4,4],[3,3],[2,2],[4,2],[2,1],[4,4],[4,4],[3,3],[1,3],[3,4],[1,2],[2,2],[2,4],[4,4],[2,2],[3,4],[3,4],[0,1],[4,4],[2,3],[3,4],[2,1],[2,1],[1,1],[2,2],[3,4],[2,1],[2,2],[3,4],[4,4],[3,4],[1,1],[3,1],[3,2],[1,1],[3,3],[1,1],[4,4],[1,1],[4,3],[3,3],[4,4],[2,2],[4,4],[1,1],[2,1],[1,1],[2,1],[3,2],[1,2],[1,2],[4,4],[2,1],[1,1],[2,1],[3,3],[3,2],[4,4],[2,3],[1,2],[1,1],[2,2],[3,3],[1,2],[2,1],[3,2],[1,2],[1,3],[1,1],[3,2],[2,2],[4,2],[2,2],[4,4],[3,4],[1,0],[4,4],[1,3],[3,3],[4,3],[2,2],[3,3],[4,2],[4,3],[4,3],[3,3],[2,4],[3,3],[3,2],[3,3],[1,2],[2,1],[3,3],[1,2],[2,3],[1,1],[1,2],[3,3],[2,3],[2,4],[4,4],[3,3],[4,4],[4,4],[4,3],[2,3],[1,1],[2,2],[2,2],[3,4],[3,1],[4,3],[1,1],[4,3],[3,3],[4,4],[2,2],[2,2],[4,4],[3,2],[4,3],[3,3],[2,3],[2,2],[2,1],[1,1],[2,3],[2,2],[4,4],[3,1],[3,2],[2,3],[2,1],[2,1],[4,3],[2,2],[4,4],[4,4],[1,1],[3,2],[2,2],[2,1],[4,1],[2,4],[2,2],[3,3],[2,2],[4,4],[3,2],[1,1],[1,2],[2,1],[1,4],[2,2],[2,2],[1,1],[4,2],[4,3],[4,4],[4,3],[4,4],[4,4],[1,1],[3,3],[1,1],[2,1],[2,1],[1,1],[2,3],[3,1],[3,3],[0,2],[3,2],[3,3],[2,1],[2,1],[2,1],[1,1],[2,1],[4,2],[2,2],[2,1],[4,2],[1,1],[2,2],[4,3],[2,1],[2,2],[2,2],[2,1],[4,3],[4,3],[3,2],[3,3],[2,2],[2,2],[3,4],[3,1],[4,4],[4,2],[2,1],[3,3],[2,3],[1,1],[1,2],[2,1],[2,4],[2,2],[3,2],[4,4],[4,4],[2,2],[3,2],[4,3],[1,2],[4,1],[3,2],[1,1],[1,1],[2,2],[2,1],[1,1],[2,2],[1,1],[2,1],[4,4],[4,2],[4,3],[3,1],[3,2],[3,3],[4,4],[4,3],[4,3],[4,4],[4,4],[4,4],[4,4],[4,2],[3,2],[2,1],[3,2],[3,3],[1,4],[2,1],[2,3],[4,4],[4,3],[4,3],[3,4],[3,3],[4,2],[4,4],[3,4],[4,4],[4,3],[3,3],[2,1],[4,4],[1,1],[1,1],[2,2],[2,2],[2,2],[3,1],[0,2],[1,1],[4,4],[3,3],[2,2],[4,4],[4,4],[3,3],[2,2],[3,2],[2,2],[2,4],[2,2],[3,3],[2,2],[2,2],[3,4],[3,2],[3,3],[3,2],[4,4],[3,4],[2,2],[2,3],[3,2],[4,3],[4,3],[4,3],[2,1],[2,1],[2,3],[3,1],[4,4],[2,2],[3,4],[2,2],[4,4],[4,2],[1,1],[1,1],[4,4],[3,2],[3,2],[2,3],[2,1],[2,2],[1,0],[3,2],[1,3],[2,2],[1,1],[3,3],[2,3],[2,1],[4,4],[1,2],[3,2],[1,1],[4,4],[2,2],[1,1],[1,1],[0,2],[2,3],[3,3],[1,1],[1,1],[4,1],[4,1],[3,4],[1,1],[3,3],[2,1],[4,4],[1,2],[2,3],[1,2],[2,2],[1,2],[1,2],[2,1],[1,1],[1,2],[1,1],[1,1],[1,1],[1,1],[1,1],[2,2],[1,1],[1,2],[3,1],[2,2],[2,2],[4,4],[3,3],[2,2],[2,2],[2,1],[1,3],[2,2],[2,1],[3,3],[1,1],[2,2],[2,3],[2,1],[1,1],[2,2],[2,2],[2,2],[2,2],[3,2],[1,1],[1,1],[1,1],[1,1],[2,2],[0,1],[1,2],[3,3],[1,1],[3,3],[2,1],[2,2],[1,2],[4,3],[2,2],[1,1],[2,2],[1,1],[3,3],[1,1],[2,2],[1,1],[2,2],[1,0],[1,1],[3,1],[3,2],[1,1],[4,4],[1,2],[2,4],[2,1],[1,1],[2,3],[4,4],[4,4],[3,4],[4,4],[4,1],[2,2],[2,2],[4,4],[3,3],[1,1],[2,1],[2,1],[4,4],[1,2],[2,2],[2,1],[2,2],[4,1],[3,2],[2,2],[4,4],[4,4],[1,3],[3,4],[4,4],[4,1],[1,1],[4,2],[2,2],[3,2],[1,1],[1,0],[1,1],[1,2],[1,2],[3,1],[2,2],[1,0],[1,1],[1,1],[2,2],[2,2],[3,2],[1,1],[1,1],[3,2],[3,2],[3,3],[2,2],[2,1],[3,2],[1,1],[1,1],[4,3],[3,2],[1,1],[3,3],[1,3],[1,1],[1,2],[1,1],[2,2],[0,0],[3,1],[4,2],[2,2],[4,1],[1,2],[1,1],[2,2],[3,3],[1,2],[4,4],[4,4],[4,2],[2,2],[1,2],[4,4],[1,1],[2,2],[2,2],[4,2],[1,1],[1,1],[4,2],[2,1],[1,1],[1,2],[1,1],[2,2],[4,3],[3,3],[4,4],[3,2],[1,1],[1,1],[1,2],[3,3],[4,4],[1,2],[1,3],[4,4],[1,1],[2,3],[4,4],[1,2],[2,2],[1,2],[4,4],[1,1],[1,1],[4,4],[3,3],[3,1],[4,4],[2,1],[2,3],[1,1],[4,2],[2,2],[4,3],[4,4],[2,3],[3,1],[1,1],[3,1],[3,2]],\"hovertemplate\":\"G1=%{x}<br>absences=%{y}<br>freetime=%{marker.size}<br>Medu=%{customdata[0]}<br>Fedu=%{customdata[1]}<br>studytime=%{marker.color}<extra></extra>\",\"legendgroup\":\"\",\"marker\":{\"color\":[2,2,2,3,2,2,2,2,2,2,2,3,1,2,3,1,3,2,1,1,2,1,2,2,3,1,1,1,2,2,2,2,2,2,1,1,3,3,3,1,2,1,2,1,2,2,2,4,2,2,2,2,1,1,1,2,2,2,2,2,2,1,2,3,2,2,4,4,2,4,4,4,2,1,2,2,4,4,1,2,1,3,2,2,2,2,2,3,2,2,3,1,2,2,4,4,1,2,1,3,1,3,1,2,2,4,4,3,4,3,1,3,2,1,2,2,2,1,2,1,2,4,2,1,2,1,2,2,1,3,3,2,1,1,1,1,1,1,2,3,2,2,1,3,1,1,2,1,1,4,2,3,1,3,1,1,2,1,2,2,2,1,1,1,1,3,1,1,2,1,1,1,2,1,1,2,1,1,2,1,2,2,2,2,1,2,2,2,2,2,2,2,1,2,2,2,2,2,2,2,1,2,2,2,2,2,2,1,1,2,1,1,1,2,2,2,2,1,4,3,2,2,1,3,4,2,2,2,1,2,2,2,1,3,2,3,2,2,3,2,2,2,2,3,2,2,2,2,2,3,2,1,2,2,2,1,1,1,2,3,1,2,1,2,1,3,2,2,2,1,1,2,3,3,2,3,1,2,1,1,2,1,1,2,1,1,1,1,2,4,2,2,3,3,2,2,2,1,4,2,2,2,3,3,3,1,2,2,2,2,2,2,4,2,2,2,2,2,2,1,2,3,2,1,1,1,1,4,2,2,2,2,3,3,3,2,2,3,4,3,1,2,2,4,1,2,1,3,3,4,3,1,2,2,2,2,1,3,1,3,2,2,2,1,1,2,2,2,1,3,2,1,2,3,3,3,3,3,1,1,3,3,1,4,1,2,3,1,2,2,4,3,2,4,2,2,2,2,3,3,3,3,3,2,2,1,1,3,2,2,2,3,2,2,3,1,2,3,1,1,2,1,2,1,2,1,1,2,1,2,3,2,1,1,4,2,1,1,1,1,2,2,2,2,2,2,2,1,3,1,2,2,2,3,3,2,2,1,4,3,2,1,2,3,1,2,1,2,1,2,2,2,1,1,1,3,1,1,2,1,1,1,1,2,1,2,1,3,3,1,1,2,2,1,2,1,1,4,2,1,1,1,4,4,3,1,2,3,1,2,2,2,2,1,1,2,2,1,2,2,2,2,2,4,2,3,1,3,1,1,1,2,2,2,1,2,4,1,3,2,1,2,3,1,1,2,2,1,2,2,2,2,2,1,1,3,1,2,1,1,1,2,2,1,1,1,1,1,1,2,1,1,2,1,1,1,1,2,2,1,1,2,1,1,1,3,2,2,1,1,2,2,1,2,2,1,2,2,1,1,1,2,3,2,2,1,4,2,2,2,2,3,2,2,2,2,1,3,2,2,2,2,2,3,1,1,2,1,3,1,3,3,2,2,2,2,2,1,2,1,1,3,2,1,3,2,2,1,1],\"coloraxis\":\"coloraxis\",\"size\":[3,3,3,2,3,4,4,1,2,5,3,2,3,4,5,4,2,3,5,1,4,4,5,4,3,2,2,2,3,4,4,3,5,3,4,5,4,4,3,3,3,4,3,4,3,2,3,2,3,4,3,3,5,3,3,3,3,2,3,2,4,5,4,4,4,4,3,3,1,4,3,3,3,3,3,3,4,2,5,4,2,3,4,3,3,4,3,3,4,1,3,5,3,3,3,1,3,3,3,3,5,4,3,3,4,3,1,3,3,4,5,1,1,5,4,4,4,4,2,4,2,5,2,4,4,5,3,4,5,2,2,4,2,3,4,2,2,3,3,3,4,1,3,3,3,3,4,3,5,2,3,3,3,2,4,4,4,4,3,3,3,3,5,3,4,2,5,2,4,2,2,2,5,4,3,4,4,3,3,5,3,2,1,4,4,3,4,3,4,4,4,3,3,2,4,2,4,3,2,3,3,2,3,1,3,3,4,3,3,3,2,3,2,5,3,4,4,3,3,4,3,3,3,4,3,3,3,4,2,4,4,2,3,3,2,3,3,3,3,3,3,3,3,2,2,5,5,2,4,3,4,5,3,3,3,1,4,2,4,3,3,1,5,5,1,3,3,5,3,4,3,3,3,2,3,4,3,3,2,4,3,3,4,3,2,3,4,4,3,2,3,4,3,4,2,3,2,2,4,2,1,3,3,2,3,4,2,4,3,4,3,3,5,4,5,2,3,4,1,2,4,2,3,2,4,5,4,2,4,4,3,3,3,3,2,4,3,2,1,4,4,3,4,3,4,2,1,3,3,2,3,5,5,4,3,2,4,3,2,3,1,4,4,4,3,2,3,2,2,5,3,3,2,3,4,3,5,3,3,4,4,3,2,5,3,2,4,4,3,3,4,4,3,3,3,3,3,3,3,4,3,4,4,3,3,2,1,3,4,3,3,4,2,3,2,2,4,3,1,3,1,3,1,3,4,1,4,5,3,3,4,5,4,5,2,4,4,2,5,1,4,4,3,3,4,4,3,5,2,1,5,3,4,3,3,4,4,5,3,4,3,2,2,4,4,4,2,3,3,3,5,4,3,4,2,3,4,3,4,5,4,5,2,4,3,3,4,3,3,4,2,1,3,4,4,5,4,4,3,2,3,2,3,2,4,4,3,3,4,3,3,4,3,1,1,3,3,4,3,2,3,3,3,5,2,4,2,1,1,1,1,1,2,2,1,5,4,3,3,2,3,1,3,3,1,4,2,1,5,3,1,1,4,1,5,3,4,4,5,3,5,3,4,2,5,5,3,3,2,4,4,4,5,3,4,4,5,4,5,3,4,3,4,5,4,2,5,3,2,5,4,3,4,4,3,4,3,3,1,5,2,3,4,3,4,5,2,3,2,1,5,2,5,3,3,2,3,3,3,3,3,2,3,2,2,2,2,3,4,5,4,3,3,4,1,5,2,4,4,3,4,3,5,4,4,3,1,4,4],\"sizemode\":\"area\",\"sizeref\":0.0125,\"symbol\":\"circle\"},\"mode\":\"markers\",\"name\":\"\",\"orientation\":\"v\",\"showlegend\":false,\"x\":[0,9,12,14,11,12,13,10,15,12,14,10,12,12,14,17,13,13,8,12,12,11,12,10,10,10,11,11,12,12,10,15,13,13,12,11,14,13,11,14,11,10,14,9,10,10,13,17,11,13,14,16,10,13,13,12,15,15,14,16,17,10,13,14,13,16,11,10,11,15,13,11,13,13,11,11,12,13,9,12,11,10,12,13,13,12,13,15,12,9,9,14,12,13,11,13,9,13,12,12,9,16,12,11,16,10,10,13,12,15,13,11,8,18,10,16,16,14,12,14,14,14,14,12,12,9,10,9,14,13,10,10,11,11,13,15,9,13,12,13,10,14,11,12,12,9,10,13,8,9,9,15,12,13,10,9,12,11,11,13,11,9,12,11,9,13,11,13,7,9,11,12,10,9,8,7,8,9,8,8,9,17,12,16,9,16,11,14,14,10,13,11,10,11,11,11,17,14,14,11,10,13,12,9,12,12,10,11,13,14,13,10,14,11,14,11,14,13,13,8,11,14,12,11,12,13,13,12,12,14,11,10,12,12,11,12,13,10,15,8,17,10,9,15,14,12,13,13,9,12,16,9,14,10,9,8,7,10,14,11,12,13,9,8,11,15,15,15,12,14,14,11,13,11,10,12,15,11,9,7,10,11,7,9,7,14,12,9,12,14,10,11,11,11,11,11,16,9,10,10,15,10,10,15,11,8,15,11,10,10,8,11,16,13,16,14,15,12,12,11,14,13,9,10,10,11,13,17,12,12,12,12,18,13,14,17,15,17,18,14,14,14,13,16,18,14,12,7,16,18,9,14,10,10,12,11,15,14,12,15,11,11,12,11,14,15,12,11,8,10,8,10,14,11,17,14,14,13,17,11,13,15,11,11,11,10,15,15,10,10,14,11,12,14,14,12,16,10,11,14,15,14,11,12,12,10,10,9,9,13,13,12,14,9,11,9,16,14,13,7,14,8,10,10,12,10,10,16,6,10,10,10,6,13,10,10,6,12,10,14,7,8,12,7,9,7,11,8,16,11,15,10,9,10,9,9,13,10,13,10,11,13,13,14,11,9,10,14,13,13,13,12,14,10,10,12,10,12,7,9,9,9,9,9,7,11,9,7,7,8,9,7,8,9,8,14,14,10,14,17,6,14,10,14,12,11,11,11,10,16,15,11,7,8,7,9,14,14,8,8,6,8,8,5,7,15,13,10,9,11,7,10,9,14,11,9,13,12,11,9,9,11,10,9,12,8,13,10,11,17,12,13,9,11,10,13,9,7,8,12,10,10,11,7,11,10,9,4,6,4,7,8,5,7,8,10,9,10,8,9,8,6,6,8,10,8,8,7,8,7,7,12,11,12,18,17,17,9,10,12,12,8,11,5,9,5,18,11,8,11,8,14,10,10,12,15,14,19,16,13,15,13,8,15,8,10,7,9,10,7,15,10,7,13,16,8,17,7,14,5,7,14,6,7,10,15,11,10,10],\"xaxis\":\"x\",\"y\":[4,2,6,0,0,6,0,2,0,0,2,0,0,0,0,6,10,2,2,6,0,0,0,2,2,6,8,0,2,4,0,2,0,0,4,4,0,4,2,8,16,8,0,0,14,4,6,2,4,2,0,0,4,0,0,2,0,8,0,2,0,0,0,0,0,2,0,0,0,6,2,0,2,0,4,0,0,1,0,14,0,2,4,2,2,4,6,4,6,6,2,6,0,2,2,4,6,0,4,2,12,0,2,16,0,10,4,4,8,2,4,4,12,10,4,6,4,6,14,2,0,6,2,4,0,2,0,0,8,4,0,10,8,6,2,12,4,12,2,4,2,0,2,10,8,4,0,6,2,6,24,0,4,2,4,22,0,0,2,6,6,16,0,0,6,2,6,0,0,14,6,4,0,0,8,4,2,2,0,10,0,0,0,0,4,0,0,0,0,0,0,4,8,4,4,0,0,32,8,6,0,0,10,6,6,0,16,0,0,8,4,16,30,0,2,4,0,21,6,14,2,4,2,0,4,15,0,10,6,2,16,10,4,0,0,12,0,9,4,4,2,0,2,0,0,0,0,0,2,0,0,4,0,18,16,14,26,6,4,10,4,2,14,16,8,4,4,8,0,7,4,2,2,10,10,10,7,4,2,12,8,0,8,4,4,2,0,0,2,2,0,4,2,4,4,4,2,0,2,8,2,2,2,2,0,8,6,0,8,4,12,16,10,2,2,8,6,6,15,6,2,8,0,0,10,22,18,2,0,12,10,0,0,0,0,0,2,0,0,0,0,2,0,0,0,0,0,0,0,0,0,0,0,2,2,2,2,2,8,2,8,9,0,4,2,14,0,2,2,12,2,2,4,0,0,0,0,0,0,2,0,4,2,0,0,2,0,6,8,0,6,8,0,4,0,0,6,18,0,4,4,0,0,10,4,16,6,0,11,9,0,2,0,21,8,5,10,5,13,10,10,5,4,11,0,6,4,0,0,5,0,0,0,0,4,0,4,0,2,0,0,4,0,7,4,8,0,8,6,3,2,0,4,0,3,0,0,4,0,2,1,0,0,2,6,9,0,1,1,0,4,2,0,4,2,0,2,11,0,4,0,2,0,1,6,0,1,6,6,0,4,12,2,5,0,0,2,0,0,0,12,8,2,0,0,0,8,0,0,0,0,1,9,0,2,8,0,0,8,0,6,0,4,2,2,0,1,0,5,1,8,0,2,0,0,11,8,11,2,8,5,0,1,2,2,8,0,0,2,0,0,0,2,4,3,5,4,2,0,0,0,6,0,0,2,0,2,0,4,9,6,4,8,9,12,8,8,8,4,0,4,2,0,0,0,5,0,3,0,0,3,2,0,0,0,3,0,0,8,5,4,4,0,0,2,0,0,5,2,0,0,5,4,0,2,0,2,0,0,6,4,0,0,0,0,0,0,3,8,4,0,4,4,1,1,10,4,0,4,0,0,0,0,4,4,4,6,6,4],\"yaxis\":\"y\",\"type\":\"scatter\"}],                        {\"template\":{\"data\":{\"histogram2dcontour\":[{\"type\":\"histogram2dcontour\",\"colorbar\":{\"outlinewidth\":0,\"ticks\":\"\"},\"colorscale\":[[0.0,\"#0d0887\"],[0.1111111111111111,\"#46039f\"],[0.2222222222222222,\"#7201a8\"],[0.3333333333333333,\"#9c179e\"],[0.4444444444444444,\"#bd3786\"],[0.5555555555555556,\"#d8576b\"],[0.6666666666666666,\"#ed7953\"],[0.7777777777777778,\"#fb9f3a\"],[0.8888888888888888,\"#fdca26\"],[1.0,\"#f0f921\"]]}],\"choropleth\":[{\"type\":\"choropleth\",\"colorbar\":{\"outlinewidth\":0,\"ticks\":\"\"}}],\"histogram2d\":[{\"type\":\"histogram2d\",\"colorbar\":{\"outlinewidth\":0,\"ticks\":\"\"},\"colorscale\":[[0.0,\"#0d0887\"],[0.1111111111111111,\"#46039f\"],[0.2222222222222222,\"#7201a8\"],[0.3333333333333333,\"#9c179e\"],[0.4444444444444444,\"#bd3786\"],[0.5555555555555556,\"#d8576b\"],[0.6666666666666666,\"#ed7953\"],[0.7777777777777778,\"#fb9f3a\"],[0.8888888888888888,\"#fdca26\"],[1.0,\"#f0f921\"]]}],\"heatmap\":[{\"type\":\"heatmap\",\"colorbar\":{\"outlinewidth\":0,\"ticks\":\"\"},\"colorscale\":[[0.0,\"#0d0887\"],[0.1111111111111111,\"#46039f\"],[0.2222222222222222,\"#7201a8\"],[0.3333333333333333,\"#9c179e\"],[0.4444444444444444,\"#bd3786\"],[0.5555555555555556,\"#d8576b\"],[0.6666666666666666,\"#ed7953\"],[0.7777777777777778,\"#fb9f3a\"],[0.8888888888888888,\"#fdca26\"],[1.0,\"#f0f921\"]]}],\"heatmapgl\":[{\"type\":\"heatmapgl\",\"colorbar\":{\"outlinewidth\":0,\"ticks\":\"\"},\"colorscale\":[[0.0,\"#0d0887\"],[0.1111111111111111,\"#46039f\"],[0.2222222222222222,\"#7201a8\"],[0.3333333333333333,\"#9c179e\"],[0.4444444444444444,\"#bd3786\"],[0.5555555555555556,\"#d8576b\"],[0.6666666666666666,\"#ed7953\"],[0.7777777777777778,\"#fb9f3a\"],[0.8888888888888888,\"#fdca26\"],[1.0,\"#f0f921\"]]}],\"contourcarpet\":[{\"type\":\"contourcarpet\",\"colorbar\":{\"outlinewidth\":0,\"ticks\":\"\"}}],\"contour\":[{\"type\":\"contour\",\"colorbar\":{\"outlinewidth\":0,\"ticks\":\"\"},\"colorscale\":[[0.0,\"#0d0887\"],[0.1111111111111111,\"#46039f\"],[0.2222222222222222,\"#7201a8\"],[0.3333333333333333,\"#9c179e\"],[0.4444444444444444,\"#bd3786\"],[0.5555555555555556,\"#d8576b\"],[0.6666666666666666,\"#ed7953\"],[0.7777777777777778,\"#fb9f3a\"],[0.8888888888888888,\"#fdca26\"],[1.0,\"#f0f921\"]]}],\"surface\":[{\"type\":\"surface\",\"colorbar\":{\"outlinewidth\":0,\"ticks\":\"\"},\"colorscale\":[[0.0,\"#0d0887\"],[0.1111111111111111,\"#46039f\"],[0.2222222222222222,\"#7201a8\"],[0.3333333333333333,\"#9c179e\"],[0.4444444444444444,\"#bd3786\"],[0.5555555555555556,\"#d8576b\"],[0.6666666666666666,\"#ed7953\"],[0.7777777777777778,\"#fb9f3a\"],[0.8888888888888888,\"#fdca26\"],[1.0,\"#f0f921\"]]}],\"mesh3d\":[{\"type\":\"mesh3d\",\"colorbar\":{\"outlinewidth\":0,\"ticks\":\"\"}}],\"scatter\":[{\"fillpattern\":{\"fillmode\":\"overlay\",\"size\":10,\"solidity\":0.2},\"type\":\"scatter\"}],\"parcoords\":[{\"type\":\"parcoords\",\"line\":{\"colorbar\":{\"outlinewidth\":0,\"ticks\":\"\"}}}],\"scatterpolargl\":[{\"type\":\"scatterpolargl\",\"marker\":{\"colorbar\":{\"outlinewidth\":0,\"ticks\":\"\"}}}],\"bar\":[{\"error_x\":{\"color\":\"#2a3f5f\"},\"error_y\":{\"color\":\"#2a3f5f\"},\"marker\":{\"line\":{\"color\":\"#E5ECF6\",\"width\":0.5},\"pattern\":{\"fillmode\":\"overlay\",\"size\":10,\"solidity\":0.2}},\"type\":\"bar\"}],\"scattergeo\":[{\"type\":\"scattergeo\",\"marker\":{\"colorbar\":{\"outlinewidth\":0,\"ticks\":\"\"}}}],\"scatterpolar\":[{\"type\":\"scatterpolar\",\"marker\":{\"colorbar\":{\"outlinewidth\":0,\"ticks\":\"\"}}}],\"histogram\":[{\"marker\":{\"pattern\":{\"fillmode\":\"overlay\",\"size\":10,\"solidity\":0.2}},\"type\":\"histogram\"}],\"scattergl\":[{\"type\":\"scattergl\",\"marker\":{\"colorbar\":{\"outlinewidth\":0,\"ticks\":\"\"}}}],\"scatter3d\":[{\"type\":\"scatter3d\",\"line\":{\"colorbar\":{\"outlinewidth\":0,\"ticks\":\"\"}},\"marker\":{\"colorbar\":{\"outlinewidth\":0,\"ticks\":\"\"}}}],\"scattermapbox\":[{\"type\":\"scattermapbox\",\"marker\":{\"colorbar\":{\"outlinewidth\":0,\"ticks\":\"\"}}}],\"scatterternary\":[{\"type\":\"scatterternary\",\"marker\":{\"colorbar\":{\"outlinewidth\":0,\"ticks\":\"\"}}}],\"scattercarpet\":[{\"type\":\"scattercarpet\",\"marker\":{\"colorbar\":{\"outlinewidth\":0,\"ticks\":\"\"}}}],\"carpet\":[{\"aaxis\":{\"endlinecolor\":\"#2a3f5f\",\"gridcolor\":\"white\",\"linecolor\":\"white\",\"minorgridcolor\":\"white\",\"startlinecolor\":\"#2a3f5f\"},\"baxis\":{\"endlinecolor\":\"#2a3f5f\",\"gridcolor\":\"white\",\"linecolor\":\"white\",\"minorgridcolor\":\"white\",\"startlinecolor\":\"#2a3f5f\"},\"type\":\"carpet\"}],\"table\":[{\"cells\":{\"fill\":{\"color\":\"#EBF0F8\"},\"line\":{\"color\":\"white\"}},\"header\":{\"fill\":{\"color\":\"#C8D4E3\"},\"line\":{\"color\":\"white\"}},\"type\":\"table\"}],\"barpolar\":[{\"marker\":{\"line\":{\"color\":\"#E5ECF6\",\"width\":0.5},\"pattern\":{\"fillmode\":\"overlay\",\"size\":10,\"solidity\":0.2}},\"type\":\"barpolar\"}],\"pie\":[{\"automargin\":true,\"type\":\"pie\"}]},\"layout\":{\"autotypenumbers\":\"strict\",\"colorway\":[\"#636efa\",\"#EF553B\",\"#00cc96\",\"#ab63fa\",\"#FFA15A\",\"#19d3f3\",\"#FF6692\",\"#B6E880\",\"#FF97FF\",\"#FECB52\"],\"font\":{\"color\":\"#2a3f5f\"},\"hovermode\":\"closest\",\"hoverlabel\":{\"align\":\"left\"},\"paper_bgcolor\":\"white\",\"plot_bgcolor\":\"#E5ECF6\",\"polar\":{\"bgcolor\":\"#E5ECF6\",\"angularaxis\":{\"gridcolor\":\"white\",\"linecolor\":\"white\",\"ticks\":\"\"},\"radialaxis\":{\"gridcolor\":\"white\",\"linecolor\":\"white\",\"ticks\":\"\"}},\"ternary\":{\"bgcolor\":\"#E5ECF6\",\"aaxis\":{\"gridcolor\":\"white\",\"linecolor\":\"white\",\"ticks\":\"\"},\"baxis\":{\"gridcolor\":\"white\",\"linecolor\":\"white\",\"ticks\":\"\"},\"caxis\":{\"gridcolor\":\"white\",\"linecolor\":\"white\",\"ticks\":\"\"}},\"coloraxis\":{\"colorbar\":{\"outlinewidth\":0,\"ticks\":\"\"}},\"colorscale\":{\"sequential\":[[0.0,\"#0d0887\"],[0.1111111111111111,\"#46039f\"],[0.2222222222222222,\"#7201a8\"],[0.3333333333333333,\"#9c179e\"],[0.4444444444444444,\"#bd3786\"],[0.5555555555555556,\"#d8576b\"],[0.6666666666666666,\"#ed7953\"],[0.7777777777777778,\"#fb9f3a\"],[0.8888888888888888,\"#fdca26\"],[1.0,\"#f0f921\"]],\"sequentialminus\":[[0.0,\"#0d0887\"],[0.1111111111111111,\"#46039f\"],[0.2222222222222222,\"#7201a8\"],[0.3333333333333333,\"#9c179e\"],[0.4444444444444444,\"#bd3786\"],[0.5555555555555556,\"#d8576b\"],[0.6666666666666666,\"#ed7953\"],[0.7777777777777778,\"#fb9f3a\"],[0.8888888888888888,\"#fdca26\"],[1.0,\"#f0f921\"]],\"diverging\":[[0,\"#8e0152\"],[0.1,\"#c51b7d\"],[0.2,\"#de77ae\"],[0.3,\"#f1b6da\"],[0.4,\"#fde0ef\"],[0.5,\"#f7f7f7\"],[0.6,\"#e6f5d0\"],[0.7,\"#b8e186\"],[0.8,\"#7fbc41\"],[0.9,\"#4d9221\"],[1,\"#276419\"]]},\"xaxis\":{\"gridcolor\":\"white\",\"linecolor\":\"white\",\"ticks\":\"\",\"title\":{\"standoff\":15},\"zerolinecolor\":\"white\",\"automargin\":true,\"zerolinewidth\":2},\"yaxis\":{\"gridcolor\":\"white\",\"linecolor\":\"white\",\"ticks\":\"\",\"title\":{\"standoff\":15},\"zerolinecolor\":\"white\",\"automargin\":true,\"zerolinewidth\":2},\"scene\":{\"xaxis\":{\"backgroundcolor\":\"#E5ECF6\",\"gridcolor\":\"white\",\"linecolor\":\"white\",\"showbackground\":true,\"ticks\":\"\",\"zerolinecolor\":\"white\",\"gridwidth\":2},\"yaxis\":{\"backgroundcolor\":\"#E5ECF6\",\"gridcolor\":\"white\",\"linecolor\":\"white\",\"showbackground\":true,\"ticks\":\"\",\"zerolinecolor\":\"white\",\"gridwidth\":2},\"zaxis\":{\"backgroundcolor\":\"#E5ECF6\",\"gridcolor\":\"white\",\"linecolor\":\"white\",\"showbackground\":true,\"ticks\":\"\",\"zerolinecolor\":\"white\",\"gridwidth\":2}},\"shapedefaults\":{\"line\":{\"color\":\"#2a3f5f\"}},\"annotationdefaults\":{\"arrowcolor\":\"#2a3f5f\",\"arrowhead\":0,\"arrowwidth\":1},\"geo\":{\"bgcolor\":\"white\",\"landcolor\":\"#E5ECF6\",\"subunitcolor\":\"white\",\"showland\":true,\"showlakes\":true,\"lakecolor\":\"white\"},\"title\":{\"x\":0.05},\"mapbox\":{\"style\":\"light\"}}},\"xaxis\":{\"anchor\":\"y\",\"domain\":[0.0,1.0],\"title\":{\"text\":\"G1\"}},\"yaxis\":{\"anchor\":\"x\",\"domain\":[0.0,1.0],\"title\":{\"text\":\"absences\"}},\"coloraxis\":{\"colorbar\":{\"title\":{\"text\":\"studytime\"}},\"colorscale\":[[0.0,\"#0d0887\"],[0.1111111111111111,\"#46039f\"],[0.2222222222222222,\"#7201a8\"],[0.3333333333333333,\"#9c179e\"],[0.4444444444444444,\"#bd3786\"],[0.5555555555555556,\"#d8576b\"],[0.6666666666666666,\"#ed7953\"],[0.7777777777777778,\"#fb9f3a\"],[0.8888888888888888,\"#fdca26\"],[1.0,\"#f0f921\"]]},\"legend\":{\"tracegroupgap\":0,\"itemsizing\":\"constant\"},\"margin\":{\"t\":60},\"title\":{\"text\":\"Scatter plots for G1 in accordance with medu, fedu, study time and free time in Portugese Class\",\"x\":0.5}},                        {\"responsive\": true}                    ).then(function(){\n",
              "                            \n",
              "var gd = document.getElementById('ee0343bb-90e2-4f57-bc87-99534f16cf9c');\n",
              "var x = new MutationObserver(function (mutations, observer) {{\n",
              "        var display = window.getComputedStyle(gd).display;\n",
              "        if (!display || display === 'none') {{\n",
              "            console.log([gd, 'removed!']);\n",
              "            Plotly.purge(gd);\n",
              "            observer.disconnect();\n",
              "        }}\n",
              "}});\n",
              "\n",
              "// Listen for the removal of the full notebook cells\n",
              "var notebookContainer = gd.closest('#notebook-container');\n",
              "if (notebookContainer) {{\n",
              "    x.observe(notebookContainer, {childList: true});\n",
              "}}\n",
              "\n",
              "// Listen for the clearing of the current output cell\n",
              "var outputEl = gd.closest('.output');\n",
              "if (outputEl) {{\n",
              "    x.observe(outputEl, {childList: true});\n",
              "}}\n",
              "\n",
              "                        })                };                            </script>        </div>\n",
              "</body>\n",
              "</html>"
            ]
          },
          "metadata": {}
        }
      ]
    },
    {
      "cell_type": "code",
      "source": [
        "fig = px.scatter(student_por, x=\"G2\", y=\"absences\", color=\"studytime\",\n",
        "                 size='freetime', hover_data=['Medu',\"Fedu\"])\n",
        "\n",
        "\n",
        "fig.update_layout(title=\"Scatter plots for G2 in accordance with medu, fedu, study time and free time in Portugese Class\", title_x=0.5)\n",
        "fig.show()"
      ],
      "metadata": {
        "colab": {
          "base_uri": "https://localhost:8080/",
          "height": 542
        },
        "id": "SsBnXbMN78B6",
        "outputId": "912c9a85-16e4-478a-8199-efc51a23aa5e"
      },
      "execution_count": 45,
      "outputs": [
        {
          "output_type": "display_data",
          "data": {
            "text/html": [
              "<html>\n",
              "<head><meta charset=\"utf-8\" /></head>\n",
              "<body>\n",
              "    <div>            <script src=\"https://cdnjs.cloudflare.com/ajax/libs/mathjax/2.7.5/MathJax.js?config=TeX-AMS-MML_SVG\"></script><script type=\"text/javascript\">if (window.MathJax && window.MathJax.Hub && window.MathJax.Hub.Config) {window.MathJax.Hub.Config({SVG: {font: \"STIX-Web\"}});}</script>                <script type=\"text/javascript\">window.PlotlyConfig = {MathJaxConfig: 'local'};</script>\n",
              "        <script src=\"https://cdn.plot.ly/plotly-2.18.2.min.js\"></script>                <div id=\"d3f67724-8e95-4d0c-bc33-327152655266\" class=\"plotly-graph-div\" style=\"height:525px; width:100%;\"></div>            <script type=\"text/javascript\">                                    window.PLOTLYENV=window.PLOTLYENV || {};                                    if (document.getElementById(\"d3f67724-8e95-4d0c-bc33-327152655266\")) {                    Plotly.newPlot(                        \"d3f67724-8e95-4d0c-bc33-327152655266\",                        [{\"customdata\":[[4,4],[1,1],[1,1],[4,2],[3,3],[4,3],[2,2],[4,4],[3,2],[3,4],[4,4],[2,1],[4,4],[4,3],[2,2],[4,4],[4,4],[3,3],[3,2],[4,3],[4,3],[4,4],[4,2],[2,2],[2,4],[2,2],[2,2],[4,2],[3,4],[4,4],[4,4],[4,4],[4,3],[3,3],[3,2],[2,3],[4,3],[4,4],[3,4],[2,2],[2,2],[4,4],[4,4],[2,2],[2,2],[4,3],[3,3],[4,3],[4,2],[4,4],[2,2],[4,2],[4,2],[4,4],[3,3],[2,1],[4,3],[4,4],[1,2],[4,2],[4,4],[1,1],[1,2],[4,3],[4,3],[4,3],[4,4],[3,1],[2,2],[3,1],[3,1],[4,2],[1,1],[3,1],[3,3],[4,3],[4,0],[2,2],[2,1],[3,4],[2,3],[2,3],[3,2],[2,2],[1,1],[4,4],[2,2],[4,2],[2,2],[4,4],[3,3],[4,3],[3,1],[4,2],[2,2],[1,1],[4,3],[2,1],[4,4],[4,3],[4,4],[4,4],[4,4],[3,2],[3,4],[3,3],[2,2],[3,3],[4,4],[4,4],[4,4],[3,3],[2,2],[4,2],[2,1],[4,4],[4,4],[3,3],[1,3],[3,4],[1,2],[2,2],[2,4],[4,4],[2,2],[3,4],[3,4],[0,1],[4,4],[2,3],[3,4],[2,1],[2,1],[1,1],[2,2],[3,4],[2,1],[2,2],[3,4],[4,4],[3,4],[1,1],[3,1],[3,2],[1,1],[3,3],[1,1],[4,4],[1,1],[4,3],[3,3],[4,4],[2,2],[4,4],[1,1],[2,1],[1,1],[2,1],[3,2],[1,2],[1,2],[4,4],[2,1],[1,1],[2,1],[3,3],[3,2],[4,4],[2,3],[1,2],[1,1],[2,2],[3,3],[1,2],[2,1],[3,2],[1,2],[1,3],[1,1],[3,2],[2,2],[4,2],[2,2],[4,4],[3,4],[1,0],[4,4],[1,3],[3,3],[4,3],[2,2],[3,3],[4,2],[4,3],[4,3],[3,3],[2,4],[3,3],[3,2],[3,3],[1,2],[2,1],[3,3],[1,2],[2,3],[1,1],[1,2],[3,3],[2,3],[2,4],[4,4],[3,3],[4,4],[4,4],[4,3],[2,3],[1,1],[2,2],[2,2],[3,4],[3,1],[4,3],[1,1],[4,3],[3,3],[4,4],[2,2],[2,2],[4,4],[3,2],[4,3],[3,3],[2,3],[2,2],[2,1],[1,1],[2,3],[2,2],[4,4],[3,1],[3,2],[2,3],[2,1],[2,1],[4,3],[2,2],[4,4],[4,4],[1,1],[3,2],[2,2],[2,1],[4,1],[2,4],[2,2],[3,3],[2,2],[4,4],[3,2],[1,1],[1,2],[2,1],[1,4],[2,2],[2,2],[1,1],[4,2],[4,3],[4,4],[4,3],[4,4],[4,4],[1,1],[3,3],[1,1],[2,1],[2,1],[1,1],[2,3],[3,1],[3,3],[0,2],[3,2],[3,3],[2,1],[2,1],[2,1],[1,1],[2,1],[4,2],[2,2],[2,1],[4,2],[1,1],[2,2],[4,3],[2,1],[2,2],[2,2],[2,1],[4,3],[4,3],[3,2],[3,3],[2,2],[2,2],[3,4],[3,1],[4,4],[4,2],[2,1],[3,3],[2,3],[1,1],[1,2],[2,1],[2,4],[2,2],[3,2],[4,4],[4,4],[2,2],[3,2],[4,3],[1,2],[4,1],[3,2],[1,1],[1,1],[2,2],[2,1],[1,1],[2,2],[1,1],[2,1],[4,4],[4,2],[4,3],[3,1],[3,2],[3,3],[4,4],[4,3],[4,3],[4,4],[4,4],[4,4],[4,4],[4,2],[3,2],[2,1],[3,2],[3,3],[1,4],[2,1],[2,3],[4,4],[4,3],[4,3],[3,4],[3,3],[4,2],[4,4],[3,4],[4,4],[4,3],[3,3],[2,1],[4,4],[1,1],[1,1],[2,2],[2,2],[2,2],[3,1],[0,2],[1,1],[4,4],[3,3],[2,2],[4,4],[4,4],[3,3],[2,2],[3,2],[2,2],[2,4],[2,2],[3,3],[2,2],[2,2],[3,4],[3,2],[3,3],[3,2],[4,4],[3,4],[2,2],[2,3],[3,2],[4,3],[4,3],[4,3],[2,1],[2,1],[2,3],[3,1],[4,4],[2,2],[3,4],[2,2],[4,4],[4,2],[1,1],[1,1],[4,4],[3,2],[3,2],[2,3],[2,1],[2,2],[1,0],[3,2],[1,3],[2,2],[1,1],[3,3],[2,3],[2,1],[4,4],[1,2],[3,2],[1,1],[4,4],[2,2],[1,1],[1,1],[0,2],[2,3],[3,3],[1,1],[1,1],[4,1],[4,1],[3,4],[1,1],[3,3],[2,1],[4,4],[1,2],[2,3],[1,2],[2,2],[1,2],[1,2],[2,1],[1,1],[1,2],[1,1],[1,1],[1,1],[1,1],[1,1],[2,2],[1,1],[1,2],[3,1],[2,2],[2,2],[4,4],[3,3],[2,2],[2,2],[2,1],[1,3],[2,2],[2,1],[3,3],[1,1],[2,2],[2,3],[2,1],[1,1],[2,2],[2,2],[2,2],[2,2],[3,2],[1,1],[1,1],[1,1],[1,1],[2,2],[0,1],[1,2],[3,3],[1,1],[3,3],[2,1],[2,2],[1,2],[4,3],[2,2],[1,1],[2,2],[1,1],[3,3],[1,1],[2,2],[1,1],[2,2],[1,0],[1,1],[3,1],[3,2],[1,1],[4,4],[1,2],[2,4],[2,1],[1,1],[2,3],[4,4],[4,4],[3,4],[4,4],[4,1],[2,2],[2,2],[4,4],[3,3],[1,1],[2,1],[2,1],[4,4],[1,2],[2,2],[2,1],[2,2],[4,1],[3,2],[2,2],[4,4],[4,4],[1,3],[3,4],[4,4],[4,1],[1,1],[4,2],[2,2],[3,2],[1,1],[1,0],[1,1],[1,2],[1,2],[3,1],[2,2],[1,0],[1,1],[1,1],[2,2],[2,2],[3,2],[1,1],[1,1],[3,2],[3,2],[3,3],[2,2],[2,1],[3,2],[1,1],[1,1],[4,3],[3,2],[1,1],[3,3],[1,3],[1,1],[1,2],[1,1],[2,2],[0,0],[3,1],[4,2],[2,2],[4,1],[1,2],[1,1],[2,2],[3,3],[1,2],[4,4],[4,4],[4,2],[2,2],[1,2],[4,4],[1,1],[2,2],[2,2],[4,2],[1,1],[1,1],[4,2],[2,1],[1,1],[1,2],[1,1],[2,2],[4,3],[3,3],[4,4],[3,2],[1,1],[1,1],[1,2],[3,3],[4,4],[1,2],[1,3],[4,4],[1,1],[2,3],[4,4],[1,2],[2,2],[1,2],[4,4],[1,1],[1,1],[4,4],[3,3],[3,1],[4,4],[2,1],[2,3],[1,1],[4,2],[2,2],[4,3],[4,4],[2,3],[3,1],[1,1],[3,1],[3,2]],\"hovertemplate\":\"G2=%{x}<br>absences=%{y}<br>freetime=%{marker.size}<br>Medu=%{customdata[0]}<br>Fedu=%{customdata[1]}<br>studytime=%{marker.color}<extra></extra>\",\"legendgroup\":\"\",\"marker\":{\"color\":[2,2,2,3,2,2,2,2,2,2,2,3,1,2,3,1,3,2,1,1,2,1,2,2,3,1,1,1,2,2,2,2,2,2,1,1,3,3,3,1,2,1,2,1,2,2,2,4,2,2,2,2,1,1,1,2,2,2,2,2,2,1,2,3,2,2,4,4,2,4,4,4,2,1,2,2,4,4,1,2,1,3,2,2,2,2,2,3,2,2,3,1,2,2,4,4,1,2,1,3,1,3,1,2,2,4,4,3,4,3,1,3,2,1,2,2,2,1,2,1,2,4,2,1,2,1,2,2,1,3,3,2,1,1,1,1,1,1,2,3,2,2,1,3,1,1,2,1,1,4,2,3,1,3,1,1,2,1,2,2,2,1,1,1,1,3,1,1,2,1,1,1,2,1,1,2,1,1,2,1,2,2,2,2,1,2,2,2,2,2,2,2,1,2,2,2,2,2,2,2,1,2,2,2,2,2,2,1,1,2,1,1,1,2,2,2,2,1,4,3,2,2,1,3,4,2,2,2,1,2,2,2,1,3,2,3,2,2,3,2,2,2,2,3,2,2,2,2,2,3,2,1,2,2,2,1,1,1,2,3,1,2,1,2,1,3,2,2,2,1,1,2,3,3,2,3,1,2,1,1,2,1,1,2,1,1,1,1,2,4,2,2,3,3,2,2,2,1,4,2,2,2,3,3,3,1,2,2,2,2,2,2,4,2,2,2,2,2,2,1,2,3,2,1,1,1,1,4,2,2,2,2,3,3,3,2,2,3,4,3,1,2,2,4,1,2,1,3,3,4,3,1,2,2,2,2,1,3,1,3,2,2,2,1,1,2,2,2,1,3,2,1,2,3,3,3,3,3,1,1,3,3,1,4,1,2,3,1,2,2,4,3,2,4,2,2,2,2,3,3,3,3,3,2,2,1,1,3,2,2,2,3,2,2,3,1,2,3,1,1,2,1,2,1,2,1,1,2,1,2,3,2,1,1,4,2,1,1,1,1,2,2,2,2,2,2,2,1,3,1,2,2,2,3,3,2,2,1,4,3,2,1,2,3,1,2,1,2,1,2,2,2,1,1,1,3,1,1,2,1,1,1,1,2,1,2,1,3,3,1,1,2,2,1,2,1,1,4,2,1,1,1,4,4,3,1,2,3,1,2,2,2,2,1,1,2,2,1,2,2,2,2,2,4,2,3,1,3,1,1,1,2,2,2,1,2,4,1,3,2,1,2,3,1,1,2,2,1,2,2,2,2,2,1,1,3,1,2,1,1,1,2,2,1,1,1,1,1,1,2,1,1,2,1,1,1,1,2,2,1,1,2,1,1,1,3,2,2,1,1,2,2,1,2,2,1,2,2,1,1,1,2,3,2,2,1,4,2,2,2,2,3,2,2,2,2,1,3,2,2,2,2,2,3,1,1,2,1,3,1,3,3,2,2,2,2,2,1,2,1,1,3,2,1,3,2,2,1,1],\"coloraxis\":\"coloraxis\",\"size\":[3,3,3,2,3,4,4,1,2,5,3,2,3,4,5,4,2,3,5,1,4,4,5,4,3,2,2,2,3,4,4,3,5,3,4,5,4,4,3,3,3,4,3,4,3,2,3,2,3,4,3,3,5,3,3,3,3,2,3,2,4,5,4,4,4,4,3,3,1,4,3,3,3,3,3,3,4,2,5,4,2,3,4,3,3,4,3,3,4,1,3,5,3,3,3,1,3,3,3,3,5,4,3,3,4,3,1,3,3,4,5,1,1,5,4,4,4,4,2,4,2,5,2,4,4,5,3,4,5,2,2,4,2,3,4,2,2,3,3,3,4,1,3,3,3,3,4,3,5,2,3,3,3,2,4,4,4,4,3,3,3,3,5,3,4,2,5,2,4,2,2,2,5,4,3,4,4,3,3,5,3,2,1,4,4,3,4,3,4,4,4,3,3,2,4,2,4,3,2,3,3,2,3,1,3,3,4,3,3,3,2,3,2,5,3,4,4,3,3,4,3,3,3,4,3,3,3,4,2,4,4,2,3,3,2,3,3,3,3,3,3,3,3,2,2,5,5,2,4,3,4,5,3,3,3,1,4,2,4,3,3,1,5,5,1,3,3,5,3,4,3,3,3,2,3,4,3,3,2,4,3,3,4,3,2,3,4,4,3,2,3,4,3,4,2,3,2,2,4,2,1,3,3,2,3,4,2,4,3,4,3,3,5,4,5,2,3,4,1,2,4,2,3,2,4,5,4,2,4,4,3,3,3,3,2,4,3,2,1,4,4,3,4,3,4,2,1,3,3,2,3,5,5,4,3,2,4,3,2,3,1,4,4,4,3,2,3,2,2,5,3,3,2,3,4,3,5,3,3,4,4,3,2,5,3,2,4,4,3,3,4,4,3,3,3,3,3,3,3,4,3,4,4,3,3,2,1,3,4,3,3,4,2,3,2,2,4,3,1,3,1,3,1,3,4,1,4,5,3,3,4,5,4,5,2,4,4,2,5,1,4,4,3,3,4,4,3,5,2,1,5,3,4,3,3,4,4,5,3,4,3,2,2,4,4,4,2,3,3,3,5,4,3,4,2,3,4,3,4,5,4,5,2,4,3,3,4,3,3,4,2,1,3,4,4,5,4,4,3,2,3,2,3,2,4,4,3,3,4,3,3,4,3,1,1,3,3,4,3,2,3,3,3,5,2,4,2,1,1,1,1,1,2,2,1,5,4,3,3,2,3,1,3,3,1,4,2,1,5,3,1,1,4,1,5,3,4,4,5,3,5,3,4,2,5,5,3,3,2,4,4,4,5,3,4,4,5,4,5,3,4,3,4,5,4,2,5,3,2,5,4,3,4,4,3,4,3,3,1,5,2,3,4,3,4,5,2,3,2,1,5,2,5,3,3,2,3,3,3,3,3,2,3,2,2,2,2,3,4,5,4,3,3,4,1,5,2,4,4,3,4,3,5,4,4,3,1,4,4],\"sizemode\":\"area\",\"sizeref\":0.0125,\"symbol\":\"circle\"},\"mode\":\"markers\",\"name\":\"\",\"orientation\":\"v\",\"showlegend\":false,\"x\":[11,11,13,14,13,12,12,13,16,12,14,12,13,12,14,17,13,14,8,12,13,12,13,10,11,11,12,11,12,11,11,15,14,12,12,11,14,13,12,13,11,11,15,10,11,11,12,17,12,12,13,14,9,12,12,13,14,15,13,15,16,10,13,13,12,15,12,9,10,15,11,9,11,13,11,11,11,13,9,11,11,9,11,12,12,11,11,15,10,9,11,13,13,14,12,13,11,12,13,13,9,16,13,10,16,10,10,14,10,15,14,11,10,17,9,14,15,14,11,13,14,13,12,13,11,9,11,10,14,12,11,9,10,12,12,13,9,11,11,14,9,13,11,11,11,9,10,14,9,11,8,13,11,13,11,7,12,10,11,12,11,9,11,9,10,13,9,13,8,8,10,10,10,8,8,6,9,8,8,7,10,17,12,16,9,17,9,13,14,11,12,9,9,11,10,12,18,13,15,13,9,14,13,9,12,11,11,10,12,15,13,11,15,10,14,12,15,13,13,9,11,15,13,12,12,12,13,11,11,16,9,10,13,12,10,12,13,9,16,8,18,11,10,15,12,13,13,13,9,12,16,10,13,10,8,7,8,8,14,10,11,13,9,7,9,14,14,15,12,14,15,11,14,11,9,10,16,10,12,8,9,12,8,11,8,13,12,10,12,15,10,10,12,12,11,13,16,10,11,12,15,10,11,12,12,8,16,11,11,12,9,12,16,13,17,14,16,12,9,12,12,15,8,10,10,11,13,17,13,12,13,12,18,13,15,17,16,18,19,15,15,13,14,17,18,15,13,7,16,18,10,15,10,10,12,12,16,15,12,15,12,10,11,12,15,14,12,12,9,10,8,10,13,11,18,14,14,14,18,10,12,14,12,11,10,9,15,14,11,9,13,13,13,14,14,12,16,12,12,16,14,13,12,15,16,11,13,12,11,14,17,15,17,10,15,10,18,17,14,11,17,10,13,11,12,10,10,17,8,11,11,10,6,14,9,10,7,11,11,16,0,9,13,9,10,9,11,10,16,13,15,11,10,8,8,10,14,11,10,9,10,12,14,11,11,8,9,13,12,12,12,11,14,8,11,13,8,10,7,9,9,10,10,10,7,10,10,9,9,9,11,8,10,9,9,13,14,11,13,16,7,12,8,14,13,11,9,11,9,17,17,9,7,6,6,8,16,14,5,7,8,10,8,6,9,14,14,9,9,11,10,10,7,15,12,11,14,13,11,10,11,9,11,9,11,9,15,11,10,18,13,14,9,11,11,14,10,9,13,12,9,9,13,0,9,10,7,0,11,8,8,9,5,9,11,11,10,9,9,10,9,8,8,6,11,7,8,6,10,10,8,13,12,13,18,17,18,0,11,13,13,8,12,0,10,0,18,11,10,11,0,14,11,10,12,14,13,17,15,12,14,13,10,16,8,10,5,10,11,8,17,11,8,14,16,9,18,7,15,8,7,17,9,9,11,15,12,10,11],\"xaxis\":\"x\",\"y\":[4,2,6,0,0,6,0,2,0,0,2,0,0,0,0,6,10,2,2,6,0,0,0,2,2,6,8,0,2,4,0,2,0,0,4,4,0,4,2,8,16,8,0,0,14,4,6,2,4,2,0,0,4,0,0,2,0,8,0,2,0,0,0,0,0,2,0,0,0,6,2,0,2,0,4,0,0,1,0,14,0,2,4,2,2,4,6,4,6,6,2,6,0,2,2,4,6,0,4,2,12,0,2,16,0,10,4,4,8,2,4,4,12,10,4,6,4,6,14,2,0,6,2,4,0,2,0,0,8,4,0,10,8,6,2,12,4,12,2,4,2,0,2,10,8,4,0,6,2,6,24,0,4,2,4,22,0,0,2,6,6,16,0,0,6,2,6,0,0,14,6,4,0,0,8,4,2,2,0,10,0,0,0,0,4,0,0,0,0,0,0,4,8,4,4,0,0,32,8,6,0,0,10,6,6,0,16,0,0,8,4,16,30,0,2,4,0,21,6,14,2,4,2,0,4,15,0,10,6,2,16,10,4,0,0,12,0,9,4,4,2,0,2,0,0,0,0,0,2,0,0,4,0,18,16,14,26,6,4,10,4,2,14,16,8,4,4,8,0,7,4,2,2,10,10,10,7,4,2,12,8,0,8,4,4,2,0,0,2,2,0,4,2,4,4,4,2,0,2,8,2,2,2,2,0,8,6,0,8,4,12,16,10,2,2,8,6,6,15,6,2,8,0,0,10,22,18,2,0,12,10,0,0,0,0,0,2,0,0,0,0,2,0,0,0,0,0,0,0,0,0,0,0,2,2,2,2,2,8,2,8,9,0,4,2,14,0,2,2,12,2,2,4,0,0,0,0,0,0,2,0,4,2,0,0,2,0,6,8,0,6,8,0,4,0,0,6,18,0,4,4,0,0,10,4,16,6,0,11,9,0,2,0,21,8,5,10,5,13,10,10,5,4,11,0,6,4,0,0,5,0,0,0,0,4,0,4,0,2,0,0,4,0,7,4,8,0,8,6,3,2,0,4,0,3,0,0,4,0,2,1,0,0,2,6,9,0,1,1,0,4,2,0,4,2,0,2,11,0,4,0,2,0,1,6,0,1,6,6,0,4,12,2,5,0,0,2,0,0,0,12,8,2,0,0,0,8,0,0,0,0,1,9,0,2,8,0,0,8,0,6,0,4,2,2,0,1,0,5,1,8,0,2,0,0,11,8,11,2,8,5,0,1,2,2,8,0,0,2,0,0,0,2,4,3,5,4,2,0,0,0,6,0,0,2,0,2,0,4,9,6,4,8,9,12,8,8,8,4,0,4,2,0,0,0,5,0,3,0,0,3,2,0,0,0,3,0,0,8,5,4,4,0,0,2,0,0,5,2,0,0,5,4,0,2,0,2,0,0,6,4,0,0,0,0,0,0,3,8,4,0,4,4,1,1,10,4,0,4,0,0,0,0,4,4,4,6,6,4],\"yaxis\":\"y\",\"type\":\"scatter\"}],                        {\"template\":{\"data\":{\"histogram2dcontour\":[{\"type\":\"histogram2dcontour\",\"colorbar\":{\"outlinewidth\":0,\"ticks\":\"\"},\"colorscale\":[[0.0,\"#0d0887\"],[0.1111111111111111,\"#46039f\"],[0.2222222222222222,\"#7201a8\"],[0.3333333333333333,\"#9c179e\"],[0.4444444444444444,\"#bd3786\"],[0.5555555555555556,\"#d8576b\"],[0.6666666666666666,\"#ed7953\"],[0.7777777777777778,\"#fb9f3a\"],[0.8888888888888888,\"#fdca26\"],[1.0,\"#f0f921\"]]}],\"choropleth\":[{\"type\":\"choropleth\",\"colorbar\":{\"outlinewidth\":0,\"ticks\":\"\"}}],\"histogram2d\":[{\"type\":\"histogram2d\",\"colorbar\":{\"outlinewidth\":0,\"ticks\":\"\"},\"colorscale\":[[0.0,\"#0d0887\"],[0.1111111111111111,\"#46039f\"],[0.2222222222222222,\"#7201a8\"],[0.3333333333333333,\"#9c179e\"],[0.4444444444444444,\"#bd3786\"],[0.5555555555555556,\"#d8576b\"],[0.6666666666666666,\"#ed7953\"],[0.7777777777777778,\"#fb9f3a\"],[0.8888888888888888,\"#fdca26\"],[1.0,\"#f0f921\"]]}],\"heatmap\":[{\"type\":\"heatmap\",\"colorbar\":{\"outlinewidth\":0,\"ticks\":\"\"},\"colorscale\":[[0.0,\"#0d0887\"],[0.1111111111111111,\"#46039f\"],[0.2222222222222222,\"#7201a8\"],[0.3333333333333333,\"#9c179e\"],[0.4444444444444444,\"#bd3786\"],[0.5555555555555556,\"#d8576b\"],[0.6666666666666666,\"#ed7953\"],[0.7777777777777778,\"#fb9f3a\"],[0.8888888888888888,\"#fdca26\"],[1.0,\"#f0f921\"]]}],\"heatmapgl\":[{\"type\":\"heatmapgl\",\"colorbar\":{\"outlinewidth\":0,\"ticks\":\"\"},\"colorscale\":[[0.0,\"#0d0887\"],[0.1111111111111111,\"#46039f\"],[0.2222222222222222,\"#7201a8\"],[0.3333333333333333,\"#9c179e\"],[0.4444444444444444,\"#bd3786\"],[0.5555555555555556,\"#d8576b\"],[0.6666666666666666,\"#ed7953\"],[0.7777777777777778,\"#fb9f3a\"],[0.8888888888888888,\"#fdca26\"],[1.0,\"#f0f921\"]]}],\"contourcarpet\":[{\"type\":\"contourcarpet\",\"colorbar\":{\"outlinewidth\":0,\"ticks\":\"\"}}],\"contour\":[{\"type\":\"contour\",\"colorbar\":{\"outlinewidth\":0,\"ticks\":\"\"},\"colorscale\":[[0.0,\"#0d0887\"],[0.1111111111111111,\"#46039f\"],[0.2222222222222222,\"#7201a8\"],[0.3333333333333333,\"#9c179e\"],[0.4444444444444444,\"#bd3786\"],[0.5555555555555556,\"#d8576b\"],[0.6666666666666666,\"#ed7953\"],[0.7777777777777778,\"#fb9f3a\"],[0.8888888888888888,\"#fdca26\"],[1.0,\"#f0f921\"]]}],\"surface\":[{\"type\":\"surface\",\"colorbar\":{\"outlinewidth\":0,\"ticks\":\"\"},\"colorscale\":[[0.0,\"#0d0887\"],[0.1111111111111111,\"#46039f\"],[0.2222222222222222,\"#7201a8\"],[0.3333333333333333,\"#9c179e\"],[0.4444444444444444,\"#bd3786\"],[0.5555555555555556,\"#d8576b\"],[0.6666666666666666,\"#ed7953\"],[0.7777777777777778,\"#fb9f3a\"],[0.8888888888888888,\"#fdca26\"],[1.0,\"#f0f921\"]]}],\"mesh3d\":[{\"type\":\"mesh3d\",\"colorbar\":{\"outlinewidth\":0,\"ticks\":\"\"}}],\"scatter\":[{\"fillpattern\":{\"fillmode\":\"overlay\",\"size\":10,\"solidity\":0.2},\"type\":\"scatter\"}],\"parcoords\":[{\"type\":\"parcoords\",\"line\":{\"colorbar\":{\"outlinewidth\":0,\"ticks\":\"\"}}}],\"scatterpolargl\":[{\"type\":\"scatterpolargl\",\"marker\":{\"colorbar\":{\"outlinewidth\":0,\"ticks\":\"\"}}}],\"bar\":[{\"error_x\":{\"color\":\"#2a3f5f\"},\"error_y\":{\"color\":\"#2a3f5f\"},\"marker\":{\"line\":{\"color\":\"#E5ECF6\",\"width\":0.5},\"pattern\":{\"fillmode\":\"overlay\",\"size\":10,\"solidity\":0.2}},\"type\":\"bar\"}],\"scattergeo\":[{\"type\":\"scattergeo\",\"marker\":{\"colorbar\":{\"outlinewidth\":0,\"ticks\":\"\"}}}],\"scatterpolar\":[{\"type\":\"scatterpolar\",\"marker\":{\"colorbar\":{\"outlinewidth\":0,\"ticks\":\"\"}}}],\"histogram\":[{\"marker\":{\"pattern\":{\"fillmode\":\"overlay\",\"size\":10,\"solidity\":0.2}},\"type\":\"histogram\"}],\"scattergl\":[{\"type\":\"scattergl\",\"marker\":{\"colorbar\":{\"outlinewidth\":0,\"ticks\":\"\"}}}],\"scatter3d\":[{\"type\":\"scatter3d\",\"line\":{\"colorbar\":{\"outlinewidth\":0,\"ticks\":\"\"}},\"marker\":{\"colorbar\":{\"outlinewidth\":0,\"ticks\":\"\"}}}],\"scattermapbox\":[{\"type\":\"scattermapbox\",\"marker\":{\"colorbar\":{\"outlinewidth\":0,\"ticks\":\"\"}}}],\"scatterternary\":[{\"type\":\"scatterternary\",\"marker\":{\"colorbar\":{\"outlinewidth\":0,\"ticks\":\"\"}}}],\"scattercarpet\":[{\"type\":\"scattercarpet\",\"marker\":{\"colorbar\":{\"outlinewidth\":0,\"ticks\":\"\"}}}],\"carpet\":[{\"aaxis\":{\"endlinecolor\":\"#2a3f5f\",\"gridcolor\":\"white\",\"linecolor\":\"white\",\"minorgridcolor\":\"white\",\"startlinecolor\":\"#2a3f5f\"},\"baxis\":{\"endlinecolor\":\"#2a3f5f\",\"gridcolor\":\"white\",\"linecolor\":\"white\",\"minorgridcolor\":\"white\",\"startlinecolor\":\"#2a3f5f\"},\"type\":\"carpet\"}],\"table\":[{\"cells\":{\"fill\":{\"color\":\"#EBF0F8\"},\"line\":{\"color\":\"white\"}},\"header\":{\"fill\":{\"color\":\"#C8D4E3\"},\"line\":{\"color\":\"white\"}},\"type\":\"table\"}],\"barpolar\":[{\"marker\":{\"line\":{\"color\":\"#E5ECF6\",\"width\":0.5},\"pattern\":{\"fillmode\":\"overlay\",\"size\":10,\"solidity\":0.2}},\"type\":\"barpolar\"}],\"pie\":[{\"automargin\":true,\"type\":\"pie\"}]},\"layout\":{\"autotypenumbers\":\"strict\",\"colorway\":[\"#636efa\",\"#EF553B\",\"#00cc96\",\"#ab63fa\",\"#FFA15A\",\"#19d3f3\",\"#FF6692\",\"#B6E880\",\"#FF97FF\",\"#FECB52\"],\"font\":{\"color\":\"#2a3f5f\"},\"hovermode\":\"closest\",\"hoverlabel\":{\"align\":\"left\"},\"paper_bgcolor\":\"white\",\"plot_bgcolor\":\"#E5ECF6\",\"polar\":{\"bgcolor\":\"#E5ECF6\",\"angularaxis\":{\"gridcolor\":\"white\",\"linecolor\":\"white\",\"ticks\":\"\"},\"radialaxis\":{\"gridcolor\":\"white\",\"linecolor\":\"white\",\"ticks\":\"\"}},\"ternary\":{\"bgcolor\":\"#E5ECF6\",\"aaxis\":{\"gridcolor\":\"white\",\"linecolor\":\"white\",\"ticks\":\"\"},\"baxis\":{\"gridcolor\":\"white\",\"linecolor\":\"white\",\"ticks\":\"\"},\"caxis\":{\"gridcolor\":\"white\",\"linecolor\":\"white\",\"ticks\":\"\"}},\"coloraxis\":{\"colorbar\":{\"outlinewidth\":0,\"ticks\":\"\"}},\"colorscale\":{\"sequential\":[[0.0,\"#0d0887\"],[0.1111111111111111,\"#46039f\"],[0.2222222222222222,\"#7201a8\"],[0.3333333333333333,\"#9c179e\"],[0.4444444444444444,\"#bd3786\"],[0.5555555555555556,\"#d8576b\"],[0.6666666666666666,\"#ed7953\"],[0.7777777777777778,\"#fb9f3a\"],[0.8888888888888888,\"#fdca26\"],[1.0,\"#f0f921\"]],\"sequentialminus\":[[0.0,\"#0d0887\"],[0.1111111111111111,\"#46039f\"],[0.2222222222222222,\"#7201a8\"],[0.3333333333333333,\"#9c179e\"],[0.4444444444444444,\"#bd3786\"],[0.5555555555555556,\"#d8576b\"],[0.6666666666666666,\"#ed7953\"],[0.7777777777777778,\"#fb9f3a\"],[0.8888888888888888,\"#fdca26\"],[1.0,\"#f0f921\"]],\"diverging\":[[0,\"#8e0152\"],[0.1,\"#c51b7d\"],[0.2,\"#de77ae\"],[0.3,\"#f1b6da\"],[0.4,\"#fde0ef\"],[0.5,\"#f7f7f7\"],[0.6,\"#e6f5d0\"],[0.7,\"#b8e186\"],[0.8,\"#7fbc41\"],[0.9,\"#4d9221\"],[1,\"#276419\"]]},\"xaxis\":{\"gridcolor\":\"white\",\"linecolor\":\"white\",\"ticks\":\"\",\"title\":{\"standoff\":15},\"zerolinecolor\":\"white\",\"automargin\":true,\"zerolinewidth\":2},\"yaxis\":{\"gridcolor\":\"white\",\"linecolor\":\"white\",\"ticks\":\"\",\"title\":{\"standoff\":15},\"zerolinecolor\":\"white\",\"automargin\":true,\"zerolinewidth\":2},\"scene\":{\"xaxis\":{\"backgroundcolor\":\"#E5ECF6\",\"gridcolor\":\"white\",\"linecolor\":\"white\",\"showbackground\":true,\"ticks\":\"\",\"zerolinecolor\":\"white\",\"gridwidth\":2},\"yaxis\":{\"backgroundcolor\":\"#E5ECF6\",\"gridcolor\":\"white\",\"linecolor\":\"white\",\"showbackground\":true,\"ticks\":\"\",\"zerolinecolor\":\"white\",\"gridwidth\":2},\"zaxis\":{\"backgroundcolor\":\"#E5ECF6\",\"gridcolor\":\"white\",\"linecolor\":\"white\",\"showbackground\":true,\"ticks\":\"\",\"zerolinecolor\":\"white\",\"gridwidth\":2}},\"shapedefaults\":{\"line\":{\"color\":\"#2a3f5f\"}},\"annotationdefaults\":{\"arrowcolor\":\"#2a3f5f\",\"arrowhead\":0,\"arrowwidth\":1},\"geo\":{\"bgcolor\":\"white\",\"landcolor\":\"#E5ECF6\",\"subunitcolor\":\"white\",\"showland\":true,\"showlakes\":true,\"lakecolor\":\"white\"},\"title\":{\"x\":0.05},\"mapbox\":{\"style\":\"light\"}}},\"xaxis\":{\"anchor\":\"y\",\"domain\":[0.0,1.0],\"title\":{\"text\":\"G2\"}},\"yaxis\":{\"anchor\":\"x\",\"domain\":[0.0,1.0],\"title\":{\"text\":\"absences\"}},\"coloraxis\":{\"colorbar\":{\"title\":{\"text\":\"studytime\"}},\"colorscale\":[[0.0,\"#0d0887\"],[0.1111111111111111,\"#46039f\"],[0.2222222222222222,\"#7201a8\"],[0.3333333333333333,\"#9c179e\"],[0.4444444444444444,\"#bd3786\"],[0.5555555555555556,\"#d8576b\"],[0.6666666666666666,\"#ed7953\"],[0.7777777777777778,\"#fb9f3a\"],[0.8888888888888888,\"#fdca26\"],[1.0,\"#f0f921\"]]},\"legend\":{\"tracegroupgap\":0,\"itemsizing\":\"constant\"},\"margin\":{\"t\":60},\"title\":{\"text\":\"Scatter plots for G2 in accordance with medu, fedu, study time and free time in Portugese Class\",\"x\":0.5}},                        {\"responsive\": true}                    ).then(function(){\n",
              "                            \n",
              "var gd = document.getElementById('d3f67724-8e95-4d0c-bc33-327152655266');\n",
              "var x = new MutationObserver(function (mutations, observer) {{\n",
              "        var display = window.getComputedStyle(gd).display;\n",
              "        if (!display || display === 'none') {{\n",
              "            console.log([gd, 'removed!']);\n",
              "            Plotly.purge(gd);\n",
              "            observer.disconnect();\n",
              "        }}\n",
              "}});\n",
              "\n",
              "// Listen for the removal of the full notebook cells\n",
              "var notebookContainer = gd.closest('#notebook-container');\n",
              "if (notebookContainer) {{\n",
              "    x.observe(notebookContainer, {childList: true});\n",
              "}}\n",
              "\n",
              "// Listen for the clearing of the current output cell\n",
              "var outputEl = gd.closest('.output');\n",
              "if (outputEl) {{\n",
              "    x.observe(outputEl, {childList: true});\n",
              "}}\n",
              "\n",
              "                        })                };                            </script>        </div>\n",
              "</body>\n",
              "</html>"
            ]
          },
          "metadata": {}
        }
      ]
    },
    {
      "cell_type": "code",
      "source": [
        "fig = px.scatter(student_por, x=\"G3\", y=\"absences\", color=\"studytime\",\n",
        "                 size='freetime', hover_data=['Medu',\"Fedu\"])\n",
        "\n",
        "\n",
        "fig.update_layout(title=\"Scatter plots for G1 in accordance with medu, fedu, study time and free time in Portugese Class\", title_x=0.5)\n",
        "fig.show()"
      ],
      "metadata": {
        "colab": {
          "base_uri": "https://localhost:8080/",
          "height": 542
        },
        "id": "58JKIHBp9x4J",
        "outputId": "1e3a7877-fc84-4153-a528-2add7e3b9781"
      },
      "execution_count": 46,
      "outputs": [
        {
          "output_type": "display_data",
          "data": {
            "text/html": [
              "<html>\n",
              "<head><meta charset=\"utf-8\" /></head>\n",
              "<body>\n",
              "    <div>            <script src=\"https://cdnjs.cloudflare.com/ajax/libs/mathjax/2.7.5/MathJax.js?config=TeX-AMS-MML_SVG\"></script><script type=\"text/javascript\">if (window.MathJax && window.MathJax.Hub && window.MathJax.Hub.Config) {window.MathJax.Hub.Config({SVG: {font: \"STIX-Web\"}});}</script>                <script type=\"text/javascript\">window.PlotlyConfig = {MathJaxConfig: 'local'};</script>\n",
              "        <script src=\"https://cdn.plot.ly/plotly-2.18.2.min.js\"></script>                <div id=\"26d36942-8ed7-4846-934a-6bdaaceb62a7\" class=\"plotly-graph-div\" style=\"height:525px; width:100%;\"></div>            <script type=\"text/javascript\">                                    window.PLOTLYENV=window.PLOTLYENV || {};                                    if (document.getElementById(\"26d36942-8ed7-4846-934a-6bdaaceb62a7\")) {                    Plotly.newPlot(                        \"26d36942-8ed7-4846-934a-6bdaaceb62a7\",                        [{\"customdata\":[[4,4],[1,1],[1,1],[4,2],[3,3],[4,3],[2,2],[4,4],[3,2],[3,4],[4,4],[2,1],[4,4],[4,3],[2,2],[4,4],[4,4],[3,3],[3,2],[4,3],[4,3],[4,4],[4,2],[2,2],[2,4],[2,2],[2,2],[4,2],[3,4],[4,4],[4,4],[4,4],[4,3],[3,3],[3,2],[2,3],[4,3],[4,4],[3,4],[2,2],[2,2],[4,4],[4,4],[2,2],[2,2],[4,3],[3,3],[4,3],[4,2],[4,4],[2,2],[4,2],[4,2],[4,4],[3,3],[2,1],[4,3],[4,4],[1,2],[4,2],[4,4],[1,1],[1,2],[4,3],[4,3],[4,3],[4,4],[3,1],[2,2],[3,1],[3,1],[4,2],[1,1],[3,1],[3,3],[4,3],[4,0],[2,2],[2,1],[3,4],[2,3],[2,3],[3,2],[2,2],[1,1],[4,4],[2,2],[4,2],[2,2],[4,4],[3,3],[4,3],[3,1],[4,2],[2,2],[1,1],[4,3],[2,1],[4,4],[4,3],[4,4],[4,4],[4,4],[3,2],[3,4],[3,3],[2,2],[3,3],[4,4],[4,4],[4,4],[3,3],[2,2],[4,2],[2,1],[4,4],[4,4],[3,3],[1,3],[3,4],[1,2],[2,2],[2,4],[4,4],[2,2],[3,4],[3,4],[0,1],[4,4],[2,3],[3,4],[2,1],[2,1],[1,1],[2,2],[3,4],[2,1],[2,2],[3,4],[4,4],[3,4],[1,1],[3,1],[3,2],[1,1],[3,3],[1,1],[4,4],[1,1],[4,3],[3,3],[4,4],[2,2],[4,4],[1,1],[2,1],[1,1],[2,1],[3,2],[1,2],[1,2],[4,4],[2,1],[1,1],[2,1],[3,3],[3,2],[4,4],[2,3],[1,2],[1,1],[2,2],[3,3],[1,2],[2,1],[3,2],[1,2],[1,3],[1,1],[3,2],[2,2],[4,2],[2,2],[4,4],[3,4],[1,0],[4,4],[1,3],[3,3],[4,3],[2,2],[3,3],[4,2],[4,3],[4,3],[3,3],[2,4],[3,3],[3,2],[3,3],[1,2],[2,1],[3,3],[1,2],[2,3],[1,1],[1,2],[3,3],[2,3],[2,4],[4,4],[3,3],[4,4],[4,4],[4,3],[2,3],[1,1],[2,2],[2,2],[3,4],[3,1],[4,3],[1,1],[4,3],[3,3],[4,4],[2,2],[2,2],[4,4],[3,2],[4,3],[3,3],[2,3],[2,2],[2,1],[1,1],[2,3],[2,2],[4,4],[3,1],[3,2],[2,3],[2,1],[2,1],[4,3],[2,2],[4,4],[4,4],[1,1],[3,2],[2,2],[2,1],[4,1],[2,4],[2,2],[3,3],[2,2],[4,4],[3,2],[1,1],[1,2],[2,1],[1,4],[2,2],[2,2],[1,1],[4,2],[4,3],[4,4],[4,3],[4,4],[4,4],[1,1],[3,3],[1,1],[2,1],[2,1],[1,1],[2,3],[3,1],[3,3],[0,2],[3,2],[3,3],[2,1],[2,1],[2,1],[1,1],[2,1],[4,2],[2,2],[2,1],[4,2],[1,1],[2,2],[4,3],[2,1],[2,2],[2,2],[2,1],[4,3],[4,3],[3,2],[3,3],[2,2],[2,2],[3,4],[3,1],[4,4],[4,2],[2,1],[3,3],[2,3],[1,1],[1,2],[2,1],[2,4],[2,2],[3,2],[4,4],[4,4],[2,2],[3,2],[4,3],[1,2],[4,1],[3,2],[1,1],[1,1],[2,2],[2,1],[1,1],[2,2],[1,1],[2,1],[4,4],[4,2],[4,3],[3,1],[3,2],[3,3],[4,4],[4,3],[4,3],[4,4],[4,4],[4,4],[4,4],[4,2],[3,2],[2,1],[3,2],[3,3],[1,4],[2,1],[2,3],[4,4],[4,3],[4,3],[3,4],[3,3],[4,2],[4,4],[3,4],[4,4],[4,3],[3,3],[2,1],[4,4],[1,1],[1,1],[2,2],[2,2],[2,2],[3,1],[0,2],[1,1],[4,4],[3,3],[2,2],[4,4],[4,4],[3,3],[2,2],[3,2],[2,2],[2,4],[2,2],[3,3],[2,2],[2,2],[3,4],[3,2],[3,3],[3,2],[4,4],[3,4],[2,2],[2,3],[3,2],[4,3],[4,3],[4,3],[2,1],[2,1],[2,3],[3,1],[4,4],[2,2],[3,4],[2,2],[4,4],[4,2],[1,1],[1,1],[4,4],[3,2],[3,2],[2,3],[2,1],[2,2],[1,0],[3,2],[1,3],[2,2],[1,1],[3,3],[2,3],[2,1],[4,4],[1,2],[3,2],[1,1],[4,4],[2,2],[1,1],[1,1],[0,2],[2,3],[3,3],[1,1],[1,1],[4,1],[4,1],[3,4],[1,1],[3,3],[2,1],[4,4],[1,2],[2,3],[1,2],[2,2],[1,2],[1,2],[2,1],[1,1],[1,2],[1,1],[1,1],[1,1],[1,1],[1,1],[2,2],[1,1],[1,2],[3,1],[2,2],[2,2],[4,4],[3,3],[2,2],[2,2],[2,1],[1,3],[2,2],[2,1],[3,3],[1,1],[2,2],[2,3],[2,1],[1,1],[2,2],[2,2],[2,2],[2,2],[3,2],[1,1],[1,1],[1,1],[1,1],[2,2],[0,1],[1,2],[3,3],[1,1],[3,3],[2,1],[2,2],[1,2],[4,3],[2,2],[1,1],[2,2],[1,1],[3,3],[1,1],[2,2],[1,1],[2,2],[1,0],[1,1],[3,1],[3,2],[1,1],[4,4],[1,2],[2,4],[2,1],[1,1],[2,3],[4,4],[4,4],[3,4],[4,4],[4,1],[2,2],[2,2],[4,4],[3,3],[1,1],[2,1],[2,1],[4,4],[1,2],[2,2],[2,1],[2,2],[4,1],[3,2],[2,2],[4,4],[4,4],[1,3],[3,4],[4,4],[4,1],[1,1],[4,2],[2,2],[3,2],[1,1],[1,0],[1,1],[1,2],[1,2],[3,1],[2,2],[1,0],[1,1],[1,1],[2,2],[2,2],[3,2],[1,1],[1,1],[3,2],[3,2],[3,3],[2,2],[2,1],[3,2],[1,1],[1,1],[4,3],[3,2],[1,1],[3,3],[1,3],[1,1],[1,2],[1,1],[2,2],[0,0],[3,1],[4,2],[2,2],[4,1],[1,2],[1,1],[2,2],[3,3],[1,2],[4,4],[4,4],[4,2],[2,2],[1,2],[4,4],[1,1],[2,2],[2,2],[4,2],[1,1],[1,1],[4,2],[2,1],[1,1],[1,2],[1,1],[2,2],[4,3],[3,3],[4,4],[3,2],[1,1],[1,1],[1,2],[3,3],[4,4],[1,2],[1,3],[4,4],[1,1],[2,3],[4,4],[1,2],[2,2],[1,2],[4,4],[1,1],[1,1],[4,4],[3,3],[3,1],[4,4],[2,1],[2,3],[1,1],[4,2],[2,2],[4,3],[4,4],[2,3],[3,1],[1,1],[3,1],[3,2]],\"hovertemplate\":\"G3=%{x}<br>absences=%{y}<br>freetime=%{marker.size}<br>Medu=%{customdata[0]}<br>Fedu=%{customdata[1]}<br>studytime=%{marker.color}<extra></extra>\",\"legendgroup\":\"\",\"marker\":{\"color\":[2,2,2,3,2,2,2,2,2,2,2,3,1,2,3,1,3,2,1,1,2,1,2,2,3,1,1,1,2,2,2,2,2,2,1,1,3,3,3,1,2,1,2,1,2,2,2,4,2,2,2,2,1,1,1,2,2,2,2,2,2,1,2,3,2,2,4,4,2,4,4,4,2,1,2,2,4,4,1,2,1,3,2,2,2,2,2,3,2,2,3,1,2,2,4,4,1,2,1,3,1,3,1,2,2,4,4,3,4,3,1,3,2,1,2,2,2,1,2,1,2,4,2,1,2,1,2,2,1,3,3,2,1,1,1,1,1,1,2,3,2,2,1,3,1,1,2,1,1,4,2,3,1,3,1,1,2,1,2,2,2,1,1,1,1,3,1,1,2,1,1,1,2,1,1,2,1,1,2,1,2,2,2,2,1,2,2,2,2,2,2,2,1,2,2,2,2,2,2,2,1,2,2,2,2,2,2,1,1,2,1,1,1,2,2,2,2,1,4,3,2,2,1,3,4,2,2,2,1,2,2,2,1,3,2,3,2,2,3,2,2,2,2,3,2,2,2,2,2,3,2,1,2,2,2,1,1,1,2,3,1,2,1,2,1,3,2,2,2,1,1,2,3,3,2,3,1,2,1,1,2,1,1,2,1,1,1,1,2,4,2,2,3,3,2,2,2,1,4,2,2,2,3,3,3,1,2,2,2,2,2,2,4,2,2,2,2,2,2,1,2,3,2,1,1,1,1,4,2,2,2,2,3,3,3,2,2,3,4,3,1,2,2,4,1,2,1,3,3,4,3,1,2,2,2,2,1,3,1,3,2,2,2,1,1,2,2,2,1,3,2,1,2,3,3,3,3,3,1,1,3,3,1,4,1,2,3,1,2,2,4,3,2,4,2,2,2,2,3,3,3,3,3,2,2,1,1,3,2,2,2,3,2,2,3,1,2,3,1,1,2,1,2,1,2,1,1,2,1,2,3,2,1,1,4,2,1,1,1,1,2,2,2,2,2,2,2,1,3,1,2,2,2,3,3,2,2,1,4,3,2,1,2,3,1,2,1,2,1,2,2,2,1,1,1,3,1,1,2,1,1,1,1,2,1,2,1,3,3,1,1,2,2,1,2,1,1,4,2,1,1,1,4,4,3,1,2,3,1,2,2,2,2,1,1,2,2,1,2,2,2,2,2,4,2,3,1,3,1,1,1,2,2,2,1,2,4,1,3,2,1,2,3,1,1,2,2,1,2,2,2,2,2,1,1,3,1,2,1,1,1,2,2,1,1,1,1,1,1,2,1,1,2,1,1,1,1,2,2,1,1,2,1,1,1,3,2,2,1,1,2,2,1,2,2,1,2,2,1,1,1,2,3,2,2,1,4,2,2,2,2,3,2,2,2,2,1,3,2,2,2,2,2,3,1,1,2,1,3,1,3,3,2,2,2,2,2,1,2,1,1,3,2,1,3,2,2,1,1],\"coloraxis\":\"coloraxis\",\"size\":[3,3,3,2,3,4,4,1,2,5,3,2,3,4,5,4,2,3,5,1,4,4,5,4,3,2,2,2,3,4,4,3,5,3,4,5,4,4,3,3,3,4,3,4,3,2,3,2,3,4,3,3,5,3,3,3,3,2,3,2,4,5,4,4,4,4,3,3,1,4,3,3,3,3,3,3,4,2,5,4,2,3,4,3,3,4,3,3,4,1,3,5,3,3,3,1,3,3,3,3,5,4,3,3,4,3,1,3,3,4,5,1,1,5,4,4,4,4,2,4,2,5,2,4,4,5,3,4,5,2,2,4,2,3,4,2,2,3,3,3,4,1,3,3,3,3,4,3,5,2,3,3,3,2,4,4,4,4,3,3,3,3,5,3,4,2,5,2,4,2,2,2,5,4,3,4,4,3,3,5,3,2,1,4,4,3,4,3,4,4,4,3,3,2,4,2,4,3,2,3,3,2,3,1,3,3,4,3,3,3,2,3,2,5,3,4,4,3,3,4,3,3,3,4,3,3,3,4,2,4,4,2,3,3,2,3,3,3,3,3,3,3,3,2,2,5,5,2,4,3,4,5,3,3,3,1,4,2,4,3,3,1,5,5,1,3,3,5,3,4,3,3,3,2,3,4,3,3,2,4,3,3,4,3,2,3,4,4,3,2,3,4,3,4,2,3,2,2,4,2,1,3,3,2,3,4,2,4,3,4,3,3,5,4,5,2,3,4,1,2,4,2,3,2,4,5,4,2,4,4,3,3,3,3,2,4,3,2,1,4,4,3,4,3,4,2,1,3,3,2,3,5,5,4,3,2,4,3,2,3,1,4,4,4,3,2,3,2,2,5,3,3,2,3,4,3,5,3,3,4,4,3,2,5,3,2,4,4,3,3,4,4,3,3,3,3,3,3,3,4,3,4,4,3,3,2,1,3,4,3,3,4,2,3,2,2,4,3,1,3,1,3,1,3,4,1,4,5,3,3,4,5,4,5,2,4,4,2,5,1,4,4,3,3,4,4,3,5,2,1,5,3,4,3,3,4,4,5,3,4,3,2,2,4,4,4,2,3,3,3,5,4,3,4,2,3,4,3,4,5,4,5,2,4,3,3,4,3,3,4,2,1,3,4,4,5,4,4,3,2,3,2,3,2,4,4,3,3,4,3,3,4,3,1,1,3,3,4,3,2,3,3,3,5,2,4,2,1,1,1,1,1,2,2,1,5,4,3,3,2,3,1,3,3,1,4,2,1,5,3,1,1,4,1,5,3,4,4,5,3,5,3,4,2,5,5,3,3,2,4,4,4,5,3,4,4,5,4,5,3,4,3,4,5,4,2,5,3,2,5,4,3,4,4,3,4,3,3,1,5,2,3,4,3,4,5,2,3,2,1,5,2,5,3,3,2,3,3,3,3,3,2,3,2,2,2,2,3,4,5,4,3,3,4,1,5,2,4,4,3,4,3,5,4,4,3,1,4,4],\"sizemode\":\"area\",\"sizeref\":0.0125,\"symbol\":\"circle\"},\"mode\":\"markers\",\"name\":\"\",\"orientation\":\"v\",\"showlegend\":false,\"x\":[11,11,12,14,13,13,13,13,17,13,14,13,12,13,15,17,14,14,7,12,14,12,14,10,10,12,12,11,13,12,11,15,15,12,12,11,14,13,12,12,10,11,15,10,11,11,13,17,13,12,13,16,9,12,13,12,15,16,14,16,16,16,10,13,12,16,12,10,11,15,11,10,11,14,11,11,11,13,10,11,12,9,11,13,12,12,11,15,11,10,11,13,12,14,12,13,11,12,13,13,8,16,12,10,16,10,10,14,11,14,14,11,10,18,10,14,16,15,11,14,14,13,13,13,11,9,11,11,15,13,12,8,11,13,12,14,11,11,11,15,10,13,12,11,11,10,10,14,9,11,9,13,11,13,11,6,12,10,11,13,11,8,11,0,10,13,11,13,8,10,11,11,1,10,9,8,10,8,8,8,11,18,13,17,10,18,10,13,15,11,14,10,11,13,11,13,17,14,16,14,11,16,14,10,13,12,12,10,12,16,14,12,16,11,15,12,15,13,13,8,12,15,13,12,12,12,13,11,11,15,10,10,13,13,11,12,14,10,16,8,17,11,11,16,12,13,13,14,9,12,16,10,13,10,10,7,8,9,15,10,11,13,8,8,10,15,14,15,12,15,15,12,15,11,10,11,16,11,13,5,10,11,7,10,6,12,13,10,13,17,11,11,14,14,13,14,16,10,12,12,15,11,12,13,13,9,16,14,12,14,10,12,16,13,18,15,16,12,10,12,13,15,10,10,11,10,13,18,13,14,14,12,18,14,15,17,16,18,19,15,15,13,14,17,17,15,13,8,16,18,11,15,11,11,15,14,17,17,15,17,14,10,13,14,17,17,13,14,11,11,9,10,13,10,17,15,14,13,17,10,13,15,11,12,10,10,15,15,12,12,14,14,15,15,16,13,17,14,14,17,17,14,13,15,16,11,13,12,12,15,17,15,17,10,15,11,18,17,14,11,17,10,13,11,12,10,11,17,9,11,11,10,7,14,11,10,8,12,12,16,0,9,14,8,11,9,11,9,17,13,15,11,11,8,8,9,15,11,13,10,11,14,14,12,11,8,11,14,13,13,12,12,16,10,11,14,8,11,8,10,10,11,9,11,8,11,10,10,9,10,10,9,10,10,9,13,14,10,14,16,7,13,9,14,13,11,10,10,9,18,17,10,7,8,7,10,16,15,8,0,8,10,8,6,8,16,14,10,9,11,9,10,8,16,12,10,14,12,11,10,11,11,12,8,12,8,16,11,11,18,13,13,10,12,10,13,11,10,10,13,10,10,12,0,10,9,9,0,9,8,8,9,7,10,10,10,11,11,10,9,10,8,7,0,11,8,0,8,9,10,7,14,13,14,18,17,18,0,11,14,14,10,13,0,10,0,18,12,11,12,0,15,11,10,12,15,14,18,15,13,15,13,9,16,9,10,0,10,12,9,17,12,9,14,16,9,19,0,16,0,0,15,11,10,10,16,9,10,11],\"xaxis\":\"x\",\"y\":[4,2,6,0,0,6,0,2,0,0,2,0,0,0,0,6,10,2,2,6,0,0,0,2,2,6,8,0,2,4,0,2,0,0,4,4,0,4,2,8,16,8,0,0,14,4,6,2,4,2,0,0,4,0,0,2,0,8,0,2,0,0,0,0,0,2,0,0,0,6,2,0,2,0,4,0,0,1,0,14,0,2,4,2,2,4,6,4,6,6,2,6,0,2,2,4,6,0,4,2,12,0,2,16,0,10,4,4,8,2,4,4,12,10,4,6,4,6,14,2,0,6,2,4,0,2,0,0,8,4,0,10,8,6,2,12,4,12,2,4,2,0,2,10,8,4,0,6,2,6,24,0,4,2,4,22,0,0,2,6,6,16,0,0,6,2,6,0,0,14,6,4,0,0,8,4,2,2,0,10,0,0,0,0,4,0,0,0,0,0,0,4,8,4,4,0,0,32,8,6,0,0,10,6,6,0,16,0,0,8,4,16,30,0,2,4,0,21,6,14,2,4,2,0,4,15,0,10,6,2,16,10,4,0,0,12,0,9,4,4,2,0,2,0,0,0,0,0,2,0,0,4,0,18,16,14,26,6,4,10,4,2,14,16,8,4,4,8,0,7,4,2,2,10,10,10,7,4,2,12,8,0,8,4,4,2,0,0,2,2,0,4,2,4,4,4,2,0,2,8,2,2,2,2,0,8,6,0,8,4,12,16,10,2,2,8,6,6,15,6,2,8,0,0,10,22,18,2,0,12,10,0,0,0,0,0,2,0,0,0,0,2,0,0,0,0,0,0,0,0,0,0,0,2,2,2,2,2,8,2,8,9,0,4,2,14,0,2,2,12,2,2,4,0,0,0,0,0,0,2,0,4,2,0,0,2,0,6,8,0,6,8,0,4,0,0,6,18,0,4,4,0,0,10,4,16,6,0,11,9,0,2,0,21,8,5,10,5,13,10,10,5,4,11,0,6,4,0,0,5,0,0,0,0,4,0,4,0,2,0,0,4,0,7,4,8,0,8,6,3,2,0,4,0,3,0,0,4,0,2,1,0,0,2,6,9,0,1,1,0,4,2,0,4,2,0,2,11,0,4,0,2,0,1,6,0,1,6,6,0,4,12,2,5,0,0,2,0,0,0,12,8,2,0,0,0,8,0,0,0,0,1,9,0,2,8,0,0,8,0,6,0,4,2,2,0,1,0,5,1,8,0,2,0,0,11,8,11,2,8,5,0,1,2,2,8,0,0,2,0,0,0,2,4,3,5,4,2,0,0,0,6,0,0,2,0,2,0,4,9,6,4,8,9,12,8,8,8,4,0,4,2,0,0,0,5,0,3,0,0,3,2,0,0,0,3,0,0,8,5,4,4,0,0,2,0,0,5,2,0,0,5,4,0,2,0,2,0,0,6,4,0,0,0,0,0,0,3,8,4,0,4,4,1,1,10,4,0,4,0,0,0,0,4,4,4,6,6,4],\"yaxis\":\"y\",\"type\":\"scatter\"}],                        {\"template\":{\"data\":{\"histogram2dcontour\":[{\"type\":\"histogram2dcontour\",\"colorbar\":{\"outlinewidth\":0,\"ticks\":\"\"},\"colorscale\":[[0.0,\"#0d0887\"],[0.1111111111111111,\"#46039f\"],[0.2222222222222222,\"#7201a8\"],[0.3333333333333333,\"#9c179e\"],[0.4444444444444444,\"#bd3786\"],[0.5555555555555556,\"#d8576b\"],[0.6666666666666666,\"#ed7953\"],[0.7777777777777778,\"#fb9f3a\"],[0.8888888888888888,\"#fdca26\"],[1.0,\"#f0f921\"]]}],\"choropleth\":[{\"type\":\"choropleth\",\"colorbar\":{\"outlinewidth\":0,\"ticks\":\"\"}}],\"histogram2d\":[{\"type\":\"histogram2d\",\"colorbar\":{\"outlinewidth\":0,\"ticks\":\"\"},\"colorscale\":[[0.0,\"#0d0887\"],[0.1111111111111111,\"#46039f\"],[0.2222222222222222,\"#7201a8\"],[0.3333333333333333,\"#9c179e\"],[0.4444444444444444,\"#bd3786\"],[0.5555555555555556,\"#d8576b\"],[0.6666666666666666,\"#ed7953\"],[0.7777777777777778,\"#fb9f3a\"],[0.8888888888888888,\"#fdca26\"],[1.0,\"#f0f921\"]]}],\"heatmap\":[{\"type\":\"heatmap\",\"colorbar\":{\"outlinewidth\":0,\"ticks\":\"\"},\"colorscale\":[[0.0,\"#0d0887\"],[0.1111111111111111,\"#46039f\"],[0.2222222222222222,\"#7201a8\"],[0.3333333333333333,\"#9c179e\"],[0.4444444444444444,\"#bd3786\"],[0.5555555555555556,\"#d8576b\"],[0.6666666666666666,\"#ed7953\"],[0.7777777777777778,\"#fb9f3a\"],[0.8888888888888888,\"#fdca26\"],[1.0,\"#f0f921\"]]}],\"heatmapgl\":[{\"type\":\"heatmapgl\",\"colorbar\":{\"outlinewidth\":0,\"ticks\":\"\"},\"colorscale\":[[0.0,\"#0d0887\"],[0.1111111111111111,\"#46039f\"],[0.2222222222222222,\"#7201a8\"],[0.3333333333333333,\"#9c179e\"],[0.4444444444444444,\"#bd3786\"],[0.5555555555555556,\"#d8576b\"],[0.6666666666666666,\"#ed7953\"],[0.7777777777777778,\"#fb9f3a\"],[0.8888888888888888,\"#fdca26\"],[1.0,\"#f0f921\"]]}],\"contourcarpet\":[{\"type\":\"contourcarpet\",\"colorbar\":{\"outlinewidth\":0,\"ticks\":\"\"}}],\"contour\":[{\"type\":\"contour\",\"colorbar\":{\"outlinewidth\":0,\"ticks\":\"\"},\"colorscale\":[[0.0,\"#0d0887\"],[0.1111111111111111,\"#46039f\"],[0.2222222222222222,\"#7201a8\"],[0.3333333333333333,\"#9c179e\"],[0.4444444444444444,\"#bd3786\"],[0.5555555555555556,\"#d8576b\"],[0.6666666666666666,\"#ed7953\"],[0.7777777777777778,\"#fb9f3a\"],[0.8888888888888888,\"#fdca26\"],[1.0,\"#f0f921\"]]}],\"surface\":[{\"type\":\"surface\",\"colorbar\":{\"outlinewidth\":0,\"ticks\":\"\"},\"colorscale\":[[0.0,\"#0d0887\"],[0.1111111111111111,\"#46039f\"],[0.2222222222222222,\"#7201a8\"],[0.3333333333333333,\"#9c179e\"],[0.4444444444444444,\"#bd3786\"],[0.5555555555555556,\"#d8576b\"],[0.6666666666666666,\"#ed7953\"],[0.7777777777777778,\"#fb9f3a\"],[0.8888888888888888,\"#fdca26\"],[1.0,\"#f0f921\"]]}],\"mesh3d\":[{\"type\":\"mesh3d\",\"colorbar\":{\"outlinewidth\":0,\"ticks\":\"\"}}],\"scatter\":[{\"fillpattern\":{\"fillmode\":\"overlay\",\"size\":10,\"solidity\":0.2},\"type\":\"scatter\"}],\"parcoords\":[{\"type\":\"parcoords\",\"line\":{\"colorbar\":{\"outlinewidth\":0,\"ticks\":\"\"}}}],\"scatterpolargl\":[{\"type\":\"scatterpolargl\",\"marker\":{\"colorbar\":{\"outlinewidth\":0,\"ticks\":\"\"}}}],\"bar\":[{\"error_x\":{\"color\":\"#2a3f5f\"},\"error_y\":{\"color\":\"#2a3f5f\"},\"marker\":{\"line\":{\"color\":\"#E5ECF6\",\"width\":0.5},\"pattern\":{\"fillmode\":\"overlay\",\"size\":10,\"solidity\":0.2}},\"type\":\"bar\"}],\"scattergeo\":[{\"type\":\"scattergeo\",\"marker\":{\"colorbar\":{\"outlinewidth\":0,\"ticks\":\"\"}}}],\"scatterpolar\":[{\"type\":\"scatterpolar\",\"marker\":{\"colorbar\":{\"outlinewidth\":0,\"ticks\":\"\"}}}],\"histogram\":[{\"marker\":{\"pattern\":{\"fillmode\":\"overlay\",\"size\":10,\"solidity\":0.2}},\"type\":\"histogram\"}],\"scattergl\":[{\"type\":\"scattergl\",\"marker\":{\"colorbar\":{\"outlinewidth\":0,\"ticks\":\"\"}}}],\"scatter3d\":[{\"type\":\"scatter3d\",\"line\":{\"colorbar\":{\"outlinewidth\":0,\"ticks\":\"\"}},\"marker\":{\"colorbar\":{\"outlinewidth\":0,\"ticks\":\"\"}}}],\"scattermapbox\":[{\"type\":\"scattermapbox\",\"marker\":{\"colorbar\":{\"outlinewidth\":0,\"ticks\":\"\"}}}],\"scatterternary\":[{\"type\":\"scatterternary\",\"marker\":{\"colorbar\":{\"outlinewidth\":0,\"ticks\":\"\"}}}],\"scattercarpet\":[{\"type\":\"scattercarpet\",\"marker\":{\"colorbar\":{\"outlinewidth\":0,\"ticks\":\"\"}}}],\"carpet\":[{\"aaxis\":{\"endlinecolor\":\"#2a3f5f\",\"gridcolor\":\"white\",\"linecolor\":\"white\",\"minorgridcolor\":\"white\",\"startlinecolor\":\"#2a3f5f\"},\"baxis\":{\"endlinecolor\":\"#2a3f5f\",\"gridcolor\":\"white\",\"linecolor\":\"white\",\"minorgridcolor\":\"white\",\"startlinecolor\":\"#2a3f5f\"},\"type\":\"carpet\"}],\"table\":[{\"cells\":{\"fill\":{\"color\":\"#EBF0F8\"},\"line\":{\"color\":\"white\"}},\"header\":{\"fill\":{\"color\":\"#C8D4E3\"},\"line\":{\"color\":\"white\"}},\"type\":\"table\"}],\"barpolar\":[{\"marker\":{\"line\":{\"color\":\"#E5ECF6\",\"width\":0.5},\"pattern\":{\"fillmode\":\"overlay\",\"size\":10,\"solidity\":0.2}},\"type\":\"barpolar\"}],\"pie\":[{\"automargin\":true,\"type\":\"pie\"}]},\"layout\":{\"autotypenumbers\":\"strict\",\"colorway\":[\"#636efa\",\"#EF553B\",\"#00cc96\",\"#ab63fa\",\"#FFA15A\",\"#19d3f3\",\"#FF6692\",\"#B6E880\",\"#FF97FF\",\"#FECB52\"],\"font\":{\"color\":\"#2a3f5f\"},\"hovermode\":\"closest\",\"hoverlabel\":{\"align\":\"left\"},\"paper_bgcolor\":\"white\",\"plot_bgcolor\":\"#E5ECF6\",\"polar\":{\"bgcolor\":\"#E5ECF6\",\"angularaxis\":{\"gridcolor\":\"white\",\"linecolor\":\"white\",\"ticks\":\"\"},\"radialaxis\":{\"gridcolor\":\"white\",\"linecolor\":\"white\",\"ticks\":\"\"}},\"ternary\":{\"bgcolor\":\"#E5ECF6\",\"aaxis\":{\"gridcolor\":\"white\",\"linecolor\":\"white\",\"ticks\":\"\"},\"baxis\":{\"gridcolor\":\"white\",\"linecolor\":\"white\",\"ticks\":\"\"},\"caxis\":{\"gridcolor\":\"white\",\"linecolor\":\"white\",\"ticks\":\"\"}},\"coloraxis\":{\"colorbar\":{\"outlinewidth\":0,\"ticks\":\"\"}},\"colorscale\":{\"sequential\":[[0.0,\"#0d0887\"],[0.1111111111111111,\"#46039f\"],[0.2222222222222222,\"#7201a8\"],[0.3333333333333333,\"#9c179e\"],[0.4444444444444444,\"#bd3786\"],[0.5555555555555556,\"#d8576b\"],[0.6666666666666666,\"#ed7953\"],[0.7777777777777778,\"#fb9f3a\"],[0.8888888888888888,\"#fdca26\"],[1.0,\"#f0f921\"]],\"sequentialminus\":[[0.0,\"#0d0887\"],[0.1111111111111111,\"#46039f\"],[0.2222222222222222,\"#7201a8\"],[0.3333333333333333,\"#9c179e\"],[0.4444444444444444,\"#bd3786\"],[0.5555555555555556,\"#d8576b\"],[0.6666666666666666,\"#ed7953\"],[0.7777777777777778,\"#fb9f3a\"],[0.8888888888888888,\"#fdca26\"],[1.0,\"#f0f921\"]],\"diverging\":[[0,\"#8e0152\"],[0.1,\"#c51b7d\"],[0.2,\"#de77ae\"],[0.3,\"#f1b6da\"],[0.4,\"#fde0ef\"],[0.5,\"#f7f7f7\"],[0.6,\"#e6f5d0\"],[0.7,\"#b8e186\"],[0.8,\"#7fbc41\"],[0.9,\"#4d9221\"],[1,\"#276419\"]]},\"xaxis\":{\"gridcolor\":\"white\",\"linecolor\":\"white\",\"ticks\":\"\",\"title\":{\"standoff\":15},\"zerolinecolor\":\"white\",\"automargin\":true,\"zerolinewidth\":2},\"yaxis\":{\"gridcolor\":\"white\",\"linecolor\":\"white\",\"ticks\":\"\",\"title\":{\"standoff\":15},\"zerolinecolor\":\"white\",\"automargin\":true,\"zerolinewidth\":2},\"scene\":{\"xaxis\":{\"backgroundcolor\":\"#E5ECF6\",\"gridcolor\":\"white\",\"linecolor\":\"white\",\"showbackground\":true,\"ticks\":\"\",\"zerolinecolor\":\"white\",\"gridwidth\":2},\"yaxis\":{\"backgroundcolor\":\"#E5ECF6\",\"gridcolor\":\"white\",\"linecolor\":\"white\",\"showbackground\":true,\"ticks\":\"\",\"zerolinecolor\":\"white\",\"gridwidth\":2},\"zaxis\":{\"backgroundcolor\":\"#E5ECF6\",\"gridcolor\":\"white\",\"linecolor\":\"white\",\"showbackground\":true,\"ticks\":\"\",\"zerolinecolor\":\"white\",\"gridwidth\":2}},\"shapedefaults\":{\"line\":{\"color\":\"#2a3f5f\"}},\"annotationdefaults\":{\"arrowcolor\":\"#2a3f5f\",\"arrowhead\":0,\"arrowwidth\":1},\"geo\":{\"bgcolor\":\"white\",\"landcolor\":\"#E5ECF6\",\"subunitcolor\":\"white\",\"showland\":true,\"showlakes\":true,\"lakecolor\":\"white\"},\"title\":{\"x\":0.05},\"mapbox\":{\"style\":\"light\"}}},\"xaxis\":{\"anchor\":\"y\",\"domain\":[0.0,1.0],\"title\":{\"text\":\"G3\"}},\"yaxis\":{\"anchor\":\"x\",\"domain\":[0.0,1.0],\"title\":{\"text\":\"absences\"}},\"coloraxis\":{\"colorbar\":{\"title\":{\"text\":\"studytime\"}},\"colorscale\":[[0.0,\"#0d0887\"],[0.1111111111111111,\"#46039f\"],[0.2222222222222222,\"#7201a8\"],[0.3333333333333333,\"#9c179e\"],[0.4444444444444444,\"#bd3786\"],[0.5555555555555556,\"#d8576b\"],[0.6666666666666666,\"#ed7953\"],[0.7777777777777778,\"#fb9f3a\"],[0.8888888888888888,\"#fdca26\"],[1.0,\"#f0f921\"]]},\"legend\":{\"tracegroupgap\":0,\"itemsizing\":\"constant\"},\"margin\":{\"t\":60},\"title\":{\"text\":\"Scatter plots for G1 in accordance with medu, fedu, study time and free time in Portugese Class\",\"x\":0.5}},                        {\"responsive\": true}                    ).then(function(){\n",
              "                            \n",
              "var gd = document.getElementById('26d36942-8ed7-4846-934a-6bdaaceb62a7');\n",
              "var x = new MutationObserver(function (mutations, observer) {{\n",
              "        var display = window.getComputedStyle(gd).display;\n",
              "        if (!display || display === 'none') {{\n",
              "            console.log([gd, 'removed!']);\n",
              "            Plotly.purge(gd);\n",
              "            observer.disconnect();\n",
              "        }}\n",
              "}});\n",
              "\n",
              "// Listen for the removal of the full notebook cells\n",
              "var notebookContainer = gd.closest('#notebook-container');\n",
              "if (notebookContainer) {{\n",
              "    x.observe(notebookContainer, {childList: true});\n",
              "}}\n",
              "\n",
              "// Listen for the clearing of the current output cell\n",
              "var outputEl = gd.closest('.output');\n",
              "if (outputEl) {{\n",
              "    x.observe(outputEl, {childList: true});\n",
              "}}\n",
              "\n",
              "                        })                };                            </script>        </div>\n",
              "</body>\n",
              "</html>"
            ]
          },
          "metadata": {}
        }
      ]
    },
    {
      "cell_type": "markdown",
      "source": [
        "As you seen above on plots there is no significant relation between g1,g2,g3 with medu and fedu in portugese class\n",
        "\n",
        "**What about math class**"
      ],
      "metadata": {
        "id": "eSkyO9JQ92nH"
      }
    },
    {
      "cell_type": "code",
      "source": [
        "fig = px.scatter(student_math, x=\"G1\", y=\"absences\", color=\"studytime\",\n",
        "                 size='freetime', hover_data=['Medu',\"Fedu\"])\n",
        "\n",
        "\n",
        "fig.update_layout(title=\"Scatter plots for G1 in accordance with medu, fedu, study time and free time in Math Class\", title_x=0.5)\n",
        "fig.show()"
      ],
      "metadata": {
        "colab": {
          "base_uri": "https://localhost:8080/",
          "height": 542
        },
        "id": "RZZs08PH-IWW",
        "outputId": "db9c75c6-69ee-4b72-bfc1-a866c9eebfd0"
      },
      "execution_count": 47,
      "outputs": [
        {
          "output_type": "display_data",
          "data": {
            "text/html": [
              "<html>\n",
              "<head><meta charset=\"utf-8\" /></head>\n",
              "<body>\n",
              "    <div>            <script src=\"https://cdnjs.cloudflare.com/ajax/libs/mathjax/2.7.5/MathJax.js?config=TeX-AMS-MML_SVG\"></script><script type=\"text/javascript\">if (window.MathJax && window.MathJax.Hub && window.MathJax.Hub.Config) {window.MathJax.Hub.Config({SVG: {font: \"STIX-Web\"}});}</script>                <script type=\"text/javascript\">window.PlotlyConfig = {MathJaxConfig: 'local'};</script>\n",
              "        <script src=\"https://cdn.plot.ly/plotly-2.18.2.min.js\"></script>                <div id=\"7a875243-a822-4c80-951f-900eee4cb79b\" class=\"plotly-graph-div\" style=\"height:525px; width:100%;\"></div>            <script type=\"text/javascript\">                                    window.PLOTLYENV=window.PLOTLYENV || {};                                    if (document.getElementById(\"7a875243-a822-4c80-951f-900eee4cb79b\")) {                    Plotly.newPlot(                        \"7a875243-a822-4c80-951f-900eee4cb79b\",                        [{\"customdata\":[[4,4],[1,1],[1,1],[4,2],[3,3],[4,3],[2,2],[4,4],[3,2],[3,4],[4,4],[2,1],[4,4],[4,3],[2,2],[4,4],[4,4],[3,3],[3,2],[4,3],[4,3],[4,4],[4,2],[2,2],[2,4],[2,2],[2,2],[4,2],[3,4],[4,4],[4,4],[4,4],[4,3],[3,3],[3,2],[2,3],[4,3],[4,4],[3,4],[2,2],[2,2],[4,4],[4,4],[2,2],[2,2],[4,3],[3,3],[4,3],[4,2],[4,4],[2,2],[4,2],[4,2],[4,4],[3,3],[2,1],[4,3],[4,4],[1,2],[4,2],[4,4],[1,1],[1,2],[4,3],[4,3],[4,3],[4,4],[3,1],[2,2],[3,1],[3,1],[4,2],[1,1],[3,1],[3,3],[4,3],[4,0],[2,2],[2,1],[3,4],[2,3],[2,3],[3,2],[2,2],[1,1],[4,4],[2,2],[4,2],[2,2],[4,4],[3,3],[4,3],[3,1],[4,2],[2,2],[1,1],[4,3],[2,1],[4,4],[4,3],[4,4],[4,4],[4,4],[3,2],[3,4],[3,3],[2,2],[3,3],[4,4],[4,4],[4,4],[3,3],[2,2],[4,2],[2,1],[4,4],[4,4],[3,3],[1,3],[3,4],[1,2],[2,2],[2,4],[4,4],[2,2],[3,4],[3,4],[0,1],[2,2],[4,4],[3,4],[1,1],[2,2],[3,4],[3,4],[4,4],[3,4],[3,3],[1,1],[4,4],[4,3],[2,2],[4,4],[1,1],[2,1],[1,1],[3,2],[1,2],[4,4],[2,1],[1,1],[2,1],[3,3],[3,2],[4,4],[2,3],[1,2],[1,1],[2,2],[3,3],[2,1],[3,2],[1,2],[1,3],[1,1],[3,2],[2,2],[4,2],[2,2],[4,4],[3,4],[1,0],[4,4],[1,3],[3,3],[4,3],[2,2],[3,3],[4,2],[4,3],[4,3],[3,3],[2,4],[3,3],[3,2],[3,3],[1,2],[2,1],[3,3],[1,2],[2,3],[1,1],[1,2],[3,3],[2,3],[2,4],[4,4],[3,3],[4,4],[4,4],[4,3],[2,3],[1,1],[2,2],[2,2],[3,4],[3,1],[4,3],[1,1],[4,3],[3,3],[4,4],[2,2],[2,2],[4,4],[3,2],[4,3],[3,3],[2,3],[2,2],[2,1],[1,1],[2,3],[2,2],[4,4],[3,1],[3,2],[2,3],[2,1],[2,1],[4,3],[2,2],[4,4],[4,4],[1,1],[3,2],[2,2],[2,1],[2,1],[2,2],[4,3],[4,4],[4,3],[4,4],[2,1],[2,1],[2,3],[3,1],[3,3],[0,2],[3,2],[3,3],[2,1],[2,1],[2,1],[1,1],[4,2],[4,3],[2,1],[2,2],[4,3],[4,3],[3,2],[3,3],[2,2],[3,4],[3,1],[4,4],[4,2],[2,1],[3,3],[2,3],[1,1],[1,2],[2,4],[2,2],[3,2],[4,4],[4,4],[4,3],[4,1],[3,2],[1,1],[1,1],[2,2],[1,1],[2,2],[1,1],[2,1],[4,4],[4,2],[4,3],[2,1],[3,1],[3,2],[3,3],[4,4],[4,3],[4,3],[4,4],[4,4],[4,4],[4,2],[3,2],[3,3],[2,4],[3,2],[4,4],[3,3],[1,1],[1,2],[2,1],[1,2],[3,2],[1,1],[2,3],[2,1],[4,3],[3,4],[4,4],[4,3],[2,2],[2,2],[3,1],[0,2],[4,4],[3,3],[2,2],[4,4],[4,4],[2,2],[2,4],[3,3],[2,2],[2,2],[3,4],[3,1],[3,2],[3,3],[3,2],[2,1],[4,4],[3,4],[2,2],[2,3],[3,2],[4,3],[4,3],[4,3],[3,2],[1,1],[3,3],[1,3],[1,1],[4,3],[3,3],[4,4],[3,2],[1,1],[1,1],[1,4],[1,1],[3,3],[4,4],[1,2],[1,3],[4,4],[1,1],[2,3],[4,4],[3,2],[1,2],[2,2],[1,2],[4,4],[1,1],[4,2],[4,4],[3,3],[3,1],[4,4],[2,1],[2,3],[1,1],[4,2],[2,2],[4,4],[2,3],[3,1],[1,1],[2,2],[3,1],[1,1],[3,2],[1,1]],\"hovertemplate\":\"G1=%{x}<br>absences=%{y}<br>freetime=%{marker.size}<br>Medu=%{customdata[0]}<br>Fedu=%{customdata[1]}<br>studytime=%{marker.color}<extra></extra>\",\"legendgroup\":\"\",\"marker\":{\"color\":[2,2,2,3,2,2,2,2,2,2,2,3,1,2,3,1,3,2,1,1,2,1,2,2,3,1,1,1,2,2,2,2,2,2,1,1,3,3,3,1,2,1,2,1,2,2,2,4,2,2,2,2,1,1,1,2,2,2,2,2,2,1,2,3,2,2,4,4,2,4,4,4,2,1,2,2,4,4,1,2,1,3,2,2,2,2,2,3,2,2,3,1,2,2,4,4,1,2,1,3,1,3,1,2,2,4,4,3,4,3,1,3,2,1,2,2,2,1,2,1,2,4,2,1,2,1,2,2,1,1,3,1,1,1,2,3,2,1,2,1,4,1,3,1,1,2,2,2,1,1,1,1,3,1,1,2,1,1,1,2,1,2,1,1,2,1,2,2,2,2,1,2,2,2,2,2,2,2,1,2,2,2,2,2,2,2,1,2,2,2,2,2,2,1,1,2,1,1,1,2,2,2,2,1,4,3,2,2,1,3,4,2,2,2,1,2,2,2,1,3,2,3,2,2,3,2,2,2,2,3,2,2,2,2,2,3,2,1,2,2,2,2,1,1,3,1,1,1,2,1,1,2,1,1,1,1,4,2,2,4,2,2,3,3,3,2,2,2,2,2,2,4,2,2,2,2,2,1,2,1,1,1,4,2,2,2,3,3,3,2,2,3,2,4,3,1,2,2,4,1,2,1,3,4,2,2,1,1,2,2,2,2,2,2,3,3,2,3,3,2,2,2,3,3,3,3,1,1,3,3,4,3,2,2,4,3,3,2,4,2,3,2,2,2,3,3,3,3,3,1,2,2,1,1,2,2,2,2,1,3,2,2,2,2,2,2,3,1,1,2,2,1,3,1,3,3,3,2,2,2,2,1,2,1,1,3,1,3,2,2,2,1,1,1,1],\"coloraxis\":\"coloraxis\",\"size\":[3,3,3,2,3,4,4,1,2,5,3,2,3,4,5,4,2,3,5,1,4,4,5,4,3,2,2,2,3,4,4,3,5,3,4,5,4,4,3,3,3,4,3,4,3,2,3,2,3,4,3,3,5,3,3,3,3,2,3,2,4,5,4,4,4,4,3,3,1,4,3,3,3,3,3,3,4,2,5,4,2,3,4,3,3,4,3,3,4,1,3,5,3,3,3,1,3,3,3,3,5,4,3,3,4,3,1,3,3,4,5,1,1,5,4,4,4,4,2,4,2,5,2,4,4,5,3,4,3,5,2,3,4,2,3,3,4,3,4,3,2,3,2,4,4,4,3,3,3,5,3,4,2,5,2,4,2,2,2,5,3,4,4,3,3,5,3,2,1,4,4,3,4,3,4,4,4,3,3,2,4,2,4,3,2,3,3,2,3,1,3,3,4,3,3,3,2,3,2,5,3,4,4,3,3,4,3,3,3,4,3,3,3,4,2,4,4,2,3,3,2,3,3,3,3,3,3,3,3,2,2,5,5,2,4,3,4,5,1,5,5,3,4,3,4,3,2,4,3,3,4,3,2,3,4,4,2,3,2,4,1,3,3,2,3,2,4,3,4,3,3,5,4,5,3,4,1,2,4,2,5,4,2,4,4,3,3,3,2,4,3,2,4,1,4,4,3,4,3,4,2,1,3,2,4,4,5,3,5,4,2,4,5,2,1,1,3,3,3,4,2,2,3,4,3,3,3,4,4,3,5,4,3,3,4,4,4,3,3,3,3,3,3,3,3,4,3,4,4,5,4,5,3,4,5,3,3,2,3,3,3,4,3,3,2,3,2,2,2,2,2,3,4,5,4,3,4,4,1,5,2,4,4,3,4,3,4,4,3,1,5,4,5,4,2],\"sizemode\":\"area\",\"sizeref\":0.0125,\"symbol\":\"circle\"},\"mode\":\"markers\",\"name\":\"\",\"orientation\":\"v\",\"showlegend\":false,\"x\":[5,5,7,15,6,15,12,6,16,14,10,10,14,10,14,14,13,8,6,8,13,12,15,13,10,6,12,15,11,10,9,17,17,8,12,8,15,15,12,14,7,12,19,8,10,8,11,19,15,7,12,11,11,8,10,8,14,14,9,15,10,10,8,10,10,16,13,7,8,16,13,10,8,12,11,9,11,11,8,5,10,11,7,15,9,7,8,13,11,8,7,16,7,11,11,7,11,8,11,7,7,16,10,7,16,10,7,16,10,14,18,7,10,18,9,15,11,13,9,14,16,16,13,14,8,13,7,7,7,18,12,8,10,12,9,11,10,4,14,16,7,9,9,14,5,8,6,10,7,8,6,12,10,5,11,11,16,9,17,10,7,5,7,10,5,12,10,14,6,14,6,13,13,8,10,10,13,6,10,10,9,12,16,9,12,12,11,15,8,8,11,8,7,8,13,14,17,9,18,9,16,8,9,7,10,10,7,11,9,7,8,12,12,6,8,14,6,6,7,9,6,6,16,12,13,9,16,12,10,12,13,11,11,14,9,11,14,13,13,7,12,10,6,13,7,18,12,6,3,13,6,7,6,8,8,7,14,11,15,10,17,8,13,10,9,17,9,12,10,6,9,15,11,15,10,12,10,9,9,10,8,11,12,8,10,12,18,13,15,15,12,15,12,18,14,14,10,10,14,16,12,11,15,17,15,14,17,8,15,12,9,14,13,13,15,13,8,9,11,11,13,11,11,12,16,9,14,11,10,14,9,12,7,8,10,16,14,7,16,9,11,10,16,9,11,13,16,10,13,11,8,13,8,8,13,10,12,12,10,18,13,13,11,16,12,10,13,7,11,14,7,14,13,6,19,8,15,8,15,10,15,7,11,6,6,10,6,7,7,6,9,14,10,11,8],\"xaxis\":\"x\",\"y\":[6,4,10,2,4,10,0,6,0,0,0,4,2,2,0,4,6,4,16,4,0,0,2,0,2,14,2,4,4,16,0,0,0,0,0,0,2,7,2,8,25,8,2,0,14,8,12,4,2,2,2,2,6,0,6,8,0,4,2,2,6,6,4,2,0,2,4,4,2,12,0,0,2,2,54,6,8,0,2,12,2,4,10,4,2,6,4,4,12,18,0,4,4,0,6,2,2,2,6,0,14,0,4,26,0,10,8,2,6,4,6,0,6,10,8,2,2,0,20,6,2,6,2,18,0,0,0,2,0,8,0,0,12,16,0,0,0,0,0,0,0,8,2,2,0,0,0,2,0,0,0,6,8,0,0,2,8,6,2,4,0,6,0,2,0,16,4,0,0,0,0,2,0,0,4,4,2,4,10,4,10,2,0,56,14,12,2,0,6,4,10,0,12,8,0,0,4,8,24,0,2,6,4,18,6,28,5,10,6,6,10,13,0,15,12,2,22,13,3,4,2,0,2,0,0,16,10,2,14,10,14,4,14,2,18,10,4,20,2,0,14,2,0,0,0,6,4,16,8,0,0,6,4,0,0,2,6,12,8,0,21,2,1,4,0,13,2,8,10,0,15,4,2,2,2,6,75,22,15,8,30,19,1,4,4,2,5,6,6,9,11,0,12,6,8,4,0,10,0,5,14,0,0,0,20,8,0,38,0,18,0,20,3,22,14,40,0,9,0,2,23,12,3,1,0,3,3,8,7,4,2,7,0,0,0,16,12,0,7,4,4,0,11,0,4,7,9,0,0,10,8,2,7,4,4,0,4,2,4,0,0,2,0,0,0,4,0,0,0,10,4,3,8,14,0,2,4,4,0,17,4,5,2,0,14,2,7,0,0,0,11,3,3,0,5],\"yaxis\":\"y\",\"type\":\"scatter\"}],                        {\"template\":{\"data\":{\"histogram2dcontour\":[{\"type\":\"histogram2dcontour\",\"colorbar\":{\"outlinewidth\":0,\"ticks\":\"\"},\"colorscale\":[[0.0,\"#0d0887\"],[0.1111111111111111,\"#46039f\"],[0.2222222222222222,\"#7201a8\"],[0.3333333333333333,\"#9c179e\"],[0.4444444444444444,\"#bd3786\"],[0.5555555555555556,\"#d8576b\"],[0.6666666666666666,\"#ed7953\"],[0.7777777777777778,\"#fb9f3a\"],[0.8888888888888888,\"#fdca26\"],[1.0,\"#f0f921\"]]}],\"choropleth\":[{\"type\":\"choropleth\",\"colorbar\":{\"outlinewidth\":0,\"ticks\":\"\"}}],\"histogram2d\":[{\"type\":\"histogram2d\",\"colorbar\":{\"outlinewidth\":0,\"ticks\":\"\"},\"colorscale\":[[0.0,\"#0d0887\"],[0.1111111111111111,\"#46039f\"],[0.2222222222222222,\"#7201a8\"],[0.3333333333333333,\"#9c179e\"],[0.4444444444444444,\"#bd3786\"],[0.5555555555555556,\"#d8576b\"],[0.6666666666666666,\"#ed7953\"],[0.7777777777777778,\"#fb9f3a\"],[0.8888888888888888,\"#fdca26\"],[1.0,\"#f0f921\"]]}],\"heatmap\":[{\"type\":\"heatmap\",\"colorbar\":{\"outlinewidth\":0,\"ticks\":\"\"},\"colorscale\":[[0.0,\"#0d0887\"],[0.1111111111111111,\"#46039f\"],[0.2222222222222222,\"#7201a8\"],[0.3333333333333333,\"#9c179e\"],[0.4444444444444444,\"#bd3786\"],[0.5555555555555556,\"#d8576b\"],[0.6666666666666666,\"#ed7953\"],[0.7777777777777778,\"#fb9f3a\"],[0.8888888888888888,\"#fdca26\"],[1.0,\"#f0f921\"]]}],\"heatmapgl\":[{\"type\":\"heatmapgl\",\"colorbar\":{\"outlinewidth\":0,\"ticks\":\"\"},\"colorscale\":[[0.0,\"#0d0887\"],[0.1111111111111111,\"#46039f\"],[0.2222222222222222,\"#7201a8\"],[0.3333333333333333,\"#9c179e\"],[0.4444444444444444,\"#bd3786\"],[0.5555555555555556,\"#d8576b\"],[0.6666666666666666,\"#ed7953\"],[0.7777777777777778,\"#fb9f3a\"],[0.8888888888888888,\"#fdca26\"],[1.0,\"#f0f921\"]]}],\"contourcarpet\":[{\"type\":\"contourcarpet\",\"colorbar\":{\"outlinewidth\":0,\"ticks\":\"\"}}],\"contour\":[{\"type\":\"contour\",\"colorbar\":{\"outlinewidth\":0,\"ticks\":\"\"},\"colorscale\":[[0.0,\"#0d0887\"],[0.1111111111111111,\"#46039f\"],[0.2222222222222222,\"#7201a8\"],[0.3333333333333333,\"#9c179e\"],[0.4444444444444444,\"#bd3786\"],[0.5555555555555556,\"#d8576b\"],[0.6666666666666666,\"#ed7953\"],[0.7777777777777778,\"#fb9f3a\"],[0.8888888888888888,\"#fdca26\"],[1.0,\"#f0f921\"]]}],\"surface\":[{\"type\":\"surface\",\"colorbar\":{\"outlinewidth\":0,\"ticks\":\"\"},\"colorscale\":[[0.0,\"#0d0887\"],[0.1111111111111111,\"#46039f\"],[0.2222222222222222,\"#7201a8\"],[0.3333333333333333,\"#9c179e\"],[0.4444444444444444,\"#bd3786\"],[0.5555555555555556,\"#d8576b\"],[0.6666666666666666,\"#ed7953\"],[0.7777777777777778,\"#fb9f3a\"],[0.8888888888888888,\"#fdca26\"],[1.0,\"#f0f921\"]]}],\"mesh3d\":[{\"type\":\"mesh3d\",\"colorbar\":{\"outlinewidth\":0,\"ticks\":\"\"}}],\"scatter\":[{\"fillpattern\":{\"fillmode\":\"overlay\",\"size\":10,\"solidity\":0.2},\"type\":\"scatter\"}],\"parcoords\":[{\"type\":\"parcoords\",\"line\":{\"colorbar\":{\"outlinewidth\":0,\"ticks\":\"\"}}}],\"scatterpolargl\":[{\"type\":\"scatterpolargl\",\"marker\":{\"colorbar\":{\"outlinewidth\":0,\"ticks\":\"\"}}}],\"bar\":[{\"error_x\":{\"color\":\"#2a3f5f\"},\"error_y\":{\"color\":\"#2a3f5f\"},\"marker\":{\"line\":{\"color\":\"#E5ECF6\",\"width\":0.5},\"pattern\":{\"fillmode\":\"overlay\",\"size\":10,\"solidity\":0.2}},\"type\":\"bar\"}],\"scattergeo\":[{\"type\":\"scattergeo\",\"marker\":{\"colorbar\":{\"outlinewidth\":0,\"ticks\":\"\"}}}],\"scatterpolar\":[{\"type\":\"scatterpolar\",\"marker\":{\"colorbar\":{\"outlinewidth\":0,\"ticks\":\"\"}}}],\"histogram\":[{\"marker\":{\"pattern\":{\"fillmode\":\"overlay\",\"size\":10,\"solidity\":0.2}},\"type\":\"histogram\"}],\"scattergl\":[{\"type\":\"scattergl\",\"marker\":{\"colorbar\":{\"outlinewidth\":0,\"ticks\":\"\"}}}],\"scatter3d\":[{\"type\":\"scatter3d\",\"line\":{\"colorbar\":{\"outlinewidth\":0,\"ticks\":\"\"}},\"marker\":{\"colorbar\":{\"outlinewidth\":0,\"ticks\":\"\"}}}],\"scattermapbox\":[{\"type\":\"scattermapbox\",\"marker\":{\"colorbar\":{\"outlinewidth\":0,\"ticks\":\"\"}}}],\"scatterternary\":[{\"type\":\"scatterternary\",\"marker\":{\"colorbar\":{\"outlinewidth\":0,\"ticks\":\"\"}}}],\"scattercarpet\":[{\"type\":\"scattercarpet\",\"marker\":{\"colorbar\":{\"outlinewidth\":0,\"ticks\":\"\"}}}],\"carpet\":[{\"aaxis\":{\"endlinecolor\":\"#2a3f5f\",\"gridcolor\":\"white\",\"linecolor\":\"white\",\"minorgridcolor\":\"white\",\"startlinecolor\":\"#2a3f5f\"},\"baxis\":{\"endlinecolor\":\"#2a3f5f\",\"gridcolor\":\"white\",\"linecolor\":\"white\",\"minorgridcolor\":\"white\",\"startlinecolor\":\"#2a3f5f\"},\"type\":\"carpet\"}],\"table\":[{\"cells\":{\"fill\":{\"color\":\"#EBF0F8\"},\"line\":{\"color\":\"white\"}},\"header\":{\"fill\":{\"color\":\"#C8D4E3\"},\"line\":{\"color\":\"white\"}},\"type\":\"table\"}],\"barpolar\":[{\"marker\":{\"line\":{\"color\":\"#E5ECF6\",\"width\":0.5},\"pattern\":{\"fillmode\":\"overlay\",\"size\":10,\"solidity\":0.2}},\"type\":\"barpolar\"}],\"pie\":[{\"automargin\":true,\"type\":\"pie\"}]},\"layout\":{\"autotypenumbers\":\"strict\",\"colorway\":[\"#636efa\",\"#EF553B\",\"#00cc96\",\"#ab63fa\",\"#FFA15A\",\"#19d3f3\",\"#FF6692\",\"#B6E880\",\"#FF97FF\",\"#FECB52\"],\"font\":{\"color\":\"#2a3f5f\"},\"hovermode\":\"closest\",\"hoverlabel\":{\"align\":\"left\"},\"paper_bgcolor\":\"white\",\"plot_bgcolor\":\"#E5ECF6\",\"polar\":{\"bgcolor\":\"#E5ECF6\",\"angularaxis\":{\"gridcolor\":\"white\",\"linecolor\":\"white\",\"ticks\":\"\"},\"radialaxis\":{\"gridcolor\":\"white\",\"linecolor\":\"white\",\"ticks\":\"\"}},\"ternary\":{\"bgcolor\":\"#E5ECF6\",\"aaxis\":{\"gridcolor\":\"white\",\"linecolor\":\"white\",\"ticks\":\"\"},\"baxis\":{\"gridcolor\":\"white\",\"linecolor\":\"white\",\"ticks\":\"\"},\"caxis\":{\"gridcolor\":\"white\",\"linecolor\":\"white\",\"ticks\":\"\"}},\"coloraxis\":{\"colorbar\":{\"outlinewidth\":0,\"ticks\":\"\"}},\"colorscale\":{\"sequential\":[[0.0,\"#0d0887\"],[0.1111111111111111,\"#46039f\"],[0.2222222222222222,\"#7201a8\"],[0.3333333333333333,\"#9c179e\"],[0.4444444444444444,\"#bd3786\"],[0.5555555555555556,\"#d8576b\"],[0.6666666666666666,\"#ed7953\"],[0.7777777777777778,\"#fb9f3a\"],[0.8888888888888888,\"#fdca26\"],[1.0,\"#f0f921\"]],\"sequentialminus\":[[0.0,\"#0d0887\"],[0.1111111111111111,\"#46039f\"],[0.2222222222222222,\"#7201a8\"],[0.3333333333333333,\"#9c179e\"],[0.4444444444444444,\"#bd3786\"],[0.5555555555555556,\"#d8576b\"],[0.6666666666666666,\"#ed7953\"],[0.7777777777777778,\"#fb9f3a\"],[0.8888888888888888,\"#fdca26\"],[1.0,\"#f0f921\"]],\"diverging\":[[0,\"#8e0152\"],[0.1,\"#c51b7d\"],[0.2,\"#de77ae\"],[0.3,\"#f1b6da\"],[0.4,\"#fde0ef\"],[0.5,\"#f7f7f7\"],[0.6,\"#e6f5d0\"],[0.7,\"#b8e186\"],[0.8,\"#7fbc41\"],[0.9,\"#4d9221\"],[1,\"#276419\"]]},\"xaxis\":{\"gridcolor\":\"white\",\"linecolor\":\"white\",\"ticks\":\"\",\"title\":{\"standoff\":15},\"zerolinecolor\":\"white\",\"automargin\":true,\"zerolinewidth\":2},\"yaxis\":{\"gridcolor\":\"white\",\"linecolor\":\"white\",\"ticks\":\"\",\"title\":{\"standoff\":15},\"zerolinecolor\":\"white\",\"automargin\":true,\"zerolinewidth\":2},\"scene\":{\"xaxis\":{\"backgroundcolor\":\"#E5ECF6\",\"gridcolor\":\"white\",\"linecolor\":\"white\",\"showbackground\":true,\"ticks\":\"\",\"zerolinecolor\":\"white\",\"gridwidth\":2},\"yaxis\":{\"backgroundcolor\":\"#E5ECF6\",\"gridcolor\":\"white\",\"linecolor\":\"white\",\"showbackground\":true,\"ticks\":\"\",\"zerolinecolor\":\"white\",\"gridwidth\":2},\"zaxis\":{\"backgroundcolor\":\"#E5ECF6\",\"gridcolor\":\"white\",\"linecolor\":\"white\",\"showbackground\":true,\"ticks\":\"\",\"zerolinecolor\":\"white\",\"gridwidth\":2}},\"shapedefaults\":{\"line\":{\"color\":\"#2a3f5f\"}},\"annotationdefaults\":{\"arrowcolor\":\"#2a3f5f\",\"arrowhead\":0,\"arrowwidth\":1},\"geo\":{\"bgcolor\":\"white\",\"landcolor\":\"#E5ECF6\",\"subunitcolor\":\"white\",\"showland\":true,\"showlakes\":true,\"lakecolor\":\"white\"},\"title\":{\"x\":0.05},\"mapbox\":{\"style\":\"light\"}}},\"xaxis\":{\"anchor\":\"y\",\"domain\":[0.0,1.0],\"title\":{\"text\":\"G1\"}},\"yaxis\":{\"anchor\":\"x\",\"domain\":[0.0,1.0],\"title\":{\"text\":\"absences\"}},\"coloraxis\":{\"colorbar\":{\"title\":{\"text\":\"studytime\"}},\"colorscale\":[[0.0,\"#0d0887\"],[0.1111111111111111,\"#46039f\"],[0.2222222222222222,\"#7201a8\"],[0.3333333333333333,\"#9c179e\"],[0.4444444444444444,\"#bd3786\"],[0.5555555555555556,\"#d8576b\"],[0.6666666666666666,\"#ed7953\"],[0.7777777777777778,\"#fb9f3a\"],[0.8888888888888888,\"#fdca26\"],[1.0,\"#f0f921\"]]},\"legend\":{\"tracegroupgap\":0,\"itemsizing\":\"constant\"},\"margin\":{\"t\":60},\"title\":{\"text\":\"Scatter plots for G1 in accordance with medu, fedu, study time and free time in Math Class\",\"x\":0.5}},                        {\"responsive\": true}                    ).then(function(){\n",
              "                            \n",
              "var gd = document.getElementById('7a875243-a822-4c80-951f-900eee4cb79b');\n",
              "var x = new MutationObserver(function (mutations, observer) {{\n",
              "        var display = window.getComputedStyle(gd).display;\n",
              "        if (!display || display === 'none') {{\n",
              "            console.log([gd, 'removed!']);\n",
              "            Plotly.purge(gd);\n",
              "            observer.disconnect();\n",
              "        }}\n",
              "}});\n",
              "\n",
              "// Listen for the removal of the full notebook cells\n",
              "var notebookContainer = gd.closest('#notebook-container');\n",
              "if (notebookContainer) {{\n",
              "    x.observe(notebookContainer, {childList: true});\n",
              "}}\n",
              "\n",
              "// Listen for the clearing of the current output cell\n",
              "var outputEl = gd.closest('.output');\n",
              "if (outputEl) {{\n",
              "    x.observe(outputEl, {childList: true});\n",
              "}}\n",
              "\n",
              "                        })                };                            </script>        </div>\n",
              "</body>\n",
              "</html>"
            ]
          },
          "metadata": {}
        }
      ]
    },
    {
      "cell_type": "code",
      "source": [
        "fig = px.scatter(student_math, x=\"G2\", y=\"absences\", color=\"studytime\",\n",
        "                 size='freetime', hover_data=['Medu',\"Fedu\"])\n",
        "\n",
        "\n",
        "fig.update_layout(title=\"Scatter plots for G2 in accordance with medu, fedu, study time and free time in Math Class\", title_x=0.5)\n",
        "fig.show()"
      ],
      "metadata": {
        "colab": {
          "base_uri": "https://localhost:8080/",
          "height": 542
        },
        "id": "SQLNbAJZ-a-2",
        "outputId": "968a1c46-4133-4378-cfbb-2e9751667a16"
      },
      "execution_count": 48,
      "outputs": [
        {
          "output_type": "display_data",
          "data": {
            "text/html": [
              "<html>\n",
              "<head><meta charset=\"utf-8\" /></head>\n",
              "<body>\n",
              "    <div>            <script src=\"https://cdnjs.cloudflare.com/ajax/libs/mathjax/2.7.5/MathJax.js?config=TeX-AMS-MML_SVG\"></script><script type=\"text/javascript\">if (window.MathJax && window.MathJax.Hub && window.MathJax.Hub.Config) {window.MathJax.Hub.Config({SVG: {font: \"STIX-Web\"}});}</script>                <script type=\"text/javascript\">window.PlotlyConfig = {MathJaxConfig: 'local'};</script>\n",
              "        <script src=\"https://cdn.plot.ly/plotly-2.18.2.min.js\"></script>                <div id=\"769d6fdb-769f-4c49-ab1a-669ff9c9789a\" class=\"plotly-graph-div\" style=\"height:525px; width:100%;\"></div>            <script type=\"text/javascript\">                                    window.PLOTLYENV=window.PLOTLYENV || {};                                    if (document.getElementById(\"769d6fdb-769f-4c49-ab1a-669ff9c9789a\")) {                    Plotly.newPlot(                        \"769d6fdb-769f-4c49-ab1a-669ff9c9789a\",                        [{\"customdata\":[[4,4],[1,1],[1,1],[4,2],[3,3],[4,3],[2,2],[4,4],[3,2],[3,4],[4,4],[2,1],[4,4],[4,3],[2,2],[4,4],[4,4],[3,3],[3,2],[4,3],[4,3],[4,4],[4,2],[2,2],[2,4],[2,2],[2,2],[4,2],[3,4],[4,4],[4,4],[4,4],[4,3],[3,3],[3,2],[2,3],[4,3],[4,4],[3,4],[2,2],[2,2],[4,4],[4,4],[2,2],[2,2],[4,3],[3,3],[4,3],[4,2],[4,4],[2,2],[4,2],[4,2],[4,4],[3,3],[2,1],[4,3],[4,4],[1,2],[4,2],[4,4],[1,1],[1,2],[4,3],[4,3],[4,3],[4,4],[3,1],[2,2],[3,1],[3,1],[4,2],[1,1],[3,1],[3,3],[4,3],[4,0],[2,2],[2,1],[3,4],[2,3],[2,3],[3,2],[2,2],[1,1],[4,4],[2,2],[4,2],[2,2],[4,4],[3,3],[4,3],[3,1],[4,2],[2,2],[1,1],[4,3],[2,1],[4,4],[4,3],[4,4],[4,4],[4,4],[3,2],[3,4],[3,3],[2,2],[3,3],[4,4],[4,4],[4,4],[3,3],[2,2],[4,2],[2,1],[4,4],[4,4],[3,3],[1,3],[3,4],[1,2],[2,2],[2,4],[4,4],[2,2],[3,4],[3,4],[0,1],[2,2],[4,4],[3,4],[1,1],[2,2],[3,4],[3,4],[4,4],[3,4],[3,3],[1,1],[4,4],[4,3],[2,2],[4,4],[1,1],[2,1],[1,1],[3,2],[1,2],[4,4],[2,1],[1,1],[2,1],[3,3],[3,2],[4,4],[2,3],[1,2],[1,1],[2,2],[3,3],[2,1],[3,2],[1,2],[1,3],[1,1],[3,2],[2,2],[4,2],[2,2],[4,4],[3,4],[1,0],[4,4],[1,3],[3,3],[4,3],[2,2],[3,3],[4,2],[4,3],[4,3],[3,3],[2,4],[3,3],[3,2],[3,3],[1,2],[2,1],[3,3],[1,2],[2,3],[1,1],[1,2],[3,3],[2,3],[2,4],[4,4],[3,3],[4,4],[4,4],[4,3],[2,3],[1,1],[2,2],[2,2],[3,4],[3,1],[4,3],[1,1],[4,3],[3,3],[4,4],[2,2],[2,2],[4,4],[3,2],[4,3],[3,3],[2,3],[2,2],[2,1],[1,1],[2,3],[2,2],[4,4],[3,1],[3,2],[2,3],[2,1],[2,1],[4,3],[2,2],[4,4],[4,4],[1,1],[3,2],[2,2],[2,1],[2,1],[2,2],[4,3],[4,4],[4,3],[4,4],[2,1],[2,1],[2,3],[3,1],[3,3],[0,2],[3,2],[3,3],[2,1],[2,1],[2,1],[1,1],[4,2],[4,3],[2,1],[2,2],[4,3],[4,3],[3,2],[3,3],[2,2],[3,4],[3,1],[4,4],[4,2],[2,1],[3,3],[2,3],[1,1],[1,2],[2,4],[2,2],[3,2],[4,4],[4,4],[4,3],[4,1],[3,2],[1,1],[1,1],[2,2],[1,1],[2,2],[1,1],[2,1],[4,4],[4,2],[4,3],[2,1],[3,1],[3,2],[3,3],[4,4],[4,3],[4,3],[4,4],[4,4],[4,4],[4,2],[3,2],[3,3],[2,4],[3,2],[4,4],[3,3],[1,1],[1,2],[2,1],[1,2],[3,2],[1,1],[2,3],[2,1],[4,3],[3,4],[4,4],[4,3],[2,2],[2,2],[3,1],[0,2],[4,4],[3,3],[2,2],[4,4],[4,4],[2,2],[2,4],[3,3],[2,2],[2,2],[3,4],[3,1],[3,2],[3,3],[3,2],[2,1],[4,4],[3,4],[2,2],[2,3],[3,2],[4,3],[4,3],[4,3],[3,2],[1,1],[3,3],[1,3],[1,1],[4,3],[3,3],[4,4],[3,2],[1,1],[1,1],[1,4],[1,1],[3,3],[4,4],[1,2],[1,3],[4,4],[1,1],[2,3],[4,4],[3,2],[1,2],[2,2],[1,2],[4,4],[1,1],[4,2],[4,4],[3,3],[3,1],[4,4],[2,1],[2,3],[1,1],[4,2],[2,2],[4,4],[2,3],[3,1],[1,1],[2,2],[3,1],[1,1],[3,2],[1,1]],\"hovertemplate\":\"G2=%{x}<br>absences=%{y}<br>freetime=%{marker.size}<br>Medu=%{customdata[0]}<br>Fedu=%{customdata[1]}<br>studytime=%{marker.color}<extra></extra>\",\"legendgroup\":\"\",\"marker\":{\"color\":[2,2,2,3,2,2,2,2,2,2,2,3,1,2,3,1,3,2,1,1,2,1,2,2,3,1,1,1,2,2,2,2,2,2,1,1,3,3,3,1,2,1,2,1,2,2,2,4,2,2,2,2,1,1,1,2,2,2,2,2,2,1,2,3,2,2,4,4,2,4,4,4,2,1,2,2,4,4,1,2,1,3,2,2,2,2,2,3,2,2,3,1,2,2,4,4,1,2,1,3,1,3,1,2,2,4,4,3,4,3,1,3,2,1,2,2,2,1,2,1,2,4,2,1,2,1,2,2,1,1,3,1,1,1,2,3,2,1,2,1,4,1,3,1,1,2,2,2,1,1,1,1,3,1,1,2,1,1,1,2,1,2,1,1,2,1,2,2,2,2,1,2,2,2,2,2,2,2,1,2,2,2,2,2,2,2,1,2,2,2,2,2,2,1,1,2,1,1,1,2,2,2,2,1,4,3,2,2,1,3,4,2,2,2,1,2,2,2,1,3,2,3,2,2,3,2,2,2,2,3,2,2,2,2,2,3,2,1,2,2,2,2,1,1,3,1,1,1,2,1,1,2,1,1,1,1,4,2,2,4,2,2,3,3,3,2,2,2,2,2,2,4,2,2,2,2,2,1,2,1,1,1,4,2,2,2,3,3,3,2,2,3,2,4,3,1,2,2,4,1,2,1,3,4,2,2,1,1,2,2,2,2,2,2,3,3,2,3,3,2,2,2,3,3,3,3,1,1,3,3,4,3,2,2,4,3,3,2,4,2,3,2,2,2,3,3,3,3,3,1,2,2,1,1,2,2,2,2,1,3,2,2,2,2,2,2,3,1,1,2,2,1,3,1,3,3,3,2,2,2,2,1,2,1,1,3,1,3,2,2,2,1,1,1,1],\"coloraxis\":\"coloraxis\",\"size\":[3,3,3,2,3,4,4,1,2,5,3,2,3,4,5,4,2,3,5,1,4,4,5,4,3,2,2,2,3,4,4,3,5,3,4,5,4,4,3,3,3,4,3,4,3,2,3,2,3,4,3,3,5,3,3,3,3,2,3,2,4,5,4,4,4,4,3,3,1,4,3,3,3,3,3,3,4,2,5,4,2,3,4,3,3,4,3,3,4,1,3,5,3,3,3,1,3,3,3,3,5,4,3,3,4,3,1,3,3,4,5,1,1,5,4,4,4,4,2,4,2,5,2,4,4,5,3,4,3,5,2,3,4,2,3,3,4,3,4,3,2,3,2,4,4,4,3,3,3,5,3,4,2,5,2,4,2,2,2,5,3,4,4,3,3,5,3,2,1,4,4,3,4,3,4,4,4,3,3,2,4,2,4,3,2,3,3,2,3,1,3,3,4,3,3,3,2,3,2,5,3,4,4,3,3,4,3,3,3,4,3,3,3,4,2,4,4,2,3,3,2,3,3,3,3,3,3,3,3,2,2,5,5,2,4,3,4,5,1,5,5,3,4,3,4,3,2,4,3,3,4,3,2,3,4,4,2,3,2,4,1,3,3,2,3,2,4,3,4,3,3,5,4,5,3,4,1,2,4,2,5,4,2,4,4,3,3,3,2,4,3,2,4,1,4,4,3,4,3,4,2,1,3,2,4,4,5,3,5,4,2,4,5,2,1,1,3,3,3,4,2,2,3,4,3,3,3,4,4,3,5,4,3,3,4,4,4,3,3,3,3,3,3,3,3,4,3,4,4,5,4,5,3,4,5,3,3,2,3,3,3,4,3,3,2,3,2,2,2,2,2,3,4,5,4,3,4,4,1,5,2,4,4,3,4,3,4,4,3,1,5,4,5,4,2],\"sizemode\":\"area\",\"sizeref\":0.0125,\"symbol\":\"circle\"},\"mode\":\"markers\",\"name\":\"\",\"orientation\":\"v\",\"showlegend\":false,\"x\":[6,5,8,14,10,15,12,5,18,15,8,12,14,10,16,14,14,10,5,10,14,15,15,13,9,9,12,16,11,12,11,16,16,10,14,7,16,16,12,13,10,12,18,8,10,8,12,19,15,7,13,13,11,10,13,9,15,15,10,16,11,8,10,9,10,15,13,7,9,16,15,10,6,12,12,9,11,11,8,5,12,10,6,15,10,9,7,14,10,6,7,17,6,10,13,10,15,9,14,9,7,17,13,6,18,11,8,18,13,15,19,10,13,19,9,15,13,14,7,13,15,14,13,11,7,13,10,8,4,18,0,0,13,11,0,0,0,0,12,16,9,9,11,14,0,11,7,11,6,9,5,13,10,0,11,8,12,8,15,12,6,9,0,10,8,11,10,15,7,14,5,15,11,7,11,9,13,5,8,10,8,13,17,9,13,12,12,15,7,9,12,8,8,9,14,15,15,9,18,9,16,10,9,6,10,9,7,12,9,7,8,12,13,7,10,15,6,6,7,10,6,5,16,13,13,8,15,11,8,10,13,11,9,13,7,9,13,12,11,7,12,11,0,12,0,18,12,8,5,15,8,10,9,9,12,9,12,11,14,9,18,8,12,9,10,17,9,10,9,0,9,14,11,14,10,12,9,9,8,11,8,9,12,9,9,10,18,12,14,13,11,15,12,18,13,12,9,8,13,15,10,11,12,17,14,12,18,9,12,10,9,12,11,10,13,11,8,10,11,11,13,9,11,14,15,12,15,10,9,14,8,14,0,8,9,15,13,8,15,10,12,10,15,8,10,13,15,10,15,13,7,13,7,8,11,9,13,12,10,16,13,12,11,15,11,10,13,6,10,12,7,12,11,5,18,8,14,9,15,10,14,6,11,5,5,9,5,5,9,5,9,16,8,12,9],\"xaxis\":\"x\",\"y\":[6,4,10,2,4,10,0,6,0,0,0,4,2,2,0,4,6,4,16,4,0,0,2,0,2,14,2,4,4,16,0,0,0,0,0,0,2,7,2,8,25,8,2,0,14,8,12,4,2,2,2,2,6,0,6,8,0,4,2,2,6,6,4,2,0,2,4,4,2,12,0,0,2,2,54,6,8,0,2,12,2,4,10,4,2,6,4,4,12,18,0,4,4,0,6,2,2,2,6,0,14,0,4,26,0,10,8,2,6,4,6,0,6,10,8,2,2,0,20,6,2,6,2,18,0,0,0,2,0,8,0,0,12,16,0,0,0,0,0,0,0,8,2,2,0,0,0,2,0,0,0,6,8,0,0,2,8,6,2,4,0,6,0,2,0,16,4,0,0,0,0,2,0,0,4,4,2,4,10,4,10,2,0,56,14,12,2,0,6,4,10,0,12,8,0,0,4,8,24,0,2,6,4,18,6,28,5,10,6,6,10,13,0,15,12,2,22,13,3,4,2,0,2,0,0,16,10,2,14,10,14,4,14,2,18,10,4,20,2,0,14,2,0,0,0,6,4,16,8,0,0,6,4,0,0,2,6,12,8,0,21,2,1,4,0,13,2,8,10,0,15,4,2,2,2,6,75,22,15,8,30,19,1,4,4,2,5,6,6,9,11,0,12,6,8,4,0,10,0,5,14,0,0,0,20,8,0,38,0,18,0,20,3,22,14,40,0,9,0,2,23,12,3,1,0,3,3,8,7,4,2,7,0,0,0,16,12,0,7,4,4,0,11,0,4,7,9,0,0,10,8,2,7,4,4,0,4,2,4,0,0,2,0,0,0,4,0,0,0,10,4,3,8,14,0,2,4,4,0,17,4,5,2,0,14,2,7,0,0,0,11,3,3,0,5],\"yaxis\":\"y\",\"type\":\"scatter\"}],                        {\"template\":{\"data\":{\"histogram2dcontour\":[{\"type\":\"histogram2dcontour\",\"colorbar\":{\"outlinewidth\":0,\"ticks\":\"\"},\"colorscale\":[[0.0,\"#0d0887\"],[0.1111111111111111,\"#46039f\"],[0.2222222222222222,\"#7201a8\"],[0.3333333333333333,\"#9c179e\"],[0.4444444444444444,\"#bd3786\"],[0.5555555555555556,\"#d8576b\"],[0.6666666666666666,\"#ed7953\"],[0.7777777777777778,\"#fb9f3a\"],[0.8888888888888888,\"#fdca26\"],[1.0,\"#f0f921\"]]}],\"choropleth\":[{\"type\":\"choropleth\",\"colorbar\":{\"outlinewidth\":0,\"ticks\":\"\"}}],\"histogram2d\":[{\"type\":\"histogram2d\",\"colorbar\":{\"outlinewidth\":0,\"ticks\":\"\"},\"colorscale\":[[0.0,\"#0d0887\"],[0.1111111111111111,\"#46039f\"],[0.2222222222222222,\"#7201a8\"],[0.3333333333333333,\"#9c179e\"],[0.4444444444444444,\"#bd3786\"],[0.5555555555555556,\"#d8576b\"],[0.6666666666666666,\"#ed7953\"],[0.7777777777777778,\"#fb9f3a\"],[0.8888888888888888,\"#fdca26\"],[1.0,\"#f0f921\"]]}],\"heatmap\":[{\"type\":\"heatmap\",\"colorbar\":{\"outlinewidth\":0,\"ticks\":\"\"},\"colorscale\":[[0.0,\"#0d0887\"],[0.1111111111111111,\"#46039f\"],[0.2222222222222222,\"#7201a8\"],[0.3333333333333333,\"#9c179e\"],[0.4444444444444444,\"#bd3786\"],[0.5555555555555556,\"#d8576b\"],[0.6666666666666666,\"#ed7953\"],[0.7777777777777778,\"#fb9f3a\"],[0.8888888888888888,\"#fdca26\"],[1.0,\"#f0f921\"]]}],\"heatmapgl\":[{\"type\":\"heatmapgl\",\"colorbar\":{\"outlinewidth\":0,\"ticks\":\"\"},\"colorscale\":[[0.0,\"#0d0887\"],[0.1111111111111111,\"#46039f\"],[0.2222222222222222,\"#7201a8\"],[0.3333333333333333,\"#9c179e\"],[0.4444444444444444,\"#bd3786\"],[0.5555555555555556,\"#d8576b\"],[0.6666666666666666,\"#ed7953\"],[0.7777777777777778,\"#fb9f3a\"],[0.8888888888888888,\"#fdca26\"],[1.0,\"#f0f921\"]]}],\"contourcarpet\":[{\"type\":\"contourcarpet\",\"colorbar\":{\"outlinewidth\":0,\"ticks\":\"\"}}],\"contour\":[{\"type\":\"contour\",\"colorbar\":{\"outlinewidth\":0,\"ticks\":\"\"},\"colorscale\":[[0.0,\"#0d0887\"],[0.1111111111111111,\"#46039f\"],[0.2222222222222222,\"#7201a8\"],[0.3333333333333333,\"#9c179e\"],[0.4444444444444444,\"#bd3786\"],[0.5555555555555556,\"#d8576b\"],[0.6666666666666666,\"#ed7953\"],[0.7777777777777778,\"#fb9f3a\"],[0.8888888888888888,\"#fdca26\"],[1.0,\"#f0f921\"]]}],\"surface\":[{\"type\":\"surface\",\"colorbar\":{\"outlinewidth\":0,\"ticks\":\"\"},\"colorscale\":[[0.0,\"#0d0887\"],[0.1111111111111111,\"#46039f\"],[0.2222222222222222,\"#7201a8\"],[0.3333333333333333,\"#9c179e\"],[0.4444444444444444,\"#bd3786\"],[0.5555555555555556,\"#d8576b\"],[0.6666666666666666,\"#ed7953\"],[0.7777777777777778,\"#fb9f3a\"],[0.8888888888888888,\"#fdca26\"],[1.0,\"#f0f921\"]]}],\"mesh3d\":[{\"type\":\"mesh3d\",\"colorbar\":{\"outlinewidth\":0,\"ticks\":\"\"}}],\"scatter\":[{\"fillpattern\":{\"fillmode\":\"overlay\",\"size\":10,\"solidity\":0.2},\"type\":\"scatter\"}],\"parcoords\":[{\"type\":\"parcoords\",\"line\":{\"colorbar\":{\"outlinewidth\":0,\"ticks\":\"\"}}}],\"scatterpolargl\":[{\"type\":\"scatterpolargl\",\"marker\":{\"colorbar\":{\"outlinewidth\":0,\"ticks\":\"\"}}}],\"bar\":[{\"error_x\":{\"color\":\"#2a3f5f\"},\"error_y\":{\"color\":\"#2a3f5f\"},\"marker\":{\"line\":{\"color\":\"#E5ECF6\",\"width\":0.5},\"pattern\":{\"fillmode\":\"overlay\",\"size\":10,\"solidity\":0.2}},\"type\":\"bar\"}],\"scattergeo\":[{\"type\":\"scattergeo\",\"marker\":{\"colorbar\":{\"outlinewidth\":0,\"ticks\":\"\"}}}],\"scatterpolar\":[{\"type\":\"scatterpolar\",\"marker\":{\"colorbar\":{\"outlinewidth\":0,\"ticks\":\"\"}}}],\"histogram\":[{\"marker\":{\"pattern\":{\"fillmode\":\"overlay\",\"size\":10,\"solidity\":0.2}},\"type\":\"histogram\"}],\"scattergl\":[{\"type\":\"scattergl\",\"marker\":{\"colorbar\":{\"outlinewidth\":0,\"ticks\":\"\"}}}],\"scatter3d\":[{\"type\":\"scatter3d\",\"line\":{\"colorbar\":{\"outlinewidth\":0,\"ticks\":\"\"}},\"marker\":{\"colorbar\":{\"outlinewidth\":0,\"ticks\":\"\"}}}],\"scattermapbox\":[{\"type\":\"scattermapbox\",\"marker\":{\"colorbar\":{\"outlinewidth\":0,\"ticks\":\"\"}}}],\"scatterternary\":[{\"type\":\"scatterternary\",\"marker\":{\"colorbar\":{\"outlinewidth\":0,\"ticks\":\"\"}}}],\"scattercarpet\":[{\"type\":\"scattercarpet\",\"marker\":{\"colorbar\":{\"outlinewidth\":0,\"ticks\":\"\"}}}],\"carpet\":[{\"aaxis\":{\"endlinecolor\":\"#2a3f5f\",\"gridcolor\":\"white\",\"linecolor\":\"white\",\"minorgridcolor\":\"white\",\"startlinecolor\":\"#2a3f5f\"},\"baxis\":{\"endlinecolor\":\"#2a3f5f\",\"gridcolor\":\"white\",\"linecolor\":\"white\",\"minorgridcolor\":\"white\",\"startlinecolor\":\"#2a3f5f\"},\"type\":\"carpet\"}],\"table\":[{\"cells\":{\"fill\":{\"color\":\"#EBF0F8\"},\"line\":{\"color\":\"white\"}},\"header\":{\"fill\":{\"color\":\"#C8D4E3\"},\"line\":{\"color\":\"white\"}},\"type\":\"table\"}],\"barpolar\":[{\"marker\":{\"line\":{\"color\":\"#E5ECF6\",\"width\":0.5},\"pattern\":{\"fillmode\":\"overlay\",\"size\":10,\"solidity\":0.2}},\"type\":\"barpolar\"}],\"pie\":[{\"automargin\":true,\"type\":\"pie\"}]},\"layout\":{\"autotypenumbers\":\"strict\",\"colorway\":[\"#636efa\",\"#EF553B\",\"#00cc96\",\"#ab63fa\",\"#FFA15A\",\"#19d3f3\",\"#FF6692\",\"#B6E880\",\"#FF97FF\",\"#FECB52\"],\"font\":{\"color\":\"#2a3f5f\"},\"hovermode\":\"closest\",\"hoverlabel\":{\"align\":\"left\"},\"paper_bgcolor\":\"white\",\"plot_bgcolor\":\"#E5ECF6\",\"polar\":{\"bgcolor\":\"#E5ECF6\",\"angularaxis\":{\"gridcolor\":\"white\",\"linecolor\":\"white\",\"ticks\":\"\"},\"radialaxis\":{\"gridcolor\":\"white\",\"linecolor\":\"white\",\"ticks\":\"\"}},\"ternary\":{\"bgcolor\":\"#E5ECF6\",\"aaxis\":{\"gridcolor\":\"white\",\"linecolor\":\"white\",\"ticks\":\"\"},\"baxis\":{\"gridcolor\":\"white\",\"linecolor\":\"white\",\"ticks\":\"\"},\"caxis\":{\"gridcolor\":\"white\",\"linecolor\":\"white\",\"ticks\":\"\"}},\"coloraxis\":{\"colorbar\":{\"outlinewidth\":0,\"ticks\":\"\"}},\"colorscale\":{\"sequential\":[[0.0,\"#0d0887\"],[0.1111111111111111,\"#46039f\"],[0.2222222222222222,\"#7201a8\"],[0.3333333333333333,\"#9c179e\"],[0.4444444444444444,\"#bd3786\"],[0.5555555555555556,\"#d8576b\"],[0.6666666666666666,\"#ed7953\"],[0.7777777777777778,\"#fb9f3a\"],[0.8888888888888888,\"#fdca26\"],[1.0,\"#f0f921\"]],\"sequentialminus\":[[0.0,\"#0d0887\"],[0.1111111111111111,\"#46039f\"],[0.2222222222222222,\"#7201a8\"],[0.3333333333333333,\"#9c179e\"],[0.4444444444444444,\"#bd3786\"],[0.5555555555555556,\"#d8576b\"],[0.6666666666666666,\"#ed7953\"],[0.7777777777777778,\"#fb9f3a\"],[0.8888888888888888,\"#fdca26\"],[1.0,\"#f0f921\"]],\"diverging\":[[0,\"#8e0152\"],[0.1,\"#c51b7d\"],[0.2,\"#de77ae\"],[0.3,\"#f1b6da\"],[0.4,\"#fde0ef\"],[0.5,\"#f7f7f7\"],[0.6,\"#e6f5d0\"],[0.7,\"#b8e186\"],[0.8,\"#7fbc41\"],[0.9,\"#4d9221\"],[1,\"#276419\"]]},\"xaxis\":{\"gridcolor\":\"white\",\"linecolor\":\"white\",\"ticks\":\"\",\"title\":{\"standoff\":15},\"zerolinecolor\":\"white\",\"automargin\":true,\"zerolinewidth\":2},\"yaxis\":{\"gridcolor\":\"white\",\"linecolor\":\"white\",\"ticks\":\"\",\"title\":{\"standoff\":15},\"zerolinecolor\":\"white\",\"automargin\":true,\"zerolinewidth\":2},\"scene\":{\"xaxis\":{\"backgroundcolor\":\"#E5ECF6\",\"gridcolor\":\"white\",\"linecolor\":\"white\",\"showbackground\":true,\"ticks\":\"\",\"zerolinecolor\":\"white\",\"gridwidth\":2},\"yaxis\":{\"backgroundcolor\":\"#E5ECF6\",\"gridcolor\":\"white\",\"linecolor\":\"white\",\"showbackground\":true,\"ticks\":\"\",\"zerolinecolor\":\"white\",\"gridwidth\":2},\"zaxis\":{\"backgroundcolor\":\"#E5ECF6\",\"gridcolor\":\"white\",\"linecolor\":\"white\",\"showbackground\":true,\"ticks\":\"\",\"zerolinecolor\":\"white\",\"gridwidth\":2}},\"shapedefaults\":{\"line\":{\"color\":\"#2a3f5f\"}},\"annotationdefaults\":{\"arrowcolor\":\"#2a3f5f\",\"arrowhead\":0,\"arrowwidth\":1},\"geo\":{\"bgcolor\":\"white\",\"landcolor\":\"#E5ECF6\",\"subunitcolor\":\"white\",\"showland\":true,\"showlakes\":true,\"lakecolor\":\"white\"},\"title\":{\"x\":0.05},\"mapbox\":{\"style\":\"light\"}}},\"xaxis\":{\"anchor\":\"y\",\"domain\":[0.0,1.0],\"title\":{\"text\":\"G2\"}},\"yaxis\":{\"anchor\":\"x\",\"domain\":[0.0,1.0],\"title\":{\"text\":\"absences\"}},\"coloraxis\":{\"colorbar\":{\"title\":{\"text\":\"studytime\"}},\"colorscale\":[[0.0,\"#0d0887\"],[0.1111111111111111,\"#46039f\"],[0.2222222222222222,\"#7201a8\"],[0.3333333333333333,\"#9c179e\"],[0.4444444444444444,\"#bd3786\"],[0.5555555555555556,\"#d8576b\"],[0.6666666666666666,\"#ed7953\"],[0.7777777777777778,\"#fb9f3a\"],[0.8888888888888888,\"#fdca26\"],[1.0,\"#f0f921\"]]},\"legend\":{\"tracegroupgap\":0,\"itemsizing\":\"constant\"},\"margin\":{\"t\":60},\"title\":{\"text\":\"Scatter plots for G2 in accordance with medu, fedu, study time and free time in Math Class\",\"x\":0.5}},                        {\"responsive\": true}                    ).then(function(){\n",
              "                            \n",
              "var gd = document.getElementById('769d6fdb-769f-4c49-ab1a-669ff9c9789a');\n",
              "var x = new MutationObserver(function (mutations, observer) {{\n",
              "        var display = window.getComputedStyle(gd).display;\n",
              "        if (!display || display === 'none') {{\n",
              "            console.log([gd, 'removed!']);\n",
              "            Plotly.purge(gd);\n",
              "            observer.disconnect();\n",
              "        }}\n",
              "}});\n",
              "\n",
              "// Listen for the removal of the full notebook cells\n",
              "var notebookContainer = gd.closest('#notebook-container');\n",
              "if (notebookContainer) {{\n",
              "    x.observe(notebookContainer, {childList: true});\n",
              "}}\n",
              "\n",
              "// Listen for the clearing of the current output cell\n",
              "var outputEl = gd.closest('.output');\n",
              "if (outputEl) {{\n",
              "    x.observe(outputEl, {childList: true});\n",
              "}}\n",
              "\n",
              "                        })                };                            </script>        </div>\n",
              "</body>\n",
              "</html>"
            ]
          },
          "metadata": {}
        }
      ]
    },
    {
      "cell_type": "code",
      "source": [
        "fig = px.scatter(student_math, x=\"G3\", y=\"absences\", color=\"studytime\",\n",
        "                 size='freetime', hover_data=['Medu',\"Fedu\"])\n",
        "\n",
        "\n",
        "fig.update_layout(title=\"Scatter plots for G3 in accordance with medu, fedu, study time and free time in Math Class\", title_x=0.5)\n",
        "fig.show()"
      ],
      "metadata": {
        "colab": {
          "base_uri": "https://localhost:8080/",
          "height": 542
        },
        "id": "ecyA6RyD-fo7",
        "outputId": "5431762e-ef02-4599-855d-2ae2ecee368f"
      },
      "execution_count": 49,
      "outputs": [
        {
          "output_type": "display_data",
          "data": {
            "text/html": [
              "<html>\n",
              "<head><meta charset=\"utf-8\" /></head>\n",
              "<body>\n",
              "    <div>            <script src=\"https://cdnjs.cloudflare.com/ajax/libs/mathjax/2.7.5/MathJax.js?config=TeX-AMS-MML_SVG\"></script><script type=\"text/javascript\">if (window.MathJax && window.MathJax.Hub && window.MathJax.Hub.Config) {window.MathJax.Hub.Config({SVG: {font: \"STIX-Web\"}});}</script>                <script type=\"text/javascript\">window.PlotlyConfig = {MathJaxConfig: 'local'};</script>\n",
              "        <script src=\"https://cdn.plot.ly/plotly-2.18.2.min.js\"></script>                <div id=\"17c7c027-a5e1-4372-bc22-d104e9c4533f\" class=\"plotly-graph-div\" style=\"height:525px; width:100%;\"></div>            <script type=\"text/javascript\">                                    window.PLOTLYENV=window.PLOTLYENV || {};                                    if (document.getElementById(\"17c7c027-a5e1-4372-bc22-d104e9c4533f\")) {                    Plotly.newPlot(                        \"17c7c027-a5e1-4372-bc22-d104e9c4533f\",                        [{\"customdata\":[[4,4],[1,1],[1,1],[4,2],[3,3],[4,3],[2,2],[4,4],[3,2],[3,4],[4,4],[2,1],[4,4],[4,3],[2,2],[4,4],[4,4],[3,3],[3,2],[4,3],[4,3],[4,4],[4,2],[2,2],[2,4],[2,2],[2,2],[4,2],[3,4],[4,4],[4,4],[4,4],[4,3],[3,3],[3,2],[2,3],[4,3],[4,4],[3,4],[2,2],[2,2],[4,4],[4,4],[2,2],[2,2],[4,3],[3,3],[4,3],[4,2],[4,4],[2,2],[4,2],[4,2],[4,4],[3,3],[2,1],[4,3],[4,4],[1,2],[4,2],[4,4],[1,1],[1,2],[4,3],[4,3],[4,3],[4,4],[3,1],[2,2],[3,1],[3,1],[4,2],[1,1],[3,1],[3,3],[4,3],[4,0],[2,2],[2,1],[3,4],[2,3],[2,3],[3,2],[2,2],[1,1],[4,4],[2,2],[4,2],[2,2],[4,4],[3,3],[4,3],[3,1],[4,2],[2,2],[1,1],[4,3],[2,1],[4,4],[4,3],[4,4],[4,4],[4,4],[3,2],[3,4],[3,3],[2,2],[3,3],[4,4],[4,4],[4,4],[3,3],[2,2],[4,2],[2,1],[4,4],[4,4],[3,3],[1,3],[3,4],[1,2],[2,2],[2,4],[4,4],[2,2],[3,4],[3,4],[0,1],[2,2],[4,4],[3,4],[1,1],[2,2],[3,4],[3,4],[4,4],[3,4],[3,3],[1,1],[4,4],[4,3],[2,2],[4,4],[1,1],[2,1],[1,1],[3,2],[1,2],[4,4],[2,1],[1,1],[2,1],[3,3],[3,2],[4,4],[2,3],[1,2],[1,1],[2,2],[3,3],[2,1],[3,2],[1,2],[1,3],[1,1],[3,2],[2,2],[4,2],[2,2],[4,4],[3,4],[1,0],[4,4],[1,3],[3,3],[4,3],[2,2],[3,3],[4,2],[4,3],[4,3],[3,3],[2,4],[3,3],[3,2],[3,3],[1,2],[2,1],[3,3],[1,2],[2,3],[1,1],[1,2],[3,3],[2,3],[2,4],[4,4],[3,3],[4,4],[4,4],[4,3],[2,3],[1,1],[2,2],[2,2],[3,4],[3,1],[4,3],[1,1],[4,3],[3,3],[4,4],[2,2],[2,2],[4,4],[3,2],[4,3],[3,3],[2,3],[2,2],[2,1],[1,1],[2,3],[2,2],[4,4],[3,1],[3,2],[2,3],[2,1],[2,1],[4,3],[2,2],[4,4],[4,4],[1,1],[3,2],[2,2],[2,1],[2,1],[2,2],[4,3],[4,4],[4,3],[4,4],[2,1],[2,1],[2,3],[3,1],[3,3],[0,2],[3,2],[3,3],[2,1],[2,1],[2,1],[1,1],[4,2],[4,3],[2,1],[2,2],[4,3],[4,3],[3,2],[3,3],[2,2],[3,4],[3,1],[4,4],[4,2],[2,1],[3,3],[2,3],[1,1],[1,2],[2,4],[2,2],[3,2],[4,4],[4,4],[4,3],[4,1],[3,2],[1,1],[1,1],[2,2],[1,1],[2,2],[1,1],[2,1],[4,4],[4,2],[4,3],[2,1],[3,1],[3,2],[3,3],[4,4],[4,3],[4,3],[4,4],[4,4],[4,4],[4,2],[3,2],[3,3],[2,4],[3,2],[4,4],[3,3],[1,1],[1,2],[2,1],[1,2],[3,2],[1,1],[2,3],[2,1],[4,3],[3,4],[4,4],[4,3],[2,2],[2,2],[3,1],[0,2],[4,4],[3,3],[2,2],[4,4],[4,4],[2,2],[2,4],[3,3],[2,2],[2,2],[3,4],[3,1],[3,2],[3,3],[3,2],[2,1],[4,4],[3,4],[2,2],[2,3],[3,2],[4,3],[4,3],[4,3],[3,2],[1,1],[3,3],[1,3],[1,1],[4,3],[3,3],[4,4],[3,2],[1,1],[1,1],[1,4],[1,1],[3,3],[4,4],[1,2],[1,3],[4,4],[1,1],[2,3],[4,4],[3,2],[1,2],[2,2],[1,2],[4,4],[1,1],[4,2],[4,4],[3,3],[3,1],[4,4],[2,1],[2,3],[1,1],[4,2],[2,2],[4,4],[2,3],[3,1],[1,1],[2,2],[3,1],[1,1],[3,2],[1,1]],\"hovertemplate\":\"G3=%{x}<br>absences=%{y}<br>freetime=%{marker.size}<br>Medu=%{customdata[0]}<br>Fedu=%{customdata[1]}<br>studytime=%{marker.color}<extra></extra>\",\"legendgroup\":\"\",\"marker\":{\"color\":[2,2,2,3,2,2,2,2,2,2,2,3,1,2,3,1,3,2,1,1,2,1,2,2,3,1,1,1,2,2,2,2,2,2,1,1,3,3,3,1,2,1,2,1,2,2,2,4,2,2,2,2,1,1,1,2,2,2,2,2,2,1,2,3,2,2,4,4,2,4,4,4,2,1,2,2,4,4,1,2,1,3,2,2,2,2,2,3,2,2,3,1,2,2,4,4,1,2,1,3,1,3,1,2,2,4,4,3,4,3,1,3,2,1,2,2,2,1,2,1,2,4,2,1,2,1,2,2,1,1,3,1,1,1,2,3,2,1,2,1,4,1,3,1,1,2,2,2,1,1,1,1,3,1,1,2,1,1,1,2,1,2,1,1,2,1,2,2,2,2,1,2,2,2,2,2,2,2,1,2,2,2,2,2,2,2,1,2,2,2,2,2,2,1,1,2,1,1,1,2,2,2,2,1,4,3,2,2,1,3,4,2,2,2,1,2,2,2,1,3,2,3,2,2,3,2,2,2,2,3,2,2,2,2,2,3,2,1,2,2,2,2,1,1,3,1,1,1,2,1,1,2,1,1,1,1,4,2,2,4,2,2,3,3,3,2,2,2,2,2,2,4,2,2,2,2,2,1,2,1,1,1,4,2,2,2,3,3,3,2,2,3,2,4,3,1,2,2,4,1,2,1,3,4,2,2,1,1,2,2,2,2,2,2,3,3,2,3,3,2,2,2,3,3,3,3,1,1,3,3,4,3,2,2,4,3,3,2,4,2,3,2,2,2,3,3,3,3,3,1,2,2,1,1,2,2,2,2,1,3,2,2,2,2,2,2,3,1,1,2,2,1,3,1,3,3,3,2,2,2,2,1,2,1,1,3,1,3,2,2,2,1,1,1,1],\"coloraxis\":\"coloraxis\",\"size\":[3,3,3,2,3,4,4,1,2,5,3,2,3,4,5,4,2,3,5,1,4,4,5,4,3,2,2,2,3,4,4,3,5,3,4,5,4,4,3,3,3,4,3,4,3,2,3,2,3,4,3,3,5,3,3,3,3,2,3,2,4,5,4,4,4,4,3,3,1,4,3,3,3,3,3,3,4,2,5,4,2,3,4,3,3,4,3,3,4,1,3,5,3,3,3,1,3,3,3,3,5,4,3,3,4,3,1,3,3,4,5,1,1,5,4,4,4,4,2,4,2,5,2,4,4,5,3,4,3,5,2,3,4,2,3,3,4,3,4,3,2,3,2,4,4,4,3,3,3,5,3,4,2,5,2,4,2,2,2,5,3,4,4,3,3,5,3,2,1,4,4,3,4,3,4,4,4,3,3,2,4,2,4,3,2,3,3,2,3,1,3,3,4,3,3,3,2,3,2,5,3,4,4,3,3,4,3,3,3,4,3,3,3,4,2,4,4,2,3,3,2,3,3,3,3,3,3,3,3,2,2,5,5,2,4,3,4,5,1,5,5,3,4,3,4,3,2,4,3,3,4,3,2,3,4,4,2,3,2,4,1,3,3,2,3,2,4,3,4,3,3,5,4,5,3,4,1,2,4,2,5,4,2,4,4,3,3,3,2,4,3,2,4,1,4,4,3,4,3,4,2,1,3,2,4,4,5,3,5,4,2,4,5,2,1,1,3,3,3,4,2,2,3,4,3,3,3,4,4,3,5,4,3,3,4,4,4,3,3,3,3,3,3,3,3,4,3,4,4,5,4,5,3,4,5,3,3,2,3,3,3,4,3,3,2,3,2,2,2,2,2,3,4,5,4,3,4,4,1,5,2,4,4,3,4,3,4,4,3,1,5,4,5,4,2],\"sizemode\":\"area\",\"sizeref\":0.0125,\"symbol\":\"circle\"},\"mode\":\"markers\",\"name\":\"\",\"orientation\":\"v\",\"showlegend\":false,\"x\":[6,6,10,15,10,15,11,6,19,15,9,12,14,11,16,14,14,10,5,10,15,15,16,12,8,8,11,15,11,11,12,17,16,12,15,6,18,15,11,13,11,12,18,11,9,6,11,20,14,7,13,13,10,11,13,10,15,15,9,16,11,11,9,9,10,15,12,6,8,16,15,10,5,14,11,10,10,11,10,5,12,11,6,15,10,8,6,14,10,7,8,18,6,10,14,10,15,10,14,8,5,17,14,6,18,11,8,18,13,16,19,10,13,19,9,16,14,13,8,13,15,15,13,13,8,12,11,9,0,18,0,0,12,11,0,0,0,0,12,15,0,9,11,13,0,11,0,11,0,10,0,14,10,0,12,8,13,10,15,12,0,7,0,10,7,12,10,16,0,14,0,16,10,0,9,9,11,6,9,11,8,12,17,8,12,11,11,15,9,10,13,9,8,10,14,15,16,10,18,10,16,10,10,6,11,9,7,13,10,7,8,13,14,8,10,15,4,8,8,10,6,0,17,13,14,7,15,12,9,12,14,11,9,13,6,10,13,12,11,0,12,12,0,12,0,18,13,8,5,15,8,10,8,8,12,8,13,11,14,0,18,8,12,9,0,17,10,11,10,0,9,14,11,14,10,12,9,9,8,10,8,10,12,10,11,11,19,12,14,15,11,15,13,18,14,11,0,8,14,16,11,10,14,18,13,12,18,8,12,10,0,13,11,11,13,11,0,9,10,11,13,9,11,15,15,11,16,10,9,14,8,14,0,0,0,15,13,0,17,10,11,0,15,0,10,14,16,9,15,13,8,13,8,8,11,9,13,11,10,16,13,12,10,15,12,10,13,0,10,11,9,12,11,5,19,10,15,10,15,10,14,7,10,0,5,10,6,0,8,0,9,16,7,10,9],\"xaxis\":\"x\",\"y\":[6,4,10,2,4,10,0,6,0,0,0,4,2,2,0,4,6,4,16,4,0,0,2,0,2,14,2,4,4,16,0,0,0,0,0,0,2,7,2,8,25,8,2,0,14,8,12,4,2,2,2,2,6,0,6,8,0,4,2,2,6,6,4,2,0,2,4,4,2,12,0,0,2,2,54,6,8,0,2,12,2,4,10,4,2,6,4,4,12,18,0,4,4,0,6,2,2,2,6,0,14,0,4,26,0,10,8,2,6,4,6,0,6,10,8,2,2,0,20,6,2,6,2,18,0,0,0,2,0,8,0,0,12,16,0,0,0,0,0,0,0,8,2,2,0,0,0,2,0,0,0,6,8,0,0,2,8,6,2,4,0,6,0,2,0,16,4,0,0,0,0,2,0,0,4,4,2,4,10,4,10,2,0,56,14,12,2,0,6,4,10,0,12,8,0,0,4,8,24,0,2,6,4,18,6,28,5,10,6,6,10,13,0,15,12,2,22,13,3,4,2,0,2,0,0,16,10,2,14,10,14,4,14,2,18,10,4,20,2,0,14,2,0,0,0,6,4,16,8,0,0,6,4,0,0,2,6,12,8,0,21,2,1,4,0,13,2,8,10,0,15,4,2,2,2,6,75,22,15,8,30,19,1,4,4,2,5,6,6,9,11,0,12,6,8,4,0,10,0,5,14,0,0,0,20,8,0,38,0,18,0,20,3,22,14,40,0,9,0,2,23,12,3,1,0,3,3,8,7,4,2,7,0,0,0,16,12,0,7,4,4,0,11,0,4,7,9,0,0,10,8,2,7,4,4,0,4,2,4,0,0,2,0,0,0,4,0,0,0,10,4,3,8,14,0,2,4,4,0,17,4,5,2,0,14,2,7,0,0,0,11,3,3,0,5],\"yaxis\":\"y\",\"type\":\"scatter\"}],                        {\"template\":{\"data\":{\"histogram2dcontour\":[{\"type\":\"histogram2dcontour\",\"colorbar\":{\"outlinewidth\":0,\"ticks\":\"\"},\"colorscale\":[[0.0,\"#0d0887\"],[0.1111111111111111,\"#46039f\"],[0.2222222222222222,\"#7201a8\"],[0.3333333333333333,\"#9c179e\"],[0.4444444444444444,\"#bd3786\"],[0.5555555555555556,\"#d8576b\"],[0.6666666666666666,\"#ed7953\"],[0.7777777777777778,\"#fb9f3a\"],[0.8888888888888888,\"#fdca26\"],[1.0,\"#f0f921\"]]}],\"choropleth\":[{\"type\":\"choropleth\",\"colorbar\":{\"outlinewidth\":0,\"ticks\":\"\"}}],\"histogram2d\":[{\"type\":\"histogram2d\",\"colorbar\":{\"outlinewidth\":0,\"ticks\":\"\"},\"colorscale\":[[0.0,\"#0d0887\"],[0.1111111111111111,\"#46039f\"],[0.2222222222222222,\"#7201a8\"],[0.3333333333333333,\"#9c179e\"],[0.4444444444444444,\"#bd3786\"],[0.5555555555555556,\"#d8576b\"],[0.6666666666666666,\"#ed7953\"],[0.7777777777777778,\"#fb9f3a\"],[0.8888888888888888,\"#fdca26\"],[1.0,\"#f0f921\"]]}],\"heatmap\":[{\"type\":\"heatmap\",\"colorbar\":{\"outlinewidth\":0,\"ticks\":\"\"},\"colorscale\":[[0.0,\"#0d0887\"],[0.1111111111111111,\"#46039f\"],[0.2222222222222222,\"#7201a8\"],[0.3333333333333333,\"#9c179e\"],[0.4444444444444444,\"#bd3786\"],[0.5555555555555556,\"#d8576b\"],[0.6666666666666666,\"#ed7953\"],[0.7777777777777778,\"#fb9f3a\"],[0.8888888888888888,\"#fdca26\"],[1.0,\"#f0f921\"]]}],\"heatmapgl\":[{\"type\":\"heatmapgl\",\"colorbar\":{\"outlinewidth\":0,\"ticks\":\"\"},\"colorscale\":[[0.0,\"#0d0887\"],[0.1111111111111111,\"#46039f\"],[0.2222222222222222,\"#7201a8\"],[0.3333333333333333,\"#9c179e\"],[0.4444444444444444,\"#bd3786\"],[0.5555555555555556,\"#d8576b\"],[0.6666666666666666,\"#ed7953\"],[0.7777777777777778,\"#fb9f3a\"],[0.8888888888888888,\"#fdca26\"],[1.0,\"#f0f921\"]]}],\"contourcarpet\":[{\"type\":\"contourcarpet\",\"colorbar\":{\"outlinewidth\":0,\"ticks\":\"\"}}],\"contour\":[{\"type\":\"contour\",\"colorbar\":{\"outlinewidth\":0,\"ticks\":\"\"},\"colorscale\":[[0.0,\"#0d0887\"],[0.1111111111111111,\"#46039f\"],[0.2222222222222222,\"#7201a8\"],[0.3333333333333333,\"#9c179e\"],[0.4444444444444444,\"#bd3786\"],[0.5555555555555556,\"#d8576b\"],[0.6666666666666666,\"#ed7953\"],[0.7777777777777778,\"#fb9f3a\"],[0.8888888888888888,\"#fdca26\"],[1.0,\"#f0f921\"]]}],\"surface\":[{\"type\":\"surface\",\"colorbar\":{\"outlinewidth\":0,\"ticks\":\"\"},\"colorscale\":[[0.0,\"#0d0887\"],[0.1111111111111111,\"#46039f\"],[0.2222222222222222,\"#7201a8\"],[0.3333333333333333,\"#9c179e\"],[0.4444444444444444,\"#bd3786\"],[0.5555555555555556,\"#d8576b\"],[0.6666666666666666,\"#ed7953\"],[0.7777777777777778,\"#fb9f3a\"],[0.8888888888888888,\"#fdca26\"],[1.0,\"#f0f921\"]]}],\"mesh3d\":[{\"type\":\"mesh3d\",\"colorbar\":{\"outlinewidth\":0,\"ticks\":\"\"}}],\"scatter\":[{\"fillpattern\":{\"fillmode\":\"overlay\",\"size\":10,\"solidity\":0.2},\"type\":\"scatter\"}],\"parcoords\":[{\"type\":\"parcoords\",\"line\":{\"colorbar\":{\"outlinewidth\":0,\"ticks\":\"\"}}}],\"scatterpolargl\":[{\"type\":\"scatterpolargl\",\"marker\":{\"colorbar\":{\"outlinewidth\":0,\"ticks\":\"\"}}}],\"bar\":[{\"error_x\":{\"color\":\"#2a3f5f\"},\"error_y\":{\"color\":\"#2a3f5f\"},\"marker\":{\"line\":{\"color\":\"#E5ECF6\",\"width\":0.5},\"pattern\":{\"fillmode\":\"overlay\",\"size\":10,\"solidity\":0.2}},\"type\":\"bar\"}],\"scattergeo\":[{\"type\":\"scattergeo\",\"marker\":{\"colorbar\":{\"outlinewidth\":0,\"ticks\":\"\"}}}],\"scatterpolar\":[{\"type\":\"scatterpolar\",\"marker\":{\"colorbar\":{\"outlinewidth\":0,\"ticks\":\"\"}}}],\"histogram\":[{\"marker\":{\"pattern\":{\"fillmode\":\"overlay\",\"size\":10,\"solidity\":0.2}},\"type\":\"histogram\"}],\"scattergl\":[{\"type\":\"scattergl\",\"marker\":{\"colorbar\":{\"outlinewidth\":0,\"ticks\":\"\"}}}],\"scatter3d\":[{\"type\":\"scatter3d\",\"line\":{\"colorbar\":{\"outlinewidth\":0,\"ticks\":\"\"}},\"marker\":{\"colorbar\":{\"outlinewidth\":0,\"ticks\":\"\"}}}],\"scattermapbox\":[{\"type\":\"scattermapbox\",\"marker\":{\"colorbar\":{\"outlinewidth\":0,\"ticks\":\"\"}}}],\"scatterternary\":[{\"type\":\"scatterternary\",\"marker\":{\"colorbar\":{\"outlinewidth\":0,\"ticks\":\"\"}}}],\"scattercarpet\":[{\"type\":\"scattercarpet\",\"marker\":{\"colorbar\":{\"outlinewidth\":0,\"ticks\":\"\"}}}],\"carpet\":[{\"aaxis\":{\"endlinecolor\":\"#2a3f5f\",\"gridcolor\":\"white\",\"linecolor\":\"white\",\"minorgridcolor\":\"white\",\"startlinecolor\":\"#2a3f5f\"},\"baxis\":{\"endlinecolor\":\"#2a3f5f\",\"gridcolor\":\"white\",\"linecolor\":\"white\",\"minorgridcolor\":\"white\",\"startlinecolor\":\"#2a3f5f\"},\"type\":\"carpet\"}],\"table\":[{\"cells\":{\"fill\":{\"color\":\"#EBF0F8\"},\"line\":{\"color\":\"white\"}},\"header\":{\"fill\":{\"color\":\"#C8D4E3\"},\"line\":{\"color\":\"white\"}},\"type\":\"table\"}],\"barpolar\":[{\"marker\":{\"line\":{\"color\":\"#E5ECF6\",\"width\":0.5},\"pattern\":{\"fillmode\":\"overlay\",\"size\":10,\"solidity\":0.2}},\"type\":\"barpolar\"}],\"pie\":[{\"automargin\":true,\"type\":\"pie\"}]},\"layout\":{\"autotypenumbers\":\"strict\",\"colorway\":[\"#636efa\",\"#EF553B\",\"#00cc96\",\"#ab63fa\",\"#FFA15A\",\"#19d3f3\",\"#FF6692\",\"#B6E880\",\"#FF97FF\",\"#FECB52\"],\"font\":{\"color\":\"#2a3f5f\"},\"hovermode\":\"closest\",\"hoverlabel\":{\"align\":\"left\"},\"paper_bgcolor\":\"white\",\"plot_bgcolor\":\"#E5ECF6\",\"polar\":{\"bgcolor\":\"#E5ECF6\",\"angularaxis\":{\"gridcolor\":\"white\",\"linecolor\":\"white\",\"ticks\":\"\"},\"radialaxis\":{\"gridcolor\":\"white\",\"linecolor\":\"white\",\"ticks\":\"\"}},\"ternary\":{\"bgcolor\":\"#E5ECF6\",\"aaxis\":{\"gridcolor\":\"white\",\"linecolor\":\"white\",\"ticks\":\"\"},\"baxis\":{\"gridcolor\":\"white\",\"linecolor\":\"white\",\"ticks\":\"\"},\"caxis\":{\"gridcolor\":\"white\",\"linecolor\":\"white\",\"ticks\":\"\"}},\"coloraxis\":{\"colorbar\":{\"outlinewidth\":0,\"ticks\":\"\"}},\"colorscale\":{\"sequential\":[[0.0,\"#0d0887\"],[0.1111111111111111,\"#46039f\"],[0.2222222222222222,\"#7201a8\"],[0.3333333333333333,\"#9c179e\"],[0.4444444444444444,\"#bd3786\"],[0.5555555555555556,\"#d8576b\"],[0.6666666666666666,\"#ed7953\"],[0.7777777777777778,\"#fb9f3a\"],[0.8888888888888888,\"#fdca26\"],[1.0,\"#f0f921\"]],\"sequentialminus\":[[0.0,\"#0d0887\"],[0.1111111111111111,\"#46039f\"],[0.2222222222222222,\"#7201a8\"],[0.3333333333333333,\"#9c179e\"],[0.4444444444444444,\"#bd3786\"],[0.5555555555555556,\"#d8576b\"],[0.6666666666666666,\"#ed7953\"],[0.7777777777777778,\"#fb9f3a\"],[0.8888888888888888,\"#fdca26\"],[1.0,\"#f0f921\"]],\"diverging\":[[0,\"#8e0152\"],[0.1,\"#c51b7d\"],[0.2,\"#de77ae\"],[0.3,\"#f1b6da\"],[0.4,\"#fde0ef\"],[0.5,\"#f7f7f7\"],[0.6,\"#e6f5d0\"],[0.7,\"#b8e186\"],[0.8,\"#7fbc41\"],[0.9,\"#4d9221\"],[1,\"#276419\"]]},\"xaxis\":{\"gridcolor\":\"white\",\"linecolor\":\"white\",\"ticks\":\"\",\"title\":{\"standoff\":15},\"zerolinecolor\":\"white\",\"automargin\":true,\"zerolinewidth\":2},\"yaxis\":{\"gridcolor\":\"white\",\"linecolor\":\"white\",\"ticks\":\"\",\"title\":{\"standoff\":15},\"zerolinecolor\":\"white\",\"automargin\":true,\"zerolinewidth\":2},\"scene\":{\"xaxis\":{\"backgroundcolor\":\"#E5ECF6\",\"gridcolor\":\"white\",\"linecolor\":\"white\",\"showbackground\":true,\"ticks\":\"\",\"zerolinecolor\":\"white\",\"gridwidth\":2},\"yaxis\":{\"backgroundcolor\":\"#E5ECF6\",\"gridcolor\":\"white\",\"linecolor\":\"white\",\"showbackground\":true,\"ticks\":\"\",\"zerolinecolor\":\"white\",\"gridwidth\":2},\"zaxis\":{\"backgroundcolor\":\"#E5ECF6\",\"gridcolor\":\"white\",\"linecolor\":\"white\",\"showbackground\":true,\"ticks\":\"\",\"zerolinecolor\":\"white\",\"gridwidth\":2}},\"shapedefaults\":{\"line\":{\"color\":\"#2a3f5f\"}},\"annotationdefaults\":{\"arrowcolor\":\"#2a3f5f\",\"arrowhead\":0,\"arrowwidth\":1},\"geo\":{\"bgcolor\":\"white\",\"landcolor\":\"#E5ECF6\",\"subunitcolor\":\"white\",\"showland\":true,\"showlakes\":true,\"lakecolor\":\"white\"},\"title\":{\"x\":0.05},\"mapbox\":{\"style\":\"light\"}}},\"xaxis\":{\"anchor\":\"y\",\"domain\":[0.0,1.0],\"title\":{\"text\":\"G3\"}},\"yaxis\":{\"anchor\":\"x\",\"domain\":[0.0,1.0],\"title\":{\"text\":\"absences\"}},\"coloraxis\":{\"colorbar\":{\"title\":{\"text\":\"studytime\"}},\"colorscale\":[[0.0,\"#0d0887\"],[0.1111111111111111,\"#46039f\"],[0.2222222222222222,\"#7201a8\"],[0.3333333333333333,\"#9c179e\"],[0.4444444444444444,\"#bd3786\"],[0.5555555555555556,\"#d8576b\"],[0.6666666666666666,\"#ed7953\"],[0.7777777777777778,\"#fb9f3a\"],[0.8888888888888888,\"#fdca26\"],[1.0,\"#f0f921\"]]},\"legend\":{\"tracegroupgap\":0,\"itemsizing\":\"constant\"},\"margin\":{\"t\":60},\"title\":{\"text\":\"Scatter plots for G3 in accordance with medu, fedu, study time and free time in Math Class\",\"x\":0.5}},                        {\"responsive\": true}                    ).then(function(){\n",
              "                            \n",
              "var gd = document.getElementById('17c7c027-a5e1-4372-bc22-d104e9c4533f');\n",
              "var x = new MutationObserver(function (mutations, observer) {{\n",
              "        var display = window.getComputedStyle(gd).display;\n",
              "        if (!display || display === 'none') {{\n",
              "            console.log([gd, 'removed!']);\n",
              "            Plotly.purge(gd);\n",
              "            observer.disconnect();\n",
              "        }}\n",
              "}});\n",
              "\n",
              "// Listen for the removal of the full notebook cells\n",
              "var notebookContainer = gd.closest('#notebook-container');\n",
              "if (notebookContainer) {{\n",
              "    x.observe(notebookContainer, {childList: true});\n",
              "}}\n",
              "\n",
              "// Listen for the clearing of the current output cell\n",
              "var outputEl = gd.closest('.output');\n",
              "if (outputEl) {{\n",
              "    x.observe(outputEl, {childList: true});\n",
              "}}\n",
              "\n",
              "                        })                };                            </script>        </div>\n",
              "</body>\n",
              "</html>"
            ]
          },
          "metadata": {}
        }
      ]
    },
    {
      "cell_type": "code",
      "source": [],
      "metadata": {
        "id": "fi77gKpB-iIs"
      },
      "execution_count": null,
      "outputs": []
    }
  ]
}